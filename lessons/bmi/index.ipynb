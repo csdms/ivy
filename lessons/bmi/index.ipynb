{
 "cells": [
  {
   "cell_type": "markdown",
   "metadata": {},
   "source": [
    "<a href=\"https://csdms.colorado.edu\"><img style=\"float: center; width: 75%\" src=\"https://raw.githubusercontent.com/csdms/ivy/main/media/logo.png\"></a>"
   ]
  },
  {
   "cell_type": "markdown",
   "metadata": {},
   "source": [
    "# The Basic Model Interface (BMI)\n",
    "\n",
    "The [Basic Model Interface](https://bmi.readthedocs.io/en/stable/) (BMI) is a standardized set of functions for querying, modifying, and running models.\n",
    "Adding a BMI to a model makes it easier to couple with other software (such as a data source or another model) that also exposes a BMI.\n",
    "\n",
    "*Learning objectives:*\n",
    "\n",
    "* Understand the purpose of BMI\n",
    "* Know where to find information on BMI\n",
    "* See the complete list of BMI functions\n",
    "* View the code for a BMI added to a simple model written in Python\n",
    "* Run the simple Python model by itself and through its BMI"
   ]
  },
  {
   "cell_type": "markdown",
   "metadata": {},
   "source": [
    "We'll explore how BMI works with a pair of Jupyter Notebooks built around a simple model, *Heat*, written in Python, and its BMI.\n",
    "\n",
    "1. [Run the *Heat* model](bmi-run-model.ipynb)\n",
    "1. [Run the *Heat* model through its BMI](bmi-run-model-from-bmi.ipynb)\n",
    "\n",
    "In each notebook, we'll run the model step-by-step and view the output.\n",
    "\n",
    "(The *Heat* model is actually used as the Python BMI [sample implementation](https://github.com/csdms/bmi-example-python).)"
   ]
  },
  {
   "cell_type": "markdown",
   "metadata": {},
   "source": [
    "## Resources\n",
    "\n",
    "  * [BMI documentation](https://bmi.readthedocs.io) (it's great!)\n",
    "  * The main [BMI repository](https://github.com/csdms/bmi) on GitHub\n",
    "  * Python BMI [specification](https://github.com/csdms/bmi-python) and [sample implementation](https://github.com/csdms/bmi-example-python)\n",
    "  * A [JOSS article](https://doi.org/10.21105/joss.02317) describing BMI 2.0, and a [Computers & Geosciences article](http://dx.doi.org/10.1016/j.cageo.2012.04.002) laying out the origin vision for BMI"
   ]
  }
 ],
 "metadata": {
  "kernelspec": {
   "display_name": "Python 3 (ipykernel)",
   "language": "python",
   "name": "python3"
  },
  "language_info": {
   "codemirror_mode": {
    "name": "ipython",
    "version": 3
   },
   "file_extension": ".py",
   "mimetype": "text/x-python",
   "name": "python",
   "nbconvert_exporter": "python",
   "pygments_lexer": "ipython3",
   "version": "3.9.7"
  }
 },
 "nbformat": 4,
 "nbformat_minor": 4
}
