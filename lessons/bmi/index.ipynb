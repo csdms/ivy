{
 "cells": [
  {
   "cell_type": "markdown",
   "metadata": {},
   "source": [
    "<a href=\"https://csdms.colorado.edu\"><img style=\"float: center; width: 75%\" src=\"https://raw.githubusercontent.com/csdms/ivy/main/media/logo.png\"></a>"
   ]
  },
  {
   "cell_type": "markdown",
   "metadata": {},
   "source": [
    "# The Basic Model Interface (BMI)\n",
    "\n",
    "The Basic Model Interface (BMI) is a set of functions for querying, modifying, and running models. A BMI is added, noninvasively, to a model. We'll explore how BMI works with a pair of Jupyter Notebooks."
   ]
  },
  {
   "cell_type": "markdown",
   "metadata": {},
   "source": [
    "*Note:* The notebooks in this lesson require the *heat* package from the [Python BMI example](https://github.com/csdms/bmi-example-python) repository.\n",
    "Unlike other models and tools used in Ivy, we have to install this package from source.\n",
    "\n",
    "Start by activating the `ivy` environment:\n",
    "```\n",
    "$ conda activate ivy\n",
    "```\n",
    "Recall than on Linux and macOS, you may have to use `source` instead of `conda`.\n",
    "\n",
    "Next, change to your home (or another convenient) directory and clone the example repository:\n",
    "```\n",
    "$ cd\n",
    "$ git clone git@github.com:csdms/bmi-example-python.git\n",
    "```\n",
    "Then change to the repository directory and install the package with `pip`:\n",
    "```\n",
    "$ cd bmi-example-python\n",
    "$ pip install -e .\n",
    "```\n",
    "\n",
    "The example has already been installed on the OpenEarthscape JupyterHub.\n"
   ]
  },
  {
   "cell_type": "markdown",
   "metadata": {},
   "source": [
    "*  [Run the *Heat* model](bmi-run-model.ipynb)\n",
    "   * View model source code\n",
    "   * Set up the model\n",
    "   * Run the model\n",
    "   * View output\n",
    "\n",
    "*  [Run the *Heat* model through its BMI](bmi-run-model-from-bmi.ipynb)\n",
    "   * View model BMI source code\n",
    "   * Set up the model through its BMI\n",
    "   * Run the model\n",
    "   * View output"
   ]
  },
  {
   "cell_type": "markdown",
   "metadata": {},
   "source": [
    "Additional information:\n",
    "  * [BMI documentation](https://bmi.readthedocs.io)\n",
    "  * [BMI repository](https://github.com/csdms/bmi)\n",
    "  * [Python BMI specification](https://github.com/csdms/bmi-python)\n",
    "  * [Python BMI example](https://github.com/csdms/bmi-example-python)"
   ]
  },
  {
   "cell_type": "code",
   "execution_count": null,
   "metadata": {},
   "outputs": [],
   "source": []
  }
 ],
 "metadata": {
  "kernelspec": {
   "display_name": "Python 3 (ipykernel)",
   "language": "python",
   "name": "python3"
  },
  "language_info": {
   "codemirror_mode": {
    "name": "ipython",
    "version": 3
   },
   "file_extension": ".py",
   "mimetype": "text/x-python",
   "name": "python",
   "nbconvert_exporter": "python",
   "pygments_lexer": "ipython3",
   "version": "3.9.7"
  }
 },
 "nbformat": 4,
 "nbformat_minor": 4
}
