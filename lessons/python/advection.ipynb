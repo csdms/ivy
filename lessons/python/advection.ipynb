{
 "cells": [
  {
   "cell_type": "markdown",
   "metadata": {},
   "source": [
    "<a href=\"https://csdms.colorado.edu\"><img style=\"float: center; width: 75%\" src=\"https://raw.githubusercontent.com/csdms/ivy/main/media/logo.png\"></a>"
   ]
  },
  {
   "cell_type": "markdown",
   "metadata": {},
   "source": [
    "# Advection\n",
    "\n",
    "Advection is a transport mechanism of a substance or conserved property---temperature, moisture, aerosols---through the bulk motion of a fluid.\n",
    "\n",
    "The advection equation has an analytical solution (see below), so why discretise?\n",
    "Because not all forms of the analytical solution are known;\n",
    "in fact, most of the time, an analytical solution is not known,\n",
    "especially in the earth sciences, where sets of simultaneous, nonlinear, partial differential equations have to be solved.\n",
    "To solve such equations in a coupled system, numerical methods are required.\n",
    "\n",
    "In this notebook, we'll use a finite difference scheme based the simplest form of a truncated Taylor series expansion.\n",
    "While alternative methods are available to solve PDEs,\n",
    "many models in the geosciences use finite difference methods\n",
    "because of their conceptual simplicity and ease of coding\n",
    "(Prof. N. Van Lipzig, personal communication).\n",
    "\n",
    "Author: Prof. Benjamin Campforts"
   ]
  },
  {
   "cell_type": "markdown",
   "metadata": {},
   "source": [
    "## The advection equation\n",
    "\n",
    "A conceptually very simple PDE is the Advection Equation: \n",
    "\n",
    "$$\\frac{\\partial C}{\\partial t} = -v \\frac{\\partial C}{\\partial x}\n",
    "\\label{eq:1}\\tag{1}$$\n",
    "or \n",
    "$$\\frac{\\partial C}{\\partial t} +v \\frac{\\partial C}{\\partial x}=0\n",
    "\\label{1b}$$\n",
    "\n",
    "where $C$ is the aerosol concentration and $v$ is a constant wind speed at which aerosol concentrations are advected. The equation above is a prototype of an **initial value problem**: The solution is obtained by using the known initial values and marching or advancing in time. The solution of this equation can be obtained directly from the initial conditions:\n",
    "\n",
    "$$ C(x,t) = C(x-vt,0) \\label{eq:2}\\tag{2}$$\n",
    "\n",
    "In the following we will discretize Eq. $\\ref{eq:1}$ using a first order, finite difference upwind scheme. \n",
    "\n",
    "All finite difference methods can be represented with a numerical stencil:\n",
    "\n",
    "<img src=\"./media/Stencil1.png\" style=\"width:3in;height:1in\" />\n",
    "\n",
    "For the upwind scheme in particular, we only need three nodes: \n",
    "<img src=\"./media/Stencil2.png\" style=\"width:3in;height:1.25in\" />\n",
    "\n",
    "**BUT** the nodes you need to consider depend on the sign of the velocity: \n",
    "<img src=\"./media/UpwindScheme.png\" style=\"width:6.5in;height:3.76in\" />\n",
    "\n",
    "If $v$ is positive, than the direction of the advected flow is from left to right along the $x$ axis. To capture such a positive flow, the upwind discretisation scheme uses the info from the neighbouring node in the upwind direction, that is, the node to the left, indicated by $j-1$ on the sketch. In this case the the Finite Difference Equation (FDE) of Eq. $\\ref{eq:1}$ can be written as:\n",
    "\n",
    "$$\\frac{\\tilde{C}_j^{n+1} - \\tilde{C}_j^n}{\\Delta t} + v\n",
    "\\frac{\\tilde{C}_j^n - \\tilde{C}_{j-1}^n}{\\Delta x} = 0\n",
    "\\label{eq:3}\\tag{3}$$\n",
    "\n",
    "If however, the velocity is negative, the FDE becomes: \n",
    "\n",
    "$$\\frac{\\tilde{C}_j^{n+1} - \\tilde{C}_j^n}{\\Delta t} + v\n",
    "\\frac{\\tilde{C}_{j+1}^n - \\tilde{C}_j^n}{\\Delta x} = 0\n",
    "\\label{eq:4}\\tag{4}$$\n",
    "\n",
    "To obtain this equation, we have taken discrete values for $x$ and $t$: $x_j=j\\Delta x$, $t_n = n \\Delta t$. The solution of the finite difference equation is also defined at the discrete points ($j\\Delta x$,$n \\Delta t$): $\\tilde{C}_j^n=\\tilde{C}(j\\Delta x,n \\Delta t)$. Note that we used $C$ to denote the solution of the PDE\n",
    "(continuous) and $\\tilde{C}$ to denote the solution of the finite difference equation (FDE), a discrete solution. In the remainder of the notebook, we will use the symbol $C$ for both the analytical and numerical solution.\n"
   ]
  },
  {
   "cell_type": "markdown",
   "metadata": {},
   "source": [
    "## Numerical solutions\n",
    "\n",
    "In the following examples,\n",
    "we'll explore numerical solutions to the advection equation.\n",
    "\n",
    "We'll use NumPy for data and Matplotlib for visualization."
   ]
  },
  {
   "cell_type": "code",
   "execution_count": null,
   "metadata": {
    "tags": []
   },
   "outputs": [],
   "source": [
    "import matplotlib.pyplot as plt\n",
    "import numpy as np"
   ]
  },
  {
   "cell_type": "markdown",
   "metadata": {},
   "source": [
    "First, develop some code that will represent a perturbation of some quantity that can be advected.\n",
    "Here, we'll call it temperature,\n",
    "but it could be any other passive scalar, like concentration of a pollutant."
   ]
  },
  {
   "cell_type": "code",
   "execution_count": null,
   "metadata": {
    "tags": []
   },
   "outputs": [],
   "source": [
    "# Initialize constants\n",
    "dx = 500  # spatial step (m)\n",
    "wavelength = 5e4  # wavelength (m-1)\n",
    "Lx = 25e4  # size of the domain (m)\n",
    "amplitude = 5  # wave amplitude (K)\n",
    "\n",
    "# Set up x-axis values\n",
    "x = np.arange(start=0, stop=Lx, step=dx)\n",
    "\n",
    "# Create truncated sine wave from x-axis values\n",
    "b = x <= wavelength\n",
    "c = x > wavelength\n",
    "T = np.zeros_like(x)\n",
    "T[b] = amplitude * np.sin(x[b] * 2 * np.pi / wavelength)\n",
    "T[c] = 0\n",
    "\n",
    "# Plot the graph\n",
    "plt.figure()\n",
    "plt.plot(x / 1.0e3, T, \"--k\")\n",
    "plt.ylim((-6, 6))\n",
    "plt.xlim((0, max(x / 1e3)))\n",
    "plt.xlabel(\"x (km)\")\n",
    "plt.ylabel(\"T (K)\")\n",
    "plt.title(\"Temperature Perturbation\")\n",
    "plt.show()"
   ]
  },
  {
   "cell_type": "markdown",
   "metadata": {},
   "source": [
    "Try modifying with the parameters (e.g., amplitude and wavelength) to better understand their meaning."
   ]
  },
  {
   "cell_type": "markdown",
   "metadata": {},
   "source": [
    "### Upwind solution"
   ]
  },
  {
   "cell_type": "markdown",
   "metadata": {},
   "source": [
    "Now, lets solve the advection equation using the upwind FDE. You can use either `for` loops or vector operations (NumPy arrays) to iterate over the temperature vector in space. Start with the solution for positive velocity (that is, solve Eq. 3) and assume: \n",
    "\n",
    "- Wind speed `v = 10` m/s\n",
    "- Grid spacing `dx = 500` m (see previous code block)\n",
    "- Total model run duration = 3 hours\n",
    "- Calculate time step `dt` using the CFL criterion: `dt = 0.9 * v / dx`\n",
    "- Periodic boundary conditions: the solution at the left boundary depends on the solution at the right boundary if velocity is positive and vice versa for negative velocities. \n",
    "- Plot the wave every 10^5 iterations \n",
    "\n",
    "The structure of the code should look like this: \n",
    "\n",
    "~~~\n",
    "# Set parameter values\n",
    "v = \n",
    "run_duration = \n",
    "dt = \n",
    "\n",
    "# Initialize temperature array \n",
    "T = \n",
    "T[:] = \n",
    "\n",
    "# Calculate numerical solution\n",
    "iter = \n",
    "while iter*dt < total_time:\n",
    "    iter += 1\n",
    "    if v > 0:\n",
    "        # here comes the solution of the advection equation  \n",
    "    \n",
    "    if iter % 1e5 == 0: \n",
    "        plt.plot(x/1.e3, T, 'b') \n",
    "        plt.xlim((0, max(x/1e3)))\n",
    "        plt.xlabel('x (km)')\n",
    "        plt.ylabel('T (K)')\n",
    "        plt.title(\"Advection of Temperature Perturbation\")\n",
    "        plt.show()\n",
    "~~~"
   ]
  },
  {
   "cell_type": "code",
   "execution_count": null,
   "metadata": {
    "tags": []
   },
   "outputs": [],
   "source": [
    "# Set parameter values\n",
    "v = 10\n",
    "run_duration = 3 * 60 * 60.0\n",
    "dt = 0.9 * v / dx\n",
    "print(f\"Time step = {dt} s\")"
   ]
  },
  {
   "cell_type": "code",
   "execution_count": null,
   "metadata": {
    "tags": []
   },
   "outputs": [],
   "source": [
    "# Initialize temperature array\n",
    "T = np.zeros_like(x)\n",
    "T[b] = amplitude * np.sin(x[b] * 2 * np.pi / wavelength)\n",
    "T[c] = 0"
   ]
  },
  {
   "cell_type": "code",
   "execution_count": null,
   "metadata": {
    "tags": []
   },
   "outputs": [],
   "source": [
    "# Calculate numerical solution\n",
    "iter = 0\n",
    "while iter * dt < run_duration:\n",
    "    iter += 1\n",
    "    if v > 0:\n",
    "        T[1:] -= v * dt / dx * np.diff(T)\n",
    "        T[0] = T[-1]\n",
    "\n",
    "    if iter % 1e5 == 0:\n",
    "        plt.plot(x / 1.0e3, T, \"b\")\n",
    "        plt.xlim((0, max(x / 1e3)))\n",
    "        plt.xlabel(\"x (km)\")\n",
    "        plt.ylabel(\"T (K)\")\n",
    "        plt.title(\"Advection of Temperature Perturbation\")\n",
    "        plt.show()"
   ]
  },
  {
   "cell_type": "markdown",
   "metadata": {},
   "source": [
    "### Downwind solution"
   ]
  },
  {
   "cell_type": "markdown",
   "metadata": {},
   "source": [
    "Now, set the wind speed $v$ to -10 m/s and calculate the advection equation for negative velocities using Eq. 4.\n",
    "Copy-paste your upwind solution and add the negative component to it.\n",
    "Don't forget to reset the temperature array before you start. "
   ]
  },
  {
   "cell_type": "code",
   "execution_count": null,
   "metadata": {
    "tags": []
   },
   "outputs": [],
   "source": [
    "# Set parameter values\n",
    "v = -10"
   ]
  },
  {
   "cell_type": "code",
   "execution_count": null,
   "metadata": {
    "tags": []
   },
   "outputs": [],
   "source": [
    "# Initialize temperature array\n",
    "T = np.zeros_like(x)\n",
    "T[b] = amplitude * np.sin(x[b] * 2 * np.pi / wavelength)\n",
    "T[c] = 0"
   ]
  },
  {
   "cell_type": "code",
   "execution_count": null,
   "metadata": {
    "tags": []
   },
   "outputs": [],
   "source": [
    "# Calculate numerical solution\n",
    "iter = 0\n",
    "while iter * dt < run_duration:\n",
    "    iter += 1\n",
    "    if v < 0:\n",
    "        T[:-1] -= v * dt / dx * np.diff(T)\n",
    "        T[-1] = T[0]\n",
    "\n",
    "    if iter % 1e5 == 0:\n",
    "        plt.plot(x / 1.0e3, T, \"r\")\n",
    "        plt.xlim((0, max(x / 1e3)))\n",
    "        plt.xlabel(\"x (km)\")\n",
    "        plt.ylabel(\"T (K)\")\n",
    "        plt.title(\"Advection of Temperature Perturbation\")\n",
    "        plt.show()"
   ]
  },
  {
   "cell_type": "markdown",
   "metadata": {},
   "source": [
    "### Analytical solution"
   ]
  },
  {
   "cell_type": "markdown",
   "metadata": {},
   "source": [
    "Can you find an analytical solution for this problem? Implement eq. 2. You need just one line of code (HINT use the `np.mod` statement). Plot and compare with the numerical solution. What is going on here. What can we do to resolve this issue? "
   ]
  },
  {
   "cell_type": "code",
   "execution_count": null,
   "metadata": {
    "tags": []
   },
   "outputs": [],
   "source": [
    "# Initialize temperature array\n",
    "T = np.zeros_like(x)\n",
    "T[b] = amplitude * np.sin(x[b] * 2 * np.pi / wavelength)\n",
    "T[c] = 0"
   ]
  },
  {
   "cell_type": "code",
   "execution_count": null,
   "metadata": {
    "tags": []
   },
   "outputs": [],
   "source": [
    "# Calculate numerical solution\n",
    "for t in range(int(run_duration)):\n",
    "    if v * t % dx == 0:\n",
    "        T = np.roll(T, 1)\n",
    "\n",
    "    if 0.25 * t % dx == 0:\n",
    "        plt.plot(x / 1.0e3, T, \"g\")\n",
    "        plt.xlim((0, max(x / 1e3)))\n",
    "        plt.xlabel(\"x (km)\")\n",
    "        plt.ylabel(\"T (K)\")\n",
    "        plt.title(\"Advection of Temperature Perturbation\")\n",
    "        plt.show()"
   ]
  },
  {
   "cell_type": "markdown",
   "metadata": {},
   "source": [
    "## Practice your skills: Eyjafjallajokull- Part 2\n",
    "\n",
    "Back to the problem of the Eyjafjallajokull volcano. This time we will solve the advection diffusion equation in 1D: \n",
    "\n",
    "$$\\frac{\\partial C}{\\partial t} = -v \\frac{\\partial C}{\\partial x} + D\\frac{\\delta^2 C}{\\delta x^2} \n",
    "\\label{eq:5}\\tag{5}$$\n",
    "\n",
    "Copy-paste your script from the [diffusion](./diffusion.ipynb) notebook. \n",
    "Adjust the script by adding advection.\n",
    "You can use the code derived in the previous blocks. \n",
    "\n",
    "You only need one additional model parameter: the advection velocity $v$. \n",
    "- Assume an advection velocity of 10 km/h (that is, the wind speed at which ash aerosols are advected towards the continent)\n",
    "- Calculate the time step by combining the CFL criterium for advection (see above) and diffusion:\n",
    "~~~\n",
    "dt_a = 0.9*v/dx\n",
    "dt_d = dx*dx/D/2.5\n",
    "dt = min(dt_a,dt_d)\n",
    "print('dt is: ' + str(dt) + 'hours')\n",
    "~~~\n",
    "- Same question: after how many hours do we get 5 ppm ash aerosols in Brussels?"
   ]
  },
  {
   "cell_type": "markdown",
   "metadata": {},
   "source": [
    "Enter the parameter values and initialize model variables."
   ]
  },
  {
   "cell_type": "code",
   "execution_count": null,
   "metadata": {
    "tags": []
   },
   "outputs": [],
   "source": [
    "# physics\n",
    "D = 25\n",
    "Lx = 5000\n",
    "time = 0\n",
    "v = 10\n",
    "\n",
    "# numerical properties\n",
    "dx = 20\n",
    "x = np.arange(start=0, stop=Lx, step=dx)\n",
    "nx = len(x)\n",
    "nt = 10000\n",
    "nout = 1000\n",
    "\n",
    "# Location of volcano and Brussels\n",
    "ind_vol = int(2220 / dx)\n",
    "ind_Bru = int(4220 / dx)\n",
    "\n",
    "C_ini = 100\n",
    "C_rate = 100\n",
    "Cstart = 0\n",
    "Cend = 0\n",
    "C = np.zeros(x.shape)\n",
    "\n",
    "C[0] = Cstart\n",
    "C[ind_vol] = C_ini\n",
    "C[-1] = Cend\n",
    "\n",
    "plt.figure()\n",
    "plt.plot(x, C)\n",
    "plt.scatter(x[ind_Bru], C[ind_Bru], c=\"r\")\n",
    "\n",
    "# Calculate a stable time step\n",
    "dt_a = 0.9 * v / dx\n",
    "dt_d = dx * dx / D / 2.5\n",
    "dt = min(dt_a, dt_d)\n",
    "print(\"dt is: \" + str(dt) + \"hours\")"
   ]
  },
  {
   "cell_type": "markdown",
   "metadata": {},
   "source": [
    "Code up the while loop. \n",
    "The structure should look like this:\n",
    "~~~\n",
    "iter = 0 \n",
    "while ...\n",
    "    iter += 1\n",
    "\n",
    "    # Advection \n",
    "    if v >= 0:\n",
    "        ...       \n",
    "    elif v < 0:\n",
    "        ...\n",
    "\n",
    "    # Boundary conditions\n",
    "    C[0] = ...\n",
    "    C[-1] = ...    \n",
    "        \n",
    "    # Diffusion \n",
    "    ...\n",
    "\n",
    "    # Source term\n",
    "    C[ind_vol] = ...\n",
    "    \n",
    "\n",
    "    if iter % 100 == 0:        \n",
    "        plt.plot(x, C)\n",
    "        plt.scatter(x[ind_Bru], C[ind_Bru], c='r')\n",
    "        plt.title('Time is: ' + str(iter*dt) + ' hours')    \n",
    "        plt.show()\n",
    "\n",
    "print('Concentration reached after: ' + str(int(iter*dt)) + ' hours')\n",
    "print('or : ' + str(int(iter*dt/24)) + ' days')\n",
    "~~~\n"
   ]
  },
  {
   "cell_type": "code",
   "execution_count": null,
   "metadata": {
    "tags": []
   },
   "outputs": [],
   "source": [
    "iter = 0\n",
    "while C[ind_Bru] < 5:\n",
    "    iter += 1\n",
    "\n",
    "    # Advection\n",
    "    if v >= 0:\n",
    "        C[1:] -= v * dt / dx * np.diff(C)\n",
    "    else:\n",
    "        C[:-1] -= v * dt / dx * np.diff(C)\n",
    "\n",
    "    # Diffusion\n",
    "    q = -D * np.diff(C) / dx\n",
    "    C[1:-1] = C[1:-1] - dt * np.diff(q) / dx\n",
    "\n",
    "    # Source term\n",
    "    C[ind_vol] += C_rate * dt\n",
    "\n",
    "    # Boundary conditions\n",
    "    C[0] = Cstart\n",
    "    C[-1] = Cend\n",
    "\n",
    "    if iter % 100 == 0:\n",
    "        plt.plot(x, C)\n",
    "        plt.scatter(x[ind_Bru], C[ind_Bru], c=\"r\")\n",
    "        plt.title(\"Time is: \" + str(iter * dt) + \" hours\")\n",
    "        plt.show()\n",
    "\n",
    "print(\"Concentration reached after: \" + str(int(iter * dt)) + \" hours\")\n",
    "print(\"or : \" + str(int(iter * dt / 24)) + \" days\")"
   ]
  },
  {
   "cell_type": "markdown",
   "metadata": {},
   "source": [
    "That's more like it! Congratulations, you have reached the end of this notebook!"
   ]
  }
 ],
 "metadata": {
  "kernelspec": {
   "display_name": "Ivy",
   "language": "python",
   "name": "ivy"
  },
  "language_info": {
   "codemirror_mode": {
    "name": "ipython",
    "version": 3
   },
   "file_extension": ".py",
   "mimetype": "text/x-python",
   "name": "python",
   "nbconvert_exporter": "python",
   "pygments_lexer": "ipython3",
   "version": "3.11.3"
  }
 },
 "nbformat": 4,
 "nbformat_minor": 4
}
