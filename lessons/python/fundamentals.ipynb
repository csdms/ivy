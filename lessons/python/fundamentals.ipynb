{
 "cells": [
  {
   "cell_type": "markdown",
   "id": "354c5b5f-a504-482f-9dd1-b054af19c615",
   "metadata": {
    "tags": []
   },
   "source": [
    "<a href=\"https://csdms.colorado.edu\"><img style=\"float: center; width: 75%\" src=\"https://raw.githubusercontent.com/csdms/ivy/main/media/logo.png\"></a>"
   ]
  },
  {
   "cell_type": "markdown",
   "id": "36a4c908",
   "metadata": {},
   "source": [
    "# Variables, indexing, and containers"
   ]
  },
  {
   "cell_type": "markdown",
   "id": "832551ea",
   "metadata": {},
   "source": [
    "This notebook provides a brief overview of some of the basic features of the Python programming language."
   ]
  },
  {
   "cell_type": "markdown",
   "id": "f308402b",
   "metadata": {},
   "source": [
    "## Variables"
   ]
  },
  {
   "cell_type": "markdown",
   "id": "f6d93ba0",
   "metadata": {},
   "source": [
    "Variables are created on demand whenever a value is assigned to them.\n",
    "Use `variable = value` to assign a value to a variable in order to record it in memory."
   ]
  },
  {
   "cell_type": "code",
   "execution_count": null,
   "id": "8a79e1c7",
   "metadata": {},
   "outputs": [],
   "source": [
    "x = 5\n",
    "y = 2.5\n",
    "z = \"ESPIn\""
   ]
  },
  {
   "cell_type": "markdown",
   "id": "6918ac54",
   "metadata": {},
   "source": [
    "Use `print()` to display the value of something."
   ]
  },
  {
   "cell_type": "code",
   "execution_count": null,
   "id": "891328af",
   "metadata": {},
   "outputs": [],
   "source": [
    "print(x)"
   ]
  },
  {
   "cell_type": "code",
   "execution_count": null,
   "id": "4945d02c",
   "metadata": {},
   "outputs": [],
   "source": [
    "print(y)"
   ]
  },
  {
   "cell_type": "code",
   "execution_count": null,
   "id": "60b85a3c",
   "metadata": {},
   "outputs": [],
   "source": [
    "print(z)"
   ]
  },
  {
   "cell_type": "markdown",
   "id": "9e56cfc3-8fd3-45a5-ae1a-ac083a3a280d",
   "metadata": {},
   "source": [
    "In a notebook (or an IPython session),\n",
    "use the [magic command](https://ipython.readthedocs.io/en/stable/interactive/magics.html)\n",
    "`%whos` to see what variables are in memory."
   ]
  },
  {
   "cell_type": "code",
   "execution_count": null,
   "id": "4b43d268-d1b7-41c4-8acd-8f9cd276db7c",
   "metadata": {
    "tags": []
   },
   "outputs": [],
   "source": [
    "%whos"
   ]
  },
  {
   "cell_type": "markdown",
   "id": "d6acccf0",
   "metadata": {},
   "source": [
    "### Types"
   ]
  },
  {
   "cell_type": "markdown",
   "id": "d512e415",
   "metadata": {},
   "source": [
    "Basic data types in Python include integers, strings, and floating-point numbers."
   ]
  },
  {
   "cell_type": "code",
   "execution_count": null,
   "id": "f3019d52",
   "metadata": {},
   "outputs": [],
   "source": [
    "type(x)"
   ]
  },
  {
   "cell_type": "code",
   "execution_count": null,
   "id": "19581473",
   "metadata": {},
   "outputs": [],
   "source": [
    "type(y)"
   ]
  },
  {
   "cell_type": "code",
   "execution_count": null,
   "id": "8aa2f081",
   "metadata": {},
   "outputs": [],
   "source": [
    "type(z)"
   ]
  },
  {
   "cell_type": "markdown",
   "id": "22ee19b1",
   "metadata": {},
   "source": [
    "**Question:** What is the value and the type of the variable `div`?"
   ]
  },
  {
   "cell_type": "code",
   "execution_count": null,
   "id": "08589b3a",
   "metadata": {},
   "outputs": [],
   "source": [
    "div = x / y"
   ]
  },
  {
   "cell_type": "code",
   "execution_count": null,
   "id": "722a3a86",
   "metadata": {},
   "outputs": [],
   "source": [
    "# Your answer here"
   ]
  },
  {
   "cell_type": "markdown",
   "id": "1a6869a7-b138-47b6-8602-fd331aad9a0c",
   "metadata": {},
   "source": [
    "## Indexing"
   ]
  },
  {
   "cell_type": "markdown",
   "id": "2c508a42-dd3c-4625-b6f6-903094dd36ca",
   "metadata": {},
   "source": [
    "Python strings, as well as several Python containers (see below, including arrays, which we'll encounter later), use integer values to mark position in the string. This is called *indexing*.\n",
    "\n",
    "Aspects of indexing:\n",
    "* Indexing is an operation performed with square brackets\n",
    "* A colon `:` is used to specify a range of indices\n",
    "* Index values start with zero\n",
    "* Positive values count from the start, negative values from the end"
   ]
  },
  {
   "cell_type": "markdown",
   "id": "b7c5b501",
   "metadata": {},
   "source": [
    "Print the value of the first item in the string `z` (noting that we can drop the call to `print` in a notebook):"
   ]
  },
  {
   "cell_type": "code",
   "execution_count": null,
   "id": "360da757",
   "metadata": {},
   "outputs": [],
   "source": [
    "z[0]"
   ]
  },
  {
   "cell_type": "markdown",
   "id": "0f1c80b3",
   "metadata": {},
   "source": [
    "Print the next two characters in the string:"
   ]
  },
  {
   "cell_type": "code",
   "execution_count": null,
   "id": "8a96af30",
   "metadata": {},
   "outputs": [],
   "source": [
    "z[1:2]"
   ]
  },
  {
   "cell_type": "markdown",
   "id": "4240fb6a",
   "metadata": {},
   "source": [
    "What happened?\n",
    "When specifying a range, Python uses a closed interval on the left and an open interval on the right--here, the range goes up to, but does not include, the final index.\n",
    "\n",
    "Try this: "
   ]
  },
  {
   "cell_type": "code",
   "execution_count": null,
   "id": "327e85da",
   "metadata": {},
   "outputs": [],
   "source": [
    "z[1:]"
   ]
  },
  {
   "cell_type": "markdown",
   "id": "0d3779a9",
   "metadata": {},
   "source": [
    "Negative values can also be used for indexing.\n",
    "\n",
    "Print the last character of the string:"
   ]
  },
  {
   "cell_type": "code",
   "execution_count": null,
   "id": "48032a7f",
   "metadata": {},
   "outputs": [],
   "source": [
    "z[-1]"
   ]
  },
  {
   "cell_type": "markdown",
   "id": "b040c2ba",
   "metadata": {},
   "source": [
    "**Question:** Can you print the *PI* in the middle of the string `z` using negative index values?"
   ]
  },
  {
   "cell_type": "code",
   "execution_count": null,
   "id": "c6512bda",
   "metadata": {},
   "outputs": [],
   "source": [
    "# Your answer here"
   ]
  },
  {
   "cell_type": "markdown",
   "id": "39f6c353-e0c0-4ca3-aed5-2dec541568df",
   "metadata": {},
   "source": [
    "## Containers"
   ]
  },
  {
   "cell_type": "markdown",
   "id": "3c81efa7-1cbb-4cad-ac3d-675f47d9d62d",
   "metadata": {},
   "source": [
    "Containers, also called data structures, are used to hold multiple items that may differ in type."
   ]
  },
  {
   "cell_type": "markdown",
   "id": "146547a0-d4ca-4631-a66e-19de8884aaeb",
   "metadata": {},
   "source": [
    "### Lists"
   ]
  },
  {
   "cell_type": "markdown",
   "id": "17849c2f-55b7-403d-aeb0-fce23a324f37",
   "metadata": {},
   "source": [
    "Lists are a type of container. Put things in them."
   ]
  },
  {
   "cell_type": "code",
   "execution_count": null,
   "id": "ca038e3d",
   "metadata": {},
   "outputs": [],
   "source": [
    "box = [x, y, z]"
   ]
  },
  {
   "cell_type": "code",
   "execution_count": null,
   "id": "aaaf66f9-9a5b-4c18-b8b8-77a8dee86c69",
   "metadata": {},
   "outputs": [],
   "source": [
    "box"
   ]
  },
  {
   "cell_type": "code",
   "execution_count": null,
   "id": "1727633a",
   "metadata": {},
   "outputs": [],
   "source": [
    "type(box)"
   ]
  },
  {
   "cell_type": "code",
   "execution_count": null,
   "id": "61624d8f",
   "metadata": {},
   "outputs": [],
   "source": [
    "print(f\"This list contains {len(box)} items\")"
   ]
  },
  {
   "cell_type": "markdown",
   "id": "3a669e0c-ee28-46a4-aa96-7fc5dade143e",
   "metadata": {},
   "source": [
    "How do we get items from a list? Indexing! "
   ]
  },
  {
   "cell_type": "markdown",
   "id": "cdac55c4-a7b9-4c43-a266-e14c5de80f30",
   "metadata": {},
   "source": [
    "Print the first value in the list `box`:"
   ]
  },
  {
   "cell_type": "code",
   "execution_count": null,
   "id": "4afad644-1310-44b6-8aad-bb7e5e8a6eed",
   "metadata": {},
   "outputs": [],
   "source": [
    "box[0]"
   ]
  },
  {
   "cell_type": "markdown",
   "id": "2ca40376-9ec9-4571-b9ed-5c10c55a3b99",
   "metadata": {},
   "source": [
    "Print the last item in the list."
   ]
  },
  {
   "cell_type": "code",
   "execution_count": null,
   "id": "6e51c244-06af-4306-b804-18e2241bc3a4",
   "metadata": {
    "tags": []
   },
   "outputs": [],
   "source": [
    "box[-1]"
   ]
  },
  {
   "cell_type": "markdown",
   "id": "70dc2cbe-adf5-4d12-a249-1e04da592404",
   "metadata": {},
   "source": [
    "We can modify existing values in a list."
   ]
  },
  {
   "cell_type": "code",
   "execution_count": null,
   "id": "8d9f506b-dcab-41fb-afe3-44ef6a9956a2",
   "metadata": {},
   "outputs": [],
   "source": [
    "box[0] = \"CSDMS\""
   ]
  },
  {
   "cell_type": "code",
   "execution_count": null,
   "id": "f61d3747-47e1-4240-8070-868f46ede8cc",
   "metadata": {},
   "outputs": [],
   "source": [
    "box"
   ]
  },
  {
   "cell_type": "markdown",
   "id": "7cac51ca-5ea3-4ff9-a517-c7b04ae9a641",
   "metadata": {},
   "source": [
    "We can add items to a list."
   ]
  },
  {
   "cell_type": "code",
   "execution_count": null,
   "id": "e551d551-9f8e-472f-a83a-c12d58df1485",
   "metadata": {},
   "outputs": [],
   "source": [
    "box.append(42)\n",
    "box"
   ]
  },
  {
   "cell_type": "code",
   "execution_count": null,
   "id": "14e899d4-40a9-440b-99f4-503400aa7da3",
   "metadata": {
    "tags": []
   },
   "outputs": [],
   "source": [
    "print(f\"This list contains {len(box)} items\")"
   ]
  },
  {
   "cell_type": "markdown",
   "id": "d9fa7c8f-a8bc-4640-a39f-889c70adfee9",
   "metadata": {},
   "source": [
    "**Question:** Can we remove items from a list?"
   ]
  },
  {
   "cell_type": "code",
   "execution_count": null,
   "id": "a1ab46c8-42c4-405c-a9d6-dfb399d13a27",
   "metadata": {},
   "outputs": [],
   "source": [
    "# Your answer here"
   ]
  },
  {
   "cell_type": "markdown",
   "id": "f7c014fa-6b6e-466d-855f-a8e04d9f3698",
   "metadata": {},
   "source": [
    "### Tuples"
   ]
  },
  {
   "cell_type": "markdown",
   "id": "286f6435-4248-49e9-b092-209ff2e4aea6",
   "metadata": {},
   "source": [
    "Tuples are like lists, but they're immutable--you can't change them."
   ]
  },
  {
   "cell_type": "code",
   "execution_count": null,
   "id": "f97a6a3b-2066-490a-a76e-fd538e055200",
   "metadata": {},
   "outputs": [],
   "source": [
    "safe = (x, y, z)"
   ]
  },
  {
   "cell_type": "code",
   "execution_count": null,
   "id": "cad801aa-48fe-48ca-b9cc-22be972bdfc5",
   "metadata": {},
   "outputs": [],
   "source": [
    "safe"
   ]
  },
  {
   "cell_type": "code",
   "execution_count": null,
   "id": "55f5bcd9-e3bb-441d-9dc0-b41ff0fa8ca2",
   "metadata": {},
   "outputs": [],
   "source": [
    "type(safe)"
   ]
  },
  {
   "cell_type": "code",
   "execution_count": null,
   "id": "2b2cfc8e-61db-46bd-a2dd-fb19dd3c0012",
   "metadata": {
    "tags": []
   },
   "outputs": [],
   "source": [
    "print(f\"This tuple contains {len(safe)} items\")"
   ]
  },
  {
   "cell_type": "markdown",
   "id": "164d0f37-cc49-4c31-b399-715b97ef9334",
   "metadata": {},
   "source": [
    "Like lists, we can access the information inside a tuple by index."
   ]
  },
  {
   "cell_type": "code",
   "execution_count": null,
   "id": "20553c25-9fd0-4114-be21-6adf5521c65b",
   "metadata": {},
   "outputs": [],
   "source": [
    "safe[0]"
   ]
  },
  {
   "cell_type": "markdown",
   "id": "6d621a2f-407b-4dcc-aefb-69b15f3cbd14",
   "metadata": {},
   "source": [
    "Unlike lists, we can't change the information in a tuple."
   ]
  },
  {
   "cell_type": "code",
   "execution_count": null,
   "id": "924c34c5-3583-424b-aa66-1c277f60d180",
   "metadata": {},
   "outputs": [],
   "source": [
    "# Uncomment the line below, then run the cell to see what happens\n",
    "# safe[0] = \"CSDMS\""
   ]
  },
  {
   "cell_type": "markdown",
   "id": "6bf89554",
   "metadata": {},
   "source": [
    "### Dictionaries"
   ]
  },
  {
   "cell_type": "markdown",
   "id": "546fe31a",
   "metadata": {},
   "source": [
    "Dictionaries are also containers. Put things in them."
   ]
  },
  {
   "cell_type": "code",
   "execution_count": null,
   "id": "9c79f567",
   "metadata": {},
   "outputs": [],
   "source": [
    "bike = {\"make\": \"Specialized\", \"model\": \"Stumpjumper\", \"year\": 1996}"
   ]
  },
  {
   "cell_type": "code",
   "execution_count": null,
   "id": "ca8d87d8",
   "metadata": {},
   "outputs": [],
   "source": [
    "bike"
   ]
  },
  {
   "cell_type": "code",
   "execution_count": null,
   "id": "ba9f1643",
   "metadata": {},
   "outputs": [],
   "source": [
    "type(bike)"
   ]
  },
  {
   "cell_type": "code",
   "execution_count": null,
   "id": "b93c52d9",
   "metadata": {},
   "outputs": [],
   "source": [
    "print(f\"This dict contains {len(bike)} items\")"
   ]
  },
  {
   "cell_type": "markdown",
   "id": "6c164c45",
   "metadata": {},
   "source": [
    "Unlike lists, which are indexed with a number, items in a dict are accessed with a key."
   ]
  },
  {
   "cell_type": "code",
   "execution_count": null,
   "id": "65cf9f1c",
   "metadata": {},
   "outputs": [],
   "source": [
    "bike[\"model\"]"
   ]
  },
  {
   "cell_type": "markdown",
   "id": "d830b07f-8709-4081-918e-ad4a24d38b23",
   "metadata": {},
   "source": [
    "Dicts are mutable. Add a color for the bike."
   ]
  },
  {
   "cell_type": "code",
   "execution_count": null,
   "id": "b6afbd81-233e-4aea-8cd9-5377a0d3a406",
   "metadata": {},
   "outputs": [],
   "source": [
    "bike[\"color\"] = [4, 20, 10]\n",
    "bike"
   ]
  },
  {
   "cell_type": "markdown",
   "id": "dc46b102",
   "metadata": {},
   "source": [
    "Just like list elements, you can use dictionary values in expressions:"
   ]
  },
  {
   "cell_type": "code",
   "execution_count": null,
   "id": "4e6fda7c",
   "metadata": {},
   "outputs": [],
   "source": [
    "print(2023 - bike[\"year\"])"
   ]
  },
  {
   "cell_type": "markdown",
   "id": "dcc5ba6e",
   "metadata": {},
   "source": [
    "**Question:** What happens when you try to index a dict?"
   ]
  },
  {
   "cell_type": "code",
   "execution_count": null,
   "id": "b6d4cd3f-9fe1-4232-9f51-aa95b41036ab",
   "metadata": {},
   "outputs": [],
   "source": [
    "# Your answer here"
   ]
  },
  {
   "cell_type": "markdown",
   "id": "93018dd5",
   "metadata": {},
   "source": [
    "## Summary"
   ]
  },
  {
   "cell_type": "markdown",
   "id": "bda0ce63",
   "metadata": {},
   "source": [
    "The [official Python tutorial](https://docs.python.org/3/tutorial/index.html) has more information on the topics covered in this notebook."
   ]
  }
 ],
 "metadata": {
  "kernelspec": {
   "display_name": "Ivy",
   "language": "python",
   "name": "ivy"
  },
  "language_info": {
   "codemirror_mode": {
    "name": "ipython",
    "version": 3
   },
   "file_extension": ".py",
   "mimetype": "text/x-python",
   "name": "python",
   "nbconvert_exporter": "python",
   "pygments_lexer": "ipython3",
   "version": "3.9.9"
  }
 },
 "nbformat": 4,
 "nbformat_minor": 5
}
