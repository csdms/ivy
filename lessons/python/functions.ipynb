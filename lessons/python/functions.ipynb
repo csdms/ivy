{
 "cells": [
  {
   "cell_type": "markdown",
   "metadata": {},
   "source": [
    "<a href=\"https://csdms.colorado.edu\"><img style=\"float: center; width: 75%\" src=\"https://raw.githubusercontent.com/csdms/ivy/main/media/logo.png\"></a>"
   ]
  },
  {
   "cell_type": "markdown",
   "metadata": {},
   "source": [
    "# Functions\n",
    "\n",
    "In the [diffusion](diffusion.ipynb) and [advection](advection.ipynb) notebooks,\n",
    "we wrote code\n",
    "to solve the one-dimensional diffusion and advection equations numerically,\n",
    "evolve the solutions with time,\n",
    "and visualize the results.\n",
    "\n",
    "However, the code in these notebooks is long and complicated and frequently repetitive.\n",
    "What if we wanted to use the code again,\n",
    "with different parameters or perhaps even in a different notebook?\n",
    "Cutting and pasting is tedious, and it can easily lead to errors.\n",
    "\n",
    "We'd like a way to organize our code so that it's easier to reuse.\n",
    "Python provides for this by letting us define *functions*.\n",
    "A function groups code into a program that can be called as a unit.\n",
    "\n",
    "Before we start,\n",
    "we'll need Numpy and a NumPy setting for the code in this notebook."
   ]
  },
  {
   "cell_type": "code",
   "execution_count": null,
   "metadata": {
    "tags": []
   },
   "outputs": [],
   "source": [
    "import numpy as np\n",
    "\n",
    "np.set_printoptions(precision=1, floatmode=\"fixed\")"
   ]
  },
  {
   "cell_type": "markdown",
   "metadata": {},
   "source": [
    "## Definition"
   ]
  },
  {
   "cell_type": "markdown",
   "metadata": {},
   "source": [
    "In the diffusion notebook,\n",
    "we defined a time step based on a stability criterion\n",
    "for our numerical solution to the diffusion equation.\n",
    "\n",
    "Let's group this code into a function."
   ]
  },
  {
   "cell_type": "code",
   "execution_count": null,
   "metadata": {
    "tags": []
   },
   "outputs": [],
   "source": [
    "def calculate_time_step(grid_spacing, diffusivity):\n",
    "    return grid_spacing**2 / diffusivity / 4.0"
   ]
  },
  {
   "cell_type": "markdown",
   "metadata": {},
   "source": [
    "A function definition begins with the keyword `def`,\n",
    "followed by the name of the function,\n",
    "followed by a comma-delimited listing of *arguments* (also known as *parameters*) in parentheses,\n",
    "and ending with a colon `:`.\n",
    "The code in the body of the function--run when the function is called--must be indented."
   ]
  },
  {
   "cell_type": "markdown",
   "metadata": {},
   "source": [
    "We've named our function `calculate_time_step` (naming functions is often an art).\n",
    "It takes two arguments,\n",
    "the grid spacing of the model and the diffusivity.\n",
    "The variables `grid_spacing` and `diffusivity` are *local* to the function--they don't exist outside of the body of the function.\n",
    "In the body of the function,\n",
    "the time step is calculated from a stability criterion\n",
    "and returned to the caller."
   ]
  },
  {
   "cell_type": "markdown",
   "metadata": {},
   "source": [
    "## Execution\n",
    "\n",
    "Call the `calculate_time_step` function with a grid spacing `dx` of $10.0~m$ and a diffusivity `D` of $0.1~m^2 s^{-1}$."
   ]
  },
  {
   "cell_type": "code",
   "execution_count": null,
   "metadata": {
    "tags": []
   },
   "outputs": [],
   "source": [
    "dx = 10.0\n",
    "D = 0.1\n",
    "dt = calculate_time_step(dx, D)"
   ]
  },
  {
   "cell_type": "markdown",
   "metadata": {},
   "source": [
    "Note that we passed the arguments to the function in the order it expects:\n",
    "first the grid spacing, then the diffusivity.\n",
    "Calling a function we define is no different than calling any other Python function.\n",
    "\n",
    "Print the result."
   ]
  },
  {
   "cell_type": "code",
   "execution_count": null,
   "metadata": {
    "tags": []
   },
   "outputs": [],
   "source": [
    "print(f\"Time step = {dt:.2f} s\")"
   ]
  },
  {
   "cell_type": "markdown",
   "metadata": {},
   "source": [
    "In Python,\n",
    "we can also pass arguments by name."
   ]
  },
  {
   "cell_type": "code",
   "execution_count": null,
   "metadata": {
    "tags": []
   },
   "outputs": [],
   "source": [
    "dt1 = calculate_time_step(grid_spacing=dx, diffusivity=D)\n",
    "dt1 == dt"
   ]
  },
  {
   "cell_type": "markdown",
   "metadata": {},
   "source": [
    "This feature, *keyword arguments*, makes the function call more readable.\n",
    "\n",
    "Further,\n",
    "when passing arguments by name,\n",
    "we can change the order of the arguments."
   ]
  },
  {
   "cell_type": "code",
   "execution_count": null,
   "metadata": {
    "tags": []
   },
   "outputs": [],
   "source": [
    "dt2 = calculate_time_step(diffusivity=D, grid_spacing=dx)\n",
    "dt2 == dt"
   ]
  },
  {
   "cell_type": "markdown",
   "metadata": {},
   "source": [
    "This makes the function easier to call--you don't have to remember the argument order.\n",
    "\n",
    "Keyword arguments can be used with any Python function, whether it's made by us or by someone else."
   ]
  },
  {
   "cell_type": "markdown",
   "metadata": {},
   "source": [
    "## Additional features\n",
    "\n",
    "Python functions have many interesting features,\n",
    "more than we can address here.\n",
    "We'll focus on a few,\n",
    "and provide a list of additional resources in the summary. "
   ]
  },
  {
   "cell_type": "markdown",
   "metadata": {},
   "source": [
    "### Default arguments"
   ]
  },
  {
   "cell_type": "markdown",
   "metadata": {},
   "source": [
    "It's often useful to define default values for the arguments in a function.\n",
    "\n",
    "Let's create another function from a piece of repeated code in the diffusion notebook.\n",
    "This one sets the initial profile of the diffused quantity\n",
    "(e.g., temperature, aerosol concentration, sediment, etc.)."
   ]
  },
  {
   "cell_type": "code",
   "execution_count": null,
   "metadata": {
    "tags": []
   },
   "outputs": [],
   "source": [
    "def set_initial_profile(domain_size=100, boundary_left=500, boundary_right=0):\n",
    "    concentration = np.empty(domain_size)\n",
    "    concentration[: int(domain_size / 2)] = boundary_left\n",
    "    concentration[int(domain_size / 2) :] = boundary_right\n",
    "    return concentration"
   ]
  },
  {
   "cell_type": "markdown",
   "metadata": {},
   "source": [
    "Note that each of the arguments is assigned a default value.\n",
    "These are called *default arguments*.\n",
    "If any argument is omitted from a call to this function,\n",
    "its default value is used instead."
   ]
  },
  {
   "cell_type": "markdown",
   "metadata": {},
   "source": [
    "Call `set_initial_profile` with a domain size `Lx` of $10~m$."
   ]
  },
  {
   "cell_type": "code",
   "execution_count": null,
   "metadata": {
    "tags": []
   },
   "outputs": [],
   "source": [
    "Lx = 10\n",
    "C = set_initial_profile(Lx)"
   ]
  },
  {
   "cell_type": "markdown",
   "metadata": {},
   "source": [
    "Although we omitted the left and right boundary condition values,\n",
    "the function call didn't raise an error.\n",
    "\n",
    "Check the result by printing the returned concentration `C`."
   ]
  },
  {
   "cell_type": "code",
   "execution_count": null,
   "metadata": {
    "tags": []
   },
   "outputs": [],
   "source": [
    "print(C)"
   ]
  },
  {
   "cell_type": "markdown",
   "metadata": {},
   "source": [
    "The default values for the left and right boundary conditions were applied.\n",
    "\n",
    "Using default arguments makes calling a function easier."
   ]
  },
  {
   "cell_type": "markdown",
   "metadata": {},
   "source": [
    "### Documentation\n",
    "\n",
    "Let's group one last chunk of repeated code from the diffusion notebook into a function;\n",
    "in this case, the solver for the one-dimensional diffusion equation."
   ]
  },
  {
   "cell_type": "code",
   "execution_count": null,
   "metadata": {
    "tags": []
   },
   "outputs": [],
   "source": [
    "def solve1d(concentration, grid_spacing=1.0, time_step=1.0, diffusivity=1.0):\n",
    "    flux = -diffusivity * np.diff(concentration) / grid_spacing\n",
    "    concentration[1:-1] -= time_step * np.diff(flux) / grid_spacing"
   ]
  },
  {
   "cell_type": "markdown",
   "metadata": {},
   "source": [
    "In our new function `solve1d`,\n",
    "the arguments for the grid spacing, time step, and diffusivity take default values,\n",
    "but `concentration`, the argument for the diffused quantity, does not.\n",
    "\n",
    "**Question:** Without looking at the body of the function,\n",
    "can you tell what variable type the `concentration` argument should be?\n",
    "A float? A list? A NumPy array?\n",
    "\n",
    "This is where documentation can help.\n",
    "\n",
    "The first statement of the body of a function can optionally hold\n",
    "the function's documentation string, or *docstring*.\n",
    "It's used to describe the function's purpose, its arguments, and its return value.\n",
    "\n",
    "Add a docstring to `solve1d`."
   ]
  },
  {
   "cell_type": "code",
   "execution_count": null,
   "metadata": {
    "tags": []
   },
   "outputs": [],
   "source": [
    "def solve1d(concentration, grid_spacing=1.0, time_step=1.0, diffusivity=1.0):\n",
    "    \"\"\"Solve the one-dimensional diffusion equation with fixed boundary conditions.\n",
    "\n",
    "    Parameters\n",
    "    ----------\n",
    "    concentration : ndarray\n",
    "        The quantity being diffused.\n",
    "    grid_spacing : float (optional)\n",
    "        Distance between grid nodes.\n",
    "    time_step : float (optional)\n",
    "        Time step.\n",
    "    diffusivity : float (optional)\n",
    "        Diffusivity.\n",
    "\n",
    "    Returns\n",
    "    -------\n",
    "    result : ndarray\n",
    "        The concentration after a time step.\n",
    "\n",
    "    Examples\n",
    "    --------\n",
    "    >>> import numpy as np\n",
    "    >>> from solver import solve1d\n",
    "    >>> z = np.zeros(5)\n",
    "    >>> z[2] = 5\n",
    "    >>> solve1d(z, diffusivity=0.25)\n",
    "    array([   0.0,    1.2,    2.5,    1.2,    0.0])\n",
    "    \"\"\"\n",
    "    flux = -diffusivity * np.diff(concentration) / grid_spacing\n",
    "    concentration[1:-1] -= time_step * np.diff(flux) / grid_spacing"
   ]
  },
  {
   "cell_type": "markdown",
   "metadata": {},
   "source": [
    "When a function has a docstring,\n",
    "you can use the `help` function or the questions mark `?` to display it\n",
    "in a Python session or in a notebook."
   ]
  },
  {
   "cell_type": "code",
   "execution_count": null,
   "metadata": {
    "tags": []
   },
   "outputs": [],
   "source": [
    "help(solve1d)"
   ]
  },
  {
   "cell_type": "code",
   "execution_count": null,
   "metadata": {
    "tags": []
   },
   "outputs": [],
   "source": [
    "?solve1d"
   ]
  },
  {
   "cell_type": "markdown",
   "metadata": {},
   "source": [
    "In a notebook,\n",
    "you can also select the `Shift` + `Tab` keys to view the docstring."
   ]
  },
  {
   "cell_type": "code",
   "execution_count": null,
   "metadata": {},
   "outputs": [],
   "source": [
    "# Place the cursor in the line below and select the `Shift` + `Tab` keys.\n",
    "solve1d"
   ]
  },
  {
   "cell_type": "markdown",
   "metadata": {},
   "source": [
    "Docstring aren't necessary, but they're helpful because they provide information about a function.\n",
    "\n",
    "Documentation systems such as [Sphinx](https://www.sphinx-doc.org/) use docstrings to produce formatted documentation.\n",
    "[NumPy](https://numpy.org/doc/1.20/docs/howto_document.html#docstrings) and [Google](https://google.github.io/styleguide/pyguide.html#s3.8.1-comments-in-doc-strings) have style guidelines for docstrings.\n",
    "It's a good practice to pick a style and use it consistently.\n",
    "\n",
    "Before we move on, try a simple example of using `solve1d`.\n",
    "Start by defining a variable, `z`, to diffuse."
   ]
  },
  {
   "cell_type": "code",
   "execution_count": null,
   "metadata": {
    "tags": []
   },
   "outputs": [],
   "source": [
    "z = np.zeros(5)\n",
    "z[2] = 5\n",
    "\n",
    "print(z)"
   ]
  },
  {
   "cell_type": "markdown",
   "metadata": {},
   "source": [
    "Now call `solve1d` to diffuse `z` for a given time step and diffusivity."
   ]
  },
  {
   "cell_type": "code",
   "execution_count": null,
   "metadata": {
    "tags": []
   },
   "outputs": [],
   "source": [
    "solve1d(z, diffusivity=0.25, time_step=0.5)\n",
    "\n",
    "print(z)"
   ]
  },
  {
   "cell_type": "markdown",
   "metadata": {},
   "source": [
    "## Refactoring the diffusion example\n",
    "\n",
    "Let's combine the functions we've defined above into a new function that replicates the diffusion example."
   ]
  },
  {
   "cell_type": "code",
   "execution_count": null,
   "metadata": {
    "tags": []
   },
   "outputs": [],
   "source": [
    "def diffusion_example():\n",
    "    \"\"\"An example of using `solve1d` in a diffusion problem.\"\"\"\n",
    "    print(diffusion_example.__doc__)\n",
    "    D = 100  # diffusivity\n",
    "    Lx = 10  # domain length\n",
    "    dx = 0.5  # grid spacing\n",
    "\n",
    "    dt = calculate_time_step(dx, D)\n",
    "    C = set_initial_profile(Lx)\n",
    "\n",
    "    print(\"Time = 0\\n\", C)\n",
    "    for t in range(1, 5):\n",
    "        solve1d(C, dx, dt, D)\n",
    "        print(f\"Time = {t*dt:.4f}\\n\", C)"
   ]
  },
  {
   "cell_type": "markdown",
   "metadata": {},
   "source": [
    "This is a first taste of how programs can be built to solve a problem:\n",
    "break the problem into smaller pieces,\n",
    "write functions to address the smaller pieces,\n",
    "then assemble the functions to solve the problem.\n",
    "\n",
    "Run the example `diffusion_example`."
   ]
  },
  {
   "cell_type": "code",
   "execution_count": null,
   "metadata": {
    "tags": []
   },
   "outputs": [],
   "source": [
    "diffusion_example()"
   ]
  },
  {
   "cell_type": "markdown",
   "metadata": {},
   "source": [
    "## Exercises\n",
    "\n",
    "1.  \"Adding\" two strings produces their concatenation: `'a' + 'b'` is `'ab'`. Write a function called `fence` that takes two parameters, `original` and `wrapper`, and returns a new string that has the wrapper character at the beginning and end of the original.\n",
    "\n",
    "1. Write a function, `normalize`, that takes an array as input and returns a corresponding array of values scaled to the range $[0,1]$. (Hint: Look at NumPy functions such as `arange` and `linspace` to see how their arguments are defined.)\n",
    "\n",
    "1.  Rewrite your `normalize` function so that it scales data to $[0,1]$ by default, but allows a user to optionally specify the lower and upper bounds."
   ]
  },
  {
   "cell_type": "markdown",
   "metadata": {},
   "source": [
    "## Summary\n",
    "\n",
    "The process of building larger programs from smaller functions is a key element of scientific programming.\n",
    "\n",
    "Information from the Python documentation, including the sections\n",
    "[Defining Functions](https://docs.python.org/3/tutorial/controlflow.html#defining-functions) and\n",
    "[More on Defining Functions](https://docs.python.org/3/tutorial/controlflow.html#more-on-defining-functions)\n",
    "was used heavily in creating this notebook.\n",
    "There's a lot more there, including many features of functions we didn't cover.\n",
    "\n",
    "### Topics not covered\n",
    "\n",
    "These are a few topics that we didn't cover in this lesson,\n",
    "but they're important enough that we probably should have.\n",
    "\n",
    "* *formal* versus *actual* parameters\n",
    "* the concept of *scope*\n",
    "* *local* versus *global* variables\n",
    "* use of *type hints*\n",
    "\n",
    "More information on these topics can be found in the Python documentation.\n",
    "\n",
    "### Last thoughts\n",
    "\n",
    "If your function doesn't fit on a screen, it's too long.\n",
    "Break it up into smaller functions.\n",
    "\n",
    "How do we know a function is working as expected?\n",
    "This is partially answered with *unit testing*, covered later."
   ]
  }
 ],
 "metadata": {
  "kernelspec": {
   "display_name": "Ivy",
   "language": "python",
   "name": "ivy"
  },
  "language_info": {
   "codemirror_mode": {
    "name": "ipython",
    "version": 3
   },
   "file_extension": ".py",
   "mimetype": "text/x-python",
   "name": "python",
   "nbconvert_exporter": "python",
   "pygments_lexer": "ipython3",
   "version": "3.9.9"
  }
 },
 "nbformat": 4,
 "nbformat_minor": 4
}
