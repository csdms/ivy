{
 "cells": [
  {
   "cell_type": "markdown",
   "id": "421a23c0-e6a5-466b-b95c-7cee94a83ed8",
   "metadata": {},
   "source": [
    "<a href=\"https://csdms.colorado.edu\"><img style=\"float: center; width: 75%\" src=\"https://raw.githubusercontent.com/csdms/project/main/assets/CSDMS-logo-color-tagline-hor.png\"></a>"
   ]
  },
  {
   "cell_type": "markdown",
   "id": "9c90128d-27d7-4c73-b18a-892723d565cb",
   "metadata": {},
   "source": [
    "# <span style=\"color: green;\">Python for Modeling III: Functions - translating our diffusion script into a function</span>"
   ]
  },
  {
   "cell_type": "markdown",
   "id": "f3fb246e-72cc-4139-82e9-bf21b523e521",
   "metadata": {},
   "source": [
    "# Functions"
   ]
  },
  {
   "cell_type": "markdown",
   "id": "c77f5e3a-f6ff-4e74-a24b-72c4ddd807be",
   "metadata": {},
   "source": [
    "\n",
    "In the [diffusion](diffusion.ipynb) notebook,\n",
    "we wrote code\n",
    "to solve the one-dimensional diffusion equation numerically,\n",
    "evolve the solution with time,\n",
    "and visualize the results.\n",
    "\n",
    "However, the code in this notebook is long and complicated and frequently repetitive.\n",
    "What if we wanted to use the code again,\n",
    "with different parameters or perhaps even in a different notebook?\n",
    "Cutting and pasting is tedious, and it can easily lead to errors.\n",
    "\n",
    "We'd like a way to organize our code so that it's easier to reuse.\n",
    "Python provides for this by letting us define *functions*.\n",
    "A function groups code into a program that can be called as a unit.\n"
   ]
  },
  {
   "cell_type": "markdown",
   "id": "b96e0dd0-13e9-4aee-b991-c7519858177a",
   "metadata": {},
   "source": [
    "## Where are functions?\n",
    "\n",
    "- The core Python language has >60 **built-in functions**, such as `print(), input(), len(), float(), int()`\n",
    "\n",
    "- Here is overview of the core functions https://docs.python.org/3/library/functions.html\n",
    "\n",
    "- Python comes with a **standard library** that contains numerous **modules** with functions that you can import and use (example: the **math** module)\n",
    "\n",
    "- There are thousands of third-party modules with useful functions\n",
    "\n",
    "- You can write your own functions"
   ]
  },
  {
   "cell_type": "markdown",
   "id": "7c70af27-64cd-49be-92c8-1efce2d694be",
   "metadata": {},
   "source": [
    "## The `help()` function\n",
    "\n",
    "Activates the Python help utility. Examples:\n",
    "\n",
    "`help()` <= by itself will run the utility until you type \"quit\"\n",
    "\n",
    "`help(min)` <= specify name of function you want help with (e.g., `min()`)\n",
    "\n",
    "Another way to get help on a function is to enter its name followed by a question mark. Example: `pow?`"
   ]
  },
  {
   "cell_type": "code",
   "execution_count": 4,
   "id": "a8d79d2f-1653-4ce9-b40d-423338dbb221",
   "metadata": {},
   "outputs": [
    {
     "name": "stdout",
     "output_type": "stream",
     "text": [
      "Help on built-in function print in module builtins:\n",
      "\n",
      "print(...)\n",
      "    print(value, ..., sep=' ', end='\\n', file=sys.stdout, flush=False)\n",
      "    \n",
      "    Prints the values to a stream, or to sys.stdout by default.\n",
      "    Optional keyword arguments:\n",
      "    file:  a file-like object (stream); defaults to the current sys.stdout.\n",
      "    sep:   string inserted between values, default a space.\n",
      "    end:   string appended after the last value, default a newline.\n",
      "    flush: whether to forcibly flush the stream.\n",
      "\n"
     ]
    }
   ],
   "source": [
    "help(print)"
   ]
  },
  {
   "cell_type": "code",
   "execution_count": 6,
   "id": "e9e06087-2f52-4cf5-a50e-8cb16024b2f1",
   "metadata": {},
   "outputs": [
    {
     "data": {
      "text/plain": [
       "\u001b[0;31mSignature:\u001b[0m \u001b[0mpow\u001b[0m\u001b[0;34m(\u001b[0m\u001b[0mbase\u001b[0m\u001b[0;34m,\u001b[0m \u001b[0mexp\u001b[0m\u001b[0;34m,\u001b[0m \u001b[0mmod\u001b[0m\u001b[0;34m=\u001b[0m\u001b[0;32mNone\u001b[0m\u001b[0;34m)\u001b[0m\u001b[0;34m\u001b[0m\u001b[0;34m\u001b[0m\u001b[0m\n",
       "\u001b[0;31mDocstring:\u001b[0m\n",
       "Equivalent to base**exp with 2 arguments or base**exp % mod with 3 arguments\n",
       "\n",
       "Some types, such as ints, are able to use a more efficient algorithm when\n",
       "invoked using the three argument form.\n",
       "\u001b[0;31mType:\u001b[0m      builtin_function_or_method"
      ]
     },
     "metadata": {},
     "output_type": "display_data"
    }
   ],
   "source": [
    "pow?"
   ]
  },
  {
   "cell_type": "markdown",
   "id": "a20e7884-ebaf-4dd4-bf44-2adda07d36aa",
   "metadata": {},
   "source": [
    "## Anatomy of a function\n",
    "\n",
    "A function definition begins with the keyword `def`, followed by the name of the function, followed by a comma-delimited listing of arguments (also known as parameters) in parentheses, and ending with a colon `:`. The code in the body of the function--run when the function is called--must be indented.\n",
    "\n",
    "```\n",
    "def function_name(argument1, argument2):\n",
    "    # statement\n",
    "    return expression\n",
    "```\n",
    "Looking at our hillslope diffusion notebook, we can break down the calculations into several functions. <br/>\n",
    "\n",
    "So...let's make a function out of part of it. We'll start with setting up our grid space."
   ]
  },
  {
   "cell_type": "code",
   "execution_count": 23,
   "id": "58875337-87ee-42b0-a908-f1df18f4e69a",
   "metadata": {},
   "outputs": [],
   "source": [
    "def calc_num_nodes(domain_length, grid_spacing):\n",
    "    num_nodes = domain_length/grid_spacing\n",
    "    return int(num_nodes)"
   ]
  },
  {
   "cell_type": "markdown",
   "id": "66bf4134-5de1-4400-a861-313ee5cfac83",
   "metadata": {},
   "source": [
    "...which is the same as..."
   ]
  },
  {
   "cell_type": "code",
   "execution_count": 24,
   "id": "e59cc3fe-f5c9-4a7e-a9c4-242e7643c7f5",
   "metadata": {},
   "outputs": [],
   "source": [
    "def calc_num_nodes(domain_length, grid_spacing):\n",
    "    return int(domain_length/grid_spacing)"
   ]
  },
  {
   "cell_type": "markdown",
   "id": "9f06d111-f59d-4c6c-b6dc-fcc489e83ace",
   "metadata": {},
   "source": [
    "We've named our function `calc_num_nodes` (naming functions is often an art). It takes two arguments, the total length of our hillslope `domain_length` and the distance between nodes `grid_spacing` we want. The variables `domain_length` and `grid_spacing` are local to the function--they don't exist outside of the body of the function. In the body of the function, the grid spacing, `num_nodes`, is calculated and returned to the caller."
   ]
  },
  {
   "cell_type": "markdown",
   "id": "84c2d4da-8e75-438f-a5f4-77759677e99d",
   "metadata": {},
   "source": [
    "## Execution"
   ]
  },
  {
   "cell_type": "markdown",
   "id": "59db0003-cd9f-4b67-a661-ce51b69e4b03",
   "metadata": {},
   "source": [
    "Calling a function we define is no different than calling any other Python function. We will call the `calc_num_nodes` function with a `domain_length` of  100 m and `grid_spacing` of 10 m and print the result."
   ]
  },
  {
   "cell_type": "markdown",
   "id": "16d90f67-db61-4c2b-90f0-0911c39c85ba",
   "metadata": {},
   "source": [
    "#### To call this function, you can: <br/>\n",
    "1. Use direct values."
   ]
  },
  {
   "cell_type": "code",
   "execution_count": 5,
   "id": "bda90c6a-18b0-4bd6-9cdd-861e5ecd7c1e",
   "metadata": {},
   "outputs": [],
   "source": [
    "num_nodes_1 = calc_num_nodes(100, 10)"
   ]
  },
  {
   "cell_type": "markdown",
   "id": "afc717c6-fefe-44cd-8bca-6bcf0624e21a",
   "metadata": {},
   "source": [
    "2. Use variables, which you can easily set and change."
   ]
  },
  {
   "cell_type": "code",
   "execution_count": 6,
   "id": "236b558d-9415-4b17-bc2f-b7aa039c7150",
   "metadata": {},
   "outputs": [],
   "source": [
    "l = 100\n",
    "dx = 10\n",
    "num_nodes_2 = calc_num_nodes(l, dx)"
   ]
  },
  {
   "cell_type": "markdown",
   "id": "d0f2bdb4-844c-4445-a6bd-f9effe7a26a3",
   "metadata": {},
   "source": [
    "Note that we passed the arguments to the function in the order it expects: first the domain length, then the grid spacing. "
   ]
  },
  {
   "cell_type": "markdown",
   "id": "1a21c9f4-1b0a-4fe3-af3b-45ecd63ff0b2",
   "metadata": {},
   "source": [
    "3. Use the names of the arguments with an `=` to set the values to either variables or values. This makes the function easier to call--you don't have to remember the argument order, you can even change the order, so long as you use the argument name."
   ]
  },
  {
   "cell_type": "code",
   "execution_count": 7,
   "id": "c13ee96c-87f1-460f-96fc-62ce47177a4a",
   "metadata": {},
   "outputs": [],
   "source": [
    "num_nodes_3a = calc_num_nodes(domain_length=100, grid_spacing=10)\n",
    "num_nodes_3b = calc_num_nodes(domain_length=l, grid_spacing=dx)\n",
    "num_nodes_3c = calc_num_nodes(grid_spacing=dx, domain_length=l)"
   ]
  },
  {
   "cell_type": "markdown",
   "id": "27fb9d38-80fe-47b3-b7b0-dc28ae72d78b",
   "metadata": {},
   "source": [
    "We can print those to prove that they all do the same thing."
   ]
  },
  {
   "cell_type": "code",
   "execution_count": 8,
   "id": "e0edafb6-a0ce-46eb-96ac-dd0e3fe8d342",
   "metadata": {},
   "outputs": [
    {
     "name": "stdout",
     "output_type": "stream",
     "text": [
      "Comparing output from above: \n",
      "1.  Using direct values,      num_nodes = 10 \n",
      "2.  Using variables,          num_nodes = 10\n",
      "3a. Using names of arguments, num_nodes = 10\n",
      "3b.                           num_nodes = 10\n",
      "3c.                           num_nodes = 10\n"
     ]
    }
   ],
   "source": [
    "print(f'Comparing output from above: \\n1.  Using direct values,      num_nodes = {num_nodes_1} \\n2.  Using variables,          num_nodes = {num_nodes_2}\\n3a. Using names of arguments, num_nodes = {num_nodes_3a}\\n3b.                           num_nodes = {num_nodes_3b}\\n3c.                           num_nodes = {num_nodes_3c}')"
   ]
  },
  {
   "cell_type": "markdown",
   "id": "06899b36-ca40-49d5-9fa1-eeed31d3329c",
   "metadata": {},
   "source": [
    "### By the way: \"argument\" or \"parameter\"?\n",
    "\n",
    "Often used interchangeably.\n",
    "\n",
    "Technically:\n",
    "\n",
    "**argument** = the value you pass to the function (an *actual* value, like an *automobile* is an actual thing)\n",
    "\n",
    "**parameter** = an input quantity expected by a function (a *placeholder* for a real value, like a *parking spot* is to an automobile)\n",
    "\n",
    "In practice, don't worry about it too much!"
   ]
  },
  {
   "attachments": {},
   "cell_type": "markdown",
   "id": "743ea0c6-3404-4ed9-ab94-db6bbbc3962e",
   "metadata": {},
   "source": [
    "# Exercise 1: Create & execute a function to initialize arrays for our x- and y-space. Visualize the results.\n",
    "Call your function `set_intitial_profile`."
   ]
  },
  {
   "cell_type": "code",
   "execution_count": null,
   "id": "38adeb6a-ad4e-4cf4-a0b2-32819ec2c04d",
   "metadata": {},
   "outputs": [],
   "source": [
    "# import libraries\n",
    "import numpy as np\n",
    "import matplotlib.pyplot as plt\n",
    "\n",
    "# insert function here:\n",
    "def set_initial_profile():\n"
   ]
  },
  {
   "cell_type": "markdown",
   "id": "b1a06341-a89c-4ee4-aeb2-d8be38bd62e4",
   "metadata": {},
   "source": [
    "Execute it using:\n",
    "- grid_spacing = 10\n",
    "- num_nodes = output of calc_num_nodes\n",
    "- initial_elevation = 1 m"
   ]
  },
  {
   "cell_type": "code",
   "execution_count": null,
   "id": "32fc675e-07b7-4f9f-8680-7ec35129e43e",
   "metadata": {},
   "outputs": [],
   "source": [
    "# execute it here:\n",
    "\n"
   ]
  },
  {
   "cell_type": "markdown",
   "id": "bea26ecc-7160-4db8-a48f-10789c8ba970",
   "metadata": {},
   "source": [
    "Visualize it."
   ]
  },
  {
   "cell_type": "code",
   "execution_count": null,
   "id": "b7dfa4eb-b502-498b-b066-3b08fc953127",
   "metadata": {},
   "outputs": [],
   "source": [
    "# plot output here\n",
    "\n"
   ]
  },
  {
   "cell_type": "markdown",
   "id": "6edc824a-d865-4653-af44-f17155c83f46",
   "metadata": {
    "jp-MarkdownHeadingCollapsed": true
   },
   "source": [
    "#### <span style=\"color: green;\">a version of the correct script is below</span>"
   ]
  },
  {
   "cell_type": "code",
   "execution_count": 9,
   "id": "0f4bea02-8818-41cb-b929-0d112bcb572a",
   "metadata": {},
   "outputs": [
    {
     "data": {
      "image/png": "[encoded data removed]",
      "text/plain": [
       "<Figure size 640x480 with 1 Axes>"
      ]
     },
     "metadata": {},
     "output_type": "display_data"
    }
   ],
   "source": [
    "# import libraries\n",
    "import numpy as np\n",
    "import matplotlib.pyplot as plt\n",
    "\n",
    "# define function\n",
    "def set_initial_profile(grid_spacing, num_nodes, initial_elevation):\n",
    "    x = np.arange(0, grid_spacing * num_nodes, grid_spacing)\n",
    "    z = np.zeros(num_nodes)\n",
    "    z[1:num_nodes-1] = initial_elevation\n",
    "    return x, z\n",
    "\n",
    "# execute function\n",
    "x, z = set_initial_profile(10, num_nodes_1, 1.0)\n",
    "\n",
    "# plot output\n",
    "plt.plot(x,z)\n",
    "plt.title(\"initial hillslope\")\n",
    "plt.xlabel(\"distance (m)\")\n",
    "plt.ylabel(\"elevation (m)\")\n",
    "plt.show()\n"
   ]
  },
  {
   "cell_type": "markdown",
   "id": "f02d3090-6664-4375-8415-ffcd37f8eddc",
   "metadata": {},
   "source": [
    "# Additional features of functions"
   ]
  },
  {
   "cell_type": "markdown",
   "id": "dd054878-48c8-43d7-a639-089641c0d60a",
   "metadata": {},
   "source": [
    "Python functions have many interesting features, more than we can address here. We'll focus on a few, and provide a list of additional resources in the summary."
   ]
  },
  {
   "cell_type": "markdown",
   "id": "2881395c-5e45-410d-b82e-ce3ed7b9acf1",
   "metadata": {},
   "source": [
    "### Default arguments"
   ]
  },
  {
   "cell_type": "markdown",
   "id": "7a2baf96-eded-4652-8853-6114bd503ae8",
   "metadata": {},
   "source": [
    "It's often useful to define default values for the arguments in a function.\n",
    "\n",
    "Let's edit our `calc_num_nodes` function to set a default length of our domain."
   ]
  },
  {
   "cell_type": "code",
   "execution_count": 10,
   "id": "d2cb3a5d-092f-4b19-8c71-b991bb686f70",
   "metadata": {},
   "outputs": [],
   "source": [
    "def calc_num_nodes(domain_length, grid_spacing=10):\n",
    "    return int(domain_length/grid_spacing)"
   ]
  },
  {
   "cell_type": "markdown",
   "id": "d79d201e-e62d-4d92-85c9-ca78398485e7",
   "metadata": {},
   "source": [
    "Now, if we omit the argument `domain_length`, its default value is used instead.\n",
    "\n",
    "For example:"
   ]
  },
  {
   "cell_type": "code",
   "execution_count": 11,
   "id": "b2033067-6e97-4146-85cb-66aeb673a0db",
   "metadata": {},
   "outputs": [
    {
     "name": "stdout",
     "output_type": "stream",
     "text": [
      "4. num_nodes = 5 \n"
     ]
    }
   ],
   "source": [
    "num_nodes = calc_num_nodes(50)\n",
    "# gives us...\n",
    "print(f'4. num_nodes = {num_nodes} ')"
   ]
  },
  {
   "cell_type": "markdown",
   "id": "aa1a2929-3540-4fdb-8082-22a675f6701b",
   "metadata": {},
   "source": [
    "NOTE: If we had set a default value for `domain_length`, but not `grid_spacing`, we'd get an error..."
   ]
  },
  {
   "cell_type": "code",
   "execution_count": 10,
   "id": "dd30bc5c-4bef-4d05-94a9-64367cf130c6",
   "metadata": {},
   "outputs": [
    {
     "ename": "SyntaxError",
     "evalue": "non-default argument follows default argument (748846508.py, line 1)",
     "output_type": "error",
     "traceback": [
      "\u001b[0;36m  Cell \u001b[0;32mIn[10], line 1\u001b[0;36m\u001b[0m\n\u001b[0;31m    def calc_num_nodes(domain_length=100, grid_spacing):\u001b[0m\n\u001b[0m                                          ^\u001b[0m\n\u001b[0;31mSyntaxError\u001b[0m\u001b[0;31m:\u001b[0m non-default argument follows default argument\n"
     ]
    }
   ],
   "source": [
    "#def calc_num_nodes(domain_length=100, grid_spacing):\n",
    "#    return int(domain_length/grid_spacing)"
   ]
  },
  {
   "cell_type": "markdown",
   "id": "5f9ff3a0-acdd-4220-974f-902c250134b9",
   "metadata": {},
   "source": [
    "This is because, you must put all non-default arguments **BEFORE** default arguments."
   ]
  },
  {
   "cell_type": "markdown",
   "id": "51879ed2-4835-4061-9508-71d6cd52762e",
   "metadata": {},
   "source": [
    "### Documentation"
   ]
  },
  {
   "cell_type": "markdown",
   "id": "ef814905-7cf9-4a11-8057-fd830a5229f3",
   "metadata": {},
   "source": [
    "Let's work with a version of the one-dimensional diffusion equation. This might slightly differ from what you created above, but that's okay."
   ]
  },
  {
   "cell_type": "markdown",
   "id": "f64382fe-19b0-445d-a5f3-92b952b3e59d",
   "metadata": {},
   "source": [
    "In our function `set_intial_profile`, one of the arguments, `num_nodes` needs to be an integer. This is why previously, when creating our `calc_num_nodes` we used the `int()` function for our output. However, you cannot know that just by looking at the arguments line. \n",
    "\n",
    "This is where documentation can help. \n",
    "\n",
    "The first statement of the body of a function can optionally hold the function's documentation string, or docstring. It's used to describe the function's purpose, its arguments, and its return value.\n",
    "\n",
    "Add a docstring to `set_initial_profile`."
   ]
  },
  {
   "cell_type": "code",
   "execution_count": 12,
   "id": "a9cbfc3a-4c1e-4cbd-8077-4cf27f424a51",
   "metadata": {},
   "outputs": [],
   "source": [
    "def set_initial_profile(dx, num_nodes, initial_elevation = 1.0):\n",
    "    \"\"\"\n",
    "    Set the initial elevation profile for a diffusion simulation.\n",
    "\n",
    "    Parameters\n",
    "    ----------\n",
    "    grid_spacing : float\n",
    "        The spacing between grid points in the simulation.\n",
    "    num_nodes : int\n",
    "        The number of grid points in the simulation.\n",
    "    initial_elevation : float\n",
    "        The initial elevation value for the grid points. Default is 1.0 m.\n",
    "    \n",
    "    Returns\n",
    "    -------\n",
    "    tuple\n",
    "        A tuple containing (x, z) where:\n",
    "        - x (numpy.ndarray): Array of x-coordinates with shape (num_nodes,)\n",
    "        - z (numpy.ndarray): Array of elevation values with shape (num_nodes,)\n",
    "    \"\"\"\n",
    "    x = np.arange(0, dx * num_nodes, dx)\n",
    "    z = np.zeros(num_nodes)\n",
    "    z[1:num_nodes-1] = initial_elevation\n",
    "    return z, x"
   ]
  },
  {
   "cell_type": "markdown",
   "id": "9cded085-3667-41f6-8f2f-6600432b0ff0",
   "metadata": {},
   "source": [
    "When a function has a docstring, you can use the help function or the questions mark ? to display it in a Python session or in a notebook."
   ]
  },
  {
   "cell_type": "code",
   "execution_count": null,
   "id": "c4535d0b-e6ed-461f-bd44-d9afafe64f6f",
   "metadata": {},
   "outputs": [],
   "source": [
    "help(set_initial_profile)"
   ]
  },
  {
   "cell_type": "code",
   "execution_count": null,
   "id": "30b2014e-2a0a-435e-ac02-929fd9e4993a",
   "metadata": {},
   "outputs": [],
   "source": [
    "set_initial_profile?"
   ]
  },
  {
   "cell_type": "markdown",
   "id": "bf3e2781-4b90-4039-9180-808a5e87c24b",
   "metadata": {},
   "source": [
    "In a notebook, you can also select the Shift + Tab keys to view the docstring."
   ]
  },
  {
   "cell_type": "code",
   "execution_count": null,
   "id": "160ebae9-b42e-4277-968f-7e4d944a1de2",
   "metadata": {},
   "outputs": [],
   "source": [
    "# After you've created the function solve1d, place the cursor in the line below and select the `Shift` + `Tab` keys.\n",
    "set_initial_profile"
   ]
  },
  {
   "cell_type": "markdown",
   "id": "734ec2b5-1eb5-44c4-b4d4-c72be65f1d93",
   "metadata": {},
   "source": [
    "Docstring aren't necessary, but they're helpful because they provide information about a function.\n",
    "\n",
    "Documentation systems such as [Sphinx](https://www.sphinx-doc.org/en/master/) use docstrings to produce formatted documentation. [NumPy](https://numpy.org/doc/1.20/docs/howto_document.html#docstrings) and [Google](https://google.github.io/styleguide/pyguide.html#s3.8.1-comments-in-doc-strings) have style guidelines for docstrings. It's a good practice to pick a style and use it consistently."
   ]
  },
  {
   "cell_type": "markdown",
   "id": "172a43a4-ef5d-4eca-8161-8e74ccc9f0b2",
   "metadata": {},
   "source": [
    "# Exercise 2: Creating a hillslope diffusion function.\n",
    "\n",
    "This morning, you created a script that solved hillslope diffusion. And just now, you created two functions, one to calculate the number of nodes in a domain, `calc_num_nodes`, and one to set up the initial hillslope profile, `set_initial_profile`. We already showed you an example of how to use the output of one function as an input for another function. Now you are going to create 5 new functions and then use them and the two existing functions to simulate diffusion of a hillslope.<br/>\n",
    "\n",
    "- `plot_elevation`\n",
    "- `lower_elevation`\n",
    "- `calc_flux`\n",
    "- `calc_rate_of_change`\n",
    "- `update_elevation`\n",
    "\n",
    "As a starting point, we've written a code that executes these 6 functions, providing parameter values and arguments for the 5 new functions.\n",
    "\n",
    "It might help to create pseudocode first, following the script you made in this morning's lesson. Don't forget to add documentation.\n"
   ]
  },
  {
   "cell_type": "markdown",
   "id": "abee54d2-9492-4e15-873a-bce903098576",
   "metadata": {},
   "source": [
    "Code that you will eventually execute:<br/>\n",
    "    \n",
    "    #Part 1: Set parameters and plot initial profile.\n",
    "    timesteps = 5           # how many timesteps to run\n",
    "    dt = 10                 # length of timestep (yr)\n",
    "    domain_length = 100     # length of domain (m)\n",
    "    dx = 10                 # distance between nodes (m)\n",
    "    initial_elev = 5        # elevation at internal nodes (m)\n",
    "    diffusion_coeff = 1e-02 # diffusion coefficient (m2/yr)\n",
    "    incision_rate 0.0001    # m/yr\n",
    "    \n",
    "    num_nodes = calc_num_nodes(domain_length, dx) + 1  # +1 to include endpoint\n",
    "    elevation, x = set_initial_profile(dx, num_nodes, initial_elev)\n",
    "    plot_elevation(elevation, x)\n",
    "\n",
    "    # Part 2: Execute hillslope diffusion.\n",
    "    for i in range(timesteps):\n",
    "        elevation = lower_elevation(elevation, incision_rate, dt)\n",
    "        soil_flux = calc_flux(elevation, diffusion_coeff, dx)\n",
    "        elev_rate_of_change = calc_rate_of_change(soil_flux, dx)\n",
    "        elevation = update_elevation(elev_rate_of_change, elevation, dt)\n",
    "    \n",
    "    plot_elevation(elevation, x)"
   ]
  },
  {
   "cell_type": "code",
   "execution_count": null,
   "id": "019af652-1ec0-40ab-a532-e5094299e9ac",
   "metadata": {},
   "outputs": [],
   "source": [
    "# write new function that plots elevation\n",
    "def plot_elevation(elevation, x):"
   ]
  },
  {
   "cell_type": "code",
   "execution_count": null,
   "id": "f9e1218d-207d-48e8-94bd-9921d25f2b25",
   "metadata": {},
   "outputs": [],
   "source": [
    "# write a function that lowers elevation\n",
    "def lower_elevation():"
   ]
  },
  {
   "cell_type": "code",
   "execution_count": null,
   "id": "8bff79de-2e09-46b6-a7bd-65f9364eb659",
   "metadata": {},
   "outputs": [],
   "source": [
    "# write a new function that calculates the soil flux\n",
    "def soil_flux():"
   ]
  },
  {
   "cell_type": "code",
   "execution_count": null,
   "id": "43397f24-fec9-4821-904f-7f6c8c0b1086",
   "metadata": {},
   "outputs": [],
   "source": [
    "# write a new function that calculates the rate of change in elevation\n",
    "def calc_rate_of_change():"
   ]
  },
  {
   "cell_type": "code",
   "execution_count": null,
   "id": "2f8c94a3-7506-4acf-9e70-99f915b0ffd6",
   "metadata": {},
   "outputs": [],
   "source": [
    "# write a new function that updates the elevation array\n",
    "def update_elevation():"
   ]
  },
  {
   "cell_type": "markdown",
   "id": "97f383ca-4ace-4877-9532-ae5d9dff38d1",
   "metadata": {},
   "source": [
    "Part 1: Set parameters and plot initial profile."
   ]
  },
  {
   "cell_type": "code",
   "execution_count": null,
   "id": "5f73b3bd-52de-48be-af10-78ee779895b5",
   "metadata": {},
   "outputs": [],
   "source": [
    "timesteps = 5           # how many timesteps to run\n",
    "dt = 10                 # length of timestep (yr)\n",
    "domain_length = 10      # length of domain (m)\n",
    "dx = 1                  # distance between nodes (m)\n",
    "initial_elev = 5        # elevation at internal nodes (m)\n",
    "diffusion_coeff = 1e-02 # diffusion coefficient (m2/yr)\n",
    "incision_rate = 0.001   # m/yr\n",
    "\n",
    "num_nodes = calc_num_nodes(domain_length, dx) + 1  # +1 to include endpoint\n",
    "elevation, x = set_initial_profile(dx, num_nodes, initial_elev)\n",
    "plot_elevation(elevation, x)"
   ]
  },
  {
   "cell_type": "markdown",
   "id": "6a40b4cb-1eb4-46fe-8d50-7fc4280428b6",
   "metadata": {},
   "source": [
    "Part 2: Execute hillslope diffusion!"
   ]
  },
  {
   "cell_type": "code",
   "execution_count": null,
   "id": "cff16782-4d6f-4436-94ef-50695ea9a6fc",
   "metadata": {},
   "outputs": [],
   "source": [
    "for i in range(timesteps):\n",
    "    elevation = lower_elevation(elevation, incision_rate, dt)\n",
    "    soil_flux = calc_flux(elevation, diffusion_coeff, dx)\n",
    "    elev_rate_of_change = calc_rate_of_change(soil_flux, dx)\n",
    "    elevation = update_elevation(elev_rate_of_change, elevation, dt)\n",
    "\n",
    "plot_elevation(elevation, x)"
   ]
  },
  {
   "cell_type": "markdown",
   "id": "439a784f-e6cc-4888-8794-d307dc6c50ca",
   "metadata": {
    "jp-MarkdownHeadingCollapsed": true
   },
   "source": [
    "#### <span style=\"color: green;\">a version of the correct script is below</span>"
   ]
  },
  {
   "cell_type": "code",
   "execution_count": 31,
   "id": "4a34fc0a-aef6-487f-a3e8-0663175824f9",
   "metadata": {},
   "outputs": [],
   "source": [
    "# write new function that plots elevation\n",
    "def plot_elevation(elevation, x):\n",
    "    \"\"\"\n",
    "    Plots elevation over some distance, can use outputs from 'set_initial_profile' function.\n",
    "    \n",
    "    Parameters\n",
    "    ----------\n",
    "    elevation : array-like\n",
    "        The elevation values in m.\n",
    "    x : array-like\n",
    "        The x-coordinates in m.\n",
    "    \n",
    "    Returns\n",
    "    -------\n",
    "    Plot, nothing saved.\n",
    "    \"\"\"\n",
    "    plt.figure(figsize=(10, 6))\n",
    "    plt.plot(x, elevation, 'bo-')\n",
    "    plt.xlabel('Distance (m)')\n",
    "    plt.ylabel('Elevation (m)')\n",
    "    plt.title('Hillslope Elevation')\n",
    "    plt.grid(True)\n",
    "    plt.show()"
   ]
  },
  {
   "cell_type": "code",
   "execution_count": 14,
   "id": "7add949b-ff51-46bc-8235-e6dc0d8dbe17",
   "metadata": {},
   "outputs": [],
   "source": [
    "# write a function that lowers elevation\n",
    "def lower_elevation(elevation, incision_rate, dt):\n",
    "    \"\"\"\n",
    "    Lowers the elevation of the first and last nodes in an array.\n",
    "    \n",
    "    Parameters:\n",
    "    -----------\n",
    "    elevation : array-like\n",
    "        The elevation values in m; can use the output from 'set_initial_profile'.\n",
    "    incision_rate : float\n",
    "        The rate at which to lower the elevation in m/yr.\n",
    "    dt : float\n",
    "        The time step in years\n",
    "\n",
    "    Returns:\n",
    "    --------\n",
    "    elevation : array-like\n",
    "        The updated elevation values in m.    \n",
    "    \"\"\"\n",
    "    drop_per_step = incision_rate * dt\n",
    "    elevation[0] -= drop_per_step\n",
    "    elevation[-1] -= drop_per_step\n",
    "    return elevation"
   ]
  },
  {
   "cell_type": "code",
   "execution_count": 25,
   "id": "5b813dac-dfb1-4916-a75a-307bc27adbaa",
   "metadata": {},
   "outputs": [],
   "source": [
    "# write a new function that calculates the soil flux\n",
    "def calc_flux(elevation, diffusion_coeff, dx):\n",
    "    \"\"\"\n",
    "    Calculate the soil flux based on the elevation gradient.\n",
    "\n",
    "    Parameters\n",
    "    ----------\n",
    "    elevation : array-like\n",
    "        The elevation values in m; can use the output from 'set_initial_profile'.\n",
    "    diffusion_coeff : float\n",
    "        The diffusion coefficient in m^2/yr.\n",
    "    dx : float\n",
    "        The grid spacing in m.\n",
    "\n",
    "    Returns\n",
    "    -------\n",
    "    numpy.ndarray\n",
    "        The soil flux values in m^2/yr.\n",
    "    \"\"\"\n",
    "    return -diffusion_coeff * np.diff(elevation) / dx"
   ]
  },
  {
   "cell_type": "code",
   "execution_count": 16,
   "id": "916e5630-428a-4700-a402-c6ae3bbda856",
   "metadata": {},
   "outputs": [],
   "source": [
    "# write a new function that calculates the rate of change in elevation\n",
    "def calc_rate_of_change(soil_flux, dx):\n",
    "    \"\"\"\n",
    "    Calculate the rate of change in elevation based on the soil flux.\n",
    "    \n",
    "    Parameters\n",
    "    ----------\n",
    "    soil_flux : array-like\n",
    "        The soil flux values in m^2/yr. Using output from 'calc_flux'.\n",
    "    dx : float\n",
    "        The grid spacing in m.\n",
    "\n",
    "    Returns\n",
    "    -------\n",
    "    numpy.ndarray\n",
    "        The rate of change in elevation in m/yr.\n",
    "\n",
    "    \"\"\"\n",
    "    return np.diff(soil_flux) / dx"
   ]
  },
  {
   "cell_type": "code",
   "execution_count": 17,
   "id": "cba4ab87-c7b2-4728-b4a4-7b4b3ba90ec4",
   "metadata": {},
   "outputs": [],
   "source": [
    "# write a new function that updates the elevation array\n",
    "def update_elevation(elev_rate_of_change, elevation, dt):\n",
    "    \"\"\"\n",
    "    Update the elevation array based on the rate of change and time step.\n",
    "    \n",
    "    Parameters\n",
    "    ----------\n",
    "    elev_rate_of_change : array-like\n",
    "        The rate of change in elevation in m/yr. Using output from 'calc_rate_of_change'.\n",
    "    elevation : array-like\n",
    "        The elevation values in m; can use the output from 'set_initial_profile'.\n",
    "    dt : float\n",
    "        The time step in years.\n",
    "        \n",
    "    Returns\n",
    "    -------\n",
    "    numpy.ndarray\n",
    "        The updated elevation values in m.\n",
    "    \"\"\"\n",
    "    elevation[1:-1] -= dt * elev_rate_of_change\n",
    "    return elevation"
   ]
  },
  {
   "cell_type": "markdown",
   "id": "eabf19d4-c83d-47cc-a92d-10665c33a259",
   "metadata": {},
   "source": [
    "Set Parameters and plot intial profile"
   ]
  },
  {
   "cell_type": "code",
   "execution_count": 33,
   "id": "bfd58247-3a9a-4e60-bf77-cf75e29ad26c",
   "metadata": {},
   "outputs": [
    {
     "data": {
      "image/png": "[encoded data removed]",
      "text/plain": [
       "<Figure size 1000x600 with 1 Axes>"
      ]
     },
     "metadata": {},
     "output_type": "display_data"
    }
   ],
   "source": [
    "timesteps = 5           # how many timesteps to run\n",
    "dt = 10                 # length of timestep (yr)\n",
    "domain_length = 10      # length of domain (m)\n",
    "dx = 1                  # distance between nodes (m)\n",
    "initial_elev = 5        # elevation at internal nodes (m)\n",
    "diffusion_coeff = 1e-02 # diffusion coefficient (m2/yr)\n",
    "incision_rate = 0.001   # m/yr\n",
    "\n",
    "num_nodes = calc_num_nodes(domain_length, dx) + 1  # +1 to include endpoint\n",
    "elevation, x = set_initial_profile(dx, num_nodes, initial_elev)\n",
    "plot_elevation(elevation, x)"
   ]
  },
  {
   "cell_type": "markdown",
   "id": "d49cc830-2cc2-4263-adc4-81093482e046",
   "metadata": {},
   "source": [
    "Evolve hillslope using diffusion!"
   ]
  },
  {
   "cell_type": "code",
   "execution_count": 35,
   "id": "363c43c8-e084-4745-9eb2-6476bc90bfb9",
   "metadata": {},
   "outputs": [
    {
     "data": {
      "image/png": "[encoded data removed]",
      "text/plain": [
       "<Figure size 1000x600 with 1 Axes>"
      ]
     },
     "metadata": {},
     "output_type": "display_data"
    }
   ],
   "source": [
    "for i in range(timesteps):\n",
    "    elevation = lower_elevation(elevation, incision_rate, dt)\n",
    "    soil_flux = calc_flux(elevation, diffusion_coeff, dx)\n",
    "    elev_rate_of_change = calc_rate_of_change(soil_flux, dx)\n",
    "    elevation = update_elevation(elev_rate_of_change, elevation, dt)\n",
    "\n",
    "plot_elevation(elevation, x)"
   ]
  },
  {
   "cell_type": "markdown",
   "id": "f7d6508a-ec2d-4769-9b5d-e31863c09f45",
   "metadata": {},
   "source": [
    "# Exercise 3: exploring influence of different parameters.\n",
    "\n",
    "1. Change the lowering rate by an order of magnitude. How does this affect the slope of our hillslope?\n",
    "2. Change the diffusion coefficient by an order of magnitude. How does this affect the slope of our hillslope?\n",
    "\n",
    "**EXTRA CHALLENGE**: Change the domain such that the left half has one diffusion coefficient and the right half has a different diffusion coefficient. How does this effeect the cross section?\n",
    "\n",
    "**NOTE**: Don't forget to import relevant libraries before you use your functions (i.e., NumPy)..."
   ]
  },
  {
   "cell_type": "markdown",
   "id": "a9bca498-ab22-44fc-8367-96411a355857",
   "metadata": {},
   "source": [
    "This is a first taste of how programs can be built to solve a problem: break the problem into smaller pieces, write functions to address the smaller pieces, then assemble the functions to solve the problem."
   ]
  },
  {
   "cell_type": "code",
   "execution_count": null,
   "id": "1b02471d-7cd9-43dd-9185-1aa13e254d39",
   "metadata": {},
   "outputs": [],
   "source": [
    "# extra space if you need it\n",
    "\n",
    "\n",
    "\n"
   ]
  },
  {
   "cell_type": "markdown",
   "id": "9baad7dd-4048-4be8-b068-277d6ac2da16",
   "metadata": {},
   "source": [
    "# Summary"
   ]
  },
  {
   "cell_type": "markdown",
   "id": "c8f7b21f-195e-491d-a52b-8c20ffbb96e2",
   "metadata": {},
   "source": [
    "The process of building larger programs from smaller functions is a key element of scientific programming.\n",
    "\n",
    "Information from the Python documentation, including the sections [Defining Functions](https://docs.python.org/3/tutorial/controlflow.html#defining-functions) and [More on Defining Functions](https://docs.python.org/3/tutorial/controlflow.html#more-on-defining-functions) was used heavily in creating this notebook. There's a lot more there, including many features of functions we didn't cover."
   ]
  },
  {
   "cell_type": "markdown",
   "id": "8b9fa0ce-f35a-42dc-8ca6-842e55a5aee2",
   "metadata": {},
   "source": [
    "## Topics not covered"
   ]
  },
  {
   "cell_type": "markdown",
   "id": "e3c3868d-3a43-453e-92f6-f95bea7c3e1d",
   "metadata": {},
   "source": [
    "These are a few topics that we didn't cover in this lesson, but they're important enough that we probably should have.\n",
    "\n",
    "- formal versus actual parameters\n",
    "- the concept of scope\n",
    "- local versus global variables\n",
    "- use of type hints\n",
    "\n",
    "More information on these topics can be found in the Python documentation."
   ]
  },
  {
   "cell_type": "markdown",
   "id": "0e317cf0-4ec4-4328-a091-e631a25b5ab6",
   "metadata": {},
   "source": [
    "## Last thoughts"
   ]
  },
  {
   "cell_type": "markdown",
   "id": "298b1bfc-eaea-4444-8226-12a08ebc64e2",
   "metadata": {},
   "source": [
    "If your function doesn't fit on a screen, it's too long. Break it up into smaller functions.\n",
    "\n",
    "How do we know a function is working as expected? This is partially answered with unit testing, covered later."
   ]
  },
  {
   "cell_type": "markdown",
   "id": "ee58f95b-726a-4be6-b102-cc028e57bf27",
   "metadata": {},
   "source": [
    "# Some other useful things about functions"
   ]
  },
  {
   "cell_type": "markdown",
   "id": "2a9f0105-44ea-4097-8fdf-53679110884a",
   "metadata": {},
   "source": [
    "### Functions with an arbitrary number of arguments\n",
    "\n",
    "Some functions are set up to accept any number of arguments, separated by commas.\n",
    "\n",
    "Example: `print()` takes as many arguments as you give it:\n",
    "\n",
    "```\n",
    "print(\"I\", \"can\", \"has\", \"cheese\")\n",
    "```"
   ]
  },
  {
   "cell_type": "markdown",
   "id": "3b37055c-90f1-45c4-a1df-5b6ce4e12d5b",
   "metadata": {},
   "source": [
    "### Passing arguments as a list\n",
    "\n",
    "When you have a function like `print()` that takes multiple arguments, it's possible to pass arguments as a list preceded by the `*` operator.\n",
    "\n",
    "Example:\n",
    "```\n",
    "epochs = [\"Paleocene\", \"Eocene\", \"Oligocene\", \"Miocene\", \"Pliocene\", \"Pleistocene\"]\n",
    "print(*epochs)\n",
    "```\n",
    "\n",
    "Try this with another function."
   ]
  },
  {
   "cell_type": "markdown",
   "id": "666267f6-5a2a-47e7-826d-664ebba2fb71",
   "metadata": {},
   "source": [
    "### Passing keyword arguments as a dict\n",
    "\n",
    "Sometimes it can be useful to manage keyword arguments using a dictionary. The keys should be the argument keywords, and the values should be the corresponding values for those arguments. Putting `**` before the name of the dictionary tells Python to interpret the dictionary as a set of keyword arguments.\n",
    "\n",
    "Example:\n",
    "```\n",
    "mydict = {\"base\": 10.0, \"exp\": 2.0}\n",
    "print(pow(**mydict))\n",
    "```\n",
    "\n",
    "Try this with another function."
   ]
  },
  {
   "cell_type": "markdown",
   "id": "57e2e610-77cc-4dbb-ad31-98dab07a3fa3",
   "metadata": {},
   "source": [
    "## Catch function output\n",
    "\n",
    "Often, the job of a function is to **return** one or more values as the output of its operation. Examples:\n",
    "\n",
    "- `len()` returns the length of an object, as an integer\n",
    "- `round()` returns the rounded value, as a float\n",
    "\n",
    "You can **catch** a function return using the assignment operator and a variable(s). Examples:\n",
    "\n",
    "- `num_letters = len(\"hello\")`\n",
    "- `rounded_pi = round(3.1415926, 2)`\n",
    "\n",
    "The variable will contain the value(s) returned by the function."
   ]
  },
  {
   "cell_type": "markdown",
   "id": "2f520498-e1bf-472d-800b-e585209c4c02",
   "metadata": {},
   "source": [
    "### Will `None` come forward?\n",
    "\n",
    "Even if a function does not produce a useful output, it will still return a special Python constant called `None`, which is of type `NoneType`.\n",
    "\n",
    "Example:\n",
    "```\n",
    "result = print(\"Nothing to see here...\")\n",
    "print(result)\n",
    "print(type(result))\n",
    "```"
   ]
  },
  {
   "cell_type": "markdown",
   "id": "481bf31c-bd65-4e53-8e14-8abc6aa66563",
   "metadata": {},
   "source": [
    "### Multiple returns\n",
    "\n",
    "Functions can return more than one value. When a function returns multiple values, the values are returned together as a **tuple**. This is a data type unique to python. The individual values of a tuple can be accessed by indexing.\n",
    "\n",
    "Example: the function `divmod(a, b)` returns the integer quotient and remainder when `a` is divided by `b`.\n",
    "\n",
    "```\n",
    "result = divmod(13, 5)\n",
    "print(result)\n",
    "print(type(result))\n",
    "quotient = result[0]\n",
    "remainder = result[1]\n",
    "print(quotient, remainder)\n",
    "```"
   ]
  },
  {
   "cell_type": "code",
   "execution_count": null,
   "id": "78383c51-5e5b-4185-b73b-f0ac46bcb4d1",
   "metadata": {},
   "outputs": [],
   "source": [
    "result = divmod(13, 5)\n",
    "print(result)\n",
    "print(type(result))\n",
    "quotient = result[0]\n",
    "remainder = result[1]\n",
    "print(quotient, remainder)"
   ]
  },
  {
   "cell_type": "markdown",
   "id": "ccf870c0-c35a-4ebc-9755-19428f5e8254",
   "metadata": {},
   "source": [
    "### Required versus optional arguments\n",
    "\n",
    "Some functions require one or more arguments, and will trigger an error if you don't provide the correct number of arguments.\n",
    "\n",
    "Example: `len()` requires exactly one argument:\n",
    "\n",
    "```\n",
    "len()\n",
    "---------------------------------------------------------------------------\n",
    "TypeError                                 Traceback (most recent call last)\n",
    "Cell In[15], line 1\n",
    "----> 1 len()\n",
    "\n",
    "TypeError: len() takes exactly one argument (0 given)\n",
    "```"
   ]
  },
  {
   "cell_type": "markdown",
   "id": "57cb446d-5e4f-4cbd-b0e6-b46a1537a735",
   "metadata": {},
   "source": [
    "### Positional arguments\n",
    "\n",
    "When a function takes more than one argument, the different arguments can be specified according to their position.\n",
    "\n",
    "Example: `pow()` has two required arguments, `base` and `exp`.\n",
    "\n",
    "Compare the difference between `pow(10, 2)` and `pow(2, 10)`."
   ]
  },
  {
   "cell_type": "markdown",
   "id": "0b0f919a-d1a2-4e90-9942-af847f02dc2f",
   "metadata": {},
   "source": [
    "### Keyword arguments\n",
    "\n",
    "Arguments can be specified according to their names, as **keyword arguments**.\n",
    "\n",
    "Example: what does `pow(exp=2, base=10)` return?\n",
    "\n",
    "Example: what happens if you run `print(\"spam\", \"and\", \"eggs\", sep=\"!\")`?"
   ]
  },
  {
   "cell_type": "code",
   "execution_count": null,
   "id": "0126628b-e96e-49e7-9d2f-c1931a1d8314",
   "metadata": {},
   "outputs": [],
   "source": [
    "pow(exp=2,base=10)\n",
    "help(pow)"
   ]
  },
  {
   "cell_type": "markdown",
   "id": "9305d6e8-2bb4-4c14-87bd-d68fbd19c162",
   "metadata": {},
   "source": [
    "### Required versus optional arguments\n",
    "\n",
    "Some arguments are **optional**. If the argument is not given, a default value will be used.\n",
    "\n",
    "Example: the `round()` function has an optional `ndigits` argument (the default is to round to the nearest whole number)\n",
    "\n",
    "```\n",
    "print(round(3.1415926))\n",
    "print(round(3.1415926, 2))\n",
    "print(round(3.1415926, ndigits=2))\n",
    "```"
   ]
  }
 ],
 "metadata": {
  "kernelspec": {
   "display_name": "Python 3 (ipykernel)",
   "language": "python",
   "name": "python3"
  },
  "language_info": {
   "codemirror_mode": {
    "name": "ipython",
    "version": 3
   },
   "file_extension": ".py",
   "mimetype": "text/x-python",
   "name": "python",
   "nbconvert_exporter": "python",
   "pygments_lexer": "ipython3",
   "version": "3.10.15"
  }
 },
 "nbformat": 4,
 "nbformat_minor": 5
}
