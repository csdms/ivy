{
 "cells": [
  {
   "cell_type": "markdown",
   "metadata": {},
   "source": [
    "<a href=\"https://csdms.colorado.edu\"><img style=\"float: center; width: 75%\" src=\"https://raw.githubusercontent.com/csdms/ivy/main/media/logo.png\"></a>"
   ]
  },
  {
   "cell_type": "markdown",
   "metadata": {},
   "source": [
    "# Functions\n",
    "\n",
    "In the [diffusion](8_diffusion.ipynb) and [advection](9_advection.ipynb) notebooks,\n",
    "we wrote code\n",
    "to solve the one-dimensional diffusion and advection equations numerically,\n",
    "evolve the solutions with time,\n",
    "and visualize the results.\n",
    "\n",
    "However, the code in these notebooks is long and complicated and frequently repetitive.\n",
    "What if we wanted to use the code again,\n",
    "with different parameters or perhaps even in a different notebook?\n",
    "Cutting and pasting is tedious, and it can easily lead to errors.\n",
    "\n",
    "We'd like a way to organize our code so that it's easier to reuse.\n",
    "Python provides for this by letting us define *functions*.\n",
    "A function groups code into a program that can be called as a unit.\n",
    "\n",
    "Before we start,\n",
    "we'll need Numpy and a NumPy setting for the code in this notebook."
   ]
  },
  {
   "cell_type": "code",
   "execution_count": null,
   "metadata": {
    "tags": []
   },
   "outputs": [],
   "source": [
    "import numpy as np\n",
    "\n",
    "np.set_printoptions(precision=1, floatmode=\"fixed\")"
   ]
  },
  {
   "cell_type": "markdown",
   "metadata": {},
   "source": [
    "## Definition"
   ]
  },
  {
   "cell_type": "markdown",
   "metadata": {},
   "source": [
    "In the diffusion notebook,\n",
    "we defined a timestep based on a stability criterion\n",
    "for our numerical solution to the diffusion equation.\n",
    "\n",
    "Let's group this code into a function."
   ]
  },
  {
   "cell_type": "code",
   "execution_count": null,
   "metadata": {
    "tags": []
   },
   "outputs": [],
   "source": [
    "def calculate_time_step(grid_spacing, diffusivity):\n",
    "    return grid_spacing ** 2 / diffusivity / 2.1"
   ]
  },
  {
   "cell_type": "markdown",
   "metadata": {},
   "source": [
    "A function definition begins with the keyword `def`,\n",
    "followed by the name of the function,\n",
    "followed by a comma-delimited listing of arguments (also known as parameters in parentheses,\n",
    "and ending with a colon `:`.\n",
    "The code in the body of the function--run when the function is called--must be indented."
   ]
  },
  {
   "cell_type": "markdown",
   "metadata": {},
   "source": [
    "We've named our function `calculate_time_step` (naming functions is often an art).\n",
    "It takes two arguments,\n",
    "the grid spacing of the model and the diffusivity.\n",
    "The variables `grid_spacing` and `diffusivity` are *local* to the function--they don't exist outside of the body of the function.\n",
    "In the body of the function,\n",
    "the time step is calculated from the stability criterion\n",
    "and returned to the caller."
   ]
  },
  {
   "cell_type": "markdown",
   "metadata": {},
   "source": [
    "## Execution\n",
    "\n",
    "Call the `calculate_time_step` function with a grid spacing `dx` of $10.0~m$ and a diffusivity `D` of $0.1~m^2 s^{-1}$."
   ]
  },
  {
   "cell_type": "code",
   "execution_count": null,
   "metadata": {
    "tags": []
   },
   "outputs": [],
   "source": [
    "dx = 10.0\n",
    "D = 0.1\n",
    "dt = calculate_time_step(dx, D)"
   ]
  },
  {
   "cell_type": "markdown",
   "metadata": {},
   "source": [
    "Note that we passed the arguments to the function in the order it expects:\n",
    "first the grid spacing, then the diffusivity.\n",
    "Calling a function we define is no different than calling any other Python function.\n",
    "\n",
    "Print the result."
   ]
  },
  {
   "cell_type": "code",
   "execution_count": null,
   "metadata": {
    "tags": []
   },
   "outputs": [],
   "source": [
    "print(f\"Time step = {dt:.2f} s\")"
   ]
  },
  {
   "cell_type": "markdown",
   "metadata": {},
   "source": [
    "In Python,\n",
    "we can also pass arguments by name."
   ]
  },
  {
   "cell_type": "code",
   "execution_count": null,
   "metadata": {
    "tags": []
   },
   "outputs": [],
   "source": [
    "dt1 = calculate_time_step(grid_spacing=dx, diffusivity=D)\n",
    "dt1 == dt"
   ]
  },
  {
   "cell_type": "markdown",
   "metadata": {},
   "source": [
    "This is useful because it makes the function call more readable.\n",
    "\n",
    "Further,\n",
    "when passing arguments by name,\n",
    "we can change the order of the arguments."
   ]
  },
  {
   "cell_type": "code",
   "execution_count": null,
   "metadata": {
    "tags": []
   },
   "outputs": [],
   "source": [
    "dt2 = calculate_time_step(diffusivity=D, grid_spacing=dx)\n",
    "dt2 == dt"
   ]
  },
  {
   "cell_type": "markdown",
   "metadata": {},
   "source": [
    "This is useful because it makes the function easier to call--you don;t have to remember the argument order.\n",
    "\n",
    "These techniques can be used with any Python function, whether it's made by us or by someone else."
   ]
  },
  {
   "cell_type": "markdown",
   "metadata": {},
   "source": [
    "## Extension\n",
    "\n",
    "Python functions have many interesting features,\n",
    "more than we can address here.\n",
    "We'll focus on a few,\n",
    "and provide a list of additional resources in the summary. "
   ]
  },
  {
   "cell_type": "markdown",
   "metadata": {},
   "source": [
    "### Default arguments"
   ]
  },
  {
   "cell_type": "markdown",
   "metadata": {},
   "source": [
    "It's often useful to define default values for the arguments in a function.\n",
    "\n",
    "Let's create another function from a piece of repeated code in the diffusion notebook.\n",
    "This one sets the initial profile of the diffused quantity\n",
    "(e.g., temperature, aerosol concentration, sediment, etc.)."
   ]
  },
  {
   "cell_type": "code",
   "execution_count": null,
   "metadata": {
    "tags": []
   },
   "outputs": [],
   "source": [
    "def set_initial_profile(domain_size=100, boundary_left=500, boundary_right=0):\n",
    "    concentration = np.empty(domain_size)\n",
    "    concentration[: int(domain_size / 2)] = boundary_left\n",
    "    concentration[int(domain_size / 2) :] = boundary_right\n",
    "    return concentration"
   ]
  },
  {
   "cell_type": "markdown",
   "metadata": {},
   "source": [
    "Note that each of the arguments is assigned a default value.\n",
    "If any argument is omitted from a call to this function,\n",
    "its default value is used instead."
   ]
  },
  {
   "cell_type": "markdown",
   "metadata": {},
   "source": [
    "Call `set_initial_profile` with a domain size `Lx` of $10~m$."
   ]
  },
  {
   "cell_type": "code",
   "execution_count": null,
   "metadata": {
    "tags": []
   },
   "outputs": [],
   "source": [
    "Lx = 10\n",
    "C = set_initial_profile(Lx)"
   ]
  },
  {
   "cell_type": "markdown",
   "metadata": {},
   "source": [
    "Although we omitted the left and right boundary condition values,\n",
    "the function call didn't produce an error.\n",
    "\n",
    "Check the result by printing the returned concentration `C`."
   ]
  },
  {
   "cell_type": "code",
   "execution_count": null,
   "metadata": {
    "tags": []
   },
   "outputs": [],
   "source": [
    "print(C)"
   ]
  },
  {
   "cell_type": "markdown",
   "metadata": {},
   "source": [
    "The default values for the left and right boundary conditions were applied.\n",
    "\n",
    "Using default values makes calling a function easier."
   ]
  },
  {
   "cell_type": "markdown",
   "metadata": {},
   "source": [
    "### Type hints\n",
    "\n",
    "Let's group some more repeated code in the diffusion notebook into a function.\n",
    "This is the solver we used for the one-dimensional diffusion equation."
   ]
  },
  {
   "cell_type": "code",
   "execution_count": null,
   "metadata": {
    "tags": []
   },
   "outputs": [],
   "source": [
    "def solve1d(concentration, grid_spacing=1.0, time_step=1.0, diffusivity=1.0):\n",
    "    flux = -diffusivity * np.diff(concentration) / grid_spacing\n",
    "    concentration[1:-1] -= time_step * np.diff(flux) / grid_spacing"
   ]
  },
  {
   "cell_type": "markdown",
   "metadata": {},
   "source": [
    "The arguments for the grid spacing, time step, and diffusivity take default values,\n",
    "but the `concenctration` argument does not.\n",
    "\n",
    "**Question:** Without looking at the body of the function,\n",
    "can you tell what sort of variable goes into the `concentration` argument?\n",
    "A float? A string? A NumPy array?\n",
    "\n",
    "\n",
    "\n",
    "Python is dynamically typed.\n",
    "\n",
    "What type should a parameter be? Integer, float, string, NumPy array?!\n",
    "It's hard to tell.\n",
    "\n",
    "This is where *type hints* can be handy.\n",
    "\n",
    "Do I want to talk about pass by reference?\n",
    "\n",
    "How do we know what type/size of variables the function expects from its arguments?\n",
    "This is where type hints can help.\n",
    "\n",
    "Redo the function with type hints."
   ]
  },
  {
   "cell_type": "code",
   "execution_count": null,
   "metadata": {
    "tags": []
   },
   "outputs": [],
   "source": [
    "def solve1d(concentration: np.ndarray, grid_spacing: float = 1.0, time_step: float = 1.0, diffusivity: float = 1.0) -> None:\n",
    "    flux = -diffusivity * np.diff(concentration) / grid_spacing\n",
    "    concentration[1:-1] -= time_step * np.diff(flux) / grid_spacing"
   ]
  },
  {
   "cell_type": "markdown",
   "metadata": {},
   "source": [
    "Type hints are optional, but useful.\n",
    "\n",
    "Type hints are not enforced."
   ]
  },
  {
   "cell_type": "markdown",
   "metadata": {},
   "source": [
    "### Docstrings"
   ]
  },
  {
   "cell_type": "markdown",
   "metadata": {},
   "source": [
    "Add documentation string (docstring) to `solve1d`."
   ]
  },
  {
   "cell_type": "code",
   "execution_count": null,
   "metadata": {
    "tags": []
   },
   "outputs": [],
   "source": [
    "def solve1d(concentration: np.ndarray, grid_spacing: float = 1.0, time_step: float = 1.0, diffusivity: float = 1.0) -> None:\n",
    "    \"\"\"Solve the one-dimensional diffusion equation with fixed boundary conditions.\n",
    "\n",
    "    Parameters\n",
    "    ----------\n",
    "    concentration : ndarray\n",
    "        The quantity being diffused.\n",
    "    grid_spacing : float (optional)\n",
    "        Distance between grid nodes.\n",
    "    time_step : float (optional)\n",
    "        Time step.\n",
    "    diffusivity : float (optional)\n",
    "        Diffusivity.\n",
    "\n",
    "    Returns\n",
    "    -------\n",
    "    result : ndarray\n",
    "        The temperatures after time *time_step*.\n",
    "\n",
    "    Examples\n",
    "    --------\n",
    "    >>> import numpy as np\n",
    "    >>> from solver import solve1d\n",
    "    >>> z = np.zeros(5)\n",
    "    >>> z[2] = 5\n",
    "    >>> solve1d(z, diffusivity=0.25)\n",
    "    array([   0.0,    1.2,    2.5,    1.2,    0.0])\n",
    "    \"\"\"\n",
    "    flux = -diffusivity * np.diff(concentration) / grid_spacing\n",
    "    concentration[1:-1] -= time_step * np.diff(flux) / grid_spacing"
   ]
  },
  {
   "cell_type": "markdown",
   "metadata": {},
   "source": [
    "Use the `help` function."
   ]
  },
  {
   "cell_type": "code",
   "execution_count": null,
   "metadata": {
    "tags": []
   },
   "outputs": [],
   "source": [
    "help(solve1d)"
   ]
  },
  {
   "cell_type": "code",
   "execution_count": null,
   "metadata": {
    "tags": []
   },
   "outputs": [],
   "source": [
    "?solve1d"
   ]
  },
  {
   "cell_type": "markdown",
   "metadata": {},
   "source": [
    "Docstring aren't necessary, but they're a good practice.\n",
    "\n",
    "Documentation systems such as sphinx (link) use information from docstrings to produce documentation."
   ]
  },
  {
   "cell_type": "markdown",
   "metadata": {},
   "source": [
    "## Composition\n",
    "\n",
    "Put the functions together.\n",
    "*Compose* the functions."
   ]
  },
  {
   "cell_type": "code",
   "execution_count": null,
   "metadata": {
    "tags": []
   },
   "outputs": [],
   "source": [
    "def example():\n",
    "    \"\"\"An example of running `solve1d`.\"\"\"\n",
    "    print(example.__doc__)\n",
    "    D = 100  # diffusivity\n",
    "    Lx = 10  # domain length\n",
    "    dx = 0.5 # grid spacing\n",
    "\n",
    "    dt = calculate_time_step(dx, D)\n",
    "    C = set_initial_profile(Lx)\n",
    "\n",
    "    print(\"Time = 0\\n\", C)\n",
    "    for t in range(1, 5):\n",
    "        solve1d(C, dx, dt, D)\n",
    "        print(f\"Time = {t*dt:.4f}\\n\", C)"
   ]
  },
  {
   "cell_type": "markdown",
   "metadata": {},
   "source": [
    "This is our first taste of how larger programs are built:\n",
    "we define basic operations,\n",
    "then combine them in ever-larger chunks to get the effect we want.\n",
    "Real-life functions will usually be larger than the ones shown here --- typically half a dozen to a few dozen lines --- but\n",
    "they shouldn't ever be much longer than that,\n",
    "or the next person who reads it won't be able to understand what's going on."
   ]
  },
  {
   "cell_type": "markdown",
   "metadata": {},
   "source": [
    "Run the example `example`."
   ]
  },
  {
   "cell_type": "code",
   "execution_count": null,
   "metadata": {
    "tags": []
   },
   "outputs": [],
   "source": [
    "example()"
   ]
  },
  {
   "cell_type": "markdown",
   "metadata": {},
   "source": [
    "## Exercises\n",
    "\n",
    "1.  \"Adding\" two strings produces their concatenation: `'a' + 'b'` is `'ab'`. Write a function called `fence` that takes two parameters, `original` and `wrapper`, and returns a new string that has the wrapper character at the beginning and end of the original.\n",
    "\n",
    "1. Write a function, `normalize`, that takes an array as input and returns a corresponding array of values scaled to the range $[0,1]$. (Hint: Look at NumPy functions such as `arange` and `linspace` to see how their arguments are defined.)\n",
    "\n",
    "1.  Rewrite your `normalize` function so that it scales data to $[0,1]$ by default, but allows a user to optionally specify the lower and upper bounds."
   ]
  },
  {
   "cell_type": "markdown",
   "metadata": {},
   "source": [
    "## Summary\n",
    "\n",
    "More info in the Python documentation.\n",
    "\n",
    "https://docs.python.org/3/tutorial/controlflow.html#defining-functions\n",
    "\n",
    "https://docs.python.org/3/tutorial/controlflow.html#more-on-defining-functions\n",
    "including default arguments\n",
    "\n",
    "Unresolved: formal versus actual parameters.\n",
    "\n",
    "Unresolved: global variables.\n",
    "\n",
    "If your function doesn't fit on a screen, it's too long.\n",
    "Break it up.\n",
    "\n",
    "The process of building larger programs from smaller functions--composition--is a key element of scientific programing.\n",
    "\n",
    "How do we know a function is working as we expect?\n",
    "This is *unit testing*, covered later."
   ]
  },
  {
   "cell_type": "code",
   "execution_count": null,
   "metadata": {},
   "outputs": [],
   "source": []
  }
 ],
 "metadata": {
  "kernelspec": {
   "display_name": "Python 3 (ipykernel)",
   "language": "python",
   "name": "python3"
  },
  "language_info": {
   "codemirror_mode": {
    "name": "ipython",
    "version": 3
   },
   "file_extension": ".py",
   "mimetype": "text/x-python",
   "name": "python",
   "nbconvert_exporter": "python",
   "pygments_lexer": "ipython3",
   "version": "3.9.9"
  }
 },
 "nbformat": 4,
 "nbformat_minor": 4
}
