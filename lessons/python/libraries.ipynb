{
 "cells": [
  {
   "cell_type": "markdown",
   "id": "f47cfc36-6572-411d-9fdc-99613896841e",
   "metadata": {},
   "source": [
    "<a href=\"https://csdms.colorado.edu\"><img style=\"float: center; width: 75%\" src=\"https://raw.githubusercontent.com/csdms/ivy/main/media/logo.png\"></a>"
   ]
  },
  {
   "cell_type": "markdown",
   "id": "3bdd9f97",
   "metadata": {},
   "source": [
    "# Libraries"
   ]
  },
  {
   "cell_type": "markdown",
   "id": "59cfbd92-f1cb-446f-9a44-cbf44bc03f93",
   "metadata": {},
   "source": [
    "The real power of Python comes from the libraries written for it.\n",
    "A *library* is a collection of programs that extend the base Python language.\n",
    "Libraries are alternately called *packages* or *projects* in Python.\n",
    "We'll use these three terms interchangably in Ivy."
   ]
  },
  {
   "cell_type": "markdown",
   "id": "21165123",
   "metadata": {},
   "source": [
    "We'll use a couple important Python libraries in the coming example(s):\n",
    "* [numpy](https://numpy.org/) -- for working with arrays of data\n",
    "* [matplotlib](https://matplotlib.org/) -- for plotting data"
   ]
  },
  {
   "cell_type": "markdown",
   "id": "b7568c81-fa77-45fd-bb47-eb918b12d84b",
   "metadata": {},
   "source": [
    "To bring a library into Python, you have to *import* it with the `import` statement.\n",
    "\n",
    "Importing a library is like pulling a toolbox out of a\n",
    "storage locker and placing it on your workbench, making everything inside the toolbox accessible. Python has a set of built-in functions that are always available (the tools you always have available) and libraries provide\n",
    "additional functionality (the specialized tools in the toolbox you only sometimes need)."
   ]
  },
  {
   "cell_type": "markdown",
   "id": "fe8a78b8-0d52-423d-adce-40935616b5ac",
   "metadata": {},
   "source": [
    "For example, to import the *numpy* library, you can use its full name:"
   ]
  },
  {
   "cell_type": "code",
   "execution_count": null,
   "id": "05f491a9",
   "metadata": {},
   "outputs": [],
   "source": [
    "import numpy"
   ]
  },
  {
   "cell_type": "markdown",
   "id": "c006fecd",
   "metadata": {},
   "source": [
    "After importing *numpy*, you can then call its `zeros` function:"
   ]
  },
  {
   "cell_type": "code",
   "execution_count": null,
   "id": "0d8716ca",
   "metadata": {},
   "outputs": [],
   "source": [
    "a = numpy.zeros(5)\n",
    "print(a)"
   ]
  },
  {
   "cell_type": "markdown",
   "id": "269d7773",
   "metadata": {},
   "source": [
    "Alternately, you can import *numpy* with a nickname:"
   ]
  },
  {
   "cell_type": "code",
   "execution_count": null,
   "id": "8730ab05",
   "metadata": {},
   "outputs": [],
   "source": [
    "import numpy as np"
   ]
  },
  {
   "cell_type": "markdown",
   "id": "17700e36",
   "metadata": {},
   "source": [
    "Then, to call its `zeros` functions, use the nickname:"
   ]
  },
  {
   "cell_type": "code",
   "execution_count": null,
   "id": "8e517519",
   "metadata": {},
   "outputs": [],
   "source": [
    "b = np.zeros(5)\n",
    "print(b)"
   ]
  },
  {
   "cell_type": "markdown",
   "id": "7427d7b6",
   "metadata": {},
   "source": [
    "Some libraries are large, and it's often preferred to import submodules--or even individual programs--from the library.\n",
    "\n",
    "For example, import the `Image` class from the IPython display library:"
   ]
  },
  {
   "cell_type": "code",
   "execution_count": null,
   "id": "48964719",
   "metadata": {},
   "outputs": [],
   "source": [
    "from IPython.display import Image"
   ]
  },
  {
   "cell_type": "markdown",
   "id": "e170ec57",
   "metadata": {},
   "source": [
    "then use it to display an image:"
   ]
  },
  {
   "cell_type": "code",
   "execution_count": null,
   "id": "fda03b2b",
   "metadata": {
    "tags": []
   },
   "outputs": [],
   "source": [
    "Image(filename=\"../../media/Denver_Public_Library_1.jpg\")"
   ]
  },
  {
   "cell_type": "markdown",
   "id": "ee60f529-5d84-4c47-ae6d-fb61203af278",
   "metadata": {},
   "source": [
    "## Summary"
   ]
  },
  {
   "cell_type": "markdown",
   "id": "4e8c83be-2995-4665-b806-513325617979",
   "metadata": {},
   "source": [
    "For more information on topics in this notebook:\n",
    "* The Python standard library [part 1](https://docs.python.org/3/tutorial/stdlib.html) and [part 2](https://docs.python.org/3/tutorial/stdlib2.html)\n",
    "* [NumPy](https://numpy.org/doc/)\n",
    "* [Denver Public Library](https://www.denverlibrary.org/)"
   ]
  }
 ],
 "metadata": {
  "kernelspec": {
   "display_name": "Ivy",
   "language": "python",
   "name": "ivy"
  },
  "language_info": {
   "codemirror_mode": {
    "name": "ipython",
    "version": 3
   },
   "file_extension": ".py",
   "mimetype": "text/x-python",
   "name": "python",
   "nbconvert_exporter": "python",
   "pygments_lexer": "ipython3",
   "version": "3.9.9"
  }
 },
 "nbformat": 4,
 "nbformat_minor": 5
}
