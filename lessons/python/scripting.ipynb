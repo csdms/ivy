{
 "cells": [
  {
   "cell_type": "markdown",
   "metadata": {},
   "source": [
    "# Scripting & the shell\n",
    "Throughout ESPIn, we've been using Jupyter notebooks to organize our code. Notebooks are great tools for exploring new ideas, prototyping models, and taking a look at model output. But, as you might have noticed by now, notebooks are pretty slow, especially when we start to run programs with hundreds or thousands of lines of code. \n",
    "\n",
    "This lesson has two parts: first we'll talk about the *shell*, which provides a text-based interface for interacting with our machine. Then, we'll cover how to run a simple diffusion model in a *script*, as opposed to a notebook.\n",
    "\n",
    "#### Objectives\n",
    "- Learn how to navigate in the shell and perform simple commands\n",
    "- Create a Python script to run a diffusion model\n",
    "- Understand how to use scripting in your own workflow"
   ]
  },
  {
   "cell_type": "markdown",
   "metadata": {},
   "source": [
    "# Shell commands"
   ]
  },
  {
   "cell_type": "markdown",
   "metadata": {},
   "source": [
    "### Exercise 1) Open a terminal.\n",
    "A *terminal* is a text interface that allows a user to communicate with the operating system. We have a few different examples of terminals:\n",
    "- JupyterLab's Terminal app\n",
    "- Linux terminal or xterm\n",
    "- macOS Terminal or iTerm\n",
    "- Windows Git Bash\n",
    "- IDE's like VS Code, Spyder, or Cursor often have built-in terminals\n",
    "\n",
    "A *shell* is the software responsible for interpreting your instructions. The most common shell is Bash (Bourne Again SHell). If you're on a Unix-based OS (Mac or Linux), you'll have Bash installed natively. If you're on Windows, you can get it through Git for Windows, which includes Git Bash.\n",
    "\n",
    "The fundamental action in a terminal is a REPL: Read, Evaluate, Print Loop. First, we have to type something. Try typing <tt>pwd</tt>, to print the current working directory. When you hit enter, the shell:\n",
    "1. Reads the command.\n",
    "2. Evaluates the command. \n",
    "3. Prints output to the terminal.\n",
    "\n",
    "Then, we repeat the process. You don't need to learn everything about the shell all at once, since you'll pick things up as you need them. We'll start with the basics here, and I'll include a few additional tips and tricks below. \n",
    "\n",
    "### Exercise 2) Bash basics.\n",
    "For now, let's go through the [brief shell lesson](https://github.com/csdms/ivy/blob/main/lessons/shell/short-shell.md)."
   ]
  },
  {
   "cell_type": "markdown",
   "metadata": {},
   "source": [
    "### Random tips and tricks"
   ]
  },
  {
   "cell_type": "markdown",
   "metadata": {},
   "source": [
    "- the up-arrow or !! repeats the previous command\n",
    "    - sudo !! is very useful\n",
    "- Ctrl+R searches your command history\n",
    "- Ctrl+C interrupts the current command\n",
    "- Ctrl+A goes to the start of a line; Ctrl+E goes to the end\n",
    "- Ctrl+L clears the terminal window\n",
    "- grep searches files and directories\n",
    "- prepend time to a command to see how long it takes"
   ]
  },
  {
   "cell_type": "markdown",
   "metadata": {},
   "source": [
    "# Text editors and IDE's"
   ]
  },
  {
   "cell_type": "markdown",
   "metadata": {},
   "source": [
    "Let's talk about how to write code outside of a Jupyter notebook. Here's a [brief lesson](https://github.com/csdms/ivy/blob/main/lessons/editors/index.md).\n",
    "\n",
    "The TL;DR is:\n",
    "\n",
    "Code is text. \n",
    "\n",
    "Write code with a text editor. \n",
    "\n",
    "Find one you like and learn to use it well. \n",
    "\n",
    "Don't write code with a word processor. \n",
    "\n",
    "Plain text is future-proof. "
   ]
  },
  {
   "cell_type": "markdown",
   "metadata": {},
   "source": [
    "# Python scripts"
   ]
  },
  {
   "cell_type": "markdown",
   "metadata": {},
   "source": [
    "### Exercise 3) Write a Python script.\n",
    "Now for the fun part! Let's take our finalized diffusion code from the functions lesson and turn it into a script. \n",
    "\n",
    "First, make a new plain text file. Name it something descriptive and include \".py\" as the file type. This tells the system to treat our plain text file as a Python script - as we'll see in a moment.\n",
    "\n",
    "Then, take your finalized code and copy it into the script. Make sure to include all of the import statements that you'll need!\n",
    "\n",
    "Finally, let's run our script! Open a terminal in JupyterHub, and then:\n",
    "1. Figure out which directory you are in.\n",
    "2. Run <tt>\"python3 SCRIPT.py\"</tt> where SCRIPT is the name of your script.\n",
    "\n",
    "*Note: it's possible that this could run without throwing an error, but still not display any plots. If that happens, you'll need to add a line that saves the matplotlib figures. The syntax for this is:*\n",
    "\n",
    "plt.savefig('path-to-file') \n",
    "\n",
    "*where path-to-file is wherever you would like to save the image. Make sure to include that line before any plt.show() commands, so that you save the current figure before clearing it.*\n"
   ]
  },
  {
   "cell_type": "markdown",
   "metadata": {},
   "source": [
    "\n",
    "### Exercise 4) Include a main() function.\n",
    "Now, what you've just done works perfectly well for one-off scripts. But, when we talk later about modules and packages, you'll see some cases where it might be advantageous to separate out the *definitions* from the *actions* in a script. For example, you might want to write some new code that pulls in the functions you defined in this script, but doesn't go ahead and make all of the plots or actually run the model. This is such a common use case that Python has a special syntax for handling it.\n",
    "\n",
    "At the bottom of your script, write the following code:\n",
    "\n",
    "<tt> \n",
    "if __name__ == '__main__':\n",
    "</tt>\n",
    "\n",
    "This chunk of code checks for two reserved keywords in Python: *\\_\\_name\\_\\_* and *\\_\\_main\\_\\_*. Basically, \\_\\_name\\_\\_ is the name of the current module, and \\_\\_main\\_\\_ is the name of the current program being run. When you run a script using <tt>python3 foo.py</tt>, then *foo* is both \\_\\_name\\_\\_ and \\_\\_main\\_\\_. So, it will run everything you have defined in that *if* block. But, if you instead import something from <tt>foo.py</tt> into <tt>bar.py</tt> and run <tt>bar.py</tt>, then \\_\\_name\\_\\_ is *foo* but \\_\\_main\\_\\_ is *bar*, so the code inside the *if* block won't run.\n",
    "\n",
    "For this exercise, separate out the *definitions* in your script from the *actions*. Leave the definitions above, but move the actions (running the model and plotting figures) into a protected *if* block, using the syntax from above.\n",
    "\n",
    "### Exercise 5) Import a function into a new script.\n",
    "Now we have a great setup for reusing our code! Make a new script in the same directory as your old one. At the top of the script include an import statement that looks like:\n",
    "\n",
    "<tt>\n",
    "from my_script import my_function\n",
    "</tt>\n",
    "\n",
    "Note that you shouldn't include any of the file extensions here. For the rest of this exercise, build out the second script to use the functions you defined previously. Try a few new ideas (check out the additional exercises for inspiration), so you can get used to modifying your scripts, running them, and checking the output."
   ]
  },
  {
   "cell_type": "markdown",
   "metadata": {},
   "source": [
    "# Discussion\n",
    "What are the advantages and disadvantages of notebooks and scripts? \n",
    "\n",
    "What type of workflow makes the most sense for you? \n",
    "\n",
    "Does that change at all throughout the lifetime of a project?"
   ]
  }
 ],
 "metadata": {
  "kernelspec": {
   "display_name": "espin-2025-i_K4nWSq-py3.13",
   "language": "python",
   "name": "python3"
  },
  "language_info": {
   "name": "python",
   "version": "3.13.2"
  }
 },
 "nbformat": 4,
 "nbformat_minor": 2
}
