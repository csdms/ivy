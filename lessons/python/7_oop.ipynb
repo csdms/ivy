{
 "cells": [
  {
   "cell_type": "markdown",
   "metadata": {},
   "source": [
    "<a href=\"https://csdms.colorado.edu\"><img style=\"float: center; width: 75%\" src=\"https://raw.githubusercontent.com/csdms/ivy/main/media/logo.png\"></a>"
   ]
  },
  {
   "cell_type": "markdown",
   "metadata": {},
   "source": [
    "# Object-Oriented Programming"
   ]
  },
  {
   "cell_type": "markdown",
   "metadata": {},
   "source": [
    "*Object-oriented programming* (OOP) is a technique for modeling programming problems.\n",
    "OOP is based on *objects*,\n",
    "which bundle together data and functions that act upon these data,\n",
    "and *classes*,\n",
    "which describe what data and functions go into an object.\n",
    "Compare this with *procedural programming*,\n",
    "where data structures are separate from the functions that act upon them.\n",
    "To this point,\n",
    "we have mostly been using Python as a procedural language,\n",
    "but Python also supports OOP.\n",
    "\n",
    "In this lesson,\n",
    "we'll go over some of the basics of OOP using Python.\n",
    "This will be useful for EPSP scientists because\n",
    "numerical models written with OOP techinques tend to be easier understand, debug, maintain, and extend.\n",
    "Landlab is an example.\n",
    "Further, if, for example, you go on to develop a Landlab component,\n",
    "it has to be written with OOP techinues."
   ]
  },
  {
   "cell_type": "markdown",
   "metadata": {},
   "source": [
    "## Concepts\n",
    "\n",
    "Let's explore OOP concepts through bicycles.\n",
    "\n",
    "\"A bike\" (class) \n",
    "Bikes have attributes: (brakes, handle bars, wheels\n",
    "Bikes have behaviors : move, steer, brake \n",
    "\n",
    "Objects or instances of the bike class:\n",
    "\n",
    "- Mark's Specialized Stumpjumper FS\n",
    "- Benjamin's Bianchi Sprint\n",
    "\n",
    "\n",
    "\n",
    "In OOP, code is organized into a class.\n",
    "\n",
    "Terms:\n",
    "\n",
    "* class\n",
    "* object\n",
    "* attribute (data)\n",
    "* method (behavior)\n",
    "* instance\n",
    "* subclass\n",
    "* inheritance\n",
    "* abstract\n",
    "* constructor\n",
    "\n",
    "The variable *self* is used to access the attributes and methods of an object.\n",
    "\n",
    "Access attributes and methods from an object with the method invocation operator \".\".\n",
    "\n",
    "\n",
    "OOP requires some time to write and develop good classes.\n",
    "\n",
    "The following notebook is based on a recent [webinar](https://youtu.be/dLrahDArm4w) we recorded at CSDMS. You can find the [Slideshow](https://github.com/csdms/level-up/blob/master/info/Level-3-Object-oriented-Programming.pdf) and a more elaborate example here [python_corona_simulation](https://github.com/BCampforts/python_corona_simulation),which is forked from [paulvangentcom](https://github.com/paulvangentcom/python_corona_simulation)."
   ]
  },
  {
   "cell_type": "markdown",
   "metadata": {},
   "source": [
    "## An example"
   ]
  },
  {
   "cell_type": "markdown",
   "metadata": {},
   "source": [
    "A textbook example of polygons."
   ]
  },
  {
   "cell_type": "code",
   "execution_count": 3,
   "metadata": {},
   "outputs": [],
   "source": [
    "from abc import ABC, abstractmethod\n",
    "\n",
    "import numpy as np\n",
    "\n",
    "\n",
    "class Shape(ABC):\n",
    "    @abstractmethod\n",
    "    def __init__(self, x: np.ndarray, y: np.ndarray) -> None:\n",
    "        self.x = x\n",
    "        self.y = y\n",
    "        self.n_sides = len(x)\n",
    "        self.area = None\n",
    "\n",
    "    @abstractmethod\n",
    "    def calculate_area(self) -> None:\n",
    "        ..."
   ]
  },
  {
   "cell_type": "markdown",
   "metadata": {},
   "source": [
    "Let's examine this code."
   ]
  },
  {
   "cell_type": "code",
   "execution_count": 10,
   "metadata": {},
   "outputs": [],
   "source": [
    "#x = Shape()"
   ]
  },
  {
   "cell_type": "code",
   "execution_count": 4,
   "metadata": {
    "tags": []
   },
   "outputs": [],
   "source": [
    "class Circle(Shape):\n",
    "    def __init__(self, center: tuple = (1.0, 1.0), radius: float = 1.0) -> None:\n",
    "        self.c = center\n",
    "        self.r = radius\n",
    "        theta = np.linspace(0.0, 2 * np.pi, 100)\n",
    "        x = self.c[0] + self.r * np.cos(theta)\n",
    "        y = self.c[1] + self.r * np.sin(theta)\n",
    "        super().__init__(x, y)\n",
    "\n",
    "    def calculate_area(self) -> None:\n",
    "        self.area = np.pi * self.r**2"
   ]
  },
  {
   "cell_type": "code",
   "execution_count": 5,
   "metadata": {
    "tags": []
   },
   "outputs": [],
   "source": [
    "s = Circle(center=(1.0,1.0), radius=2.0)"
   ]
  },
  {
   "cell_type": "code",
   "execution_count": 6,
   "metadata": {
    "tags": []
   },
   "outputs": [
    {
     "data": {
      "text/plain": [
       "(1.0, 1.0)"
      ]
     },
     "execution_count": 6,
     "metadata": {},
     "output_type": "execute_result"
    }
   ],
   "source": [
    "s.c"
   ]
  },
  {
   "cell_type": "code",
   "execution_count": 7,
   "metadata": {
    "tags": []
   },
   "outputs": [
    {
     "data": {
      "text/plain": [
       "2.0"
      ]
     },
     "execution_count": 7,
     "metadata": {},
     "output_type": "execute_result"
    }
   ],
   "source": [
    "s.r"
   ]
  },
  {
   "cell_type": "code",
   "execution_count": 8,
   "metadata": {
    "tags": []
   },
   "outputs": [],
   "source": [
    "s.calculate_area()"
   ]
  },
  {
   "cell_type": "code",
   "execution_count": 9,
   "metadata": {
    "tags": []
   },
   "outputs": [
    {
     "data": {
      "text/plain": [
       "12.566370614359172"
      ]
     },
     "execution_count": 9,
     "metadata": {},
     "output_type": "execute_result"
    }
   ],
   "source": [
    "s.area"
   ]
  },
  {
   "cell_type": "code",
   "execution_count": null,
   "metadata": {},
   "outputs": [],
   "source": []
  }
 ],
 "metadata": {
  "kernelspec": {
   "display_name": "Python 3 (ipykernel)",
   "language": "python",
   "name": "python3"
  },
  "language_info": {
   "codemirror_mode": {
    "name": "ipython",
    "version": 3
   },
   "file_extension": ".py",
   "mimetype": "text/x-python",
   "name": "python",
   "nbconvert_exporter": "python",
   "pygments_lexer": "ipython3",
   "version": "3.9.9"
  }
 },
 "nbformat": 4,
 "nbformat_minor": 4
}
