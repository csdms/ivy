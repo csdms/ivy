{
 "cells": [
  {
   "cell_type": "markdown",
   "metadata": {
    "tags": []
   },
   "source": [
    "<a href=\"https://csdms.colorado.edu\"><img style=\"float: center; width: 75%\" src=\"https://raw.githubusercontent.com/csdms/ivy/main/media/logo.png\"></a>"
   ]
  },
  {
   "cell_type": "markdown",
   "metadata": {},
   "source": [
    "# Object-Oriented Programming"
   ]
  },
  {
   "cell_type": "markdown",
   "metadata": {
    "tags": []
   },
   "source": [
    "*Object-oriented programming* (OOP) is a technique for modeling programming problems.\n",
    "OOP is based on *objects*,\n",
    "which bundle together data and functions that act upon these data,\n",
    "and *classes*,\n",
    "which describe what data and functions go into an object.\n",
    "Compare this with *procedural programming*,\n",
    "where data structures are separate from the functions that act upon them.\n",
    "To this point,\n",
    "we have mostly been using Python as a procedural language,\n",
    "but Python also supports OOP.\n",
    "\n",
    "In this lesson,\n",
    "we'll go over some of the basics of OOP using Python.\n",
    "This will be useful for EPSP scientists because\n",
    "numerical models written with OOP techniques tend to be easier understand, debug, maintain, and extend.\n",
    "Landlab is an example.\n",
    "Further, if you intend to develop a Landlab component,\n",
    "it must be written with OOP techniques."
   ]
  },
  {
   "cell_type": "markdown",
   "metadata": {},
   "source": [
    "## Concepts\n",
    "\n",
    "<figure style=\"float: right;\">\n",
    "    <a href=\"https://en.wikipedia.org/wiki/File:Left_side_of_Flying_Pigeon.jpg\"><img src=\"https://upload.wikimedia.org/wikipedia/commons/thumb/4/41/Left_side_of_Flying_Pigeon.jpg/320px-Left_side_of_Flying_Pigeon.jpg\" alt=\"A Flying Pigeon bicycle.\"/></a>\n",
    "    <figcaption><i>Figure 1: A Flying Pigeon bicycle.</i></figcaption>\n",
    "</figure>\n",
    "\n",
    "Let's explore some OOP concepts through bicycles.\n",
    "\n",
    "Bikes share many features.\n",
    "They have wheels, handlebars, pedals, and brakes.\n",
    "On a bicycle,\n",
    "you can move, steer, and stop.\n",
    "\n",
    "As a thought experiment,\n",
    "consider a *class* called `Bike`.\n",
    "Classes are used to organize information.\n",
    "They are made up of data, called *attributes*,\n",
    "and functions that act on these data, called *methods*.\n",
    "In our `Bike` class,\n",
    "wheels, handlebars, pedals, and brakes are attributes (what makes a `Bike`),\n",
    "and the behaviors of move, steer, and stop are methods (what a `Bike` does).\n",
    "\n",
    "Classes are generalizations.\n",
    "An *object* is a particular instance of a class.\n",
    "For example,\n",
    "The Flying Pigeon in Figure 1 in an instance of a bike.\n",
    "We can see that it has wheels, handlebars, pedals, and brakes,\n",
    "and, in our thought experiment,\n",
    "these attributes could be used in the behaviors of move, steer, and stop.\n",
    "\n",
    "Let's go further.\n",
    "Consider different kinds of bikes, such as mountain bikes versus road bikes.\n",
    "Both mountain bikes and road bikes have all the attributes and methods of bikes,\n",
    "but there are differences; for example,\n",
    "mountain bikes tend to have wider tires and flat handlebars,\n",
    "while road bikes have thinner tires and drop bars.\n",
    "In OOP, we can handle this speciation through *inheritance*:\n",
    "we can *subclass* `Bike` into new `MountainBike` and `RoadBike` classes.\n",
    "These new classes have all the aspects of a `Bike`,\n",
    "and they can define new ones,\n",
    "such as a suspension attribute for a `MountainBike`.\n",
    "An instance of a `MountainBike` is Mark's Specialized Stumpjumper FS.\n",
    "An instance of a `RoadBike` is Benjamin's Bianchi Sprint.\n",
    "\n",
    "Let's move from a conceptual example to a programmatic example."
   ]
  },
  {
   "cell_type": "markdown",
   "metadata": {},
   "source": [
    "## An example"
   ]
  },
  {
   "cell_type": "markdown",
   "metadata": {},
   "source": [
    "For the rest of this lesson,\n",
    "we'll use a textbook example--polygons--to see how OOP works in Python.\n",
    "\n",
    "Figure 2 shows [class diagrams](https://en.wikipedia.org/wiki/Class_diagram) for four classes,\n",
    "`Shape`, `Circle`, `Rectangle`, and `Square`.\n",
    "`Shape` represents a generic polygon.\n",
    "It is *abstract*. (More on that below.)\n",
    "`Circle` and `Rectangle` are subclassed from `Shape`.\n",
    "A square is a special case of a rectangle,\n",
    "so the `Square` class is subclassed from `Rectangle`.\n",
    "\n",
    "Refer back to this diagram as we explore the details of these classes below."
   ]
  },
  {
   "cell_type": "markdown",
   "metadata": {
    "tags": []
   },
   "source": [
    "<figure>\n",
    "    <img src=\"https://raw.githubusercontent.com/csdms/ivy/main/lessons/python/media/shapes-uml-diagram.png\" alt=\"UML class diagrams for Shape, Circle, Rectangle, and Square.\"/>\n",
    "    <figcaption><i>Figure 2: Class diagrams for Shape, Circle, Rectangle, and Square.</i></figcaption>\n",
    "</figure>"
   ]
  },
  {
   "cell_type": "markdown",
   "metadata": {},
   "source": [
    "Before we start, import NumPy, which we use several times in the example."
   ]
  },
  {
   "cell_type": "code",
   "execution_count": null,
   "metadata": {
    "tags": []
   },
   "outputs": [],
   "source": [
    "import numpy as np"
   ]
  },
  {
   "cell_type": "markdown",
   "metadata": {},
   "source": [
    "### Shape"
   ]
  },
  {
   "cell_type": "markdown",
   "metadata": {},
   "source": [
    "Here's our definition of a shape."
   ]
  },
  {
   "cell_type": "code",
   "execution_count": null,
   "metadata": {
    "tags": []
   },
   "outputs": [],
   "source": [
    "from abc import ABC, abstractmethod\n",
    "\n",
    "\n",
    "class Shape(ABC):\n",
    "    @abstractmethod\n",
    "    def __init__(self, x: np.ndarray, y: np.ndarray) -> None:\n",
    "        self.x = x\n",
    "        self.y = y\n",
    "        self.n_sides = len(x)\n",
    "        self.area = None\n",
    "\n",
    "    @abstractmethod\n",
    "    def calculate_area(self) -> None:\n",
    "        ..."
   ]
  },
  {
   "cell_type": "markdown",
   "metadata": {},
   "source": [
    "Let's examine this code.\n",
    "\n",
    "We start by importing a class and a decorator.\n",
    "`ABC` is an acronym for *abstract base class*.\n",
    "`Shape` inherits from `ABC`;\n",
    "therefore, `Shape` is abstract,\n",
    "meaning we will never create an instance of it.\n",
    "Instead, we subclass `Shape` and create instances of the subclasses.\n",
    "\n",
    "What happens when we try to create an instance of `Shape`?"
   ]
  },
  {
   "cell_type": "code",
   "execution_count": null,
   "metadata": {},
   "outputs": [],
   "source": [
    "# Uncomment the next line to try to create a Shape.\n",
    "# x = Shape()"
   ]
  },
  {
   "cell_type": "markdown",
   "metadata": {},
   "source": [
    "`Shape` has two methods,\n",
    "`__init__`, the class *constructor*,\n",
    "and `calculate_area`,\n",
    "a worker.\n",
    "Both have the `@abstractmethod` [decorator](https://docs.python.org/3/glossary.html#term-decorator),\n",
    "so they're also abstract and can't be called directly.\n",
    "Instead, they're *overridden* in subclasses.\n",
    "The constructor is called when we create an instance of a class--we never call `__init__` directly,\n",
    "whether or not it's abstract.\n",
    "In the signatures of the two methods,\n",
    "we're using [type hints](https://docs.python.org/3/library/typing.html).\n",
    "This is a choice;\n",
    "they're useful, but not necessary.\n",
    "\n",
    "Within a class definition,\n",
    "the variable *self* is used to define and access attributes and methods.\n",
    "In the constructor,\n",
    "we set up four attributes of a shape: `x`, `y`, `n_sides`, and `area`.\n",
    "Since we don't know how to calculate the area of a generic shape,\n",
    "we leave the `calculate_area` method empty.\n",
    "Subclasses of `Shape` will implement `calculate_area` using a formula for the particular shape."
   ]
  },
  {
   "cell_type": "markdown",
   "metadata": {},
   "source": [
    "### Circle"
   ]
  },
  {
   "cell_type": "markdown",
   "metadata": {},
   "source": [
    "A circle is a shape.\n",
    "Here's one way to define a `Circle` class."
   ]
  },
  {
   "cell_type": "code",
   "execution_count": null,
   "metadata": {
    "tags": []
   },
   "outputs": [],
   "source": [
    "class Circle(Shape):\n",
    "    def __init__(self, center: tuple = (1.0, 1.0), radius: float = 1.0) -> None:\n",
    "        self.c = center\n",
    "        self.r = radius\n",
    "        theta = np.linspace(0.0, 2 * np.pi, 100)\n",
    "        x = self.c[0] + self.r * np.cos(theta)\n",
    "        y = self.c[1] + self.r * np.sin(theta)\n",
    "        super().__init__(x, y)\n",
    "\n",
    "    def calculate_area(self) -> None:\n",
    "        self.area = np.pi * self.r**2"
   ]
  },
  {
   "cell_type": "markdown",
   "metadata": {},
   "source": [
    "`Circle` is subclassed from `Shape`,\n",
    "so it automatically inherits all of the `Shape`\n",
    "attributes (`x`, `y`, `n_sides`, and `area`)\n",
    "and\n",
    "methods (`__init__` and `calculate_area`).\n",
    "\n",
    "We can choose how to create a `Circle`.\n",
    "Here, we use a center and a radius.\n",
    "We then use the parametric equation for a circle to translate these\n",
    "into the *(x,y)* coordinate pairs expected by `Shape`.\n",
    "Since `Shape` is the *superclass* of `Circle`,\n",
    "the inherited `Shape` constructor is called with the Python builtin function *super*.\n",
    "The inherited `calculate_area` method is overridden with a formula for calculating the area of a circle.\n",
    "Both the constructor and the `calculate_area` method are now *concrete*.\n",
    "<!--\n",
    "We actually invoke `Shape` ctr because it does stuff.\n",
    "We don't bother to invoke the `calculate_area` method of the superclass.\n",
    "It has to be overridden in the subclass, though, or Python will raise an exception.\n",
    "-->"
   ]
  },
  {
   "cell_type": "markdown",
   "metadata": {},
   "source": [
    "Make an instance of `Circle`, specifying a center and radius."
   ]
  },
  {
   "cell_type": "code",
   "execution_count": null,
   "metadata": {
    "tags": []
   },
   "outputs": [],
   "source": [
    "circle = Circle(center=(1.0, 1.0), radius=2.0)"
   ]
  },
  {
   "cell_type": "markdown",
   "metadata": {},
   "source": [
    "Show the values of the circle's center and radius attributes."
   ]
  },
  {
   "cell_type": "code",
   "execution_count": null,
   "metadata": {
    "tags": []
   },
   "outputs": [],
   "source": [
    "circle.c"
   ]
  },
  {
   "cell_type": "code",
   "execution_count": null,
   "metadata": {
    "tags": []
   },
   "outputs": [],
   "source": [
    "circle.r"
   ]
  },
  {
   "cell_type": "markdown",
   "metadata": {},
   "source": [
    "What's the area of the circle?"
   ]
  },
  {
   "cell_type": "code",
   "execution_count": null,
   "metadata": {
    "tags": []
   },
   "outputs": [],
   "source": [
    "circle.calculate_area()\n",
    "circle.area"
   ]
  },
  {
   "cell_type": "markdown",
   "metadata": {},
   "source": [
    "### Rectangle"
   ]
  },
  {
   "cell_type": "markdown",
   "metadata": {},
   "source": [
    "There are many ways to define a rectangle.\n",
    "We'll specify the lower left corner,\n",
    "the width, and the height to make a `Rectangle` class.\n",
    "Like `Circle`,\n",
    "`Rectangle` inherits from `Shape`."
   ]
  },
  {
   "cell_type": "code",
   "execution_count": null,
   "metadata": {
    "tags": []
   },
   "outputs": [],
   "source": [
    "class Rectangle(Shape):\n",
    "    def __init__(\n",
    "        self, lower_left: tuple = (1.0, 1.0), width: float = 3.0, height: float = 2.0\n",
    "    ) -> None:\n",
    "        self.ll = lower_left\n",
    "        self.w = width\n",
    "        self.h = height\n",
    "        x = [self.ll[0], self.ll[0] + self.w, self.ll[0] + self.w, self.ll[0]]\n",
    "        y = [self.ll[1], self.ll[1], self.ll[1] + self.h, self.ll[1] + self.h]\n",
    "        super().__init__(x, y)\n",
    "\n",
    "    def calculate_area(self) -> None:\n",
    "        self.area = self.w * self.h"
   ]
  },
  {
   "cell_type": "markdown",
   "metadata": {},
   "source": [
    "Note that most of the work in the constructor goes into forming arguments appropriate for `Shape`,\n",
    "although creating *w* and *h* attributes for `Rectangle` helps with calculating the area."
   ]
  },
  {
   "cell_type": "markdown",
   "metadata": {},
   "source": [
    "Make a rectangle using the default argument values."
   ]
  },
  {
   "cell_type": "code",
   "execution_count": null,
   "metadata": {
    "tags": []
   },
   "outputs": [],
   "source": [
    "rectangle = Rectangle()"
   ]
  },
  {
   "cell_type": "markdown",
   "metadata": {},
   "source": [
    "Show the coordinates of the rectangle's vertices."
   ]
  },
  {
   "cell_type": "code",
   "execution_count": null,
   "metadata": {
    "tags": []
   },
   "outputs": [],
   "source": [
    "rectangle.x"
   ]
  },
  {
   "cell_type": "code",
   "execution_count": null,
   "metadata": {
    "tags": []
   },
   "outputs": [],
   "source": [
    "rectangle.y"
   ]
  },
  {
   "cell_type": "markdown",
   "metadata": {},
   "source": [
    "How many sides does the rectangle have?"
   ]
  },
  {
   "cell_type": "code",
   "execution_count": null,
   "metadata": {
    "tags": []
   },
   "outputs": [],
   "source": [
    "rectangle.n_sides"
   ]
  },
  {
   "cell_type": "markdown",
   "metadata": {},
   "source": [
    "What's the area of the rectangle?"
   ]
  },
  {
   "cell_type": "code",
   "execution_count": null,
   "metadata": {
    "tags": []
   },
   "outputs": [],
   "source": [
    "rectangle.calculate_area()\n",
    "rectangle.area"
   ]
  },
  {
   "cell_type": "markdown",
   "metadata": {},
   "source": [
    "### Square"
   ]
  },
  {
   "cell_type": "markdown",
   "metadata": {},
   "source": [
    "A square is a special case of a rectangle,\n",
    "so it makes sense to subclass `Square` from `Rectangle`.\n",
    "Inheritance makes the code really straightforward."
   ]
  },
  {
   "cell_type": "code",
   "execution_count": null,
   "metadata": {
    "tags": []
   },
   "outputs": [],
   "source": [
    "class Square(Rectangle):\n",
    "    def __init__(self, lower_left: tuple = (1.0, 1.0), width: float = 2.0) -> None:\n",
    "        super().__init__(lower_left, width, width)"
   ]
  },
  {
   "cell_type": "markdown",
   "metadata": {},
   "source": [
    "Note that the `Square` constructor simply calls the constructor of its superclass `Rectangle` with the *width* argument repeated. `Square` also doesn't need to define its own *calculate_area* method as it can use `Rectangle`'s."
   ]
  },
  {
   "cell_type": "markdown",
   "metadata": {},
   "source": [
    "Make a square:"
   ]
  },
  {
   "cell_type": "code",
   "execution_count": null,
   "metadata": {
    "tags": []
   },
   "outputs": [],
   "source": [
    "square = Square()"
   ]
  },
  {
   "cell_type": "markdown",
   "metadata": {},
   "source": [
    "What are the coordinates of the square's vertices?"
   ]
  },
  {
   "cell_type": "code",
   "execution_count": null,
   "metadata": {
    "tags": []
   },
   "outputs": [],
   "source": [
    "for coordinate in zip(square.x, square.y):\n",
    "    print(coordinate)"
   ]
  },
  {
   "cell_type": "markdown",
   "metadata": {},
   "source": [
    "What's the area of the square?"
   ]
  },
  {
   "cell_type": "code",
   "execution_count": null,
   "metadata": {
    "tags": []
   },
   "outputs": [],
   "source": [
    "square.calculate_area()\n",
    "square.area"
   ]
  },
  {
   "cell_type": "markdown",
   "metadata": {},
   "source": [
    "## Exercises"
   ]
  },
  {
   "cell_type": "markdown",
   "metadata": {},
   "source": [
    "Two suggestions:\n",
    "\n",
    "1. Write a `Triangle` class. (How about a `Hexagon`?!)\n",
    "1. Write code that uses Matplotlib to display an arbitrary `Shape`."
   ]
  },
  {
   "cell_type": "markdown",
   "metadata": {},
   "source": [
    "## Summary"
   ]
  },
  {
   "cell_type": "markdown",
   "metadata": {},
   "source": [
    "It requires time to become adept at object-oriented programming,\n",
    "but the time is usually well-spent\n",
    "because code (think model code!) that is developed with OOP techniques\n",
    "tends to be more robust and easier to test, maintain, and extend.\n",
    "\n",
    "The concepts from this lesson are explored further in a recent CSDMS [webinar](https://youtu.be/dLrahDArm4w)\n",
    "by Benjamin Campforts and Mark Piper.\n",
    "You can find the slides used for the webinar [here](https://github.com/csdms/level-up/blob/master/info/Level-3-Object-oriented-Programming.pdf),\n",
    "and a more elaborate example [here](https://github.com/BCampforts/python_corona_simulation)\n",
    "(forked from [@paulvangentcom](https://github.com/paulvangentcom/python_corona_simulation))."
   ]
  },
  {
   "cell_type": "markdown",
   "metadata": {},
   "source": [
    "The table below summarizes the OOP terms used in this lesson.\n",
    "\n",
    "| Term | Description |\n",
    "| ---- | ----------- |\n",
    "| object      | a variable that contains its own data + functions that act on the data |\n",
    "| class       | the programming structure that defines what goes into an object |\n",
    "| attribute   | data associated with an object |\n",
    "| method      | a function that belongs to an object |\n",
    "| instance    | synonym for object |\n",
    "| constructor | the function called when an object is created |\n",
    "| inheritance | the mechanism for deriving a new class from an existing class|\n",
    "| subclass    | a class derived through inheritance |\n",
    "| superclass  | the parent of a class |\n",
    "| override    | when a subclass method takes precedence over the superclass method of the same name |\n",
    "| abstract    | a class or method that can't be used directly; a prototype |\n",
    "| concrete    | an implementation of an abstract class or method in a subclass |"
   ]
  }
 ],
 "metadata": {
  "kernelspec": {
   "display_name": "Ivy",
   "language": "python",
   "name": "ivy"
  },
  "language_info": {
   "codemirror_mode": {
    "name": "ipython",
    "version": 3
   },
   "file_extension": ".py",
   "mimetype": "text/x-python",
   "name": "python",
   "nbconvert_exporter": "python",
   "pygments_lexer": "ipython3",
   "version": "3.9.9"
  }
 },
 "nbformat": 4,
 "nbformat_minor": 4
}
