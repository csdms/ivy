{
 "cells": [
  {
   "cell_type": "markdown",
   "id": "3bdd9f97",
   "metadata": {},
   "source": [
    "# Libraries"
   ]
  },
  {
   "cell_type": "markdown",
   "id": "c881c4b9",
   "metadata": {},
   "source": [
    "The real power of Python comes from the libraries written for it.\n",
    "A *library* is a collection of programs that extend the base Python language.\n",
    "\n",
    "An analogy: think of the Denver Public Library [Central Library](https://en.wikipedia.org/wiki/File:Denver_Public_Library_1.jpg) building.\n",
    "It's a building. It's a beautiful building, it's functional, but it's just a building.\n",
    "The power of the Central Library is the all the books it contains, and that you can check out the books.\n",
    "Python is the building, libraries written for it are the books."
   ]
  },
  {
   "cell_type": "markdown",
   "id": "21165123",
   "metadata": {},
   "source": [
    "We'll use a few important Python libraries in the coming example(s):\n",
    "* [numpy](https://numpy.org/) -- for working with arrays of data\n",
    "* [matplotlib](https://matplotlib.org/) -- for plotting data\n",
    "* [pandas](https://pandas.pydata.org/) -- for loading and analyzing data (built on numpy and matplotlib)"
   ]
  },
  {
   "cell_type": "markdown",
   "id": "1c1db062",
   "metadata": {},
   "source": [
    "To bring a library into Python, you have to *import* it with the `import` statement.\n",
    "There are a few common forms.\n",
    "\n",
    "For example, to import numpy, you could use its full name:"
   ]
  },
  {
   "cell_type": "code",
   "execution_count": null,
   "id": "05f491a9",
   "metadata": {},
   "outputs": [],
   "source": [
    "import numpy"
   ]
  },
  {
   "cell_type": "markdown",
   "id": "c006fecd",
   "metadata": {},
   "source": [
    "After importing numpy, you can then call its `zeros` function with:"
   ]
  },
  {
   "cell_type": "code",
   "execution_count": null,
   "id": "0d8716ca",
   "metadata": {},
   "outputs": [],
   "source": [
    "a = numpy.zeros(5)\n",
    "print(a)"
   ]
  },
  {
   "cell_type": "markdown",
   "id": "269d7773",
   "metadata": {},
   "source": [
    "Alternately, you could import numpy with a nickname:"
   ]
  },
  {
   "cell_type": "code",
   "execution_count": null,
   "id": "8730ab05",
   "metadata": {},
   "outputs": [],
   "source": [
    "import numpy as np"
   ]
  },
  {
   "cell_type": "markdown",
   "id": "17700e36",
   "metadata": {},
   "source": [
    "Then, to call its `zeros` functions, use the nickname:"
   ]
  },
  {
   "cell_type": "code",
   "execution_count": null,
   "id": "8e517519",
   "metadata": {},
   "outputs": [],
   "source": [
    "b = np.zeros(5)\n",
    "print(b)"
   ]
  },
  {
   "cell_type": "markdown",
   "id": "7427d7b6",
   "metadata": {},
   "source": [
    "Some libraries are large, and it's often preferred to import submodules--or even individual programs--from the library.\n",
    "\n",
    "For example, import the `Image` function from the IPython display library:"
   ]
  },
  {
   "cell_type": "code",
   "execution_count": null,
   "id": "48964719",
   "metadata": {},
   "outputs": [],
   "source": [
    "from IPython.display import Image"
   ]
  },
  {
   "cell_type": "markdown",
   "id": "e170ec57",
   "metadata": {},
   "source": [
    "then use it to display an image:"
   ]
  },
  {
   "cell_type": "code",
   "execution_count": null,
   "id": "fda03b2b",
   "metadata": {},
   "outputs": [],
   "source": [
    "Image(filename=\"../../media/Denver_Public_Library_1.jpg\")"
   ]
  }
 ],
 "metadata": {
  "kernelspec": {
   "display_name": "Python 3 (ipykernel)",
   "language": "python",
   "name": "python3"
  },
  "language_info": {
   "codemirror_mode": {
    "name": "ipython",
    "version": 3
   },
   "file_extension": ".py",
   "mimetype": "text/x-python",
   "name": "python",
   "nbconvert_exporter": "python",
   "pygments_lexer": "ipython3",
   "version": "3.9.7"
  }
 },
 "nbformat": 4,
 "nbformat_minor": 5
}
