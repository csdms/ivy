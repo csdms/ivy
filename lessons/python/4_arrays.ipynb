{
 "cells": [
  {
   "cell_type": "markdown",
   "metadata": {},
   "source": [
    "<a href=\"https://csdms.colorado.edu\"><img style=\"float: center; width: 75%\" src=\"https://raw.githubusercontent.com/csdms/ivy/main/media/logo.png\"></a>"
   ]
  },
  {
   "cell_type": "markdown",
   "metadata": {
    "tags": []
   },
   "source": [
    "# Arrays\n",
    "\n",
    "Arrays are containers that store multiple values of the same type.\n",
    "Values in an array are stored contiguously in memory,\n",
    "which makes operations on arrays fast.\n",
    "Arrays can be mutlidimensional."
   ]
  },
  {
   "cell_type": "markdown",
   "metadata": {
    "tags": []
   },
   "source": [
    "In this lesson,\n",
    "we'll explore how to work with arrays using topographic data\n",
    "in the form of a digital elevation model.\n",
    "\n",
    "We'll use a library called NumPy."
   ]
  },
  {
   "cell_type": "markdown",
   "metadata": {
    "tags": []
   },
   "source": [
    "## NumPy\n",
    "\n",
    "NumPy is a fundamental Python package for scientific computing.\n",
    "NumPy uses a high-performance data structure known as the *n-dimensional array* or *ndarray*, a multi-dimensional array object, for efficient computation.\n",
    "Use NumPy arrays if you want to do numerical computation on a large number of data values.\n",
    "\n",
    "Import NumPy with its common nickname, `np`."
   ]
  },
  {
   "cell_type": "code",
   "execution_count": null,
   "metadata": {},
   "outputs": [],
   "source": [
    "import numpy as np"
   ]
  },
  {
   "cell_type": "markdown",
   "metadata": {},
   "source": [
    "## Exploring topographic data"
   ]
  },
  {
   "cell_type": "markdown",
   "metadata": {},
   "source": [
    "Once we’ve loaded the library, we can\n",
    "call a function inside that library to read a data file included in the Ivy coursefiles:"
   ]
  },
  {
   "cell_type": "code",
   "execution_count": null,
   "metadata": {},
   "outputs": [],
   "source": [
    "numpy.loadtxt(\"data/topo.asc\", delimiter=\",\")"
   ]
  },
  {
   "cell_type": "markdown",
   "metadata": {},
   "source": [
    "The expression `numpy.loadtxt(...)` is a function call\n",
    "that asks Python to run the function `loadtxt` that belongs to the `numpy` library.\n",
    "This dotted notation, with the syntax `thing.component`, is used\n",
    "everywhere in Python to refer to parts of things.\n",
    "\n",
    "The function call to `numpy.loadtxt` has two parameters:\n",
    "the name of the file we want to read,\n",
    "and the delimiter that separates values on a line.\n",
    "Both need to be character strings (or strings, for short)\n",
    "so we write them in quotes.\n",
    "\n",
    "Within the Jupyter Notebook, pressing Shift+Enter runs the\n",
    "commands in the selected cell. Because we haven't told iPython what to\n",
    "do with the output of `numpy.loadtxt`, the notebook just displays it on\n",
    "the screen. In this case, that output is the data we just loaded. By\n",
    "default, only a few rows and columns are shown (with `...` to omit\n",
    "elements when displaying big arrays).\n",
    "\n",
    "Our call to `numpy.loadtxt` read the file but didn’t save it to memory.\n",
    "In order to access the data, we need to assign the values to a variable.\n",
    "A variable is just a name that refers to an object. Python’s variables\n",
    "must begin with a letter and are case sensitive. We can assign a\n",
    "variable name to an object using `=`."
   ]
  },
  {
   "cell_type": "markdown",
   "metadata": {},
   "source": [
    "## Objects and their names\n",
    "\n",
    "What happens when a function is called but the output is not assigned to\n",
    "a variable is a bit more complicated than simply not saving it. The call\n",
    "to `numpy.loadtxt` read the file and created an object in memory that\n",
    "contains the data, but because we didn't assign it to a variable name,\n",
    "there is no way for us to call this object. \n",
    "\n",
    "Let’s re-run numpy.loadtxt and assign the output to a variable name:"
   ]
  },
  {
   "cell_type": "code",
   "execution_count": null,
   "metadata": {},
   "outputs": [],
   "source": [
    "topo = numpy.loadtxt(\"data/topo.asc\", delimiter=\",\")"
   ]
  },
  {
   "cell_type": "markdown",
   "metadata": {},
   "source": [
    "This command doesn’t produce any visible output. If we want to see the\n",
    "data, we can print the variable’s value with the command `print`:"
   ]
  },
  {
   "cell_type": "code",
   "execution_count": null,
   "metadata": {},
   "outputs": [],
   "source": [
    "print(topo)"
   ]
  },
  {
   "cell_type": "markdown",
   "metadata": {},
   "source": [
    "Using its variable name, we can see that [type](reference.html#type) of object the variable:"
   ]
  },
  {
   "cell_type": "code",
   "execution_count": null,
   "metadata": {},
   "outputs": [],
   "source": [
    "type(topo)"
   ]
  },
  {
   "cell_type": "markdown",
   "metadata": {},
   "source": [
    "The function `type` tells us that the variable name `topo` currently\n",
    "points to an N-dimensional array created by the NumPy library. We can also get the shape of the\n",
    "array:"
   ]
  },
  {
   "cell_type": "code",
   "execution_count": null,
   "metadata": {},
   "outputs": [],
   "source": [
    "topo.shape"
   ]
  },
  {
   "cell_type": "markdown",
   "metadata": {},
   "source": [
    "This tells us that `topo` has 500 rows and 500 columns. The file\n",
    "we imported contains elevation data (in meters, 2 degree spacing) for an\n",
    "area along the Front Range of Colorado, so the area that this array represents is 1 km x 1 km.\n",
    "\n",
    "The object of\n",
    "type `numpy.ndarray` that the variable `topo` is assigned to contains the values of the array\n",
    "as well as some extra information about the array. These are the members or attributes of the object, and they\n",
    "describe the data in the same way an adjective describes a noun. The\n",
    "command `topo.shape` calls the `shape` attribute of the object with the variable name\n",
    "`topo` that describes its dimensions. We use the same dotted notation\n",
    "for the attributes of objects that we use for the functions inside\n",
    "libraries because they have the same part-and-whole relationship."
   ]
  },
  {
   "cell_type": "markdown",
   "metadata": {},
   "source": [
    " ## Who's who in the memory\n",
    "\n",
    " You can use the `whos` command at any time to see what variables you have created and what modules you have loaded into the computers memory. As this is an IPython command, it will only work if you are in an iPython\n",
    " terminal or the Jupyter Notebook.\n",
    " \n",
    " Try it, check what is currently on your memory"
   ]
  },
  {
   "cell_type": "code",
   "execution_count": null,
   "metadata": {
    "tags": [
     "skip-flake8"
    ]
   },
   "outputs": [],
   "source": [
    "whos"
   ]
  },
  {
   "cell_type": "markdown",
   "metadata": {},
   "source": [
    "## Indexing\n",
    "\n",
    "We can access individual values in an array using an [index](reference.html#index) in square brackets:"
   ]
  },
  {
   "cell_type": "code",
   "execution_count": null,
   "metadata": {},
   "outputs": [],
   "source": [
    "print(\"elevation at the corner of topo:\", topo[0, 0], \"meters\")"
   ]
  },
  {
   "cell_type": "code",
   "execution_count": null,
   "metadata": {},
   "outputs": [],
   "source": [
    "print(\"elevation at a point in topo:\", topo[137, 65], \"meters\")"
   ]
  },
  {
   "cell_type": "markdown",
   "metadata": {},
   "source": [
    "When referring to entries in a two dimensional array, the indices are\n",
    "ordered `[row,column]`. The expression `topo[137, 65]` should not surprise you but `topo[0,0]` might. Programming languages like Fortran and MATLAB\n",
    "start counting at 1 because that’s what (most) humans have done for\n",
    "thousands of years. Languages in the C family (including C++, Java,\n",
    "Perl, and Python) count from 0 because that’s simpler for computers to\n",
    "do. So if we have an M×N array in Python, the indices go from 0 to M-1\n",
    "on the first axis (rows) and 0 to N-1 on the second (columns). In\n",
    "MATLAB, the same array (or matrix) would have indices that go from 1 to\n",
    "M and 1 to N. Zero-based indexing takes a bit of getting used to, but\n",
    "one way to remember the rule is that the index is how many steps we have\n",
    "to take from the start to get to the item we want.\n",
    "\n",
    "Python also allows for **negative indices** to refer to the position of\n",
    "elements with respect to the end of each axis. An index of -1 refers to\n",
    "the last item in a list, -2 is the second to last, and so on. Since\n",
    "index `[0,0]` is the upper left corner of an array, index `[-1,-1]`\n",
    "therefore the lower right corner of the array. \n",
    "\n",
    "Print the lower right corner of the `topo` array: "
   ]
  },
  {
   "cell_type": "code",
   "execution_count": null,
   "metadata": {},
   "outputs": [],
   "source": [
    "print(topo[-1, -1])"
   ]
  },
  {
   "cell_type": "markdown",
   "metadata": {
    "attributes": {
     "classes": [
      "output"
     ],
     "id": ""
    }
   },
   "source": [
    "Print the upper left corner of the `topo` array: "
   ]
  },
  {
   "cell_type": "code",
   "execution_count": null,
   "metadata": {
    "attributes": {
     "classes": [
      "output"
     ],
     "id": ""
    }
   },
   "outputs": [],
   "source": [
    "print(topo[0, 0])"
   ]
  },
  {
   "cell_type": "markdown",
   "metadata": {},
   "source": [
    "> ## In the Corner\n",
    ">\n",
    "> What may also surprise you is that when Python displays an array,\n",
    "> it shows the element with index `[0, 0]` in the upper left corner\n",
    "> rather than the lower left.\n",
    "> This is consistent with the way mathematicians draw matrices,\n",
    "> but different from the Cartesian coordinates.\n",
    "> The indices are (row, column) instead of (column, row) for the same reason,\n",
    "> which can be confusing when plotting data.\n",
    "\n",
    "## Slicing\n",
    "\n",
    "A command like `topo[0,0]` selects a single element in the array `topo`.\n",
    "Indices can also be used to [slice](reference.html#slice) sections of the array. For example, we\n",
    "can select the top left quarter of the array like this:"
   ]
  },
  {
   "cell_type": "code",
   "execution_count": null,
   "metadata": {},
   "outputs": [],
   "source": [
    "print(topo[0:5, 0:5])"
   ]
  },
  {
   "cell_type": "markdown",
   "metadata": {},
   "source": [
    "The slice `[0:5]` means \"Start at index 0 and go along the axis up to,\n",
    "but not including, index 5\".\n",
    "\n",
    "We don’t need to include the upper or lower bound of the slice if we\n",
    "want to go all the way to the edge. If we don’t include the lower bound,\n",
    "Python uses 0 by default; if we don’t include the upper bound, the slice\n",
    "runs to the end of the axis. If we don’t include either (i.e., if we\n",
    "just use ‘:’), the slice includes everything. \n",
    "\n",
    "Print out the first 5 rows and last 6 columns op the topo array:"
   ]
  },
  {
   "cell_type": "code",
   "execution_count": null,
   "metadata": {},
   "outputs": [],
   "source": [
    "print(topo[:5, -6:])"
   ]
  },
  {
   "cell_type": "markdown",
   "metadata": {},
   "source": [
    " ## Point elevations: Practice your skills \n",
    " \n",
    " Use indexing to answer the following questions and check your answers\n",
    " against the data visualization:\n",
    " \n",
    " * Is the NW corner of the region higher than the SW corner? What's the elevation difference? You can assume the NW corner to be in the upper left corner of the matrix (NW of at [0,0], not the Cartesian NW, see also (In the Corner)\n",
    " * What's the elevation difference between the NE corner and the SE corner?\n",
    " * What's the elevation at the center of the region shown in the array?"
   ]
  },
  {
   "cell_type": "code",
   "execution_count": null,
   "metadata": {},
   "outputs": [],
   "source": [
    "print(topo[0, 0] - topo[-1, 0])\n",
    "print(topo.shape[0] / 2)\n",
    "print(topo[int(topo.shape[0] / 2), int(topo.shape[1] / 2)])"
   ]
  },
  {
   "cell_type": "markdown",
   "metadata": {},
   "source": [
    "## Numerical operations on arrays\n",
    "\n",
    "We can perform basic mathematical operations on each individual element of a NumPy array. We can create a new array with elevations in feet:"
   ]
  },
  {
   "cell_type": "code",
   "execution_count": null,
   "metadata": {},
   "outputs": [],
   "source": [
    "topo_in_feet = topo * 3.2808\n",
    "print(\"Elevation in meters:\", topo[0, 0])\n",
    "print(\"Elevation in feet:\", topo_in_feet[0, 0])"
   ]
  },
  {
   "cell_type": "markdown",
   "metadata": {},
   "source": [
    "Arrays of the same size can be used together in arithmatic operations:"
   ]
  },
  {
   "cell_type": "code",
   "execution_count": null,
   "metadata": {},
   "outputs": [],
   "source": [
    "double_topo = topo + topo\n",
    "print(\"Double topo:\", double_topo[0, 0], \"meters\")"
   ]
  },
  {
   "cell_type": "markdown",
   "metadata": {},
   "source": [
    "We can also perform statistical operations on arrays:"
   ]
  },
  {
   "cell_type": "code",
   "execution_count": null,
   "metadata": {},
   "outputs": [],
   "source": [
    "print(\"Mean elevation:\", topo.mean(), \"meters\")"
   ]
  },
  {
   "cell_type": "markdown",
   "metadata": {},
   "source": [
    "> ## Methods vs. attributes\n",
    "> \n",
    "> `mean` is a method that belongs to the array `topo`, i.e., it is a\n",
    "> function `topo` can inherently call just because of its type.\n",
    "> When we call `topo.mean()`, we are asking `topo` to calculate its mean\n",
    "> value. Because it is a function, we need to include parenthesis in the\n",
    "> command. Because it is an `np.array`, `topo` also has an attribute called `shape`, but it doesn't include parenthesis because\n",
    "> attributes are objects, not functions.\n",
    "\n",
    "Python will kindly tell us if we mix up the parentheses:\n",
    " "
   ]
  },
  {
   "cell_type": "code",
   "execution_count": null,
   "metadata": {},
   "outputs": [],
   "source": [
    "topo.mean"
   ]
  },
  {
   "cell_type": "markdown",
   "metadata": {},
   "source": [
    "NumPy arrays have many other useful methods. Print the min and max elevation of the topo dataset"
   ]
  },
  {
   "cell_type": "code",
   "execution_count": null,
   "metadata": {},
   "outputs": [],
   "source": [
    "print(\"Highest elevation:\", topo.max(), \"meters\")\n",
    "print(\"Lowest elevation:\", topo.min(), \"meters\")"
   ]
  },
  {
   "cell_type": "markdown",
   "metadata": {},
   "source": [
    "We can also call methods on slices of the array:"
   ]
  },
  {
   "cell_type": "code",
   "execution_count": null,
   "metadata": {},
   "outputs": [],
   "source": [
    "half_len = int(topo.shape[0] / 2)\n",
    "\n",
    "print(\"Highest elevation of NW quarter:\", topo[:half_len, :half_len].max(), \"meters\")\n",
    "\n",
    "print(\"Highest elevation of SE quarter:\", topo[half_len:, half_len:].max(), \"meters\")"
   ]
  },
  {
   "cell_type": "markdown",
   "metadata": {},
   "source": [
    "Methods can also be used along individual axes (rows or columns) of an\n",
    "array. If we want to see how the mean elevation changes with longitude\n",
    "(E-W), we can use the method along `axis=0`:"
   ]
  },
  {
   "cell_type": "code",
   "execution_count": null,
   "metadata": {},
   "outputs": [],
   "source": [
    "print(topo.mean(axis=0))"
   ]
  },
  {
   "cell_type": "markdown",
   "metadata": {},
   "source": [
    "To see how the mean elevation changes with latitude (N-S), we can use\n",
    "`axis=1`:"
   ]
  },
  {
   "cell_type": "code",
   "execution_count": null,
   "metadata": {},
   "outputs": [],
   "source": [
    "print(topo.mean(axis=1))"
   ]
  }
 ],
 "metadata": {
  "celltoolbar": "Tags",
  "kernelspec": {
   "display_name": "Python 3 (ipykernel)",
   "language": "python",
   "name": "python3"
  },
  "language_info": {
   "codemirror_mode": {
    "name": "ipython",
    "version": 3
   },
   "file_extension": ".py",
   "mimetype": "text/x-python",
   "name": "python",
   "nbconvert_exporter": "python",
   "pygments_lexer": "ipython3",
   "version": "3.9.9"
  }
 },
 "nbformat": 4,
 "nbformat_minor": 4
}
