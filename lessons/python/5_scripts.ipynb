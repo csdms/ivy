{
 "cells": [
  {
   "cell_type": "markdown",
   "metadata": {},
   "source": [
    "<a href=\"https://csdms.colorado.edu\"><img style=\"float: center; width: 75%\" src=\"https://raw.githubusercontent.com/csdms/ivy/main/media/logo.png\"></a>"
   ]
  },
  {
   "cell_type": "markdown",
   "metadata": {},
   "source": [
    "## Scripts\n",
    "\n",
    "We start with Jupyter Notebooks in these lessons because they are a friendly environment to try out individual commands and write short scripts. The notebooks, however, can only run inside their specific graphical environment. Stand-alone Python programs are text files with the extension `.py` that are run from the command line or within an IDE (Integrated Development Environment) such as Spyder. Your Python code has to be in `.py` files to run on an HPC.\n",
    "\n",
    "Notebooks are valuable in the early stages of your code development workflow, where you gradually build your program by tinkering with the code and exploring the data. However, you should quickly move your prototype code into stand-alone scripts that are platform independent and better suited for version control.\n",
    "\n",
    "Before we dive further into Python, we are going to convert the scripts we wrote in the NumPy lesson into stand-alone Python scripts that can run from the command line. We will first run this script locally (on your own computer).\n"
   ]
  },
  {
   "cell_type": "markdown",
   "metadata": {},
   "source": [
    "Let's look back at the script we wrote earlier that plots the West-to-East topographic profiles across our data. You should copy the code from the Jupyter notebook you were working in before to a new notebook to make sure nothing sneaks into the script:"
   ]
  },
  {
   "cell_type": "code",
   "execution_count": null,
   "metadata": {},
   "outputs": [],
   "source": [
    "import numpy as np\n",
    "import matplotlib.pyplot as plt\n",
    "\n",
    "\n",
    "topo = np.loadtxt(\"data/topo.asc\", delimiter=\",\")\n",
    "plt.plot(topo[0, :], label=\"North\")\n",
    "plt.plot(topo[-1, :], \"r--\", label=\"South\")\n",
    "plt.plot(topo[int(len(topo) / 2), :], \"g:\", linewidth=3, label=\"Mid\")\n",
    "plt.title(\"Topographic profiles\")\n",
    "plt.ylabel(\"Elevation (m)\")\n",
    "plt.xlabel(\"<-- West    East -->\")\n",
    "plt.legend(loc=\"lower left\")\n",
    "plt.show()"
   ]
  },
  {
   "cell_type": "markdown",
   "metadata": {},
   "source": [
    "We can convert this code into a command-line Python script in two different ways:\n",
    "\n",
    "* Export the Jupyter Notebook as a `.py` file *File -> Save and Export Notebook As... -> Executable Script*\n",
    "* Copy the script and paste it into a simple text file (using a text editor like TextWrangler or Notepad++) and save the file with a `.py` extension\n",
    "\n",
    "Convert your Jupyter Notebook into a `.py` file using whichever method is easier. Call your file **topo_profiler.py** and place it in the same directory as the folder `data` where the file **topo.asc** lives. Then open the file **topo_profiler.py** in your chosen text editor. Most code-friendly text editors will color the text in the file according to the language they are written in!\n",
    "\n",
    "If you exported the file through the JupyterLab menu, any Markdown (text) cells should be prefixed with a `#`. These are comments and the Python interpreter will not read them. You should also see some lines that look like this: `# In[ ]:`. These are line numbers from the Jupyter notebook and are also commented out.\n",
    "\n",
    "Open a new terminal and navigate (using `cd`, `ls` and `pwd`) to the directory that contains your **topo_profiler.py** file. To run the script from the command line, type:"
   ]
  },
  {
   "cell_type": "markdown",
   "metadata": {},
   "source": [
    "```\n",
    "python topo_profiler.py\n",
    "```"
   ]
  },
  {
   "cell_type": "markdown",
   "metadata": {},
   "source": [
    "Python opens a window that shows the figure we could see inside the notebook. There are some tools along the bottom of this window that you can use to navigate and save the figure.\n",
    "\n",
    "Notice that the Bash window doesn't show a `$` before the text prompt while the figure window is open. This shows that Bash is \"busy\" and won't respond until you close the figure (you can open a new Bash window if you need to run something while the figure is open). The Python code is also paused -- it will wait until the figure is closed to continue past the `plt.show()` line!"
   ]
  },
  {
   "cell_type": "markdown",
   "metadata": {},
   "source": [
    "## Plot multiple figures"
   ]
  },
  {
   "cell_type": "markdown",
   "metadata": {},
   "source": [
    "Close the figure window. The Python script will continue running until it reaches the end and exits. You should now have the `$` prompt back in your Bash window. This means that you can run commands again.\n",
    "\n",
    "If you want your script to open multiple figure windows at the same time, you need to number your figures using `plt.figure()`. Let's modify the script so it makes separate figures for each profile instead of a single one. We only need call `plt.show()` once, after all of the figures have been defined:"
   ]
  },
  {
   "cell_type": "code",
   "execution_count": null,
   "metadata": {},
   "outputs": [],
   "source": [
    "import numpy as np\n",
    "import matplotlib.pyplot as plt\n",
    "\n",
    "\n",
    "topo = np.loadtxt(\"data/topo.asc\", delimiter=\",\")\n",
    "\n",
    "plt.figure(0)\n",
    "plt.plot(topo[0, :], label=\"North\")\n",
    "\n",
    "plt.figure(1)\n",
    "plt.plot(topo[-1, :], \"r--\", label=\"South\")\n",
    "\n",
    "plt.figure(2)\n",
    "plt.plot(topo[int(len(topo) / 2), :], \"g:\", linewidth=3, label=\"Mid\")\n",
    "\n",
    "plt.title(\"Topographic profiles\")\n",
    "plt.ylabel(\"Elevation (m)\")\n",
    "plt.xlabel(\"<-- West    East -->\")\n",
    "plt.legend(loc=\"lower left\")\n",
    "\n",
    "plt.show()"
   ]
  },
  {
   "cell_type": "markdown",
   "metadata": {},
   "source": [
    "Only figure 2 has a title, legend, and axis labels because they are defined only once, while figure 2 is active.\n",
    "\n",
    "Go back into the script and change it so it only produces one plot with all three profiles, as it did before. Run it again to check.\n",
    "\n",
    "For a short script running locally, we can easily use the buttons in the figure window to save our figure to a file. However, this is not practical if the script takes a long time to run or if we have to run multiple scripts in a row. It is also not always possible to interact (or even see!) the figure window when running code on a remote server. To save the figure automatically, we can replace `plt.show()` by the Matplotlib `savefig` function:"
   ]
  },
  {
   "cell_type": "code",
   "execution_count": null,
   "metadata": {},
   "outputs": [],
   "source": [
    "# plt.show()\n",
    "plt.savefig(\"./media/Your_profiles.png\")"
   ]
  },
  {
   "cell_type": "markdown",
   "metadata": {},
   "source": [
    "Instead of opening a figure window, your script will create a new file inside the `data` directory and run continuously to the end of the script."
   ]
  },
  {
   "cell_type": "markdown",
   "metadata": {},
   "source": [
    "## Plotting memory buffer\n",
    "\n",
    "You might want your script to save the figure and still show it as an interactive figure window. Every plotting command in our script adds data to a memory buffer. Waiting until all lines are plotted before showing the figure is more efficient than repeatedly redrawing the figure. The function `plt.close()` (or closing the interactive figure window) empties that buffer. If we want to save the figure, we need to include the `plt.savefig()` command before the memory buffer empties.\n",
    "\n",
    "If your script creates and saves multiple figures, it is often a good idea to include `plt.close()` after `plt.savefig()` to force the memory buffer to empty and let your script run faster."
   ]
  },
  {
   "cell_type": "markdown",
   "metadata": {},
   "source": [
    "## Takehome (1)\n",
    "Try this in your own conda evironment. To do so, you will have to (i) clone the ivy repo using git and (ii) create and environment using conda. To do so, execute the following steps."
   ]
  },
  {
   "cell_type": "markdown",
   "metadata": {},
   "source": [
    "Assuming that you have git and conda installed, create a new ivy conda environment using the following commands. Before you clone the repo, make sure to navigate (cd) to a folder where you would like to store it and can easily find it back: "
   ]
  },
  {
   "cell_type": "markdown",
   "metadata": {},
   "source": [
    "```bash\n",
    "$ git clone https://github.com/csdms/ivy.git\n",
    "$ cd ivy\n",
    "$ conda env create -f environment.yml\n",
    "$ conda activate ivy\n",
    "```"
   ]
  },
  {
   "cell_type": "markdown",
   "metadata": {},
   "source": [
    "## Takehome (2)\n",
    "Try this on the terminal in the JupyterHub. "
   ]
  },
  {
   "cell_type": "code",
   "execution_count": null,
   "metadata": {},
   "outputs": [],
   "source": []
  }
 ],
 "metadata": {
  "kernelspec": {
   "display_name": "Python 3 (ipykernel)",
   "language": "python",
   "name": "python3"
  },
  "language_info": {
   "codemirror_mode": {
    "name": "ipython",
    "version": 3
   },
   "file_extension": ".py",
   "mimetype": "text/x-python",
   "name": "python",
   "nbconvert_exporter": "python",
   "pygments_lexer": "ipython3",
   "version": "3.9.7"
  }
 },
 "nbformat": 4,
 "nbformat_minor": 4
}
