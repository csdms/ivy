{
 "cells": [
  {
   "cell_type": "markdown",
   "metadata": {},
   "source": [
    "<a href=\"https://csdms.colorado.edu\"><img style=\"float: center; width: 75%\" src=\"https://raw.githubusercontent.com/csdms/ivy/main/media/logo.png\"></a>"
   ]
  },
  {
   "cell_type": "markdown",
   "metadata": {
    "tags": []
   },
   "source": [
    "# Data visualization\n",
    "\n",
    "The digital elevation model data used in the [Arrays](./4_arrays.ipynb) lesson is handy for exploring visualization techniques in Python.\n",
    "Let's visualize the data with a library called Matplotlib."
   ]
  },
  {
   "cell_type": "markdown",
   "metadata": {
    "tags": []
   },
   "source": [
    "## Read the data\n",
    "\n",
    "First, use the NumPy `loadtxt` function to read the digital elevation dataset. "
   ]
  },
  {
   "cell_type": "code",
   "execution_count": null,
   "metadata": {},
   "outputs": [],
   "source": [
    "import numpy\n",
    "\n",
    "topo = numpy.loadtxt(\"data/topo.asc\", delimiter=\",\")"
   ]
  },
  {
   "cell_type": "markdown",
   "metadata": {},
   "source": [
    "Recall the type and shape of the resulting NumPy array."
   ]
  },
  {
   "cell_type": "code",
   "execution_count": null,
   "metadata": {
    "tags": []
   },
   "outputs": [],
   "source": [
    "type(topo)"
   ]
  },
  {
   "cell_type": "code",
   "execution_count": null,
   "metadata": {
    "tags": []
   },
   "outputs": [],
   "source": [
    "topo.ndim"
   ]
  },
  {
   "cell_type": "code",
   "execution_count": null,
   "metadata": {},
   "outputs": [],
   "source": [
    "topo.shape"
   ]
  },
  {
   "cell_type": "markdown",
   "metadata": {},
   "source": [
    "This tells us that `topo` has 500 rows and 500 columns. The file\n",
    "we imported contains elevation data (in meters, 2 degree spacing) for an\n",
    "area along the Front Range of Colorado, so the area that this array represents is 1 km x 1 km."
   ]
  },
  {
   "cell_type": "markdown",
   "metadata": {},
   "source": [
    "Rasters are arrays of values.\n",
    "In the case of DEMs, those values are elevations.\n",
    "It's very hard to get a good sense of what this landscape looks like by looking directly at the data.\n",
    "This information is better conveyed through plots and graphics."
   ]
  },
  {
   "cell_type": "markdown",
   "metadata": {},
   "source": [
    "## Matplotlib\n",
    " \n",
    "Data visualization deserves an entire lecture (or course) of its own,\n",
    "but we can explore a few features of Python's [Matplotlib](https://matplotlib.org/) library here.\n",
    "While there is no official plotting library in Python,\n",
    "this package is the de facto standard.\n",
    "\n",
    "We start by importing the `pyplot` module from the Matplotlib library using its common nickname `plt`."
   ]
  },
  {
   "cell_type": "code",
   "execution_count": null,
   "metadata": {},
   "outputs": [],
   "source": [
    "from matplotlib import pyplot as plt"
   ]
  },
  {
   "cell_type": "markdown",
   "metadata": {},
   "source": [
    "We can use the function `imshow` within `matplotlib.pyplot` to display an array as a 2D\n",
    "image."
   ]
  },
  {
   "cell_type": "code",
   "execution_count": null,
   "metadata": {},
   "outputs": [],
   "source": [
    "plt.imshow(topo)"
   ]
  },
  {
   "cell_type": "markdown",
   "metadata": {},
   "source": [
    "## Plotting smaller regions \n",
    " \n",
    "Use the `imshow` function to make one plot showing the northern half of the region and another plot showing the southern half."
   ]
  },
  {
   "cell_type": "code",
   "execution_count": null,
   "metadata": {},
   "outputs": [],
   "source": [
    "plt.figure()\n",
    "plt.imshow(topo[: int(topo.shape[0] / 2), :])\n",
    "plt.figure()\n",
    "plt.imshow(topo[int(topo.shape[0] / 2) :, :])"
   ]
  },
  {
   "cell_type": "markdown",
   "metadata": {},
   "source": [
    "## Plotting, take two\n",
    " \n",
    "It's hard to get a sense of how the topography changes across the\n",
    "landscape from tables of numbers. A simpler way to display\n",
    "this information is with line plots.\n",
    "\n",
    "We are again going to use the `matplotlib` package for data\n",
    "visualization. Since we imported the `matplotlib.pyplot` library once\n",
    "already, those tools are available and can be called within Python.\n",
    "\n",
    "We use the function `plot` to create two basic line plots of the\n",
    "topography:"
   ]
  },
  {
   "cell_type": "code",
   "execution_count": null,
   "metadata": {},
   "outputs": [],
   "source": [
    "plt.plot(topo[-1, :], \"r--\")\n",
    "plt.title(\"Topographic profile, southern edge\")\n",
    "plt.ylabel(\"Elevation (m)\")\n",
    "plt.xlabel(\"<-- West    East -->\")\n",
    "plt.show()\n",
    "\n",
    "# Northern edge\n",
    "plt.plot(topo[0, :])\n",
    "plt.title(\"Topographic profile, northern edge\")\n",
    "plt.ylabel(\"Elevation\")\n",
    "plt.xlabel(\"<-- West   East-->\")\n",
    "plt.show()\n",
    "\n",
    "# Can you plot the southern edge\n",
    "plt.plot(topo[0, -1])\n",
    "plt.title(\"Topographic profile, southern edge\")\n",
    "plt.ylabel(\"Elevation\")\n",
    "plt.xlabel(\"<-- West   East-->\")\n",
    "plt.show()\n",
    "\n",
    "# And the mean elevation changes with longitude (E-W)?\n",
    "plt.plot(topo.mean(axis=0))\n",
    "plt.title(\"Topographic profile, mean elevations\")\n",
    "plt.ylabel(\"Elevation\")\n",
    "plt.xlabel(\"<-- West   East-->\")\n",
    "plt.show()"
   ]
  },
  {
   "cell_type": "markdown",
   "metadata": {},
   "source": [
    "To better compare these profiles, we can plot them as separate lines in\n",
    "a single figure. Note that this is the default configuration in python 3. Unless a new figure instance is opened or the existing figure is shown (`plt.show`), all subsequent calls to `plt.plot` will use the same axes (until it reaches `plt.show()`). The argument `label=` holds the label that will appear in the legend.Try it"
   ]
  },
  {
   "cell_type": "code",
   "execution_count": null,
   "metadata": {},
   "outputs": [],
   "source": [
    "plt.plot(topo[0, :], label=\"North\")\n",
    "plt.plot(topo[-1, :], \"r--\", label=\"South\")\n",
    "plt.plot(topo[int(len(topo) / 2), :], \"g:\", linewidth=3, label=\"Mid\")\n",
    "\n",
    "plt.title(\"Topographic profiles\")\n",
    "plt.ylabel(\"Elevation (m)\")\n",
    "plt.xlabel(\"<-- West    East -->\")\n",
    "plt.legend(loc=\"lower left\")\n",
    "\n",
    "plt.show()"
   ]
  },
  {
   "cell_type": "markdown",
   "metadata": {},
   "source": [
    "## Practice your skills: Make your own plots \n",
    "\n",
    "Create a single plot showing how the maximum, minimum, and mean elevation changes with longitude.\n",
    "Label the axes and include a title for each of the  plots (Hint: use `axis=0`). Create a legend."
   ]
  },
  {
   "cell_type": "code",
   "execution_count": null,
   "metadata": {},
   "outputs": [],
   "source": [
    "plt.plot(topo.min(axis=0), label=\"Min\")\n",
    "plt.plot(topo.max(axis=0), \"r--\", label=\"Max\")\n",
    "plt.plot(topo.mean(axis=0), \"g:\", linewidth=3, label=\"mean\")\n",
    "\n",
    "plt.title(\"Topographic profiles\")\n",
    "plt.ylabel(\"Elevation (m)\")\n",
    "plt.xlabel(\"<-- West    East -->\")\n",
    "plt.legend(loc=\"lower left\")\n",
    "\n",
    "plt.show()"
   ]
  },
  {
   "cell_type": "markdown",
   "metadata": {},
   "source": [
    " ## Practice your skills: Subplots \n",
    "\n",
    " We often want to arrange separate plots in layouts with multiple rows\n",
    " and columns. The script below uses subplots to show the elevation\n",
    " profile at the western edge, the mid longitude, and eastern edge of\n",
    " the region. Subplots can be a little weird because they require the\n",
    " axes to be defined before plotting. Type (don't copy-past!) the code\n",
    " below to get a sense of how it works.\n",
    " \n",
    "This script uses a number of new commands. The function `plt.figure()`\n",
    "creates a space into which we will place the three plots. The parameter\n",
    "`figsize` tells Python how big to make this space. Each subplot is\n",
    "placed into the figure using the `subplot` command. The `subplot`\n",
    "command takes 3 parameters: the first denotes the total number of rows\n",
    "of subplots in the figure, the second is the total number of columns of\n",
    "subplots in the figure, and the final parameters identifies the\n",
    "position of the subplot in the grid. The axes of each subplot are\n",
    "called with different variable (axes1, axes2, axes3, axes4). Once a\n",
    "subplot is created, the axes can be labeled using the `set_xlabel()`\n",
    "(or `set_ylabel()`) method. `plt.show()` is called after the entire\n",
    "figure is set up."
   ]
  },
  {
   "cell_type": "code",
   "execution_count": null,
   "metadata": {},
   "outputs": [],
   "source": [
    "fig = plt.figure(figsize=(16.0, 3.0))\n",
    "\n",
    "axes1 = fig.add_subplot(1, 3, 1)\n",
    "axes2 = fig.add_subplot(1, 3, 2)\n",
    "axes3 = fig.add_subplot(1, 3, 3)\n",
    "\n",
    "axes1.plot(topo[:, 0])\n",
    "axes1.set_ylim([2500, 3900])\n",
    "axes1.set_ylabel(\"Elevation (m)\")\n",
    "axes1.set_xlabel(\"<-- N   S -->\")\n",
    "axes1.set_title(\"West\")\n",
    "\n",
    "axes2.plot(topo[:, int(len(topo) / 2)])\n",
    "axes2.set_ylim([2500, 3900])\n",
    "axes2.set_xlabel(\"<-- N   S -->\")\n",
    "axes2.set_title(\"Mid\")\n",
    "\n",
    "axes3.plot(topo[:, -1])\n",
    "axes3.set_ylim([2500, 3900])\n",
    "axes3.set_xlabel(\"<--N   S -->\")\n",
    "axes3.set_title(\"East\")\n",
    "\n",
    "plt.show()"
   ]
  },
  {
   "cell_type": "markdown",
   "metadata": {},
   "source": [
    "## Subplots of DEMs (Take-home) \n",
    " \n",
    "Make a 4x2 grid of subplots that use the function `imshow` to display each quarter of the dataset (i.e., split down the middle in both x and y) in the left column. Plot corresponding profiles going from east to west in center of the image (cfr. Mid) in the right column.\n",
    "\n",
    "When plotting the DEMs (left column)\n",
    "* Don't label axes or add a colorbar. It can be tricky to do this with subplots.\n",
    "* To set the range of colors for one subplot, include the arguments `vmin` and `vmax` in `imshow` like this:\n"
   ]
  },
  {
   "cell_type": "code",
   "execution_count": null,
   "metadata": {},
   "outputs": [],
   "source": [
    "vmin = topo.min()\n",
    "vmax = topo.max()\n",
    "plt.imshow(topo, vmin=vmin, vmax=vmax)"
   ]
  },
  {
   "cell_type": "code",
   "execution_count": null,
   "metadata": {},
   "outputs": [],
   "source": [
    "fig = plt.figure(figsize=(16.0, 3.0))\n",
    "\n",
    "axes1 = fig.add_subplot(4, 2, 1)\n",
    "axes2 = fig.add_subplot(4, 2, 2)\n",
    "axes3 = fig.add_subplot(4, 2, 3)\n",
    "axes4 = fig.add_subplot(4, 2, 4)\n",
    "axes5 = fig.add_subplot(4, 2, 5)\n",
    "axes6 = fig.add_subplot(4, 2, 6)\n",
    "axes7 = fig.add_subplot(4, 2, 7)\n",
    "axes8 = fig.add_subplot(4, 2, 8)\n",
    "\n",
    "vmin = topo.min()\n",
    "vmax = topo.max()\n",
    "\n",
    "topo1 = topo[: int(topo.shape[0] / 2), : int(topo.shape[1] / 2)]\n",
    "axes1.imshow(topo1, vmin=vmin, vmax=vmax)\n",
    "axes1.axes.get_xaxis().set_visible(False)\n",
    "axes1.axes.get_yaxis().set_visible(False)\n",
    "axes2.plot(topo1[:, -1])\n",
    "axes2.set_ylim([vmin, vmax])\n",
    "axes2.set_xlabel(\"<--N   S -->\")\n",
    "axes2.set_title(\"North-West\")\n",
    "\n",
    "\n",
    "topo2 = topo[int(topo.shape[0] / 2) :, : int(topo.shape[1] / 2)]\n",
    "axes3.imshow(topo2, vmin=vmin, vmax=vmax)\n",
    "axes3.axes.get_xaxis().set_visible(False)\n",
    "axes3.axes.get_yaxis().set_visible(False)\n",
    "axes4.plot(topo2[:, -1])\n",
    "axes4.set_ylim([vmin, vmax])\n",
    "axes4.set_xlabel(\"<--N   S -->\")\n",
    "axes4.set_title(\"South-West\")\n",
    "\n",
    "topo3 = topo[: int(topo.shape[0] / 2), int(topo.shape[1] / 2) :]\n",
    "axes5.imshow(topo3, vmin=vmin, vmax=vmax)\n",
    "axes5.axes.get_xaxis().set_visible(False)\n",
    "axes5.axes.get_yaxis().set_visible(False)\n",
    "axes6.plot(topo3[:, -1])\n",
    "axes6.set_ylim([vmin, vmax])\n",
    "axes6.set_xlabel(\"<--N   S -->\")\n",
    "axes6.set_title(\"North-East\")\n",
    "\n",
    "topo4 = topo[int(topo.shape[0] / 2) :, int(topo.shape[1] / 2) :]\n",
    "axes7.imshow(topo4, vmin=vmin, vmax=vmax)\n",
    "axes7.axes.get_xaxis().set_visible(False)\n",
    "axes7.axes.get_yaxis().set_visible(False)\n",
    "axes8.plot(topo4[:, -1])\n",
    "axes8.set_ylim([vmin, vmax])\n",
    "axes8.set_xlabel(\"<--N   S -->\")\n",
    "axes8.set_title(\"South-East\")\n",
    "\n",
    "plt.show()\n",
    "\n",
    "ax = plt.imshow(topo)\n",
    "ax.axes.get_xaxis().set_visible(False)\n",
    "ax.axes.get_yaxis().set_visible(False)"
   ]
  },
  {
   "cell_type": "markdown",
   "metadata": {
    "tags": []
   },
   "source": [
    "## Summary"
   ]
  },
  {
   "cell_type": "markdown",
   "metadata": {},
   "source": [
    "Data visualization is key for understanding data and for communicating research results.\n",
    "We intentionally do not focus on visualization in Ivy\n",
    "because many others have done it already,\n",
    "and have done it better.\n",
    "A wonderful example is the [Matplotlib Examples](https://matplotlib.org/stable/gallery/index.html),\n",
    "which holds a gallery of over 100 example visualizations.\n",
    "A strategy for using it is to find a plot in the gallery similar to what you want,\n",
    "then copying the code provided that generates the plot,\n",
    "tailoring it to suit your needs."
   ]
  }
 ],
 "metadata": {
  "celltoolbar": "Tags",
  "kernelspec": {
   "display_name": "Ivy",
   "language": "python",
   "name": "ivy"
  },
  "language_info": {
   "codemirror_mode": {
    "name": "ipython",
    "version": 3
   },
   "file_extension": ".py",
   "mimetype": "text/x-python",
   "name": "python",
   "nbconvert_exporter": "python",
   "pygments_lexer": "ipython3",
   "version": "3.11.3"
  }
 },
 "nbformat": 4,
 "nbformat_minor": 4
}
