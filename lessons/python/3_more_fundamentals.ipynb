{
 "cells": [
  {
   "cell_type": "markdown",
   "id": "9bb0f300",
   "metadata": {},
   "source": [
    "# Python language fundamentals II"
   ]
  },
  {
   "cell_type": "markdown",
   "id": "ca2ac1fe",
   "metadata": {},
   "source": [
    "This notebook provides an overview of additional features of the Python programming language."
   ]
  },
  {
   "cell_type": "markdown",
   "id": "fc4b7cc3",
   "metadata": {},
   "source": [
    "## Loops"
   ]
  },
  {
   "cell_type": "markdown",
   "id": "977a5949",
   "metadata": {},
   "source": [
    "*Loops* are used in Python to run a section of code multiple times.\n",
    "\n",
    "For example, consider the list `box` from the first Python lesson:"
   ]
  },
  {
   "cell_type": "code",
   "execution_count": null,
   "id": "d9ae9c8f",
   "metadata": {},
   "outputs": [],
   "source": [
    "box = [5, 2.5, \"ESPIn\"]"
   ]
  },
  {
   "cell_type": "markdown",
   "id": "67e3b720",
   "metadata": {},
   "source": [
    "We can easily display the contents of `box`:"
   ]
  },
  {
   "cell_type": "code",
   "execution_count": null,
   "id": "10b11e1f",
   "metadata": {},
   "outputs": [],
   "source": [
    "box"
   ]
  },
  {
   "cell_type": "markdown",
   "id": "48a3cb82",
   "metadata": {},
   "source": [
    "But we can also loop over each item in the container:"
   ]
  },
  {
   "cell_type": "code",
   "execution_count": null,
   "id": "82fa80af",
   "metadata": {},
   "outputs": [],
   "source": [
    "for item in box:\n",
    "    print(\"- {}\".format(item))"
   ]
  },
  {
   "cell_type": "markdown",
   "id": "d7d98d05",
   "metadata": {},
   "source": [
    "Note the indentation of the line following the `for` statement.\n",
    "This is how Python denotes a block of code."
   ]
  },
  {
   "cell_type": "markdown",
   "id": "33d8d81f",
   "metadata": {},
   "source": [
    "**Question:** How can you loop over items in a dictionary?"
   ]
  },
  {
   "cell_type": "code",
   "execution_count": null,
   "id": "1b01fc3e-7ffa-49f8-9f0a-114a27e4607d",
   "metadata": {},
   "outputs": [],
   "source": [
    "# Your answer here"
   ]
  },
  {
   "cell_type": "markdown",
   "id": "7703d138",
   "metadata": {},
   "source": [
    "## Conditionals"
   ]
  },
  {
   "cell_type": "markdown",
   "id": "8c04ffb4",
   "metadata": {},
   "source": [
    "*Conditionals* are used to branch the control flow in a Python session.\n",
    "\n",
    "First, let's do a little date munging to set up an example."
   ]
  },
  {
   "cell_type": "code",
   "execution_count": null,
   "id": "aecb1765",
   "metadata": {},
   "outputs": [],
   "source": [
    "from datetime import datetime"
   ]
  },
  {
   "cell_type": "code",
   "execution_count": null,
   "id": "53b455ce",
   "metadata": {},
   "outputs": [],
   "source": [
    "today = datetime.today()\n",
    "today"
   ]
  },
  {
   "cell_type": "code",
   "execution_count": null,
   "id": "80a2d008",
   "metadata": {},
   "outputs": [],
   "source": [
    "first_day_of_year = datetime(today.year, 1, 1)"
   ]
  },
  {
   "cell_type": "code",
   "execution_count": null,
   "id": "46a899cd",
   "metadata": {},
   "outputs": [],
   "source": [
    "day_of_year = (today - first_day_of_year).days\n",
    "day_of_year"
   ]
  },
  {
   "cell_type": "markdown",
   "id": "559543c4",
   "metadata": {},
   "source": [
    "Is the ordinal date even or odd?\n",
    "We can find out with an `if` statement."
   ]
  },
  {
   "cell_type": "code",
   "execution_count": null,
   "id": "415ad9c1",
   "metadata": {},
   "outputs": [],
   "source": [
    "if day_of_year % 2 == 0:\n",
    "    print(\"The ordinal day is even\")\n",
    "else:\n",
    "    print(\"The ordinal day is odd\")"
   ]
  },
  {
   "cell_type": "markdown",
   "id": "34b84d79",
   "metadata": {},
   "source": [
    "## Errors and exceptions"
   ]
  },
  {
   "cell_type": "markdown",
   "id": "34630b82",
   "metadata": {},
   "source": [
    "*Syntax errors* are thrown when Python can't understand the language in a statement.\n",
    "Syntax errors are \"compile time\" errors.\n",
    "\n",
    "For example, a syntax error occurs if you forget to close the parentheses in the *print* function:"
   ]
  },
  {
   "cell_type": "code",
   "execution_count": null,
   "id": "4494e4e0",
   "metadata": {},
   "outputs": [],
   "source": [
    "print(\"hi\""
   ]
  },
  {
   "cell_type": "markdown",
   "id": "fbb298d8",
   "metadata": {},
   "source": [
    "*Exceptions* are raised when a statement may be syntactically correct, but it can't be run.\n",
    "Exceptions are \"run time\" errors.\n",
    "\n",
    "For example, an exception is raised when you try to print a variable that doesn't exist:"
   ]
  },
  {
   "cell_type": "code",
   "execution_count": null,
   "id": "5abeef36",
   "metadata": {},
   "outputs": [],
   "source": [
    "print(hi)"
   ]
  },
  {
   "cell_type": "markdown",
   "id": "b82f89c5",
   "metadata": {},
   "source": [
    "The neat thing about exceptions is that you can often anticipate selected exceptions and handle them programmatically with the `try` statement.\n",
    "\n",
    "Try to capture the exception raised above:"
   ]
  },
  {
   "cell_type": "code",
   "execution_count": null,
   "id": "1cff5a2c",
   "metadata": {},
   "outputs": [],
   "source": [
    "try:\n",
    "    print(hi)\n",
    "except NameError:\n",
    "    print(\"The variable 'hi' isn't defined\")"
   ]
  },
  {
   "cell_type": "markdown",
   "id": "3f96ed5c",
   "metadata": {},
   "source": [
    "The `try` statement is a key part of the [\"it's easier to ask forgiveness than permission\"](https://devblogs.microsoft.com/python/idiomatic-python-eafp-versus-lbyl/) programming style commonly used in Python."
   ]
  },
  {
   "cell_type": "markdown",
   "id": "c822fbe9",
   "metadata": {},
   "source": [
    "## Functions"
   ]
  },
  {
   "cell_type": "markdown",
   "id": "f02b9253",
   "metadata": {},
   "source": [
    "A *function* groups code into a program that can be called as a unit.\n",
    "\n",
    "For example, group the date munging code from above into a function to calculate the ordinal date for today:"
   ]
  },
  {
   "cell_type": "code",
   "execution_count": null,
   "id": "21790b12",
   "metadata": {},
   "outputs": [],
   "source": [
    "def ordinal_date():\n",
    "    today = datetime.today()\n",
    "    first_day_of_year = datetime(today.year, 1, 1)\n",
    "    day_of_year = (today - first_day_of_year).days\n",
    "    \n",
    "    return day_of_year"
   ]
  },
  {
   "cell_type": "markdown",
   "id": "e7deda83",
   "metadata": {},
   "source": [
    "The keyword `def` starts a function definition.\n",
    "It's followed by the function name, then the list of parameters, in parentheses.\n",
    "Statements that form the body of the function start at the next line, and must be indented."
   ]
  },
  {
   "cell_type": "markdown",
   "id": "0b0f6574",
   "metadata": {},
   "source": [
    "Try our new *ordinal_date* function:"
   ]
  },
  {
   "cell_type": "code",
   "execution_count": null,
   "id": "15e4bbee",
   "metadata": {},
   "outputs": [],
   "source": [
    "ordinal_date()"
   ]
  },
  {
   "cell_type": "markdown",
   "id": "38ba61ca",
   "metadata": {},
   "source": [
    "**Question:** How could the *ordinal_date* function be modified to use any date?"
   ]
  },
  {
   "cell_type": "markdown",
   "id": "014fd21b",
   "metadata": {},
   "source": [
    "## Summary"
   ]
  },
  {
   "cell_type": "markdown",
   "id": "cacfb2c2",
   "metadata": {},
   "source": [
    "The official Python tutorial contains more information on the topics covered in this notebook:\n",
    "* [loops](https://docs.python.org/3/tutorial/controlflow.html#for-statements)\n",
    "* [conditionals](https://docs.python.org/3/tutorial/controlflow.html#if-statements)\n",
    "* [exceptions and the `try` statement](https://docs.python.org/3/tutorial/errors.html)\n",
    "* [functions](https://docs.python.org/3/tutorial/controlflow.html#defining-functions)"
   ]
  }
 ],
 "metadata": {
  "kernelspec": {
   "display_name": "Python 3 (ipykernel)",
   "language": "python",
   "name": "python3"
  },
  "language_info": {
   "codemirror_mode": {
    "name": "ipython",
    "version": 3
   },
   "file_extension": ".py",
   "mimetype": "text/x-python",
   "name": "python",
   "nbconvert_exporter": "python",
   "pygments_lexer": "ipython3",
   "version": "3.9.7"
  }
 },
 "nbformat": 4,
 "nbformat_minor": 5
}
