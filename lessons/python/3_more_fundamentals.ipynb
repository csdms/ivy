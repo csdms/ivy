{
 "cells": [
  {
   "cell_type": "markdown",
   "id": "9bb0f300",
   "metadata": {},
   "source": [
    "# Python language fundamentals II"
   ]
  },
  {
   "cell_type": "markdown",
   "id": "ca2ac1fe",
   "metadata": {},
   "source": [
    "This notebook provides an overview of additional features of the Python programming language."
   ]
  },
  {
   "cell_type": "markdown",
   "id": "fc4b7cc3",
   "metadata": {},
   "source": [
    "## Loops"
   ]
  },
  {
   "cell_type": "markdown",
   "id": "977a5949",
   "metadata": {},
   "source": [
    "*Loops* are used in Python to run a section of code multiple times.\n",
    "\n",
    "For example, consider the list `box` from the first Python lesson:"
   ]
  },
  {
   "cell_type": "code",
   "execution_count": null,
   "id": "d9ae9c8f",
   "metadata": {},
   "outputs": [],
   "source": [
    "box = [5, 2.5, \"ESPIn\"]"
   ]
  },
  {
   "cell_type": "markdown",
   "id": "67e3b720",
   "metadata": {},
   "source": [
    "We can easily display the contents of `box`:"
   ]
  },
  {
   "cell_type": "code",
   "execution_count": null,
   "id": "10b11e1f",
   "metadata": {},
   "outputs": [],
   "source": [
    "box"
   ]
  },
  {
   "cell_type": "markdown",
   "id": "48a3cb82",
   "metadata": {},
   "source": [
    "But we can also loop over each item in the container with a *for loop*:"
   ]
  },
  {
   "cell_type": "code",
   "execution_count": null,
   "id": "82fa80af",
   "metadata": {},
   "outputs": [],
   "source": [
    "for item in box:\n",
    "    print(f\"- {item}\")"
   ]
  },
  {
   "cell_type": "markdown",
   "id": "d7d98d05",
   "metadata": {},
   "source": [
    "Note the indentation of the line following the `for` statement.\n",
    "This is how Python denotes a block of code."
   ]
  },
  {
   "cell_type": "markdown",
   "id": "9453200c-fd9f-45b0-88be-55ace4bb0a63",
   "metadata": {},
   "source": [
    "A variable to count loop iterations may be useful or needed.\n",
    "Here, we introduce the `range` function, which returns a sequence of numbers starting at zero, by default.\n",
    "Loop over the items in `box`, noting their position in the list:"
   ]
  },
  {
   "cell_type": "code",
   "execution_count": null,
   "id": "ba450383-ed7f-4d36-b614-0e4fcaf08e78",
   "metadata": {},
   "outputs": [],
   "source": [
    "for i in range(len(box)):\n",
    "    print(f\"{i}: {box[i]}\")"
   ]
  },
  {
   "cell_type": "markdown",
   "id": "6cd09b94-1041-4ac9-b829-1e63352f3d85",
   "metadata": {},
   "source": [
    "Another (possibly more Pythonic) way of obtaining a loop counter is with the `enumerate` function:"
   ]
  },
  {
   "cell_type": "code",
   "execution_count": null,
   "id": "31040c00-d9fd-4ece-9e8d-373927f581bd",
   "metadata": {},
   "outputs": [],
   "source": [
    "for counter, item in enumerate(box):\n",
    "    print(f\"{counter}: {item}\")"
   ]
  },
  {
   "cell_type": "markdown",
   "id": "8893bea1-2966-40da-a453-d4e3830e7cfd",
   "metadata": {},
   "source": [
    "Another loop construct in Python is the *while loop*. It executes while its condition (see more on conditionals below) evaluates to `True`."
   ]
  },
  {
   "cell_type": "code",
   "execution_count": null,
   "id": "4e043d91-2116-475e-9bba-3b7b85ba2d11",
   "metadata": {
    "tags": []
   },
   "outputs": [],
   "source": [
    "i = 0\n",
    "while i < len(box):\n",
    "    print(f\"{i}: {box[i]}\")\n",
    "    i += 1"
   ]
  },
  {
   "cell_type": "markdown",
   "id": "2ad6c1a2-9ff4-42a6-af3d-aba64dc7c3c2",
   "metadata": {},
   "source": [
    "How can we iterate over the items in a dictionary?\n",
    "Let's reconstitute the `bike` dict from the first Python lesson:"
   ]
  },
  {
   "cell_type": "code",
   "execution_count": null,
   "id": "9b4146e7-5e92-4d94-93fd-da8d852537f6",
   "metadata": {},
   "outputs": [],
   "source": [
    "bike = {\"make\": \"Specialized\", \"model\": \"Stumpjumper\", \"year\": 1996}"
   ]
  },
  {
   "cell_type": "markdown",
   "id": "6b28c0cc-afac-496a-895b-658239b8ba1b",
   "metadata": {},
   "source": [
    "Try this:"
   ]
  },
  {
   "cell_type": "code",
   "execution_count": null,
   "id": "8405ecd4-2acf-4830-8ae7-9db9b9798135",
   "metadata": {},
   "outputs": [],
   "source": [
    "for key, value in bike.items():\n",
    "    print(f\"{key} : {value}\")"
   ]
  },
  {
   "cell_type": "markdown",
   "id": "33d8d81f",
   "metadata": {},
   "source": [
    "**Question:** How can you loop backwards over the items in a list?"
   ]
  },
  {
   "cell_type": "code",
   "execution_count": null,
   "id": "1b01fc3e-7ffa-49f8-9f0a-114a27e4607d",
   "metadata": {},
   "outputs": [],
   "source": [
    "# Your answer here"
   ]
  },
  {
   "cell_type": "markdown",
   "id": "7703d138",
   "metadata": {},
   "source": [
    "## Conditionals"
   ]
  },
  {
   "cell_type": "markdown",
   "id": "8c04ffb4",
   "metadata": {},
   "source": [
    "*Conditionals* are used to branch the control flow in a Python session.\n",
    "\n",
    "First, let's do a little date munging to set up an example."
   ]
  },
  {
   "cell_type": "code",
   "execution_count": null,
   "id": "aecb1765",
   "metadata": {},
   "outputs": [],
   "source": [
    "from datetime import datetime"
   ]
  },
  {
   "cell_type": "code",
   "execution_count": null,
   "id": "53b455ce",
   "metadata": {},
   "outputs": [],
   "source": [
    "today = datetime.today()\n",
    "today"
   ]
  },
  {
   "cell_type": "code",
   "execution_count": null,
   "id": "80a2d008",
   "metadata": {},
   "outputs": [],
   "source": [
    "first_day_of_year = datetime(today.year, 1, 1)"
   ]
  },
  {
   "cell_type": "code",
   "execution_count": null,
   "id": "46a899cd",
   "metadata": {},
   "outputs": [],
   "source": [
    "day_of_year = (today - first_day_of_year).days\n",
    "day_of_year"
   ]
  },
  {
   "cell_type": "markdown",
   "id": "559543c4",
   "metadata": {},
   "source": [
    "Is the ordinal date even or odd?\n",
    "We can find out with an `if` statement."
   ]
  },
  {
   "cell_type": "code",
   "execution_count": null,
   "id": "415ad9c1",
   "metadata": {},
   "outputs": [],
   "source": [
    "if day_of_year % 2 == 0:\n",
    "    print(\"The ordinal day is even\")\n",
    "else:\n",
    "    print(\"The ordinal day is odd\")"
   ]
  },
  {
   "cell_type": "markdown",
   "id": "608ad422-8a80-481e-a7d2-344a05662e76",
   "metadata": {},
   "source": [
    "If the conditional expression evalutes to `True`, execute the `if` clause;\n",
    "otherwise, execute the `else` clause."
   ]
  },
  {
   "cell_type": "markdown",
   "id": "9d41801a-2c2d-4c13-9c19-5794394525c2",
   "metadata": {},
   "source": [
    "Multiple conditions can be evaluated with `elif` statement."
   ]
  },
  {
   "cell_type": "code",
   "execution_count": null,
   "id": "d7647977-4813-4053-8d95-05aca36f4cfa",
   "metadata": {},
   "outputs": [],
   "source": [
    "if today.month == 1:\n",
    "    print(\"It's January\")\n",
    "elif today.month == 2:\n",
    "    print(\"It's February\")\n",
    "elif today.month == 3:\n",
    "    print(\"It's March\")\n",
    "else:\n",
    "    print(\"It's April or later\")"
   ]
  },
  {
   "cell_type": "markdown",
   "id": "34b84d79",
   "metadata": {},
   "source": [
    "## Errors and exceptions"
   ]
  },
  {
   "cell_type": "markdown",
   "id": "34630b82",
   "metadata": {},
   "source": [
    "*Syntax errors* are thrown when Python can't understand the language in a statement.\n",
    "Syntax errors are \"compile time\" errors.\n",
    "\n",
    "For example, a syntax error occurs if you forget to close the parentheses in the *print* function:"
   ]
  },
  {
   "cell_type": "code",
   "execution_count": null,
   "id": "4494e4e0",
   "metadata": {},
   "outputs": [],
   "source": [
    "# Uncomment the line below, then run the cell to see what happens\n",
    "# print(\"hi\""
   ]
  },
  {
   "cell_type": "markdown",
   "id": "fbb298d8",
   "metadata": {},
   "source": [
    "*Exceptions* are raised when a statement may be syntactically correct, but it can't be run.\n",
    "Exceptions are \"run time\" errors.\n",
    "\n",
    "For example, an exception is raised when you try to print a variable that doesn't exist:"
   ]
  },
  {
   "cell_type": "code",
   "execution_count": null,
   "id": "5abeef36",
   "metadata": {},
   "outputs": [],
   "source": [
    "# Uncomment the line below, then run the cell to see what happens\n",
    "# print(hi)"
   ]
  },
  {
   "cell_type": "markdown",
   "id": "b82f89c5",
   "metadata": {},
   "source": [
    "The neat thing about exceptions is that you can often anticipate selected exceptions and handle them programmatically with the `try` statement.\n",
    "\n",
    "Try to capture the exception raised above:"
   ]
  },
  {
   "cell_type": "code",
   "execution_count": null,
   "id": "1cff5a2c",
   "metadata": {},
   "outputs": [],
   "source": [
    "try:\n",
    "    print(hi)\n",
    "except NameError:\n",
    "    print(\"The variable 'hi' isn't defined\")"
   ]
  },
  {
   "cell_type": "markdown",
   "id": "3f96ed5c",
   "metadata": {},
   "source": [
    "The `try` statement is a key part of the [\"it's easier to ask forgiveness than permission\"](https://devblogs.microsoft.com/python/idiomatic-python-eafp-versus-lbyl/) programming style commonly used in Python."
   ]
  },
  {
   "cell_type": "markdown",
   "id": "014fd21b",
   "metadata": {},
   "source": [
    "## Summary"
   ]
  },
  {
   "cell_type": "markdown",
   "id": "cacfb2c2",
   "metadata": {},
   "source": [
    "The official Python tutorial contains more information on the topics covered in this notebook:\n",
    "* [loops](https://docs.python.org/3/tutorial/controlflow.html#for-statements)\n",
    "* [conditionals](https://docs.python.org/3/tutorial/controlflow.html#if-statements)\n",
    "* [exceptions and the `try` statement](https://docs.python.org/3/tutorial/errors.html)"
   ]
  }
 ],
 "metadata": {
  "kernelspec": {
   "display_name": "Python 3 (ipykernel)",
   "language": "python",
   "name": "python3"
  },
  "language_info": {
   "codemirror_mode": {
    "name": "ipython",
    "version": 3
   },
   "file_extension": ".py",
   "mimetype": "text/x-python",
   "name": "python",
   "nbconvert_exporter": "python",
   "pygments_lexer": "ipython3",
   "version": "3.9.7"
  }
 },
 "nbformat": 4,
 "nbformat_minor": 5
}
