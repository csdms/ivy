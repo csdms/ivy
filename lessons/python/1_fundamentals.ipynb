{
 "cells": [
  {
   "cell_type": "markdown",
   "id": "36a4c908",
   "metadata": {},
   "source": [
    "# Variables, containers, and indexing"
   ]
  },
  {
   "cell_type": "markdown",
   "id": "832551ea",
   "metadata": {},
   "source": [
    "This notebook provides a brief overview of some of the basic features of the Python programming language."
   ]
  },
  {
   "cell_type": "markdown",
   "id": "f308402b",
   "metadata": {},
   "source": [
    "## Variables"
   ]
  },
  {
   "cell_type": "markdown",
   "id": "f6d93ba0",
   "metadata": {},
   "source": [
    "Variables are created on demand whenever a value is assigned to them.\n",
    "Use `variable = value` to assign a value to a variable in order to record it in memory."
   ]
  },
  {
   "cell_type": "code",
   "execution_count": null,
   "id": "8a79e1c7",
   "metadata": {},
   "outputs": [],
   "source": [
    "x = 5\n",
    "y = 2.5\n",
    "z = \"hello\""
   ]
  },
  {
   "cell_type": "markdown",
   "id": "6918ac54",
   "metadata": {},
   "source": [
    "Use `print()` to display the value of something."
   ]
  },
  {
   "cell_type": "code",
   "execution_count": null,
   "id": "891328af",
   "metadata": {},
   "outputs": [],
   "source": [
    "print(x)"
   ]
  },
  {
   "cell_type": "code",
   "execution_count": null,
   "id": "4945d02c",
   "metadata": {},
   "outputs": [],
   "source": [
    "print(y)"
   ]
  },
  {
   "cell_type": "code",
   "execution_count": null,
   "id": "60b85a3c",
   "metadata": {},
   "outputs": [],
   "source": [
    "print(z)"
   ]
  },
  {
   "cell_type": "markdown",
   "id": "d6acccf0",
   "metadata": {},
   "source": [
    "## Types"
   ]
  },
  {
   "cell_type": "markdown",
   "id": "d512e415",
   "metadata": {},
   "source": [
    "Basic data types in Python include integers, strings, and floating-point numbers."
   ]
  },
  {
   "cell_type": "code",
   "execution_count": null,
   "id": "f3019d52",
   "metadata": {},
   "outputs": [],
   "source": [
    "type(x)"
   ]
  },
  {
   "cell_type": "code",
   "execution_count": null,
   "id": "19581473",
   "metadata": {},
   "outputs": [],
   "source": [
    "type(y)"
   ]
  },
  {
   "cell_type": "code",
   "execution_count": null,
   "id": "8aa2f081",
   "metadata": {},
   "outputs": [],
   "source": [
    "type(z)"
   ]
  },
  {
   "cell_type": "markdown",
   "id": "22ee19b1",
   "metadata": {},
   "source": [
    "**Question:** What is the value and the type of the variable `div`?"
   ]
  },
  {
   "cell_type": "code",
   "execution_count": null,
   "id": "08589b3a",
   "metadata": {},
   "outputs": [],
   "source": [
    "div = x / y"
   ]
  },
  {
   "cell_type": "code",
   "execution_count": null,
   "id": "722a3a86",
   "metadata": {},
   "outputs": [],
   "source": [
    "# Your answer here"
   ]
  },
  {
   "cell_type": "markdown",
   "id": "3367cadc",
   "metadata": {},
   "source": [
    "## Lists"
   ]
  },
  {
   "cell_type": "markdown",
   "id": "47d2d0c4",
   "metadata": {},
   "source": [
    "Lists are a type of container. Put things in them."
   ]
  },
  {
   "cell_type": "code",
   "execution_count": null,
   "id": "ca038e3d",
   "metadata": {},
   "outputs": [],
   "source": [
    "box = [x, y, z]"
   ]
  },
  {
   "cell_type": "code",
   "execution_count": null,
   "id": "1727633a",
   "metadata": {},
   "outputs": [],
   "source": [
    "type(box)"
   ]
  },
  {
   "cell_type": "code",
   "execution_count": null,
   "id": "1a9d1c97",
   "metadata": {},
   "outputs": [],
   "source": [
    "print(box)"
   ]
  },
  {
   "cell_type": "code",
   "execution_count": null,
   "id": "61624d8f",
   "metadata": {},
   "outputs": [],
   "source": [
    "print(\"This list contains {} items\".format(len(box)))"
   ]
  },
  {
   "cell_type": "markdown",
   "id": "ce988286",
   "metadata": {},
   "source": [
    "**Question:** How do we get things out of a list?"
   ]
  },
  {
   "cell_type": "markdown",
   "id": "5b3fcb04",
   "metadata": {},
   "source": [
    "## Indexing"
   ]
  },
  {
   "cell_type": "markdown",
   "id": "ab7646f3",
   "metadata": {},
   "source": [
    "Several Python containers, including lists (and tuples and arrays, which we'll encounter later), use integer values to mark position in the container. This is called *indexing*.\n",
    "\n",
    "Aspects of indexing:\n",
    "* Indexing is an operation performed with square brackets\n",
    "* A colon `:` is used to specify a range of indices\n",
    "* Index values start with zero"
   ]
  },
  {
   "cell_type": "markdown",
   "id": "b7c5b501",
   "metadata": {},
   "source": [
    "Print the value of the first item in the list `box`:"
   ]
  },
  {
   "cell_type": "code",
   "execution_count": null,
   "id": "360da757",
   "metadata": {},
   "outputs": [],
   "source": [
    "print(box[0])"
   ]
  },
  {
   "cell_type": "markdown",
   "id": "0f1c80b3",
   "metadata": {},
   "source": [
    "Print the next two items in the list:"
   ]
  },
  {
   "cell_type": "code",
   "execution_count": null,
   "id": "8a96af30",
   "metadata": {},
   "outputs": [],
   "source": [
    "print(box[1:2])"
   ]
  },
  {
   "cell_type": "markdown",
   "id": "4240fb6a",
   "metadata": {},
   "source": [
    "What happened?\n",
    "When specifying a range, Python uses a closed interval on the left and an open interval on the right--here, the range goes up to, but does not include, the final index.\n",
    "\n",
    "Try this: "
   ]
  },
  {
   "cell_type": "code",
   "execution_count": null,
   "id": "327e85da",
   "metadata": {},
   "outputs": [],
   "source": [
    "print(box[1:])"
   ]
  },
  {
   "cell_type": "markdown",
   "id": "0d3779a9",
   "metadata": {},
   "source": [
    "Negative values can also be used for indexing.\n",
    "\n",
    "Print the last value of the list:"
   ]
  },
  {
   "cell_type": "code",
   "execution_count": null,
   "id": "48032a7f",
   "metadata": {},
   "outputs": [],
   "source": [
    "print(box[-1])"
   ]
  },
  {
   "cell_type": "markdown",
   "id": "b040c2ba",
   "metadata": {},
   "source": [
    "**Question:** Can you print the last two items of the list `box` using negative index values?"
   ]
  },
  {
   "cell_type": "code",
   "execution_count": null,
   "id": "c6512bda",
   "metadata": {},
   "outputs": [],
   "source": [
    "# Your answer here"
   ]
  },
  {
   "cell_type": "markdown",
   "id": "6bf89554",
   "metadata": {},
   "source": [
    "## Dictionaries"
   ]
  },
  {
   "cell_type": "markdown",
   "id": "546fe31a",
   "metadata": {},
   "source": [
    "Dictionaries are also containers. Put things in them."
   ]
  },
  {
   "cell_type": "code",
   "execution_count": null,
   "id": "9c79f567",
   "metadata": {},
   "outputs": [],
   "source": [
    "bike = {\"make\":\"Specialized\", \"model\":\"Stumpjumper\", \"year\":1996}"
   ]
  },
  {
   "cell_type": "code",
   "execution_count": null,
   "id": "ba9f1643",
   "metadata": {},
   "outputs": [],
   "source": [
    "type(bike)"
   ]
  },
  {
   "cell_type": "code",
   "execution_count": null,
   "id": "ca8d87d8",
   "metadata": {},
   "outputs": [],
   "source": [
    "print(bike)"
   ]
  },
  {
   "cell_type": "code",
   "execution_count": null,
   "id": "b93c52d9",
   "metadata": {},
   "outputs": [],
   "source": [
    "print(\"This dict contains {} items\".format(len(bike)))"
   ]
  },
  {
   "cell_type": "markdown",
   "id": "6c164c45",
   "metadata": {},
   "source": [
    "Unlike lists, which are indexed with a number, items in a dict are accessed with a key."
   ]
  },
  {
   "cell_type": "code",
   "execution_count": null,
   "id": "65cf9f1c",
   "metadata": {},
   "outputs": [],
   "source": [
    "print(bike[\"model\"])"
   ]
  },
  {
   "cell_type": "markdown",
   "id": "dc46b102",
   "metadata": {},
   "source": [
    "Just like list elements, you can use dictionary items in expressions:"
   ]
  },
  {
   "cell_type": "code",
   "execution_count": null,
   "id": "4e6fda7c",
   "metadata": {},
   "outputs": [],
   "source": [
    "print(2021 - bike[\"year\"])"
   ]
  },
  {
   "cell_type": "markdown",
   "id": "dcc5ba6e",
   "metadata": {},
   "source": [
    "**Question:** What happens when you try to index a dict?"
   ]
  },
  {
   "cell_type": "markdown",
   "id": "93018dd5",
   "metadata": {},
   "source": [
    "## Summary"
   ]
  },
  {
   "cell_type": "markdown",
   "id": "bda0ce63",
   "metadata": {},
   "source": [
    "The [official Python tutorial](https://docs.python.org/3/tutorial/index.html) has more information on the topics covered in this notebook."
   ]
  }
 ],
 "metadata": {
  "kernelspec": {
   "display_name": "Python 3 (ipykernel)",
   "language": "python",
   "name": "python3"
  },
  "language_info": {
   "codemirror_mode": {
    "name": "ipython",
    "version": 3
   },
   "file_extension": ".py",
   "mimetype": "text/x-python",
   "name": "python",
   "nbconvert_exporter": "python",
   "pygments_lexer": "ipython3",
   "version": "3.9.7"
  }
 },
 "nbformat": 4,
 "nbformat_minor": 5
}
