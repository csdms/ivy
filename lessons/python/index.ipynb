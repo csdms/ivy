{
 "cells": [
  {
   "cell_type": "markdown",
   "metadata": {},
   "source": [
    "<a href=\"https://csdms.colorado.edu\"><img style=\"float: center; width: 75%\" src=\"../../media/logo.png\"></a>"
   ]
  },
  {
   "cell_type": "markdown",
   "metadata": {},
   "source": [
    "# Python for EPSP Researchers\n",
    "\n",
    "Arguably the best way to learn a new language is to solve a problem with it.\n",
    "This introduction to Python is built around a simulation of the spread of ash aerosols over Iceland and the rest of Europe from the 2010 Icelandic Eyjafjallajökull eruption. \n",
    "\n",
    "Our real goal isn't to teach you Python,\n",
    "but to teach you concepts that all good scientific programming depends on.\n",
    "Further,\n",
    "we want to prepare you to become numerical modelers,\n",
    "so we spend minimal time on data analysis and visualization,\n",
    "and focus instead on array manipulation and programming techniques;\n",
    "after all, numerical models are programs!\n",
    "\n",
    "We use Python because:\n",
    "\n",
    "1. it's free, open source, well-documented, and runs almost everywhere;\n",
    "1. it has a large and growing user base among scientists;\n",
    "1. it has robust numerical and scientific libraries; and\n",
    "1. it's easier to learn than most other languages."
   ]
  },
  {
   "cell_type": "markdown",
   "metadata": {},
   "source": [
    "## The 2010 Eyjafjallajökull volcano eruption\n",
    "\n",
    "> On 14 April 2010 a subglacial explosive eruption started Eyjafjallajökull, situated on the southcentral coast of Iceland. This was a medium‐size eruption but due to the explosive nature and the prevailing winds during that first week, the ash was advected southeastward into the crowded air space of the UK and continental Europe. This caused major disruptions of air traffic. Volcanic eruptions are not uncommon in Iceland but the Eyjafjallajökull eruption has shown different characteristics than usually expected. Instead of peaking during the first few days and then gradually decreasing, the eruption had an explosive phase 14–17 April with mainly tephra and ash production, and a phase of mainly lava production 18–30 April before becoming explosive again. This meant that a continuous reevaluation of the strength of the eruption and the production of tephra and ash was necessary. Because the winds carried the ash a short distance overland, only a small part of Iceland, about 3\\% , was badly affected by ash fall. However, the rural community in the vicinity of the volcano that experienced the worst ash fall is also facing problems with drifting ash.\n",
    ">\n",
    "> ---Guðrún Nína Petersen, Copyright © 2010 Royal Meteorological Society \n",
    "\n",
    "<figure class=\"image\">\n",
    "  <img src=\"../../media/Eya_vol.png\">\n",
    "  <figcaption> On 14 April 2010, the Eyjafjallajökull volcano became one of the most famous volcanoes in the world causing major disruption to air traffic in northern Europe.</figcaption>\n",
    "</figure>\n",
    "\n",
    "If you want to learn more about this event, [this is a nice EOS article](https://eos.org/articles/eyjafjallajokul-gave-lava-and-ice-researchers-an-eyeful)"
   ]
  },
  {
   "cell_type": "markdown",
   "metadata": {},
   "source": [
    "## Goal\n",
    "\n",
    "Our goal is to simulate the spread of ash aerosols over Iceland and the rest of Europe from the Eyjafjallajökull volcano in its explosive phase. Special attention is given to the ash concentration in Brussels. Aerosols are tracer elements transported through the atmosphere that can be modeled as an advection-diffusion system. Note that this exercise is a simplified version of reality: the parameter values and concentrations are arbitrary chosen for the purpose of demonstrating the [advection-diffusion equation](https://en.wikipedia.org/wiki/Convection%E2%80%93diffusion_equation)."
   ]
  },
  {
   "cell_type": "markdown",
   "metadata": {},
   "source": [
    "## Topics\n",
    "\n",
    "Before we dive into the solution of the advection-diffusion problem posed by the volcanic eruption, we need to cover a series of Python and general programming topics.\n",
    "\n",
    "### Python Fundamentals\n",
    "\n",
    "1.  [Some Introductory notes](00-IntroNotes.ipynb)\n",
    "2.  [Numpy arrays to analyze topographic data](01-numpy.ipynb)\n",
    "3.  [Storing Multiple Values in Lists](02-lists.ipynb)\n",
    "4.  [Writing stand-alone Python scripts](03-scripts.ipynb)\n",
    "5.  [For loops and conditionals](04-%20For%20loops%20and%20conditionals.ipynb)\n",
    "\n",
    "### Python Programming\n",
    "\n",
    "6.  [Creating Functions](07-func.ipynb)\n",
    "7.  [A very basic introduction to Object oriented programming](08-OO.ipynb)\n",
    "\n",
    "### Scientific Programming: the Advection-Diffusion Equation\n",
    "\n",
    "8.  [Scientific Programming Part 1 (Diffusion)](05%20Models%20Part%201%20(Diffusion).ipynb)\n",
    "9.  [Scientific Programming Part 2 (Advection)](06%20Models%20Part%202%20(Advection).ipynb)"
   ]
  }
 ],
 "metadata": {
  "kernelspec": {
   "display_name": "Python 3 (ipykernel)",
   "language": "python",
   "name": "python3"
  },
  "language_info": {
   "codemirror_mode": {
    "name": "ipython",
    "version": 3
   },
   "file_extension": ".py",
   "mimetype": "text/x-python",
   "name": "python",
   "nbconvert_exporter": "python",
   "pygments_lexer": "ipython3",
   "version": "3.9.7"
  }
 },
 "nbformat": 4,
 "nbformat_minor": 4
}
