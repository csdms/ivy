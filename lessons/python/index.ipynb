{
 "cells": [
  {
   "cell_type": "markdown",
   "metadata": {},
   "source": [
    "<a href=\"https://csdms.colorado.edu\"><img style=\"float: center; width: 75%\" src=\"https://raw.githubusercontent.com/csdms/ivy/main/media/logo.png\"></a>"
   ]
  },
  {
   "cell_type": "markdown",
   "metadata": {},
   "source": [
    "# Python for EPSP Researchers\n",
    "\n",
    "Although you may incidentally learn some Python in the following lessons,\n",
    "it's not our primary goal.\n",
    "We want to prepare you to become numerical modelers,\n",
    "so we try to teach concepts that underlie all good scientific code.\n",
    "We spend less time on data analysis and visualization\n",
    "and more time on array manipulation and program structure.\n",
    "We try to avoid clever tricks.\n",
    "We strive to teach you how to write clear code that can easily be read by others.\n",
    "\n",
    "\n",
    "*Learning objectives:*\n",
    "\n",
    "* Understand basic Python syntax, flow control, and data structures\n",
    "* Understand what a library is, and how they can be accessed\n",
    "* Be able to create and slice NumPy arrays\n",
    "* Know how to write and call a function\n",
    "* See how a class is organized\n",
    "* Understand the difference between methods and attributes, and how to use them"
   ]
  },
  {
   "cell_type": "markdown",
   "metadata": {},
   "source": [
    "## Why Python?\n",
    "\n",
    "Why not R or MATLAB or C?\n",
    "We use Python because:\n",
    "\n",
    "1. it's free, open source, well-documented, and runs almost everywhere;\n",
    "1. it has a large and growing user base among scientists;\n",
    "1. it has robust numerical and scientific libraries; and\n",
    "1. it's easier to learn than most other languages.\n",
    "\n",
    "Arguably the best way to learn a new language is to solve a problem with it.\n",
    "This introduction to Python for earth and planetary surface processes researchers\n",
    "is built around a simulation of the spread of ash aerosols over Iceland and the rest of Europe from the 2010 Icelandic Eyjafjallajökull eruption. "
   ]
  },
  {
   "cell_type": "markdown",
   "metadata": {},
   "source": [
    "## The 2010 Eyjafjallajökull volcano eruption\n",
    "\n",
    "> On 14 April 2010 a subglacial explosive eruption started in Eyjafjallajökull, situated on the south-central coast of Iceland. This was a medium‐size eruption but due to the explosive nature and the prevailing winds during that first week, the ash was advected southeastward into the crowded air space of the UK and continental Europe. This caused major disruptions of air traffic. Volcanic eruptions are not uncommon in Iceland but the Eyjafjallajökull eruption has shown different characteristics than usually expected. Instead of peaking during the first few days and then gradually decreasing, the eruption had an explosive phase 14–17 April with mainly tephra and ash production, and a phase of mainly lava production 18–30 April before becoming explosive again. This meant that a continuous reevaluation of the strength of the eruption and the production of tephra and ash was necessary. Because the winds carried the ash a short distance overland, only a small part of Iceland, about 3\\% , was badly affected by ash fall. However, the rural community in the vicinity of the volcano that experienced the worst ash fall is also facing problems with drifting ash.\n",
    ">\n",
    "> ---Guðrún Nína Petersen, Copyright © 2010 Royal Meteorological Society \n",
    "\n",
    "<figure class=\"image\">\n",
    "  <img src=\"./media/Eya_vol.png\">\n",
    "  <figcaption> On 14 April 2010, the Eyjafjallajökull volcano became one of the most famous volcanos in the world causing major disruption to air traffic in northern Europe.</figcaption>\n",
    "</figure>\n",
    "\n",
    "If you want to learn more about this event, [this is a nice EOS article](https://eos.org/articles/eyjafjallajokul-gave-lava-and-ice-researchers-an-eyeful)."
   ]
  },
  {
   "cell_type": "markdown",
   "metadata": {},
   "source": [
    "## Goal\n",
    "\n",
    "We want to simulate the spread of ash aerosols over Iceland and the rest of Europe from the Eyjafjallajökull volcano in its explosive phase. Special attention is given to the ash concentration in Brussels. Aerosols are tracer elements transported through the atmosphere that can be modeled as an advection-diffusion system. Note that this exercise is a simplified version of reality: the parameter values and concentrations are arbitrary chosen for the purpose of demonstrating the [advection-diffusion equation](https://en.wikipedia.org/wiki/Convection%E2%80%93diffusion_equation)."
   ]
  },
  {
   "cell_type": "markdown",
   "metadata": {},
   "source": [
    "## Topics\n",
    "\n",
    "In addition to the solution of the advection-diffusion problem posed by the volcanic eruption, we will cover a series of Python and general programming topics.\n",
    "\n",
    "### Python Fundamentals\n",
    "\n",
    "1. [Variables, indexing, and containers](fundamentals.ipynb)\n",
    "2. [Libraries](libraries.ipynb)\n",
    "3. [Loops, conditionals, and errors](more_fundamentals.ipynb)\n",
    "4. [Arrays](arrays.ipynb)\n",
    "\n",
    "### Scientific Programming: the Advection-Diffusion Equation\n",
    "\n",
    "5. [Diffusion](diffusion.ipynb)\n",
    "6. [Advection](advection.ipynb)\n",
    "\n",
    "### Programming with Python\n",
    "\n",
    "5. [Functions](functions.ipynb)\n",
    "6. [Modules, scripts, and the basics of packaging](modules.md)\n",
    "7. [An introduction to object-oriented programming](oop.ipynb)\n"
   ]
  }
 ],
 "metadata": {
  "kernelspec": {
   "display_name": "Ivy",
   "language": "python",
   "name": "ivy"
  },
  "language_info": {
   "codemirror_mode": {
    "name": "ipython",
    "version": 3
   },
   "file_extension": ".py",
   "mimetype": "text/x-python",
   "name": "python",
   "nbconvert_exporter": "python",
   "pygments_lexer": "ipython3",
   "version": "3.9.9"
  }
 },
 "nbformat": 4,
 "nbformat_minor": 4
}
