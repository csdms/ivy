{
 "cells": [
  {
   "cell_type": "markdown",
   "metadata": {},
   "source": [
    "<a href=\"https://csdms.colorado.edu\"><img style=\"float: center; width: 75%\" src=\"https://raw.githubusercontent.com/csdms/ivy/main/media/logo.png\"></a>"
   ]
  },
  {
   "cell_type": "markdown",
   "metadata": {},
   "source": [
    "# Python for EPSP Researchers\n",
    "\n",
    "Although you may incidentally learn some Python in this lesson,\n",
    "it's not our real goal.\n",
    "Instead,\n",
    "we want to teach concepts that underlie all good scientific code.\n",
    "Further,\n",
    "we want to prepare you to become numerical modelers,\n",
    "so we spend less time on data analysis and visualization\n",
    "and more time on array manipulation and program structure.\n",
    "We try to avoid clever tricks.\n",
    "We teach you how to write clear code that can easily be read by others.\n",
    "\n",
    "We use Python because:\n",
    "\n",
    "1. it's free, open source, well-documented, and runs almost everywhere;\n",
    "1. it has a large and growing user base among scientists;\n",
    "1. it has robust numerical and scientific libraries; and\n",
    "1. it's easier to learn than most other languages.\n",
    "\n",
    "Arguably the best way to learn a new language is to solve a problem with it.\n",
    "This introduction to Python for earth and planetary surface processes researchers\n",
    "is built around a simulation of the spread of ash aerosols over Iceland and the rest of Europe from the 2010 Icelandic Eyjafjallajökull eruption. "
   ]
  },
  {
   "cell_type": "markdown",
   "metadata": {},
   "source": [
    "## The 2010 Eyjafjallajökull volcano eruption\n",
    "\n",
    "> On 14 April 2010 a subglacial explosive eruption started in Eyjafjallajökull, situated on the southcentral coast of Iceland. This was a medium‐size eruption but due to the explosive nature and the prevailing winds during that first week, the ash was advected southeastward into the crowded air space of the UK and continental Europe. This caused major disruptions of air traffic. Volcanic eruptions are not uncommon in Iceland but the Eyjafjallajökull eruption has shown different characteristics than usually expected. Instead of peaking during the first few days and then gradually decreasing, the eruption had an explosive phase 14–17 April with mainly tephra and ash production, and a phase of mainly lava production 18–30 April before becoming explosive again. This meant that a continuous reevaluation of the strength of the eruption and the production of tephra and ash was necessary. Because the winds carried the ash a short distance overland, only a small part of Iceland, about 3\\% , was badly affected by ash fall. However, the rural community in the vicinity of the volcano that experienced the worst ash fall is also facing problems with drifting ash.\n",
    ">\n",
    "> ---Guðrún Nína Petersen, Copyright © 2010 Royal Meteorological Society \n",
    "\n",
    "<figure class=\"image\">\n",
    "  <img src=\"./media/Eya_vol.png\">\n",
    "  <figcaption> On 14 April 2010, the Eyjafjallajökull volcano became one of the most famous volcanoes in the world causing major disruption to air traffic in northern Europe.</figcaption>\n",
    "</figure>\n",
    "\n",
    "If you want to learn more about this event, [this is a nice EOS article](https://eos.org/articles/eyjafjallajokul-gave-lava-and-ice-researchers-an-eyeful)."
   ]
  },
  {
   "cell_type": "markdown",
   "metadata": {},
   "source": [
    "## Goal\n",
    "\n",
    "We want to simulate the spread of ash aerosols over Iceland and the rest of Europe from the Eyjafjallajökull volcano in its explosive phase. Special attention is given to the ash concentration in Brussels. Aerosols are tracer elements transported through the atmosphere that can be modeled as an advection-diffusion system. Note that this exercise is a simplified version of reality: the parameter values and concentrations are arbitrary chosen for the purpose of demonstrating the [advection-diffusion equation](https://en.wikipedia.org/wiki/Convection%E2%80%93diffusion_equation)."
   ]
  },
  {
   "cell_type": "markdown",
   "metadata": {},
   "source": [
    "## Topics\n",
    "\n",
    "Before we dive into the solution of the advection-diffusion problem posed by the volcanic eruption, we need to cover a series of Python and general programming topics.\n",
    "\n",
    "### Python Fundamentals\n",
    "\n",
    "1. [Variables, indexing, and containers](1_fundamentals.ipynb)\n",
    "1. [Libraries](2_libraries.ipynb)\n",
    "1. [Loops, conditionals, and errors](3_more_fundamentals.ipynb)\n",
    "1. [Arrays](4_arrays.ipynb)\n",
    "\n",
    "### Python Programming\n",
    "\n",
    "5. [Scripts](5_scripts.ipynb)\n",
    "6. [Functions](6_functions.ipynb)\n",
    "7. [A very basic introduction to object-oriented programming](7_oop.ipynb)\n",
    "\n",
    "### Scientific Programming: the Advection-Diffusion Equation\n",
    "\n",
    "8. [Diffusion](8_diffusion.ipynb)\n",
    "9. [Advection](9_advection.ipynb)"
   ]
  }
 ],
 "metadata": {
  "kernelspec": {
   "display_name": "Python 3 (ipykernel)",
   "language": "python",
   "name": "python3"
  },
  "language_info": {
   "codemirror_mode": {
    "name": "ipython",
    "version": 3
   },
   "file_extension": ".py",
   "mimetype": "text/x-python",
   "name": "python",
   "nbconvert_exporter": "python",
   "pygments_lexer": "ipython3",
   "version": "3.9.7"
  }
 },
 "nbformat": 4,
 "nbformat_minor": 4
}
