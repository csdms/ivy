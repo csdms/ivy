{
 "cells": [
  {
   "cell_type": "markdown",
   "metadata": {},
   "source": [
    "<a href=\"https://csdms.colorado.edu\"><img style=\"float: center; width: 75%\" src=\"https://raw.githubusercontent.com/csdms/ivy/main/media/logo.png\"></a>"
   ]
  },
  {
   "cell_type": "markdown",
   "metadata": {
    "tags": []
   },
   "source": [
    "# Arrays\n",
    "\n",
    "Arrays are containers that store multiple values of the same type.\n",
    "Values in an array are stored contiguously in memory,\n",
    "which makes operations on arrays fast.\n",
    "Arrays can be multidimensional.\n",
    "\n",
    "In this lesson,\n",
    "we'll explore how to work with arrays using some simple examples,\n",
    "as well as with some topographic data in the form of a digital elevation model.\n",
    "\n",
    "We'll use a library called NumPy."
   ]
  },
  {
   "cell_type": "markdown",
   "metadata": {
    "tags": []
   },
   "source": [
    "## NumPy\n",
    "\n",
    "[NumPy](https://numpy.org/) is a fundamental Python package for scientific computing.\n",
    "NumPy uses a high-performance data structure, the *n-dimensional array* or *ndarray*,\n",
    "for efficient computation.\n",
    "Use NumPy arrays when you need to do numerical computations on a large number of data values.\n",
    "\n",
    "Import NumPy with its common nickname, `np`."
   ]
  },
  {
   "cell_type": "code",
   "execution_count": null,
   "metadata": {},
   "outputs": [],
   "source": [
    "import numpy as np"
   ]
  },
  {
   "cell_type": "markdown",
   "metadata": {},
   "source": [
    "## Array generators\n",
    "\n",
    "NumPy provides a number of built-in functions for creating arrays.\n",
    "We'll look at a few of the frequently used ones here, including:\n",
    "\n",
    "- `empty`\n",
    "- `zeros`\n",
    "- `ones`\n",
    "- `zeros_like`\n",
    "- `ones_like`\n",
    "- `arange`\n",
    "- `linspace`\n",
    "\n",
    "More can be found in the NumPy documentation under [Array creation routines](https://numpy.org/doc/stable/reference/routines.array-creation.html)."
   ]
  },
  {
   "cell_type": "markdown",
   "metadata": {},
   "source": [
    "Create a new array of five elements with the `empty` function."
   ]
  },
  {
   "cell_type": "code",
   "execution_count": null,
   "metadata": {
    "tags": []
   },
   "outputs": [],
   "source": [
    "a = np.empty(5)"
   ]
  },
  {
   "cell_type": "markdown",
   "metadata": {},
   "source": [
    "What is the type of the variable `a`?"
   ]
  },
  {
   "cell_type": "code",
   "execution_count": null,
   "metadata": {
    "tags": []
   },
   "outputs": [],
   "source": [
    "type(a)"
   ]
  },
  {
   "cell_type": "markdown",
   "metadata": {},
   "source": [
    "NumPy arrays have an attribute\n",
    "(this is an object-oriented programming term; more [later](oop.ipynb))\n",
    "called `shape` that provides the dimensions of an array.\n",
    "\n",
    "What is the shape of `a`?"
   ]
  },
  {
   "cell_type": "code",
   "execution_count": null,
   "metadata": {
    "tags": []
   },
   "outputs": [],
   "source": [
    "a.shape"
   ]
  },
  {
   "cell_type": "markdown",
   "metadata": {},
   "source": [
    "What are the values of `a`?"
   ]
  },
  {
   "cell_type": "code",
   "execution_count": null,
   "metadata": {
    "tags": []
   },
   "outputs": [],
   "source": [
    "a"
   ]
  },
  {
   "cell_type": "markdown",
   "metadata": {},
   "source": [
    "The `empty` function simply allocates memory for an array without clearing whatever is already in memory at those locations.\n",
    "It's best to use `empty` when you need an array but intend to overwrite the values,\n",
    "like when reading data from a file."
   ]
  },
  {
   "cell_type": "markdown",
   "metadata": {},
   "source": [
    "The `zeros` and `ones` functions make arrays populated with 0s and 1s."
   ]
  },
  {
   "cell_type": "code",
   "execution_count": null,
   "metadata": {
    "tags": []
   },
   "outputs": [],
   "source": [
    "np.zeros(10)"
   ]
  },
  {
   "cell_type": "code",
   "execution_count": null,
   "metadata": {
    "tags": []
   },
   "outputs": [],
   "source": [
    "np.ones(10)"
   ]
  },
  {
   "cell_type": "markdown",
   "metadata": {},
   "source": [
    "The `zeros_like` and `ones_like` functions create new arrays with the same shape and type as an existing array.\n",
    "\n",
    "Make a new array of zeros with the same type and shape as the existing array `a`."
   ]
  },
  {
   "cell_type": "code",
   "execution_count": null,
   "metadata": {
    "tags": []
   },
   "outputs": [],
   "source": [
    "b = np.zeros_like(a)\n",
    "b"
   ]
  },
  {
   "cell_type": "markdown",
   "metadata": {},
   "source": [
    "The `arange` function creates an indexed array of values."
   ]
  },
  {
   "cell_type": "code",
   "execution_count": null,
   "metadata": {
    "tags": []
   },
   "outputs": [],
   "source": [
    "x = np.arange(5)\n",
    "x"
   ]
  },
  {
   "cell_type": "markdown",
   "metadata": {},
   "source": [
    "The `linspace` function creates an array of evenly spaced values."
   ]
  },
  {
   "cell_type": "code",
   "execution_count": null,
   "metadata": {
    "tags": []
   },
   "outputs": [],
   "source": [
    "y = np.linspace(0, 6, num=5)\n",
    "y"
   ]
  },
  {
   "cell_type": "markdown",
   "metadata": {},
   "source": [
    "## Indexing\n",
    "\n",
    "NumPy arrays can be indexed in the manner described in the first lesson on [variables](fundamentals.ipynb)."
   ]
  },
  {
   "cell_type": "markdown",
   "metadata": {},
   "source": [
    "Using the variable `y` created above, get its first value."
   ]
  },
  {
   "cell_type": "code",
   "execution_count": null,
   "metadata": {
    "tags": []
   },
   "outputs": [],
   "source": [
    "y[0]"
   ]
  },
  {
   "cell_type": "markdown",
   "metadata": {},
   "source": [
    "And the last value."
   ]
  },
  {
   "cell_type": "code",
   "execution_count": null,
   "metadata": {
    "tags": []
   },
   "outputs": [],
   "source": [
    "y[-1]"
   ]
  },
  {
   "cell_type": "markdown",
   "metadata": {},
   "source": [
    "And every value after the second."
   ]
  },
  {
   "cell_type": "code",
   "execution_count": null,
   "metadata": {
    "tags": []
   },
   "outputs": [],
   "source": [
    "y[2:]"
   ]
  },
  {
   "cell_type": "markdown",
   "metadata": {},
   "source": [
    "## Indexing and slicing nD arrays\n",
    "\n",
    "Things get more interesting when we move to higher-dimensional arrays.\n",
    "In two dimensions,\n",
    "indices are ordered `[row,column]`;\n",
    "i.e., the `y`-direction index first, then the `x`-direction index.\n",
    "\n",
    "Let's consider an array that has three rows and five columns,"
   ]
  },
  {
   "cell_type": "code",
   "execution_count": null,
   "metadata": {
    "tags": []
   },
   "outputs": [],
   "source": [
    "n_rows = 3\n",
    "n_cols = 5"
   ]
  },
  {
   "cell_type": "markdown",
   "metadata": {},
   "source": [
    "Use the `arange` function to create a 1D indexed array of `n_rows * n_cols = 15` elements."
   ]
  },
  {
   "cell_type": "code",
   "execution_count": null,
   "metadata": {
    "tags": []
   },
   "outputs": [],
   "source": [
    "a = np.arange(n_rows * n_cols)\n",
    "a"
   ]
  },
  {
   "cell_type": "markdown",
   "metadata": {},
   "source": [
    "Now reshape this array into rows and columns."
   ]
  },
  {
   "cell_type": "code",
   "execution_count": null,
   "metadata": {
    "tags": []
   },
   "outputs": [],
   "source": [
    "b = a.reshape(n_rows, n_cols)\n",
    "b"
   ]
  },
  {
   "cell_type": "markdown",
   "metadata": {},
   "source": [
    "What is the shape of `b`?"
   ]
  },
  {
   "cell_type": "code",
   "execution_count": null,
   "metadata": {
    "tags": []
   },
   "outputs": [],
   "source": [
    "b.shape"
   ]
  },
  {
   "cell_type": "markdown",
   "metadata": {},
   "source": [
    "We can index (or \"slice\") 2D arrays using the same syntax as 1D arrays,\n",
    "but the rules are applied to each dimension,\n",
    "so it's more complicated.\n",
    "\n",
    "Get the first element of the 2D array `b`."
   ]
  },
  {
   "cell_type": "code",
   "execution_count": null,
   "metadata": {
    "tags": []
   },
   "outputs": [],
   "source": [
    "b[0, 0]"
   ]
  },
  {
   "cell_type": "markdown",
   "metadata": {},
   "source": [
    "And the last element."
   ]
  },
  {
   "cell_type": "code",
   "execution_count": null,
   "metadata": {
    "tags": []
   },
   "outputs": [],
   "source": [
    "b[-1, -1]"
   ]
  },
  {
   "cell_type": "markdown",
   "metadata": {},
   "source": [
    "What are the values in the first column?"
   ]
  },
  {
   "cell_type": "code",
   "execution_count": null,
   "metadata": {
    "tags": []
   },
   "outputs": [],
   "source": [
    "b[:, 0]"
   ]
  },
  {
   "cell_type": "markdown",
   "metadata": {},
   "source": [
    "What are the values in the first row?"
   ]
  },
  {
   "cell_type": "code",
   "execution_count": null,
   "metadata": {
    "tags": []
   },
   "outputs": [],
   "source": [
    "b[0, :]"
   ]
  },
  {
   "cell_type": "markdown",
   "metadata": {},
   "source": [
    "What about 3D arrays?\n",
    "Consider the following case."
   ]
  },
  {
   "cell_type": "code",
   "execution_count": null,
   "metadata": {
    "tags": []
   },
   "outputs": [],
   "source": [
    "nx = 4  # columns\n",
    "ny = 3  # rows\n",
    "nz = 2  # levels"
   ]
  },
  {
   "cell_type": "code",
   "execution_count": null,
   "metadata": {
    "tags": []
   },
   "outputs": [],
   "source": [
    "c = np.arange(nx * ny * nz)\n",
    "c"
   ]
  },
  {
   "cell_type": "code",
   "execution_count": null,
   "metadata": {
    "tags": []
   },
   "outputs": [],
   "source": [
    "d = c.reshape(nz, ny, nx)\n",
    "d"
   ]
  },
  {
   "cell_type": "code",
   "execution_count": null,
   "metadata": {
    "tags": []
   },
   "outputs": [],
   "source": [
    "d.shape"
   ]
  },
  {
   "cell_type": "markdown",
   "metadata": {},
   "source": [
    "Slice the array `d` to get the first *z* level."
   ]
  },
  {
   "cell_type": "code",
   "execution_count": null,
   "metadata": {
    "tags": []
   },
   "outputs": [],
   "source": [
    "d[0, :, :]"
   ]
  },
  {
   "cell_type": "markdown",
   "metadata": {},
   "source": [
    "## Exploring topographic data"
   ]
  },
  {
   "cell_type": "markdown",
   "metadata": {},
   "source": [
    "NumPy arrays are perfectly suited for working with topographic data from a digital elevation model.\n",
    "\n",
    "The NumPy `loadtxt` function can read simple text files.\n",
    "Use it to read a data file included in the Ivy course files."
   ]
  },
  {
   "cell_type": "code",
   "execution_count": null,
   "metadata": {},
   "outputs": [],
   "source": [
    "topo = np.loadtxt(\"data/topo.asc\", delimiter=\",\")"
   ]
  },
  {
   "cell_type": "markdown",
   "metadata": {},
   "source": [
    "The call to `loadtxt` has two parameters:\n",
    "the path to the file to read,\n",
    "and the delimiter separating values on a line in the file.\n",
    "Both need to be strings."
   ]
  },
  {
   "cell_type": "markdown",
   "metadata": {},
   "source": [
    "Print the values of `topo`."
   ]
  },
  {
   "cell_type": "code",
   "execution_count": null,
   "metadata": {},
   "outputs": [],
   "source": [
    "print(topo)"
   ]
  },
  {
   "cell_type": "markdown",
   "metadata": {},
   "source": [
    "What are the type and dimensions of `topo`?"
   ]
  },
  {
   "cell_type": "code",
   "execution_count": null,
   "metadata": {},
   "outputs": [],
   "source": [
    "type(topo)"
   ]
  },
  {
   "cell_type": "code",
   "execution_count": null,
   "metadata": {},
   "outputs": [],
   "source": [
    "topo.shape"
   ]
  },
  {
   "cell_type": "markdown",
   "metadata": {},
   "source": [
    "This tells us that `topo` has 500 rows and 500 columns. The file\n",
    "we imported contains elevation data (in meters, with 2.0 degree spacing) for an\n",
    "area along the Front Range of Colorado.\n",
    "The area that this array represents is 1 km x 1 km.\n",
    "\n",
    "The object of\n",
    "type `numpy.ndarray` that the variable `topo` is assigned to contains the values of the array\n",
    "as well as some extra information about the array. These are the members or attributes of the object, and they\n",
    "describe the data in the same way an adjective describes a noun. The\n",
    "command `topo.shape` calls the `shape` attribute of the object with the variable name\n",
    "`topo` that describes its dimensions. We use the same dotted notation\n",
    "for the attributes of objects that we use for the functions inside\n",
    "libraries because they have the same part-and-whole relationship."
   ]
  },
  {
   "cell_type": "markdown",
   "metadata": {},
   "source": [
    "### Indexing and slicing\n",
    "\n",
    "Indexing and slicing works on the `topo` array as described above."
   ]
  },
  {
   "cell_type": "markdown",
   "metadata": {
    "attributes": {
     "classes": [
      "output"
     ],
     "id": ""
    }
   },
   "source": [
    "Show the elevation value at upper left corner of the `topo` array."
   ]
  },
  {
   "cell_type": "code",
   "execution_count": null,
   "metadata": {
    "attributes": {
     "classes": [
      "output"
     ],
     "id": ""
    }
   },
   "outputs": [],
   "source": [
    "topo[0, 0]"
   ]
  },
  {
   "cell_type": "markdown",
   "metadata": {},
   "source": [
    "Show the elevation value of lower right corner of the `topo` array."
   ]
  },
  {
   "cell_type": "code",
   "execution_count": null,
   "metadata": {},
   "outputs": [],
   "source": [
    "topo[-1, -1]"
   ]
  },
  {
   "cell_type": "markdown",
   "metadata": {},
   "source": [
    "Slice a 5x5 array from `topo`."
   ]
  },
  {
   "cell_type": "code",
   "execution_count": null,
   "metadata": {},
   "outputs": [],
   "source": [
    "topo[0:5, 0:5]"
   ]
  },
  {
   "cell_type": "markdown",
   "metadata": {},
   "source": [
    "The slice `[0:5]` means \"start at index 0 and go along the axis up to,\n",
    "but not including, index 5\".\n",
    "\n",
    "We don't need to include the upper or lower bound of the slice if we\n",
    "want to go all the way to the edge. If we don't include the lower bound,\n",
    "Python uses 0 by default; if we don't include the upper bound, the slice\n",
    "runs to the end of the axis. If we don't include either (i.e., if we\n",
    "just use `:`), the slice includes everything. \n",
    "\n",
    "Show the elevations of the first 5 rows and last 6 columns of the `topo` array."
   ]
  },
  {
   "cell_type": "code",
   "execution_count": null,
   "metadata": {},
   "outputs": [],
   "source": [
    "print(topo[:5, -6:])"
   ]
  },
  {
   "cell_type": "markdown",
   "metadata": {},
   "source": [
    "### Mathematical operations\n",
    "\n",
    "NumPy arrays support a variety of mathematical operations.\n",
    "\n",
    "For example,\n",
    "we can create a new array with elevations in feet."
   ]
  },
  {
   "cell_type": "code",
   "execution_count": null,
   "metadata": {},
   "outputs": [],
   "source": [
    "topo_in_feet = topo * 3.2808\n",
    "print(f\"Elevation in meters: {topo[0, 0]:.2f}\")\n",
    "print(f\"Elevation in feet: {topo_in_feet[0, 0]:.2f}\")"
   ]
  },
  {
   "cell_type": "markdown",
   "metadata": {},
   "source": [
    "We can also perform statistical operations.\n",
    "Find the mean of the `topo` dataset."
   ]
  },
  {
   "cell_type": "code",
   "execution_count": null,
   "metadata": {},
   "outputs": [],
   "source": [
    "print(f\"Mean elevation: {topo.mean():.2f} meters\")"
   ]
  },
  {
   "cell_type": "markdown",
   "metadata": {},
   "source": [
    "Find the minimum and maximum elevations of the `topo` dataset."
   ]
  },
  {
   "cell_type": "code",
   "execution_count": null,
   "metadata": {},
   "outputs": [],
   "source": [
    "print(\"Highest elevation:\", topo.max(), \"meters\")\n",
    "print(\"Lowest elevation:\", topo.min(), \"meters\")"
   ]
  },
  {
   "cell_type": "markdown",
   "metadata": {},
   "source": [
    "We can also operate on array slices."
   ]
  },
  {
   "cell_type": "code",
   "execution_count": null,
   "metadata": {},
   "outputs": [],
   "source": [
    "half_len = int(topo.shape[0] / 2)\n",
    "\n",
    "print(\"Highest elevation of NW quarter:\", topo[:half_len, :half_len].max(), \"meters\")\n",
    "\n",
    "print(\"Highest elevation of SE quarter:\", topo[half_len:, half_len:].max(), \"meters\")"
   ]
  },
  {
   "cell_type": "markdown",
   "metadata": {},
   "source": [
    "Operations can also be performed along individual axes (rows or columns) of an\n",
    "array. If we want to see how the mean elevation changes with longitude\n",
    "(E-W), we can calculate it along `axis=0`:"
   ]
  },
  {
   "cell_type": "code",
   "execution_count": null,
   "metadata": {},
   "outputs": [],
   "source": [
    "topo.mean(axis=0)"
   ]
  },
  {
   "cell_type": "markdown",
   "metadata": {},
   "source": [
    "To see how the mean elevation changes with latitude (N-S), we can use\n",
    "`axis=1`:"
   ]
  },
  {
   "cell_type": "code",
   "execution_count": null,
   "metadata": {},
   "outputs": [],
   "source": [
    "topo.mean(axis=1)"
   ]
  },
  {
   "cell_type": "markdown",
   "metadata": {},
   "source": [
    "## Exercises \n",
    "  \n",
    "1. Is the NW corner of the region higher than the SW corner? What's the elevation difference?\n",
    "1. What's the elevation difference between the NE corner and the SE corner?\n",
    "1. What's the elevation at the center of the region represented in the `topo` array?"
   ]
  },
  {
   "cell_type": "markdown",
   "metadata": {},
   "source": [
    "## Summary\n",
    "\n",
    "NumPy is ubiquitous in Python.\n",
    "Any time you work with data, you'll work with NumPy.\n",
    "\n",
    "The [NumPy documentation](https://numpy.org/doc/stable/index.html) contains just about anything you'll need to know about NumPy.\n",
    "\n",
    "Although we deemphasize visualization in Ivy,\n",
    "it almost always really helps to visualize data.\n",
    "Data visualization is covered well in many other places,\n",
    "but we do have a [notebook](./visualization.ipynb) demonstrating how to visualize the DEM data used here."
   ]
  }
 ],
 "metadata": {
  "celltoolbar": "Tags",
  "kernelspec": {
   "display_name": "Ivy",
   "language": "python",
   "name": "ivy"
  },
  "language_info": {
   "codemirror_mode": {
    "name": "ipython",
    "version": 3
   },
   "file_extension": ".py",
   "mimetype": "text/x-python",
   "name": "python",
   "nbconvert_exporter": "python",
   "pygments_lexer": "ipython3",
   "version": "3.9.9"
  }
 },
 "nbformat": 4,
 "nbformat_minor": 4
}
