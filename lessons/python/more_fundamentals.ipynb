{
 "cells": [
  {
   "cell_type": "markdown",
   "id": "0",
   "metadata": {},
   "source": [
    "<a href=\"https://csdms.colorado.edu\"><img style=\"float: center; width: 75%\" src=\"https://raw.githubusercontent.com/csdms/project/main/assets/CSDMS-logo-color-tagline-hor.png\"></a>"
   ]
  },
  {
   "cell_type": "markdown",
   "id": "1",
   "metadata": {},
   "source": [
    "# Loops, conditionals, and exceptions"
   ]
  },
  {
   "cell_type": "markdown",
   "id": "2",
   "metadata": {},
   "source": [
    "This notebook provides an overview of additional features of the Python programming language."
   ]
  },
  {
   "cell_type": "markdown",
   "id": "3",
   "metadata": {},
   "source": [
    "## Loops"
   ]
  },
  {
   "cell_type": "markdown",
   "id": "4",
   "metadata": {},
   "source": [
    "*Loops* are used in Python to run a section of code multiple times.\n",
    "\n",
    "For example, consider the list `box` from the first Python lesson:"
   ]
  },
  {
   "cell_type": "code",
   "execution_count": null,
   "id": "5",
   "metadata": {},
   "outputs": [],
   "source": [
    "box = [5, 2.5, \"ESPIn\"]"
   ]
  },
  {
   "cell_type": "markdown",
   "id": "6",
   "metadata": {},
   "source": [
    "We can easily display the contents of `box`:"
   ]
  },
  {
   "cell_type": "code",
   "execution_count": null,
   "id": "7",
   "metadata": {},
   "outputs": [],
   "source": [
    "box"
   ]
  },
  {
   "cell_type": "markdown",
   "id": "8",
   "metadata": {},
   "source": [
    "But we can also loop over each item in the container with a *for loop*:"
   ]
  },
  {
   "cell_type": "code",
   "execution_count": null,
   "id": "9",
   "metadata": {},
   "outputs": [],
   "source": [
    "for item in box:\n",
    "    print(f\"- {item}\")"
   ]
  },
  {
   "cell_type": "markdown",
   "id": "10",
   "metadata": {},
   "source": [
    "Note the indentation of the line following the `for` statement.\n",
    "This is how Python denotes a block of code."
   ]
  },
  {
   "cell_type": "markdown",
   "id": "11",
   "metadata": {},
   "source": [
    "A variable to count loop iterations may be useful or needed.\n",
    "Here, we introduce the `range` function, which returns a sequence of numbers starting at zero, by default.\n",
    "Loop over the items in `box`, noting their position in the list:"
   ]
  },
  {
   "cell_type": "code",
   "execution_count": null,
   "id": "12",
   "metadata": {},
   "outputs": [],
   "source": [
    "for i in range(len(box)):\n",
    "    print(f\"{i}: {box[i]}\")"
   ]
  },
  {
   "cell_type": "markdown",
   "id": "13",
   "metadata": {},
   "source": [
    "Another (possibly more Pythonic) way of obtaining a loop counter is with the `enumerate` function:"
   ]
  },
  {
   "cell_type": "code",
   "execution_count": null,
   "id": "14",
   "metadata": {},
   "outputs": [],
   "source": [
    "for counter, item in enumerate(box):\n",
    "    print(f\"{counter}: {item}\")"
   ]
  },
  {
   "cell_type": "markdown",
   "id": "15",
   "metadata": {},
   "source": [
    "Another loop construct in Python is the *while loop*. It executes while its condition (see more on conditionals below) evaluates to `True`."
   ]
  },
  {
   "cell_type": "code",
   "execution_count": null,
   "id": "16",
   "metadata": {
    "tags": []
   },
   "outputs": [],
   "source": [
    "i = 0\n",
    "while i < len(box):\n",
    "    print(f\"{i}: {box[i]}\")\n",
    "    i += 1"
   ]
  },
  {
   "cell_type": "markdown",
   "id": "17",
   "metadata": {},
   "source": [
    "How can we iterate over the items in a dictionary?\n",
    "Let's reconstitute the `bike` dict from the first Python lesson:"
   ]
  },
  {
   "cell_type": "code",
   "execution_count": null,
   "id": "18",
   "metadata": {},
   "outputs": [],
   "source": [
    "bike = {\"make\": \"Specialized\", \"model\": \"Stumpjumper\", \"year\": 1996}"
   ]
  },
  {
   "cell_type": "markdown",
   "id": "19",
   "metadata": {},
   "source": [
    "Try this:"
   ]
  },
  {
   "cell_type": "code",
   "execution_count": null,
   "id": "20",
   "metadata": {},
   "outputs": [],
   "source": [
    "for key, value in bike.items():\n",
    "    print(f\"{key} : {value}\")"
   ]
  },
  {
   "cell_type": "markdown",
   "id": "21",
   "metadata": {},
   "source": [
    "**Question:** How can you loop backwards over the items in a list?"
   ]
  },
  {
   "cell_type": "code",
   "execution_count": null,
   "id": "22",
   "metadata": {},
   "outputs": [],
   "source": [
    "# Your answer here"
   ]
  },
  {
   "cell_type": "markdown",
   "id": "23",
   "metadata": {},
   "source": [
    "## Conditionals"
   ]
  },
  {
   "cell_type": "markdown",
   "id": "24",
   "metadata": {},
   "source": [
    "*Conditionals* are used to branch the control flow in a Python session.\n",
    "\n",
    "First, let's do a little date munging to set up an example."
   ]
  },
  {
   "cell_type": "code",
   "execution_count": null,
   "id": "25",
   "metadata": {},
   "outputs": [],
   "source": [
    "from datetime import datetime"
   ]
  },
  {
   "cell_type": "code",
   "execution_count": null,
   "id": "26",
   "metadata": {},
   "outputs": [],
   "source": [
    "today = datetime.today()\n",
    "today"
   ]
  },
  {
   "cell_type": "code",
   "execution_count": null,
   "id": "27",
   "metadata": {},
   "outputs": [],
   "source": [
    "first_day_of_year = datetime(today.year, 1, 1)"
   ]
  },
  {
   "cell_type": "code",
   "execution_count": null,
   "id": "28",
   "metadata": {},
   "outputs": [],
   "source": [
    "day_of_year = (today - first_day_of_year).days\n",
    "day_of_year"
   ]
  },
  {
   "cell_type": "markdown",
   "id": "29",
   "metadata": {},
   "source": [
    "Is the ordinal date even or odd?\n",
    "We can find out with an `if` statement."
   ]
  },
  {
   "cell_type": "code",
   "execution_count": null,
   "id": "30",
   "metadata": {},
   "outputs": [],
   "source": [
    "if day_of_year % 2 == 0:\n",
    "    print(\"The ordinal day is even\")\n",
    "else:\n",
    "    print(\"The ordinal day is odd\")"
   ]
  },
  {
   "cell_type": "markdown",
   "id": "31",
   "metadata": {},
   "source": [
    "If the conditional expression evaluates to `True`, execute the `if` clause;\n",
    "otherwise, execute the `else` clause."
   ]
  },
  {
   "cell_type": "markdown",
   "id": "32",
   "metadata": {},
   "source": [
    "Multiple conditions can be evaluated with `elif` statement."
   ]
  },
  {
   "cell_type": "code",
   "execution_count": null,
   "id": "33",
   "metadata": {},
   "outputs": [],
   "source": [
    "if today.month == 1:\n",
    "    print(\"It's January\")\n",
    "elif today.month == 2:\n",
    "    print(\"It's February\")\n",
    "elif today.month == 3:\n",
    "    print(\"It's March\")\n",
    "else:\n",
    "    print(\"It's April or later\")"
   ]
  },
  {
   "cell_type": "markdown",
   "id": "34",
   "metadata": {},
   "source": [
    "## Errors and exceptions"
   ]
  },
  {
   "cell_type": "markdown",
   "id": "35",
   "metadata": {},
   "source": [
    "*Syntax errors* are thrown when Python can't understand the language in a statement.\n",
    "Syntax errors are \"compile time\" errors.\n",
    "\n",
    "For example, a syntax error occurs if you forget to close the parentheses in the *print* function:"
   ]
  },
  {
   "cell_type": "code",
   "execution_count": null,
   "id": "36",
   "metadata": {},
   "outputs": [],
   "source": [
    "# Uncomment the line below, then run the cell to see what happens\n",
    "# print(\"hi\""
   ]
  },
  {
   "cell_type": "markdown",
   "id": "37",
   "metadata": {},
   "source": [
    "*Exceptions* are raised when a statement may be syntactically correct, but it can't be run.\n",
    "Exceptions are \"run time\" errors.\n",
    "\n",
    "For example, an exception is raised when you try to print a variable that doesn't exist:"
   ]
  },
  {
   "cell_type": "code",
   "execution_count": null,
   "id": "38",
   "metadata": {},
   "outputs": [],
   "source": [
    "# Uncomment the line below, then run the cell to see what happens\n",
    "# print(hi)"
   ]
  },
  {
   "cell_type": "markdown",
   "id": "39",
   "metadata": {},
   "source": [
    "The neat thing about exceptions is that you can often anticipate selected exceptions and handle them programmatically with the `try` statement.\n",
    "\n",
    "Try to capture the exception raised above:"
   ]
  },
  {
   "cell_type": "code",
   "execution_count": null,
   "id": "40",
   "metadata": {},
   "outputs": [],
   "source": [
    "try:\n",
    "    print(hi)\n",
    "except NameError:\n",
    "    print(\"The variable 'hi' isn't defined\")"
   ]
  },
  {
   "cell_type": "markdown",
   "id": "41",
   "metadata": {},
   "source": [
    "The `try` statement is a key part of the [\"it's easier to ask forgiveness than permission\"](https://devblogs.microsoft.com/python/idiomatic-python-eafp-versus-lbyl/) programming style commonly used in Python."
   ]
  },
  {
   "cell_type": "markdown",
   "id": "42",
   "metadata": {},
   "source": [
    "## A note on reference copying"
   ]
  },
  {
   "cell_type": "markdown",
   "id": "43",
   "metadata": {},
   "source": [
    "Python displays interesting behavior when duplicating lists, dictionaries, and arrays through assignment.\n",
    "\n",
    "From the docs:\n",
    "\n",
    "> Assignment statements in Python do not copy objects, they create bindings between a target and an object.\n",
    "\n",
    "Let's explore this behavior and see how it can lead to unintended consequences."
   ]
  },
  {
   "cell_type": "markdown",
   "id": "44",
   "metadata": {},
   "source": [
    "Start by creating two integer variables, `x` and `y`,\n",
    "noting that `y` is assigned the initial value of `x`."
   ]
  },
  {
   "cell_type": "code",
   "execution_count": null,
   "id": "45",
   "metadata": {
    "tags": []
   },
   "outputs": [],
   "source": [
    "x = 5\n",
    "y = x"
   ]
  },
  {
   "cell_type": "code",
   "execution_count": null,
   "id": "46",
   "metadata": {
    "tags": []
   },
   "outputs": [],
   "source": [
    "x"
   ]
  },
  {
   "cell_type": "code",
   "execution_count": null,
   "id": "47",
   "metadata": {
    "tags": []
   },
   "outputs": [],
   "source": [
    "y"
   ]
  },
  {
   "cell_type": "markdown",
   "id": "48",
   "metadata": {},
   "source": [
    "Now change the value of `x`."
   ]
  },
  {
   "cell_type": "code",
   "execution_count": null,
   "id": "49",
   "metadata": {
    "tags": []
   },
   "outputs": [],
   "source": [
    "x = 10\n",
    "x"
   ]
  },
  {
   "cell_type": "markdown",
   "id": "50",
   "metadata": {},
   "source": [
    "Does the value of `y` change?"
   ]
  },
  {
   "cell_type": "code",
   "execution_count": null,
   "id": "51",
   "metadata": {
    "tags": []
   },
   "outputs": [],
   "source": [
    "y"
   ]
  },
  {
   "cell_type": "markdown",
   "id": "52",
   "metadata": {},
   "source": [
    "This behavior is what we expect.\n",
    "Numbers and strings are *immutable* types in Python.\n",
    "\n",
    "What happens, though, when we try a similar example with a *mutable* type, like a list?\n",
    "Here, `b` is assigned the initial value of `a`, a list."
   ]
  },
  {
   "cell_type": "code",
   "execution_count": null,
   "id": "53",
   "metadata": {
    "tags": []
   },
   "outputs": [],
   "source": [
    "a = [x, y]\n",
    "b = a"
   ]
  },
  {
   "cell_type": "code",
   "execution_count": null,
   "id": "54",
   "metadata": {
    "tags": []
   },
   "outputs": [],
   "source": [
    "a"
   ]
  },
  {
   "cell_type": "code",
   "execution_count": null,
   "id": "55",
   "metadata": {
    "tags": []
   },
   "outputs": [],
   "source": [
    "b"
   ]
  },
  {
   "cell_type": "markdown",
   "id": "56",
   "metadata": {},
   "source": [
    "Now change an element of `a`."
   ]
  },
  {
   "cell_type": "code",
   "execution_count": null,
   "id": "57",
   "metadata": {
    "tags": []
   },
   "outputs": [],
   "source": [
    "a[-1] = \"CSDMS\"\n",
    "a"
   ]
  },
  {
   "cell_type": "markdown",
   "id": "58",
   "metadata": {},
   "source": [
    "Does `b` change?"
   ]
  },
  {
   "cell_type": "code",
   "execution_count": null,
   "id": "59",
   "metadata": {
    "tags": []
   },
   "outputs": [],
   "source": [
    "b"
   ]
  },
  {
   "cell_type": "markdown",
   "id": "60",
   "metadata": {},
   "source": [
    "This behavior holds for all mutable objects,\n",
    "like lists, dictionaries, and, as we'll see, NumPy arrays.\n",
    "\n",
    "Most mutable types, including lists, have a `copy` method,\n",
    "which returns a shallow copy of an object.\n",
    "Redo the example above using the `copy` method."
   ]
  },
  {
   "cell_type": "code",
   "execution_count": null,
   "id": "61",
   "metadata": {
    "tags": []
   },
   "outputs": [],
   "source": [
    "c = [x, y]\n",
    "d = c.copy()"
   ]
  },
  {
   "cell_type": "code",
   "execution_count": null,
   "id": "62",
   "metadata": {
    "tags": []
   },
   "outputs": [],
   "source": [
    "c"
   ]
  },
  {
   "cell_type": "code",
   "execution_count": null,
   "id": "63",
   "metadata": {
    "tags": []
   },
   "outputs": [],
   "source": [
    "d"
   ]
  },
  {
   "cell_type": "code",
   "execution_count": null,
   "id": "64",
   "metadata": {
    "tags": []
   },
   "outputs": [],
   "source": [
    "c[-1] = \"CSDMS\"\n",
    "c"
   ]
  },
  {
   "cell_type": "code",
   "execution_count": null,
   "id": "65",
   "metadata": {
    "tags": []
   },
   "outputs": [],
   "source": [
    "d"
   ]
  },
  {
   "cell_type": "markdown",
   "id": "66",
   "metadata": {},
   "source": [
    "## Summary"
   ]
  },
  {
   "cell_type": "markdown",
   "id": "67",
   "metadata": {},
   "source": [
    "The official Python tutorial contains more information on the topics covered in this notebook:\n",
    "* [loops](https://docs.python.org/3/tutorial/controlflow.html#for-statements)\n",
    "* [conditionals](https://docs.python.org/3/tutorial/controlflow.html#if-statements)\n",
    "* [exceptions and the `try` statement](https://docs.python.org/3/tutorial/errors.html)\n",
    "\n",
    "More information on reference copying:\n",
    "* The [*copy* module](https://docs.python.org/3/library/copy.html) provides methods for shallow (objects only) and deep (objects containing objects) copies of mutable objects.\n",
    "* An extensive [tutorial lesson](https://python-course.eu/python-tutorial/shallow-and-deep-copy.php) on copying mutable objects"
   ]
  }
 ],
 "metadata": {
  "kernelspec": {
   "display_name": "Ivy",
   "language": "python",
   "name": "ivy"
  },
  "language_info": {
   "codemirror_mode": {
    "name": "ipython",
    "version": 3
   },
   "file_extension": ".py",
   "mimetype": "text/x-python",
   "name": "python",
   "nbconvert_exporter": "python",
   "pygments_lexer": "ipython3",
   "version": "3.9.9"
  }
 },
 "nbformat": 4,
 "nbformat_minor": 5
}
