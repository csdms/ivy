{
 "cells": [
  {
   "cell_type": "markdown",
   "id": "0",
   "metadata": {},
   "source": [
    "<a href=\"https://csdms.colorado.edu\"><img style=\"float: center; width: 75%\" src=\"https://raw.githubusercontent.com/csdms/project/main/assets/CSDMS-logo-color-tagline-hor.png\"></a>"
   ]
  },
  {
   "cell_type": "markdown",
   "id": "1",
   "metadata": {},
   "source": [
    "# Documentation and Unit Testing"
   ]
  },
  {
   "cell_type": "markdown",
   "id": "2",
   "metadata": {},
   "source": [
    "**Documentation** in coding refers to written text and annotations that explain how a piece software works. Clear documentation helps others and your future self understand how to use and maintain your code.\n",
    "\n",
    "**Unit testing** is a coding practice where tests are written to verify that your functions and classes work as intended. It helps ensure that your code behaves correctly across different scenarios and makes it easier to detect and fix bugs.\n",
    "\n",
    "In this tutorial, we will learn how to write documentation and unit tests for a function that calculates snowmelt and practice these skills through hands-on exercises focused on a Diffusion Model class."
   ]
  },
  {
   "cell_type": "markdown",
   "id": "3",
   "metadata": {},
   "source": [
    "## Documentation"
   ]
  },
  {
   "cell_type": "markdown",
   "id": "4",
   "metadata": {},
   "source": [
    "### Main types of Documentation\n",
    "\n",
    "1. Inline Comments\n",
    "\n",
    "   Short explanations within code to clarify complex logic.\n",
    "\n",
    "2. Docstrings\n",
    "\n",
    "   Descriptive strings attached to modules, classes, and functions.\n",
    "\n",
    "3. README files\n",
    "   \n",
    "   High-level overviews found in project root directories. ([README example](https://github.com/landlab/landlab/blob/master/README.md))\n",
    "\n",
    "4. API documentation\n",
    "\n",
    "   Detailed descriptions of classes, functions, methods, and modules. It is typically generated using tools (e.g., [Sphinx](https://www.sphinx-doc.org/en/master/)) that extract information from docstrings written for the functions, classes, and modules. ([API documentation example](https://landlab.readthedocs.io/en/v2.9.2/generated/api/landlab.components.overland_flow.generate_overland_flow_deAlmeida.html))\n",
    "\n",
    "5. Tutorials and Examples\n",
    "\n",
    "   Code examples, Jupyter notebooks, or step-by-step guides for using the software. ([Tutorial example](https://landlab.readthedocs.io/en/v2.9.2/user_guide/overland_flow_user_guide.html))"
   ]
  },
  {
   "cell_type": "markdown",
   "id": "5",
   "metadata": {},
   "source": [
    "### Documentation Example\n",
    "We will write documentation for a function to calculate the snowmelt using the snow-degree method. This method mainly requires inputs of air temperature ($T_a$), degree-day threshold temperature ($T_0$, usually set as 0), and degree-day factor ($c_0$). The snowmelt ($SM$) with a given period of time ($ t$) is calculated with the following function:\n",
    "\n",
    "$$ SM = (T_a - T_0) * c_0 * t $$"
   ]
  },
  {
   "cell_type": "markdown",
   "id": "6",
   "metadata": {},
   "source": [
    "The example code below shows the calculate_snowmelt() function. Its documentation follows the NumPy-style docstring format, which is widely adopted by major scientific libraries such as NumPy, SciPy, and pandas. This style is especially common in scientific and data-analysis code.\n",
    "\n",
    "In the documentation, the `Examples` section provides illustrative use cases of the function. These examples can also serve as the basis for unit tests, helping to verify that the function behaves as expected. We will discuss this further in the unit testing section."
   ]
  },
  {
   "cell_type": "code",
   "execution_count": null,
   "id": "7",
   "metadata": {},
   "outputs": [],
   "source": [
    "def calculate_snowmelt(temp, degree_day_factor, days=1):\n",
    "    \"\"\"\n",
    "    Estimate snowmelt using the degree-day method over a specified number of days.\n",
    "\n",
    "    Parameters\n",
    "    ----------\n",
    "    temp : float\n",
    "        Daily average temperature in °C.\n",
    "    degree_day_factor : float\n",
    "        Melt factor in mm/°C/day.\n",
    "    days : int, optional\n",
    "        Number of days to accumulate melt. Default is 1.\n",
    "\n",
    "    Returns\n",
    "    -------\n",
    "    float\n",
    "        Estimated snowmelt in mm over the specified period.\n",
    "\n",
    "    Examples\n",
    "    --------\n",
    "    >>> calculate_snowmelt(5.0, 3.0, 2)\n",
    "    30.0\n",
    "    >>> calculate_snowmelt(-2.0, 3.0, 2)\n",
    "    0.0\n",
    "    \"\"\"\n",
    "    if degree_day_factor <= 0:\n",
    "        raise ValueError(\"degree_day_factor must be positive\")\n",
    "    if days <= 0:\n",
    "        raise ValueError(\"days must be positive\")\n",
    "\n",
    "    if temp > 0:\n",
    "        return temp * degree_day_factor * days\n",
    "    return 0.0"
   ]
  },
  {
   "cell_type": "markdown",
   "id": "8",
   "metadata": {},
   "source": [
    "## Unit Testing"
   ]
  },
  {
   "cell_type": "markdown",
   "id": "9",
   "metadata": {},
   "source": [
    "### Tools for unit testing\n",
    "Python offers several tools for writing and running tests. Three commonly used testing tools are doctest, unittest, and pytest. Each has its own strengths and is suited to different testing needs.\n",
    "- **doctest**: A standard Python library designed to test code examples embedded in docstrings. It is not a full-featured unit testing framework. But it’s ideal for verifying simple functions and ensuring that documentation remains accurate and executable.\n",
    "- **unittest**: A standard Python library that provides a framework for writing and running unit tests. It best suited for organizing larger test suites using test classes and methods.\n",
    "- **pytest**: A powerful third-party testing framework for writing and running tests. It is more flexible and powerful than unittest, supporting both standalone test functions and test classes. It also supports advanced features (e.g., parameterization, fixture) making it suitable for both simple and complex testing needs.\n",
    "  \n"
   ]
  },
  {
   "cell_type": "markdown",
   "id": "10",
   "metadata": {},
   "source": [
    "### Unit Testing Examples\n",
    "We will use pytest to write the unit tests for the \"calculate_snowmelt( )\" function. Let's first think about what testing cases are needed for this function:\n",
    " - snowmelt occurs with valid input\n",
    " - no snowmelt with valid input\n",
    " - invalid degree_day_factor input\n",
    " - invalid days input"
   ]
  },
  {
   "cell_type": "markdown",
   "id": "11",
   "metadata": {},
   "source": [
    "In pytest, each test function name should start with \"test_\" so that the testing framework can automatically detect and run it. Similarly, each test file should be named starting with \"test_\" or ending with \"_test.py\" (e.g. test_example.py or example_test.py).\n",
    "\n",
    "Let’s begin with unit tests for valid input cases. The test_snowmelt_occurs() function demonstrates a typical test case using the \"assert\" statement. The assert keyword is used to verify that a specific condition holds true during program execution. If the condition evaluates to False, Python raises an AssertionError, which causes the test to fail. This mechanism ensures that the function produces the expected output for valid inputs."
   ]
  },
  {
   "cell_type": "code",
   "execution_count": null,
   "id": "12",
   "metadata": {},
   "outputs": [],
   "source": [
    "# test snowmelt occurs\n",
    "def test_snowmelt_occurs():\n",
    "    \"\"\"Test that snowmelt occurs with valid input\"\"\"\n",
    "    assert calculate_snowmelt(temp=5, degree_day_factor=3, days=2) == 30"
   ]
  },
  {
   "cell_type": "code",
   "execution_count": null,
   "id": "13",
   "metadata": {},
   "outputs": [],
   "source": [
    "# test no snowmelt"
   ]
  },
  {
   "cell_type": "markdown",
   "id": "14",
   "metadata": {},
   "source": [
    "<details>\n",
    "    <summary>Click to show solution</summary>\n",
    "    \n",
    "```python\n",
    "def test_no_snowmelt():\n",
    "    \"\"\"Test no snowmelt with valid input\"\"\"\n",
    "    assert calculate_snowmelt(temp=-1, degree_day_factor=3, days=2) == 0\n",
    "```\n",
    "</details>"
   ]
  },
  {
   "cell_type": "markdown",
   "id": "15",
   "metadata": {},
   "source": [
    "Pytest supports parameterization, which allows a single unit test function to run multiple scenarios with different input values. The pytest.mark.parametrize is a decorator provided by pytest, which allows you to run the same test function multiple times with different sets of arguments. Below is an example using parameterization to test the case for invalid degree_day_factor. The pytest.raises context manager is used when we expect an exception to be raised during function execution—such as a ValueError for invalid inputs."
   ]
  },
  {
   "cell_type": "code",
   "execution_count": null,
   "id": "c1989288-17f6-4a0a-843e-77f4a7fd018e",
   "metadata": {},
   "outputs": [],
   "source": [
    "import pytest"
   ]
  },
  {
   "cell_type": "code",
   "execution_count": null,
   "id": "16",
   "metadata": {},
   "outputs": [],
   "source": [
    "# test invalid degree_day_factor input\n",
    "@pytest.mark.parametrize(\"degree_day_factor\", [0, -1])\n",
    "def test_invalid_degree_day_factor(degree_day_factor):\n",
    "    \"\"\"Test invalid degree day factor inputs that should raise ValueError\"\"\"\n",
    "    with pytest.raises(ValueError, match=\"degree_day_factor must be positive\"):\n",
    "        calculate_snowmelt(temp=5.0, degree_day_factor=degree_day_factor, days=1)"
   ]
  },
  {
   "cell_type": "code",
   "execution_count": null,
   "id": "17",
   "metadata": {},
   "outputs": [],
   "source": [
    "# test invalid days input"
   ]
  },
  {
   "cell_type": "markdown",
   "id": "18",
   "metadata": {},
   "source": [
    "<details>\n",
    "    <summary>Click to show solution</summary>\n",
    "    \n",
    "```python\n",
    "@pytest.mark.parametrize(\"days\", [0, -2])\n",
    "def test_invalid_days(days):\n",
    "    \"\"\"Test invalid days inputs that should raise ValueError\"\"\"\n",
    "    with pytest.raises(ValueError, match=\"days must be positive\"):\n",
    "        calculate_snowmelt(temp=5.0, degree_day_factor=3.0, days=days)\n",
    "```\n",
    "</details>"
   ]
  },
  {
   "cell_type": "markdown",
   "id": "19",
   "metadata": {},
   "source": [
    "### Run Unit Tests"
   ]
  },
  {
   "cell_type": "markdown",
   "id": "20",
   "metadata": {},
   "source": [
    "If you know about [conda](https://docs.conda.io/projects/conda/en/stable/) and have installed it on your computer, you can follow the steps below to create the function file and the unit test file, and then create a conda environment for running the unit tests.\n",
    "\n",
    "1) Create a new folder named \"example\". Inside this folder, you’ll place your code and test files.\n",
    "2) Create \"example.py\": paste the code for calculate_snowmelt() function in this file.\n",
    "3) Create \"test_example.py\": paste the four unit test functions in this file. Remember to add the code below in this file:\n",
    "```python\n",
    "import pytest\n",
    "\n",
    "from example import calculate_snowmelt\n",
    "```\n",
    "4) Open a terminal, create a conda environment and activate it with the following commands. Remember to replace /path/to/your/example_folder with the actual path.\n",
    "```bash\n",
    "conda create -y -n unit_testing pytest\n",
    "conda activate unit_testing\n",
    "cd /path/to/your/example_folder\n",
    "```"
   ]
  },
  {
   "cell_type": "markdown",
   "id": "21",
   "metadata": {},
   "source": [
    "When everything is set based on the steps above, we could run the unit tests with the following commands:"
   ]
  },
  {
   "cell_type": "markdown",
   "id": "22",
   "metadata": {},
   "source": [
    "**1) Use doctest**"
   ]
  },
  {
   "cell_type": "markdown",
   "id": "23",
   "metadata": {},
   "source": [
    "**doctest with correct example**\n",
    "```\n",
    "$ python -m doctest example.py\n",
    "```\n",
    "**doctest with incorrct example**\n",
    "```\n",
    "$ python -m doctest example_wrong.py\n",
    "**********************************************************************\n",
    "File \"/Users/tiga7385/Desktop/course/example/example.py\", line 27, in ex\n",
    "ample.calculate_snowmelt\n",
    "Failed example:\n",
    "    calculate_snowmelt(-2.0, 3.0, 2)\n",
    "Expected:\n",
    "    1.0\n",
    "Got:\n",
    "    0.0\n",
    "**********************************************************************\n",
    "1 item had failures:\n",
    "   1 of   2 in example.calculate_snowmelt\n",
    "***Test Failed*** 1 failure.\n",
    "```"
   ]
  },
  {
   "cell_type": "markdown",
   "id": "24",
   "metadata": {},
   "source": [
    "**2) Use pytest**"
   ]
  },
  {
   "cell_type": "markdown",
   "id": "25",
   "metadata": {},
   "source": [
    "**Run test for test_example.py file**\n",
    "```\n",
    "$ pytest -v test_example.py \n",
    "============================================ test session starts =============================================\n",
    "platform darwin -- Python 3.13.3, pytest-8.3.5, pluggy-1.5.0 -- /Users/tiga7385/anaconda3/envs/unit_test/bin/python3.13\n",
    "cachedir: .pytest_cache\n",
    "rootdir: /Users/tiga7385/Desktop/course/example\n",
    "collected 6 items                                                                                            \n",
    "\n",
    "test_example.py::test_snowmelt_occurs PASSED                                                           [ 16%]\n",
    "test_example.py::test_no_snowmelt PASSED                                                               [ 33%]\n",
    "test_example.py::test_invalid_degree_day_factor[0] PASSED                                              [ 50%]\n",
    "test_example.py::test_invalid_degree_day_factor[-1] PASSED                                             [ 66%]\n",
    "test_example.py::test_invalid_days[0] PASSED                                                           [ 83%]\n",
    "test_example.py::test_invalid_days[-2] PASSED                                                          [100%]\n",
    "\n",
    "============================================= 6 passed in 0.02s ==============================================\n",
    "\n",
    "```\n",
    "\n",
    "**Run test for test_snowmelt_occurs() function**\n",
    "```\n",
    "$ pytest -v test_example.py::test_snowmelt_occurs\n",
    "============================================ test session starts =============================================\n",
    "platform darwin -- Python 3.13.3, pytest-8.3.5, pluggy-1.5.0 -- /Users/tiga7385/anaconda3/envs/unit_test/bin/python3.13\n",
    "cachedir: .pytest_cache\n",
    "rootdir: /Users/tiga7385/Desktop/course/example\n",
    "collected 1 item                                                                                             \n",
    "\n",
    "test_example.py::test_snowmelt_occurs PASSED                                                           [100%]\n",
    "\n",
    "============================================= 1 passed in 0.00s ==============================================\n",
    "```\n",
    "\n",
    "\n",
    "**Run test for docstrings examples and test_example.py file**\n",
    "```\n",
    "$ pytest -v --doctest-modules\n",
    "============================================ test session starts =============================================\n",
    "platform darwin -- Python 3.13.3, pytest-8.3.5, pluggy-1.5.0 -- /Users/tiga7385/anaconda3/envs/unit_test/bin/python3.13\n",
    "cachedir: .pytest_cache\n",
    "rootdir: /Users/tiga7385/Desktop/course/example\n",
    "collected 7 items                                                                                            \n",
    "\n",
    "example.py::example.calculate_snowmelt PASSED                                                          [ 14%]\n",
    "test_example.py::test_snowmelt_occurs PASSED                                                           [ 28%]\n",
    "test_example.py::test_no_snowmelt PASSED                                                               [ 42%]\n",
    "test_example.py::test_invalid_degree_day_factor[0] PASSED                                              [ 57%]\n",
    "test_example.py::test_invalid_degree_day_factor[-1] PASSED                                             [ 71%]\n",
    "test_example.py::test_invalid_days[0] PASSED                                                           [ 85%]\n",
    "test_example.py::test_invalid_days[-2] PASSED                                                          [100%]\n",
    "\n",
    "============================================= 7 passed in 0.03s ==============================================\n",
    "\n",
    "\n",
    "```"
   ]
  },
  {
   "cell_type": "markdown",
   "id": "26",
   "metadata": {},
   "source": [
    "## Hands-on Exercise"
   ]
  },
  {
   "cell_type": "markdown",
   "id": "27",
   "metadata": {},
   "source": [
    "Now let's try to write documentation and unit test functions for a class. In this excercise, we will use Diffusion2D class which is from the [Object Oriented Programing tutorial](https://github.com/csdms/ivy/blob/main/lessons/python/yet_another_oop.ipynb) as an example."
   ]
  },
  {
   "cell_type": "markdown",
   "id": "28",
   "metadata": {},
   "source": [
    "**1) Write Documentation**\n",
    "\n",
    "Please use the NumPy-style docstring format to document the calc_stable_time_step() and run_one_step() methods in the Diffusion2D class."
   ]
  },
  {
   "cell_type": "code",
   "execution_count": null,
   "id": "29",
   "metadata": {},
   "outputs": [],
   "source": [
    "import numpy as np\n",
    "import matplotlib.pyplot as plt\n",
    "\n",
    "\n",
    "class Diffusion2D:\n",
    "    \"\"\"Solves the 2D diffusion problem on a regular grid.\n",
    "\n",
    "    Parameters\n",
    "    ----------\n",
    "    field : np.ndarray\n",
    "        The 2D array of values to diffuse.\n",
    "    spacing : tuple\n",
    "        The grid spacing in (x, y) coordinates.\n",
    "    diffusivity : float\n",
    "        Parameter controlling the rate of diffusion.\n",
    "\n",
    "    Examples\n",
    "    --------\n",
    "    >>> import numpy as np\n",
    "    >>> field = np.array([[0.0, 0.0, 0.0], [0.0, 1.0, 0.0], [0.0, 0.0, 0.0]])\n",
    "    >>> spacing = (1.0, 1.0)\n",
    "    >>> diffusivity = 0.1\n",
    "    >>> model = Diffusion2D(field, spacing, diffusivity)\n",
    "    >>> model.calc_stable_time_step()\n",
    "    1.0\n",
    "    >>> model.run_one_step(0.1)\n",
    "    \"\"\"\n",
    "\n",
    "    def __init__(self, field: np.ndarray, spacing: tuple, diffusivity: float):\n",
    "        \"\"\"Initialize the model with a field of values and diffusivity parameter.\n",
    "\n",
    "        Parameters\n",
    "        ----------\n",
    "        field : np.ndarray\n",
    "            The 2D array of values to diffuse.\n",
    "        spacing : tuple\n",
    "            The grid spacing in (x, y) coordinates.\n",
    "        diffusivity : float\n",
    "            Parameter controlling the rate of diffusion.\n",
    "        \"\"\"\n",
    "        self.field = field\n",
    "        self.spacing = spacing\n",
    "        self.k = diffusivity\n",
    "        self.time_elapsed = 0.0\n",
    "\n",
    "    def calc_stable_time_step(self, cfl: float = 0.1) -> float:\n",
    "        \"\"\"\n",
    "        Add documentation here\n",
    "        \"\"\"\n",
    "        return cfl * self.spacing[0] * self.spacing[1] / self.k\n",
    "\n",
    "    def run_one_step(self, dt: float):\n",
    "        \"\"\"\n",
    "        Add documentation here\n",
    "        \"\"\"\n",
    "        gradient_x = np.gradient(self.field, self.spacing[0], axis=1, edge_order=1)\n",
    "        gradient_y = np.gradient(self.field, self.spacing[1], axis=0, edge_order=1)\n",
    "        rate_of_change_x = -self.k * np.gradient(\n",
    "            gradient_x, self.spacing[0], axis=1, edge_order=1\n",
    "        )\n",
    "        rate_of_change_y = -self.k * np.gradient(\n",
    "            gradient_y, self.spacing[1], axis=0, edge_order=1\n",
    "        )\n",
    "        self.field -= dt * (rate_of_change_x + rate_of_change_y)\n",
    "        self.time_elapsed += dt\n",
    "\n",
    "    def plot_field(self, cmap: str = \"viridis\"):\n",
    "        \"\"\"Plot the current field.\n",
    "\n",
    "        Parameters\n",
    "        ----------\n",
    "        cmap : str, optional\n",
    "            The colormap to use for plotting, default is 'viridis'.\n",
    "\n",
    "        Returns\n",
    "        -------\n",
    "        None\n",
    "            This method generates and displays a plot of the current field.\n",
    "        \"\"\"\n",
    "        plt.imshow(self.field, cmap=cmap)\n",
    "        plt.title(f\"Model field after {self.time_elapsed} seconds\")\n",
    "        plt.colorbar()\n",
    "        plt.show()"
   ]
  },
  {
   "cell_type": "markdown",
   "id": "30",
   "metadata": {
    "jp-MarkdownHeadingCollapsed": true
   },
   "source": [
    "<details>\n",
    "    <summary style=\"color: red;\"><b>Click to show documenation results</b></summary>\n",
    "    \n",
    "```python\n",
    "import numpy as np\n",
    "import matplotlib.pyplot as plt\n",
    "\n",
    "\n",
    "class Diffusion2D:\n",
    "    \"\"\"Solves the 2D diffusion problem on a regular grid.\n",
    "\n",
    "    Parameters\n",
    "    ----------\n",
    "    field : np.ndarray\n",
    "        The 2D array of values to diffuse.\n",
    "    spacing : tuple\n",
    "        The grid spacing in (x, y) coordinates.\n",
    "    diffusivity : float\n",
    "        Parameter controlling the rate of diffusion.\n",
    "\n",
    "    Examples\n",
    "    --------\n",
    "    >>> import numpy as np\n",
    "    >>> field = np.array([[0.0, 0.0, 0.0], [0.0, 1.0, 0.0], [0.0, 0.0, 0.0]])\n",
    "    >>> spacing = (1.0, 1.0)\n",
    "    >>> diffusivity = 0.1\n",
    "    >>> model = Diffusion2D(field, spacing, diffusivity)\n",
    "    >>> model.calc_stable_time_step()\n",
    "    1.0\n",
    "    >>> model.run_one_step(0.1)\n",
    "    \"\"\"\n",
    "\n",
    "    def __init__(self, field: np.ndarray, spacing: tuple, diffusivity: float):\n",
    "        \"\"\"Initialize the model with a field of values and diffusivity parameter.\n",
    "        \n",
    "        Parameters\n",
    "        ----------\n",
    "        field : np.ndarray\n",
    "            The 2D array of values to diffuse.\n",
    "        spacing : tuple\n",
    "            The grid spacing in (x, y) coordinates.\n",
    "        diffusivity : float\n",
    "            Parameter controlling the rate of diffusion.\n",
    "        \"\"\"\n",
    "        self.field = field\n",
    "        self.spacing = spacing\n",
    "        self.k = diffusivity\n",
    "        self.time_elapsed = 0.0\n",
    "\n",
    "    def calc_stable_time_step(self, cfl: float = 0.1) -> float:\n",
    "        \"\"\"Calculate the stable time step for the model.\n",
    "\n",
    "        Parameters\n",
    "        ----------\n",
    "        cfl : float, optional\n",
    "            The CFL number, default is 0.1.\n",
    "\n",
    "        Returns\n",
    "        -------\n",
    "        float\n",
    "            The stable time step for the model.\n",
    "        \"\"\"\n",
    "        return cfl * self.spacing[0] * self.spacing[1] / self.k\n",
    "\n",
    "    def run_one_step(self, dt: float):\n",
    "        \"\"\"Run one time step of dt seconds.\n",
    "\n",
    "        Parameters\n",
    "        ----------\n",
    "        dt : float\n",
    "            The time step in seconds.\n",
    "\n",
    "        Returns\n",
    "        -------\n",
    "        None\n",
    "            Updates the field in place and increments `time_elapsed`.\n",
    "        \"\"\"\n",
    "        gradient_x = np.gradient(self.field, self.spacing[0], axis = 1, edge_order = 1)\n",
    "        gradient_y = np.gradient(self.field, self.spacing[1], axis = 0, edge_order = 1)\n",
    "        rate_of_change_x = -self.k * np.gradient(gradient_x, self.spacing[0], axis = 1, edge_order = 1)\n",
    "        rate_of_change_y = -self.k * np.gradient(gradient_y, self.spacing[1], axis = 0, edge_order = 1)\n",
    "        self.field -= dt * (rate_of_change_x + rate_of_change_y)\n",
    "        self.time_elapsed += dt\n",
    "\n",
    "    def plot_field(self, cmap: str = 'viridis'):\n",
    "        \"\"\"Plot the current field.\n",
    "\n",
    "        Parameters\n",
    "        ----------\n",
    "        cmap : str, optional\n",
    "            The colormap to use for plotting, default is 'viridis'.\n",
    "\n",
    "        Returns\n",
    "        -------\n",
    "        None\n",
    "            This method generates and displays a plot of the current field.\n",
    "        \"\"\"\n",
    "        plt.imshow(self.field, cmap = cmap)\n",
    "        plt.title(\"Model field after {} seconds\".format(self.time_elapsed))\n",
    "        plt.colorbar()\n",
    "        plt.show()\n",
    "</details>"
   ]
  },
  {
   "cell_type": "markdown",
   "id": "31",
   "metadata": {},
   "source": [
    "**2) Write Unit Tests**\n",
    "\n",
    "Please complete the unit test functions listed below for the Diffusion2D class. The @pytest.fixture is used to provide a fixed setup that your tests can use. It’s useful for preparing reusable objects, like initializing a model or setting up a temporary directory, so that each test can focus only on what it needs to validate. "
   ]
  },
  {
   "cell_type": "code",
   "execution_count": null,
   "id": "32",
   "metadata": {},
   "outputs": [],
   "source": [
    "import numpy as np\n",
    "import pytest\n",
    "\n",
    "\n",
    "@pytest.fixture\n",
    "def default_model():\n",
    "    \"\"\"Fixture to create a default Diffusion2D model.\"\"\"\n",
    "    field = np.array([[0, 0, 0], [0, 1, 0], [0, 0, 0]])\n",
    "    spacing = (1.0, 1.0)\n",
    "    diffusivity = 0.1\n",
    "    return (\n",
    "        Diffusion2D(field.copy(), spacing, diffusivity),\n",
    "        field.copy(),\n",
    "        spacing,\n",
    "        diffusivity,\n",
    "    )\n",
    "\n",
    "\n",
    "def test_initialization(default_model):\n",
    "    pass  # remove pass and add your code\n",
    "\n",
    "\n",
    "def test_calc_stable_time_step(default_model):\n",
    "    pass  # remove pass and add your code\n",
    "\n",
    "\n",
    "def test_run_one_step(default_model):\n",
    "    pass  # remove pass and add your code\n",
    "\n",
    "\n",
    "# feel free to add additional unit test functions"
   ]
  },
  {
   "cell_type": "markdown",
   "id": "33",
   "metadata": {},
   "source": [
    "<details>\n",
    "    <summary style=\"color: red;\"><b>Click to show unit test functions</b></summary>\n",
    "\n",
    "```python\n",
    "import numpy as np\n",
    "import pytest\n",
    "from diffusion_model import Diffusion2D\n",
    "\n",
    "\n",
    "@pytest.fixture\n",
    "def default_model():\n",
    "    \"\"\"Fixture to create a default Diffusion2D model.\"\"\"\n",
    "    field = np.array([[0.0, 0.0, 0.0], [0.0, 1.0, 0.0], [0.0, 0.0, 0.0]])\n",
    "    spacing = (1.0, 1.0)\n",
    "    diffusivity = 0.1\n",
    "    return Diffusion2D(field.copy(), spacing, diffusivity), field.copy(), spacing, diffusivity\n",
    "\n",
    "def test_initialization(default_model):\n",
    "    \"\"\"Test that Diffusion2D initializes with correct parameters.\"\"\"\n",
    "    model, field, spacing, diffusivity = default_model\n",
    "    assert np.array_equal(model.field, field)\n",
    "    assert model.spacing == spacing\n",
    "    assert model.k == diffusivity\n",
    "    assert model.time_elapsed == 0.0\n",
    "\n",
    "def test_calc_stable_time_step(default_model):\n",
    "    \"\"\"Test that stable time step is calculated correctly.\"\"\"\n",
    "    model, _, spacing, diffusivity = default_model\n",
    "    stable_time_step = model.calc_stable_time_step(cfl=0.1)\n",
    "    expected = 0.1 * spacing[0] * spacing[1] / diffusivity\n",
    "    assert stable_time_step == expected\n",
    "\n",
    "def test_run_one_step(default_model):\n",
    "    \"\"\"Test that running one time step updates field and time.\"\"\"\n",
    "    model, field, _, _ = default_model\n",
    "    model.run_one_step(0.1)\n",
    "    assert not np.array_equal(model.field, field)\n",
    "    assert model.time_elapsed == 0.1\n",
    "\n",
    "def test_run_one_step_no_diffusion():\n",
    "    \"\"\"Test that a zero-initialized field remains unchanged after one step.\"\"\"\n",
    "    field = np.array([[0.0, 0.0, 0.0], [0.0, 0.0, 0.0], [0.0, 0.0, 0.0]])\n",
    "    model = Diffusion2D(field.copy(), (1.0, 1.0), 0.1)\n",
    "    model.run_one_step(0.1)\n",
    "    assert np.array_equal(model.field, field)\n",
    "    assert model.time_elapsed == 0.1\n",
    "    \n",
    "</details>"
   ]
  },
  {
   "cell_type": "markdown",
   "id": "34",
   "metadata": {},
   "source": [
    "**3) Run Unit Tests**\n",
    "\n",
    "Follow the steps shown in the \"Run Unit Tests\" section to run the unit tests for the Diffution2D class on your computer. \n",
    "\n",
    "For step 3, remember to add one line of python code to import the Diffusion2D class in the unit test file.\n",
    "\n",
    "For step 4, you will need to install additional Python packages used by the Diffusion2D class (e.g. numpy, matplotlib) within the conda environment you created for unit testing."
   ]
  }
 ],
 "metadata": {
  "kernelspec": {
   "display_name": "Python 3 (ipykernel)",
   "language": "python",
   "name": "python3"
  },
  "language_info": {
   "codemirror_mode": {
    "name": "ipython",
    "version": 3
   },
   "file_extension": ".py",
   "mimetype": "text/x-python",
   "name": "python",
   "nbconvert_exporter": "python",
   "pygments_lexer": "ipython3",
   "version": "3.11.12"
  }
 },
 "nbformat": 4,
 "nbformat_minor": 5
}
