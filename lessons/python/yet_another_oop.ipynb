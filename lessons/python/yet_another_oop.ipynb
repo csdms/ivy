{
 "cells": [
  {
   "cell_type": "markdown",
   "metadata": {},
   "source": [
    "# Object-oriented programming"
   ]
  },
  {
   "cell_type": "markdown",
   "metadata": {
    "vscode": {
     "languageId": "plaintext"
    }
   },
   "source": [
    "### Goals for this lesson\n",
    "1. Learn how to use classes to encapsulate data and functions in Python.\n",
    "2. Build a class that implements a 2D diffusion model.\n",
    "3. Understand why you might want to adopt an object-oriented approach in your own research code."
   ]
  },
  {
   "cell_type": "code",
   "execution_count": 1,
   "metadata": {},
   "outputs": [],
   "source": [
    "import numpy as np\n",
    "import matplotlib.pyplot as plt"
   ]
  },
  {
   "cell_type": "markdown",
   "metadata": {},
   "source": [
    "### Why should you use classes? or, POP vs. OOP\n",
    "#### The world of POP\n",
    "Up until now, we have mostly stayed in the world of \"procedure-oriented programming\" (POP). You write a series of instructions for the computer - \"procedures\" - hopefully start to organize them into functions, and then call those functions on some data. This is a fine approach when we're dealing with short programs and small amounts of data, but isn't always the best strategy when confronted with more complex problems.\n",
    "\n",
    "#### Exercise 1) POP strategies\n",
    "For each exercise below, think through how you would solve the problem using array operations, for-loops, and functions. Write down a few lines of pseudocode or even just comments to map out a strategy to solve each problem. The point is not to get your code working perfectly, but to get you to engage with a few examples where the POP paradigm struggles."
   ]
  },
  {
   "cell_type": "markdown",
   "metadata": {},
   "source": [
    "__1a. Model comparison.__\n",
    "\n",
    "Let's say we have 5 different models we want to compare, each with different diffusivity values [k1, k2, ..., k5]. We want to run each of these models, using our functions from before. They'll have the same initial_profile array, but we want to compare the results from each model run after the fact.\n",
    "\n",
    "__1b. Swapping out processes.__\n",
    "\n",
    "After running 1a, above, we realize that we actually want to plot each model's progress as we go along, let's say every 10 time steps or so. And further, we also want to include a new process, called advect_one_step, after we run diffusion in each time step. Modify your previous solution to include those new requirements. (Don't worry about writing a function called advect_one_step, just pretend it is already defined for you.)\n",
    "\n",
    "__1c. Multiple initial profiles.__\n",
    "\n",
    "Finally, we now have to do this for 3 initial profiles: [step, convex, planar]. We want to include the same processes for all of them, but for the step profile we need to also need to include a new function, fix_shock_condition after advection. \n",
    "\n",
    "*Reflect: take a look at your notes or the pseudocode for each of these exercises. How much code did you write? How much code did you repeat? If you had to return to this in a month, or pass it off to a collaborator, how difficult would it be to understand? What if you needed to do the same exact series of steps for a different case study? If you found a mistake, would you be able to fix it in one place, or would you need to modify several different blocks of code?*\n",
    "\n"
   ]
  },
  {
   "cell_type": "markdown",
   "metadata": {
    "vscode": {
     "languageId": "plaintext"
    }
   },
   "source": [
    "#### The world of OOP\n",
    "A different way we can organize our code is called \"object-oriented programming\" (OOP). The core idea in OOP is to link our data with the functions that operate on the data. In Python, we'll do this with classes. Note that this isn't the only approach - you can totally solve all the problems I mentioned above with clever implementations of functions. But, there are a few really nice benefits to OOP in the context of scientific modeling:\n",
    "- We have to organize our code into logical chunks.\n",
    "- That means we can build big programs by dividing them into small pieces.\n",
    "- It's really easy for users (that includes you!) to figure out which functions get to modify a chunk of data.\n",
    "- It's easier to return to code that we wrote a long time ago and understand what's happening.\n",
    "- We won't have to copy+paste or repeat code.\n",
    "- If we want to change something, we only have to change it in one place."
   ]
  },
  {
   "cell_type": "markdown",
   "metadata": {},
   "source": [
    "# Intro to classes\n",
    "Using a class consists of two steps: first we make a blueprint that defines the object, then we make an instance of the object to use it. If you think about it, we actually do the same thing with functions. Here's an example:"
   ]
  },
  {
   "cell_type": "code",
   "execution_count": 2,
   "metadata": {},
   "outputs": [],
   "source": [
    "# \"def\" means we are defining a function\n",
    "\n",
    "def my_function(arg_1, arg_2):  # the function gets a name, \"my_function\"\n",
    "    # and it takes two arguments, \"arg_1\" and \"arg_2\"\n",
    "    result = arg_1 * arg_2  # we can make new variables inside the function\n",
    "\n",
    "    return result  # and at the end we should return something"
   ]
  },
  {
   "cell_type": "markdown",
   "metadata": {},
   "source": [
    "Wait, we just ran the code and it didn't do anything! That's because all we've done here is define the function. To use it, we would have to do something like:"
   ]
  },
  {
   "cell_type": "code",
   "execution_count": 3,
   "metadata": {},
   "outputs": [
    {
     "name": "stdout",
     "output_type": "stream",
     "text": [
      "200\n"
     ]
    }
   ],
   "source": [
    "# use the function\n",
    "answer = my_function(100, 2)\n",
    "print(answer)"
   ]
  },
  {
   "cell_type": "markdown",
   "metadata": {},
   "source": [
    "Let's keep this in mind as we look at classes. First, instead of using \"def\" we'll define a class by calling it ... a class!\n",
    "\n",
    "##### ***Classes are objects that hold data and the functions that will operate on the data.***\n"
   ]
  },
  {
   "cell_type": "code",
   "execution_count": 4,
   "metadata": {},
   "outputs": [],
   "source": [
    "class MyModel:\n",
    "    pass"
   ]
  },
  {
   "cell_type": "markdown",
   "metadata": {},
   "source": [
    "Without the <tt>pass</tt> statement, this raises an error - similar to the error you would get if you tried to make a function that didn't do anything. Let's keep going. The first thing we need to do is tell Python how to deal with a brand-new instance of this object. We'll do that by defining a \"method.\" \n",
    "\n",
    "##### ***Methods are functions that belong to a particular class.***"
   ]
  },
  {
   "cell_type": "code",
   "execution_count": 5,
   "metadata": {},
   "outputs": [],
   "source": [
    "class MyModel:\n",
    "    def __init__(self, a):\n",
    "        self.a = a"
   ]
  },
  {
   "cell_type": "markdown",
   "metadata": {},
   "source": [
    "Let's take a sec and look carefully at what's going on here. First, we have a weird function that's idented a level. This is a method, and we'll treat it exactly like a function, with two exceptions:\n",
    "1. Indent methods (along with everything else in a class) one level inside the class definition.\n",
    "2. The first argument to a method should be \"self.\"\n",
    "\n",
    "Note that unlike a lot of things in Python, you can't name \"self\" whatever you want. In this case, it's a reserved keyword that will **always** refer to an instance of the object.\n",
    "\n",
    "Also, what's with the weird double-underscores on either side of <tt>\\_\\_init\\_\\_</tt>? and why call it <tt>init</tt> instead of something like <tt>initialize</tt>? This is another reserved phrase in Python. Functions that we define ourselves, like <tt>my_function</tt>, we can name whatever we want. But some functions in Python are built-in - that is, they are given reserved names, and Python will call them using those reserved names in certain situations.\n",
    "\n",
    "For example, <tt>\\_\\_init\\_\\_</tt> gets called when we make a new instance of the class:\n"
   ]
  },
  {
   "cell_type": "code",
   "execution_count": 6,
   "metadata": {},
   "outputs": [],
   "source": [
    "model = MyModel(100)"
   ]
  },
  {
   "cell_type": "markdown",
   "metadata": {},
   "source": [
    "Notice that we don't need to specify self. It is implicitly filled in, so we just need to include the arguments after it (in this case, *a*). This will be true every time we call a method. \n",
    "\n",
    "Now, all of the code we added to the init method was called when we made an instance of MyModel. (Try it out! Add a print statement inside the init method.) In this case, we told Python that *self* - the instance of the model we just made - should have an *attribute* that is equal to the argument a.\n",
    "\n",
    "##### ***Attributes are pieces of data that belong to an instance of a class.***\n",
    "\n",
    "We can access attributes using the same \"dot\" syntax that we used to make them:"
   ]
  },
  {
   "cell_type": "code",
   "execution_count": 7,
   "metadata": {},
   "outputs": [
    {
     "data": {
      "text/plain": [
       "100"
      ]
     },
     "execution_count": 7,
     "metadata": {},
     "output_type": "execute_result"
    }
   ],
   "source": [
    "model.a"
   ]
  },
  {
   "cell_type": "markdown",
   "metadata": {},
   "source": [
    "To make a new method, we'll just keep adding text to the class definition. We still need to specify *self* as the first argument to the method. We can use class attributes inside methods - in fact, that's one great reason to use classes! And, we can either have them return results, or store those results as new attributes."
   ]
  },
  {
   "cell_type": "code",
   "execution_count": 8,
   "metadata": {},
   "outputs": [
    {
     "name": "stdout",
     "output_type": "stream",
     "text": [
      "4\n",
      "4\n"
     ]
    }
   ],
   "source": [
    "class MyModel:\n",
    "    def __init__(self, a):\n",
    "        self.a = a\n",
    "\n",
    "    def add(self, b):\n",
    "        self.b = self.a + b\n",
    "\n",
    "    def add_and_return(self, b):\n",
    "        return self.a + b\n",
    "model = MyModel(2)\n",
    "model.add(2)\n",
    "print(model.b)\n",
    "print(model.add_and_return(2))"
   ]
  },
  {
   "cell_type": "markdown",
   "metadata": {},
   "source": [
    "**Important note:** attributes can be anything you want: strings, numbers, dictionaries, arrays - even other classes!"
   ]
  },
  {
   "cell_type": "markdown",
   "metadata": {},
   "source": [
    "# Building a class\n",
    "In the rest of this lesson, we're going to take our diffusion model and implement it within a class. As we go along, hopefully you'll start to see how object-oriented programming can be a useful approach for organizing our ideas.\n",
    "\n",
    "### Exercise 2)"
   ]
  },
  {
   "cell_type": "code",
   "execution_count": 9,
   "metadata": {},
   "outputs": [],
   "source": [
    "# Make a blank template for your diffusion class.\n",
    "# 2a) Name it something descriptive, like DiffusionModel.\n",
    "# 2b) Define the __init__ method - what should it take as arguments?\n",
    "\n",
    "\n"
   ]
  },
  {
   "cell_type": "markdown",
   "metadata": {},
   "source": [
    "Note that the process of building a class is already asking us to think a bit more carefully about our model. What data do we need to provide to our model? Should any of the arguments have default values?\n",
    "\n",
    "If we do want to add a default value, we can do that using the following syntax:"
   ]
  },
  {
   "cell_type": "code",
   "execution_count": 10,
   "metadata": {},
   "outputs": [
    {
     "name": "stdout",
     "output_type": "stream",
     "text": [
      "100\n"
     ]
    }
   ],
   "source": [
    "class MyModel:\n",
    "    def __init__(self, a = 100):\n",
    "        self.a = a\n",
    "\n",
    "model = MyModel()\n",
    "print(model.a)"
   ]
  },
  {
   "cell_type": "markdown",
   "metadata": {},
   "source": [
    "Note that we can always override the default value. For example:"
   ]
  },
  {
   "cell_type": "code",
   "execution_count": 11,
   "metadata": {},
   "outputs": [
    {
     "name": "stdout",
     "output_type": "stream",
     "text": [
      "1\n"
     ]
    }
   ],
   "source": [
    "class MyModel:\n",
    "    def __init__(self, a = 100):\n",
    "        self.a = a\n",
    "\n",
    "model = MyModel(1)\n",
    "print(model.a)"
   ]
  },
  {
   "cell_type": "markdown",
   "metadata": {},
   "source": [
    "We could also include the default value as a *class attribute*:"
   ]
  },
  {
   "cell_type": "code",
   "execution_count": 12,
   "metadata": {},
   "outputs": [
    {
     "data": {
      "text/plain": [
       "10"
      ]
     },
     "execution_count": 12,
     "metadata": {},
     "output_type": "execute_result"
    }
   ],
   "source": [
    "class MyModel:\n",
    "    g = 10\n",
    "\n",
    "    def __init__(self, a = 100):\n",
    "        self.a = a\n",
    "\n",
    "model = MyModel()\n",
    "model.g"
   ]
  },
  {
   "cell_type": "markdown",
   "metadata": {},
   "source": [
    "\n",
    "This means that any instance of the class will have access to it, and we *really* don't want users to change the value. Note that they still can, however. (Try it!) A bonus is that class attributes can be accessed without needing an instance of the class (by calling MyModel.g, for example).  "
   ]
  },
  {
   "cell_type": "code",
   "execution_count": 13,
   "metadata": {},
   "outputs": [
    {
     "data": {
      "text/plain": [
       "10"
      ]
     },
     "execution_count": 13,
     "metadata": {},
     "output_type": "execute_result"
    }
   ],
   "source": [
    "MyModel.g"
   ]
  },
  {
   "cell_type": "markdown",
   "metadata": {},
   "source": [
    "### Quick aside about documentation"
   ]
  },
  {
   "cell_type": "markdown",
   "metadata": {},
   "source": [
    "\n",
    "Before we write too much more code, we're going to take a moment to *document* our class. This will help users understand what it does, and help us remember our ideas when we return to the code later. First, let's add a good docstring. This is text that can be automatically read by many programs, including the built-in <tt>help()</tt> function."
   ]
  },
  {
   "cell_type": "code",
   "execution_count": 14,
   "metadata": {},
   "outputs": [],
   "source": [
    "# 2c) Add a docstring to the class. It looks like this:\n",
    "# class ExampleClass:\n",
    "#     \"\"\"This is a one-line description of the class.\n",
    "#     \n",
    "#     This is a more detailed description of the class.\n",
    "#     \n",
    "#     Attributes:\n",
    "#         foo: description\n",
    "#         bar: description\n",
    "#     \"\"\"\n"
   ]
  },
  {
   "cell_type": "code",
   "execution_count": 15,
   "metadata": {},
   "outputs": [],
   "source": [
    "# Try it out! Use the help() function to see the docstring.\n"
   ]
  },
  {
   "cell_type": "markdown",
   "metadata": {},
   "source": [
    "Next, let's add two more small details to the <tt>\\_\\_init\\_\\_</tt> method. First, we'll add a top-level docstring, using the same triple-quotes as above. Then, we'll also add *type hints* to the arguments and return values. This is extra, and often unnecessary, but I (and many others in CSDMS) like to use it to help us quickly see and understand what a function is asking for and returning. You could use external programs like *mypy* or *typeguard* to enforce these type hints, but Python will ignore them by default."
   ]
  },
  {
   "cell_type": "code",
   "execution_count": 16,
   "metadata": {},
   "outputs": [],
   "source": [
    "# 2d) Add a docstring to the __init__ method, like this:\n",
    "# def __init__(self, ...):\n",
    "#     \"\"\"I'm a docstring!\"\"\"\n",
    "\n",
    "# 2e) Add type hints to the __init__ method, like this:\n",
    "# def __init__(self, foo: np.ndarray, bar: int, baz: float = 1.0):\n",
    "#     \"\"\"I'm a docstring!\"\"\"\n",
    "\n",
    "# Note you can also use type hints for the return value, like this:\n",
    "# def some_method(self, foo: int) -> np.ndarray:\n",
    "#     return np.arange(foo)\n"
   ]
  },
  {
   "cell_type": "markdown",
   "metadata": {},
   "source": [
    "### Back to building our class\n",
    "Now, let's finish up the rest of the DiffusionModel class. At this point, you should have everything you need."
   ]
  },
  {
   "cell_type": "markdown",
   "metadata": {},
   "source": [
    "![](../media/draw-the-owl.jpg)"
   ]
  },
  {
   "cell_type": "markdown",
   "metadata": {},
   "source": [
    "Just kidding. If you want, the following cells will walk through one way to approach this exercise. Remember that there are lots of possible approaches, however, so if you want to come up with your own strategy that's okay too!"
   ]
  },
  {
   "cell_type": "markdown",
   "metadata": {},
   "source": [
    "Here's a reminder of the problem we're going to solve. \n",
    "\n",
    "Given a 2D array of values $u$, a source term $S$, and a diffusivity $k$, evolve the following PDE forward in time:\n",
    "$$\n",
    "\\frac{\\partial u}{\\partial t} + \\nabla\\cdot q = S,\n",
    "$$\n",
    "where we model the flux $q$ using Fourier's law:\n",
    "$$\n",
    "q = -k\\nabla u.\n",
    "$$\n",
    "As long as $k$ is constant in space, we can substitute and get:\n",
    "$$\n",
    "\\frac{\\partial u}{\\partial t} - k\\nabla^2 u = S.\n",
    "$$\n",
    "\n",
    "Since this is a lesson about building classes in Python, and not about solutions to parabolic PDE's, let's make a few simplifying assumptions.\n",
    "1. Exclude the source term, such that S = 0.\n",
    "2. Let k be constant in space.\n",
    "3. Limit ourselves to a regular grid, so the spacing is uniform in both dimensions.\n",
    "\n",
    "At this point, you should be able to revise your <tt>\\_\\_init\\_\\_</tt> method to include 3 things:\n",
    "- a scalar field (what should the data type for this be?)\n",
    "- the grid spacing (with a different value for x and y)\n",
    "- a diffusivity parameter (remember that it is constant in space!)\n",
    "If you have more arguments in your <tt>\\_\\_init\\_\\_</tt>, that's okay too!"
   ]
  },
  {
   "cell_type": "markdown",
   "metadata": {},
   "source": [
    "### Exercise 3) Writing a solver\n",
    "Now, let's think about what our model needs to *do*. I'll propose three *methods* here, but feel free to add your own or rework things in a way that makes sense to you. \n",
    "\n",
    "I would start with the following methods:\n",
    "1. calc_stable_time_step()\n",
    "\n",
    "For reference, the stable time step $\\Delta t$ for 2D diffusion is given by:\n",
    "$$\n",
    "\\Delta t = C \\frac{dx\\cdot dy}{k},\n",
    "$$\n",
    "where $C$ is some constant (to start out, try 0.1 ish for this problem), $dx$ and $dy$ are the grid spacing, and $k$ is the diffusivity. Think about which of these values should be class attributes and which should be arguments to the method itself.\n",
    "\n",
    "2. plot_field()\n",
    "\n",
    "This one is fairly straightforward, but it's important to include ways to monitor your models before/during/after they run. I recommend using <tt>plt.imshow()</tt> to plot 2D data. Take a look at the API using help() or the [official documentation](https://matplotlib.org/stable/api/_as_gen/matplotlib.pyplot.imshow.html). We'll expand on this step later.\n",
    "\n",
    "3. run_one_step()\n",
    "\n",
    "Finally, let's write the actual solver. The first task here is to get the rate of change, $\\frac{\\partial u}{\\partial t}$ (see above). Previously, we used <tt>np.diff</tt> or similar, but you can also use <tt>np.gradient</tt>. Now that we're working in two dimensions, we'll have to take first and second derivatives in both *x* and *y*, so you should end up calculating 4 different arrays. A helpful identity is:\n",
    "$$\n",
    "\\nabla^2 f = \\frac{\\partial^2 f}{\\partial x^2} + \\frac{\\partial^2 f}{\\partial y^2}.\n",
    "$$\n",
    "\n",
    "Then, the second task is to update our solution field. A forward time step will work well here, as long as we keep our time step within the stable limit. Don't forget to multiply by *dt*!\n"
   ]
  },
  {
   "cell_type": "markdown",
   "metadata": {},
   "source": [
    "### Exercise 4) Plotting our results\n",
    "Lastly, we want to include a way to show off our model results! Make a new method that plots the model results. I recommend using <tt>plt.imshow</tt>, since we are modeling a problem in two dimensions. Here are a few things you should include:\n",
    "- A colorbar, so we can see the magnitude of the scalar field.\n",
    "- An option for users to pass their own colormap to the method.\n",
    "- A title that includes the amount of time that has elapsed in the model. (This might require you to add code to some of the other methods.)"
   ]
  },
  {
   "cell_type": "markdown",
   "metadata": {},
   "source": [
    "### Exercise 5) Test out your code\n",
    "Modify the following code block, using the class you designed. I've given you a starting condition (plot it to make sure it looks reasonable!). Your objective is to run the starting condition for 1 hour and see what your diffusion model predicts."
   ]
  },
  {
   "cell_type": "code",
   "execution_count": 17,
   "metadata": {},
   "outputs": [],
   "source": [
    "# Generate a starting condition\n",
    "x = np.linspace(-2, 2, 20)\n",
    "y = np.linspace(-2, 2, 20)\n",
    "X, Y = np.meshgrid(x, y)\n",
    "field = 5.0 * np.exp(-4 * (X**2 + Y**2))\n",
    "\n",
    "# Define model parameters\n",
    "spacing = (1.0, 1.0)\n",
    "diffusivity = 0.1\n",
    "\n",
    "# 5a) Initialize your model\n",
    "# ...\n",
    "\n",
    "# 5b) Plot the initial condition\n",
    "# ...\n",
    "\n",
    "# 5c) Calculate the stable time step\n",
    "# ...\n",
    "\n",
    "# 5d) Run the model for 1 hour\n",
    "# ...\n",
    "\n",
    "# 5e) Plot the final result\n",
    "# ...\n"
   ]
  },
  {
   "cell_type": "markdown",
   "metadata": {},
   "source": [
    "# Answer key"
   ]
  },
  {
   "cell_type": "markdown",
   "metadata": {},
   "source": [
    "<details>\n",
    "    <summary><b>Click here to see a solution</b></summary>\n",
    "\n",
    "```python\n",
    "# This is an example of the finalized Diffusion2D class\n",
    "class Diffusion2D:\n",
    "    \"\"\"Solves the 2D diffusion problem on a regular grid.\n",
    "    \n",
    "    Attributes:\n",
    "        field (np.ndarray): the 2D array of values to diffuse.\n",
    "        spacing (tuple): the grid spacing in (x, y) coordinates.\n",
    "        diffusivity (float): Parameter controlling the rate of diffusion.\n",
    "\n",
    "    Methods:\n",
    "        calc_stable_time_step(cfl: float = 0.1) -> float: Given a CFL number, calculate the stable time step for the model.\n",
    "        run_one_step(dt: float): Run one time step of dt seconds.\n",
    "        plot_field(): Plot the current field.\n",
    "    \"\"\"\n",
    "\n",
    "    def __init__(self, field: np.ndarray, spacing: tuple, diffusivity: float):\n",
    "        \"\"\"Initialize the model with a field of values and diffusivity parameter.\"\"\"\n",
    "        self.field = field\n",
    "        self.spacing = spacing\n",
    "        self.k = diffusivity\n",
    "        self.time_elapsed = 0.0\n",
    "\n",
    "    def calc_stable_time_step(self, cfl: float = 0.1) -> float:\n",
    "        \"\"\"Calculate the stable time step for the model.\"\"\"\n",
    "        return cfl * self.spacing[0] * self.spacing[1] / self.k\n",
    "\n",
    "    def run_one_step(self, dt: float):\n",
    "        \"\"\"Run one time step of dt seconds.\"\"\"\n",
    "        gradient_x = np.gradient(self.field, self.spacing[0], axis = 1, edge_order = 1)\n",
    "        gradient_y = np.gradient(self.field, self.spacing[1], axis = 0, edge_order = 1)\n",
    "        rate_of_change_x = -self.k * np.gradient(gradient_x, self.spacing[0], axis = 1, edge_order = 1)\n",
    "        rate_of_change_y = -self.k * np.gradient(gradient_y, self.spacing[1], axis = 0, edge_order = 1)\n",
    "        self.field -= dt * (rate_of_change_x + rate_of_change_y)\n",
    "        self.time_elapsed += dt\n",
    "\n",
    "    def plot_field(self, cmap: str = 'viridis'):\n",
    "        \"\"\"Plot the current field.\"\"\"\n",
    "        plt.imshow(self.field, cmap = cmap)\n",
    "        plt.title(\"Model field after {} seconds\".format(self.time_elapsed))\n",
    "        plt.colorbar()\n",
    "        plt.show()\n",
    "</details>"
   ]
  },
  {
   "cell_type": "markdown",
   "metadata": {},
   "source": [
    "<details>\n",
    "    <summary><b>Click here to see a solution</b></summary>\n",
    "\n",
    "```python\n",
    "x = np.linspace(-2, 2, 20)\n",
    "y = np.linspace(-2, 2, 20)\n",
    "X, Y = np.meshgrid(x, y)\n",
    "field = 5.0 * np.exp(-4 * (X**2 + Y**2))\n",
    "spacing = (1.0, 1.0)\n",
    "\n",
    "model = Diffusion2D(field, spacing, diffusivity = 0.1)\n",
    "print(model.calc_stable_time_step())\n",
    "model.plot_field()\n",
    "\n",
    "for i in range(60 * 60):\n",
    "    model.run_one_step(dt = 1.0)\n",
    "\n",
    "model.plot_field()\n",
    "\n",
    "</details>"
   ]
  }
 ],
 "metadata": {
  "kernelspec": {
   "display_name": "espin-2025-i_K4nWSq-py3.13",
   "language": "python",
   "name": "python3"
  },
  "language_info": {
   "codemirror_mode": {
    "name": "ipython",
    "version": 3
   },
   "file_extension": ".py",
   "mimetype": "text/x-python",
   "name": "python",
   "nbconvert_exporter": "python",
   "pygments_lexer": "ipython3",
   "version": "3.13.2"
  }
 },
 "nbformat": 4,
 "nbformat_minor": 4
}
