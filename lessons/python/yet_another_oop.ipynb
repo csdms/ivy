{
 "cells": [
  {
   "cell_type": "markdown",
   "id": "a5a686d8-288b-4fc4-82de-cc4045fbe884",
   "metadata": {},
   "source": [
    "# Introduction to Object-Oriented Programming"
   ]
  },
  {
   "cell_type": "code",
   "execution_count": 2,
   "id": "16b65d76-7454-42ab-81cb-ada3dc221ba1",
   "metadata": {},
   "outputs": [],
   "source": [
    "# Best practice: import everything at the top\n",
    "import numpy as np\n",
    "import matplotlib.pyplot as plt"
   ]
  },
  {
   "cell_type": "markdown",
   "id": "e712b64b-a640-4092-bb4c-7a0b1c957c4f",
   "metadata": {},
   "source": [
    "## Goals for this lesson\n",
    "1. Understand some of the advantages of object-oriented programming\n",
    "2. Learn how to use classes to encapsulate data and functions in Python\n",
    "3. Implement a class to solve a 1D diffusion problem"
   ]
  },
  {
   "cell_type": "markdown",
   "id": "33c44421-ac61-469f-891b-54aaee022439",
   "metadata": {},
   "source": [
    "# Why should you use classes? or, POP vs. OOP"
   ]
  },
  {
   "cell_type": "markdown",
   "id": "771eb974-1531-47ac-9879-71d357955acf",
   "metadata": {},
   "source": [
    "# The world of POP"
   ]
  },
  {
   "cell_type": "markdown",
   "id": "aa819cc2-d40b-4e4d-a681-24e7f196cd5b",
   "metadata": {},
   "source": [
    "Up until now, we have mostly stayed in the world of \"procedure-oriented programming\" (POP). You write a series of instructions for the computer - \"procedures\" - probably start to organize them into functions, and then call those functions on a bunch of data. This works great when you have a simple problem where you can organize your code like this:"
   ]
  },
  {
   "cell_type": "code",
   "execution_count": 372,
   "id": "4176e609-72bf-4670-b429-1a9d4476294a",
   "metadata": {},
   "outputs": [],
   "source": [
    "# Step 1) deal with our data\n",
    "baseline_temperature = -10.0\n",
    "temperature_amplitude = 25.0\n",
    "time_steps = np.arange(3650)\n",
    "air_temperature = baseline_temperature + temperature_amplitude * np.sin(2 * np.pi / 365 * time_steps)\n",
    "\n",
    "# Step 2) make some functions\n",
    "def calc_derivative(temperature):\n",
    "    # does something cool\n",
    "    pass\n",
    "\n",
    "def calc_flux(derivative):\n",
    "    # does something also very cool\n",
    "    pass\n",
    "\n",
    "def calc_divergence(flux):\n",
    "    # maybe we're not entirely sure why this works, but it does\n",
    "    pass\n",
    "\n",
    "def plot_results(temperature):\n",
    "    # hopefully our array has the right shape, otherwise this might break\n",
    "    pass\n",
    "\n",
    "# Step 3) run the actual model\n",
    "for t in time_steps:\n",
    "    dT = calc_derivative(air_temperature)\n",
    "    flux = calc_flux(dT)\n",
    "    divergence = calc_divergence(flux)\n",
    "    plot_results(divergence)"
   ]
  },
  {
   "cell_type": "markdown",
   "id": "f3adb0f1-d8b7-4603-b665-259e534c2b4c",
   "metadata": {},
   "source": [
    "This is all very well and good, and actually quite easy to read and understand when it's a small example like this one. But what would happen if we wanted to run a few models with new sets of parameters? We might end up, for example, with a bunch of arrays with names like <tt>surface_temperature_plus_2_degrees</tt>, <tt>surface_temperature_plus_8_degrees_daily_dt</tt>, <tt>surface_temperature_plus_8_degrees_monthly_dt</tt>, and so on. Then, we might need to change one or two things in our functions for each scenario, so we'll make a few new ones with names like <tt>calc_flux_with_geotherm</tt> or <tt>plot_results_year_by_year</tt>. Pretty soon, we're not going to be able to hold all this information in our head, and that's when we'll start to introduce hidden bugs. What happens if we run these functions multiple times for different climate scenarios, but each time we're accidentally modifying the same set of arrays? What happens if we have a bunch of functions that have really similar logic, and we decide to change one line? How many times will we have to make that same change? What would we do if we wanted to run a sensitivity analysis with hundreds of combinations of parameters?"
   ]
  },
  {
   "cell_type": "markdown",
   "id": "f2760543-b624-4187-b3df-91a937aed736",
   "metadata": {},
   "source": [
    "# The world of OOP"
   ]
  },
  {
   "cell_type": "markdown",
   "id": "d16d8a99-9ef2-40fe-994b-36405e5ac5f8",
   "metadata": {},
   "source": [
    "A different way we can organize our code is called \"object-oriented programming\" (OOP). The core idea in OOP is to link our *data* with the *functions* that operate on those data. In Python, we'll do this with **classes**. Note that this isn't the only approach - you can totally solve all the problems I mentioned above with clever implementations of functions. But, there are a few really nice benefits to OOP in the context of scientific modeling:\n",
    "* We have to organize our code into logical chunks\n",
    "* That means we can build big programs by dividing them into small pieces\n",
    "* It's really easy for users (that includes you!) to figure out which functions get to modify a chunk of data\n",
    "* It's easier to return to code that you wrote a long time ago and understand what's happening\n",
    "* We won't have to copy+paste or repeat code very often (if at all)"
   ]
  },
  {
   "cell_type": "markdown",
   "id": "b6aabb96-d1d3-4476-bf2d-9d90204942e3",
   "metadata": {},
   "source": [
    "# Intro to classes"
   ]
  },
  {
   "cell_type": "markdown",
   "id": "08630cbe-cca1-44bf-b758-fcd5b600ec8e",
   "metadata": {},
   "source": [
    "Using a class consists of two steps: first we make a blueprint that defines the object, then we make an instance of the object to use it. If you think about it, we actually do the same thing with functions. Here's an example:"
   ]
  },
  {
   "cell_type": "code",
   "execution_count": 318,
   "id": "fa2dfe7d-1459-4f95-b74d-51a2f1404475",
   "metadata": {},
   "outputs": [],
   "source": [
    "# \"def\" means we are defining a function\n",
    "def my_function(arg_1, arg_2): # the function gets a name, \"my_function\"\n",
    "    # and it takes two arguments, \"arg_1\" and \"arg_2\"\n",
    "    result = arg_1 * arg_2 # we can make new variables inside the function\n",
    "    \n",
    "    return result # and at the end we should return something"
   ]
  },
  {
   "cell_type": "markdown",
   "id": "5d0a67dc-81bb-464e-b1a3-80d70216294e",
   "metadata": {},
   "source": [
    "Wait, we just ran the code and it didn't do anything! That's because all we've done here is define the function. To use it, we would have to do something like:"
   ]
  },
  {
   "cell_type": "code",
   "execution_count": 319,
   "id": "e8160be4-5760-4136-bd19-ce6d9aa1b2e0",
   "metadata": {},
   "outputs": [
    {
     "name": "stdout",
     "output_type": "stream",
     "text": [
      "200\n"
     ]
    }
   ],
   "source": [
    "# use the function\n",
    "answer = my_function(100, 2)\n",
    "print(answer)"
   ]
  },
  {
   "cell_type": "markdown",
   "id": "c2ec8701-b0fe-402d-9b3a-9808b42c6ea1",
   "metadata": {},
   "source": [
    "Let's keep this in mind as we look at classes. First, instead of using \"def\" we'll define a class by calling it ... a class!\n",
    "\n",
    "##### ***Classes are objects that hold data and the functions that will operate on the data.***"
   ]
  },
  {
   "cell_type": "code",
   "execution_count": 311,
   "id": "b005bf79-8e9a-422f-8155-35b6d74fc733",
   "metadata": {},
   "outputs": [
    {
     "ename": "SyntaxError",
     "evalue": "incomplete input (546207509.py, line 1)",
     "output_type": "error",
     "traceback": [
      "\u001b[0;36m  Cell \u001b[0;32mIn[311], line 1\u001b[0;36m\u001b[0m\n\u001b[0;31m    class MyModel:\u001b[0m\n\u001b[0m                  ^\u001b[0m\n\u001b[0;31mSyntaxError\u001b[0m\u001b[0;31m:\u001b[0m incomplete input\n"
     ]
    }
   ],
   "source": [
    "class MyModel:"
   ]
  },
  {
   "cell_type": "markdown",
   "id": "8f14bae4-f94f-4804-a2df-eb4d26fb61dc",
   "metadata": {},
   "source": [
    "This raises an error - similar to the error you would get if you tried to make a function that didn't do anything. Let's keep going. The first thing we need to do is tell Python how to deal with a brand-new instance of this object. We'll do that by defining a \"method.\" \n",
    "\n",
    "##### ***Methods are functions that belong to a particular class.***"
   ]
  },
  {
   "cell_type": "code",
   "execution_count": 326,
   "id": "d0b74872-ef9e-42f0-a8a0-b3376012c137",
   "metadata": {},
   "outputs": [],
   "source": [
    "class MyModel:\n",
    "\n",
    "    def __init__(self, a):\n",
    "        self.a = a"
   ]
  },
  {
   "cell_type": "markdown",
   "id": "f18c6872-8cd4-4c1e-8aba-ef123ee9cb68",
   "metadata": {},
   "source": [
    "Let's take a sec and look carefully at what's going on here. First, we have a weird function that's idented a level. This is a method, and we'll treat it exactly like a function, with two exceptions:\n",
    "1. Indent methods (along with everything else in a class) one level inside the class definition.\n",
    "2. The first argument to a method should be \"self.\"\n",
    "\n",
    "Note that unlike a lot of things in Python, you can't name \"self\" whatever you want. In this case, it's a reserved keyword that will **always** refer to an instance of the object.\n",
    "\n",
    "Also, what's with the weird double-underscores on either side of <tt>init</tt>? and why call it <tt>init</tt> instead of something like <tt>initialize</tt>? This is another reserved phrase in Python. Functions that we define ourselves, like <tt>my_function</tt>, we can name whatever we want. But some functions in Python are built-in - that is, they are given reserved names, and Python will call them using those reserved names in certain situations.\n",
    "\n",
    "For example, <tt>\\_\\_init\\_\\_</tt> gets called when we make a new instance of the class:"
   ]
  },
  {
   "cell_type": "code",
   "execution_count": 327,
   "id": "0cb8522a-72f5-459e-940c-463b3f0f1c79",
   "metadata": {},
   "outputs": [],
   "source": [
    "model = MyModel(100)"
   ]
  },
  {
   "cell_type": "markdown",
   "id": "09be78da-a682-440e-9f0d-21ee187b63d7",
   "metadata": {},
   "source": [
    "Notice that we don't need to specify self. It is implicitly filled in, so we just need to include the arguments after it (in this case, *a*). This will be true every time we call a method. \n",
    "\n",
    "Now, all of the code we added to the init method was called when we made an instance of MyModel. (Try it out! Add a print statement inside the init method.) In this case, we told Python that *self* - the instance of the model we just made - should have an *attribute* that is equal to the argument a.\n",
    "\n",
    "##### ***Attributes are pieces of data that belong to an instance of a class.***\n",
    "\n",
    "We can access attributes using the same \"dot\" syntax that we used to make them:"
   ]
  },
  {
   "cell_type": "code",
   "execution_count": 328,
   "id": "e30f7525-7dc2-4970-bb56-d3ddd4918fb1",
   "metadata": {},
   "outputs": [
    {
     "data": {
      "text/plain": [
       "100"
      ]
     },
     "execution_count": 328,
     "metadata": {},
     "output_type": "execute_result"
    }
   ],
   "source": [
    "model.a"
   ]
  },
  {
   "cell_type": "markdown",
   "id": "68d55156-37a3-4e54-981c-0e76cf02c8fa",
   "metadata": {},
   "source": [
    "To make a new method, we'll just keep adding text to the class definition. We still need to specify *self* as the first argument to the method. We can use class attributes inside methods - in fact, that's one great reason to use classes! And, we can either have them return results, or store those results as new attributes."
   ]
  },
  {
   "cell_type": "code",
   "execution_count": 332,
   "id": "42d7ac94-966e-4c8b-b1d1-7651ccddff6d",
   "metadata": {},
   "outputs": [],
   "source": [
    "class MyModel:\n",
    "\n",
    "    def __init__(self, a):\n",
    "        self.a = a\n",
    "\n",
    "    def add(self, b):\n",
    "        self.b = self.a + b\n",
    "\n",
    "    def add_and_return(self, b):\n",
    "        return self.a + b"
   ]
  },
  {
   "cell_type": "code",
   "execution_count": 334,
   "id": "0220389b-771e-4e52-b0e8-980908b9cc35",
   "metadata": {},
   "outputs": [
    {
     "name": "stdout",
     "output_type": "stream",
     "text": [
      "4\n"
     ]
    }
   ],
   "source": [
    "model = MyModel(2)\n",
    "model.add(2)\n",
    "print(model.b)"
   ]
  },
  {
   "cell_type": "code",
   "execution_count": 335,
   "id": "ca1e24c7-fb41-48c6-9fe7-4a77a68f5af8",
   "metadata": {},
   "outputs": [
    {
     "name": "stdout",
     "output_type": "stream",
     "text": [
      "4\n"
     ]
    }
   ],
   "source": [
    "print(model.add_and_return(2))"
   ]
  },
  {
   "cell_type": "markdown",
   "id": "426d4cad-d718-4942-9f22-d96973fc4000",
   "metadata": {},
   "source": [
    "**Important note:** attributes can be anything you want: strings, numbers, dictionaries, arrays - even other classes!"
   ]
  },
  {
   "cell_type": "markdown",
   "id": "e998e99b-d582-4754-bab0-e123eef221cf",
   "metadata": {},
   "source": [
    "# Let's build a class!"
   ]
  },
  {
   "cell_type": "markdown",
   "id": "27dd142c-cd8b-427f-bb7e-0dbca0144ae6",
   "metadata": {},
   "source": [
    "I often find that I don't know what questions I have until I'm actually working with something. So, here's an example problem. It's a much simpler version of something that I'm actually using for research, and I chose to use a class to help me organize it. (More specifically, I made a couple different classes that all work together.)"
   ]
  },
  {
   "cell_type": "markdown",
   "id": "41203d29-5dc5-479c-a5d3-7af18e189d0b",
   "metadata": {},
   "source": [
    "### Motivation: What sets the temperature profile through an ice sheet?"
   ]
  },
  {
   "cell_type": "markdown",
   "id": "9f39a6d4-8d1a-45cb-b0f0-fadd6e77063d",
   "metadata": {},
   "source": [
    "We think about half of Greenland's contribution to sea level rise comes from ice discharge. The rate at which ice flows depends on its temperature in two pretty important ways: (1) warmer ice tends to be softer, and thus deforms faster, and (2) warm temperatures at the bed allow ice to slide more rapidly. On longer time scales, this also means that warm-bedded glaciers are much more efficient agents of erosion and sediment transport. We can usually measure the temperature at the surface of the ice sheet, but it's rare that we get to measure the temperature inside the ice. So, it's great opportunity to put together a simple numerical model to give us a prediction to work off of.\n",
    "\n",
    "Skipping over the full derivation, the temperature (we'll call it $T$) in one dimension can be modeled as:\n",
    "\n",
    "# $\\rho c\\left(\\frac{dT}{dt} + w\\frac{dT}{dz}\\right) = k\\frac{dT^2}{dz^2} + P.$\n",
    "\n",
    "The first term here is the time evolution of temperature, where $\\rho$ is the ice density and $c$ is the specific heat. Then, we have vertical advection, which advects cold ice downwards at some vertical velocity $w$. And then on the right-hand side, we have diffusion, modified by thermal conductivity $k$, and any sources or sinks of heat within the ice $P$.\n",
    "\n",
    "In the simplest possible case, we could ignore vertical advection and any sources or sinks of heat, which would reduce to Fourier's law:\n",
    "\n",
    "# $\\frac{dT}{dt} = \\kappa\\frac{dT^2}{dz^2},$\n",
    "\n",
    "where we have also wrapped up $k / (\\rho c)$ into a thermal diffusivity, $\\kappa$. We'll need some boundary conditions, so let's say that the temperature at the surface is equal to -10.0 C, and that the gradient of the temperature, $\\frac{dT}{dz} = 0$ at the bed. We could also consider adding a heat flux from the bed, perhaps from geothermal heating, but that will be a later exercise.\n",
    "\n",
    "Let's start putting this together in a class. You'll see that this will actually help us organize some of the ideas as we go along."
   ]
  },
  {
   "cell_type": "code",
   "execution_count": 379,
   "id": "e5e42cab-583e-424e-ac5b-6ce0fe372d6b",
   "metadata": {},
   "outputs": [],
   "source": [
    "class SimpleGlacier:\n",
    "    \"\"\"Models the temperature profile with a glacier.\n",
    "    \n",
    "    This model is based off of: \n",
    "    The Physics of Glaciers (Cuffey and Paterson, 2010).\n",
    "    Lecture notes from Andy Aschwanden (McCarthy school, summer 2012).\n",
    "\n",
    "    Attributes:\n",
    "        z: an array of z-coordinates\n",
    "    \"\"\"\n",
    "\n",
    "    def __init__(self, z: np.ndarray, ice_density: float = 917.0):\n",
    "        \"\"\"Initialize the model with an array of z-coordinates.\"\"\"\n",
    "        self.z = z\n",
    "        self.ice_density = ice_density\n",
    "\n",
    "    def run_one_step(self, dt: float) -> np.ndarray:\n",
    "        \"\"\"Advance the model by one step of size dt.\"\"\"\n",
    "        pass"
   ]
  },
  {
   "cell_type": "markdown",
   "id": "f9b5b52c-de85-4c00-803c-287866cf664d",
   "metadata": {},
   "source": [
    "Note that we've added a little bit of extra documentation. One piece of documentation is called type-hinting. By adding a colon after arguments in the function signature, or an arrow after the definition of a function, we can give the user hints as to the input/output types. It's super extra and unnecessary, but I (and many others in CSDMS) like to use it to help us visually see what's going on. You can also use external programs to enforce these types more strictly, but Python will ignore them by default.\n",
    "\n",
    "More importantly, whenever you see writing inside triple-quotes, it's called a *doc-string*. Basically, it's a string of text that can be automatically read by many different programs, to help people use your model. Try it out:"
   ]
  },
  {
   "cell_type": "code",
   "execution_count": 363,
   "id": "bc5b6258-ea43-4a08-b1a4-6c8c06ae9f87",
   "metadata": {},
   "outputs": [
    {
     "name": "stdout",
     "output_type": "stream",
     "text": [
      "Help on class SimpleGlacier in module __main__:\n",
      "\n",
      "class SimpleGlacier(builtins.object)\n",
      " |  SimpleGlacier(z: numpy.ndarray, ice_density: float = 917.0)\n",
      " |  \n",
      " |  Models the temperature profile with a glacier.\n",
      " |  \n",
      " |  This model is based off of: \n",
      " |  The Physics of Glaciers (Cuffey and Paterson, 2010).\n",
      " |  Lecture notes from Andy Aschwanden (McCarthy school, summer 2012).\n",
      " |  \n",
      " |  Attributes:\n",
      " |      z: an array of z-coordinates\n",
      " |  \n",
      " |  Methods defined here:\n",
      " |  \n",
      " |  __init__(self, z: numpy.ndarray, ice_density: float = 917.0)\n",
      " |      Initialize the model with an array of z-coordinates.\n",
      " |  \n",
      " |  run_one_step(self, dt: float) -> numpy.ndarray\n",
      " |      Advance the model by one step of size dt.\n",
      " |  \n",
      " |  ----------------------------------------------------------------------\n",
      " |  Data descriptors defined here:\n",
      " |  \n",
      " |  __dict__\n",
      " |      dictionary for instance variables\n",
      " |  \n",
      " |  __weakref__\n",
      " |      list of weak references to the object\n",
      "\n"
     ]
    }
   ],
   "source": [
    "help(SimpleGlacier)"
   ]
  },
  {
   "cell_type": "code",
   "execution_count": 364,
   "id": "56c97ced-a05d-4423-955f-c12e85e24b2d",
   "metadata": {},
   "outputs": [
    {
     "name": "stdout",
     "output_type": "stream",
     "text": [
      "Help on function run_one_step in module __main__:\n",
      "\n",
      "run_one_step(self, dt: float) -> numpy.ndarray\n",
      "    Advance the model by one step of size dt.\n",
      "\n"
     ]
    }
   ],
   "source": [
    "help(SimpleGlacier.run_one_step)"
   ]
  },
  {
   "cell_type": "markdown",
   "id": "30348321-17e4-48a4-b0c1-9e0ace3a2595",
   "metadata": {},
   "source": [
    "We also added an attribute with a default value. We could override this:"
   ]
  },
  {
   "cell_type": "code",
   "execution_count": 369,
   "id": "3e62dcb7-d12f-4f5f-a720-46e17e4e17ca",
   "metadata": {},
   "outputs": [
    {
     "name": "stdout",
     "output_type": "stream",
     "text": [
      "10000000000\n"
     ]
    }
   ],
   "source": [
    "model = SimpleGlacier(np.arange(10), 10000000000)\n",
    "print(model.ice_density)"
   ]
  },
  {
   "cell_type": "markdown",
   "id": "b899b575-1d8a-4f74-94d7-2310146034f6",
   "metadata": {},
   "source": [
    "But if we don't, we'll get the default value:"
   ]
  },
  {
   "cell_type": "code",
   "execution_count": 370,
   "id": "4639ce75-4725-4db7-8e86-116a74e80a51",
   "metadata": {},
   "outputs": [
    {
     "name": "stdout",
     "output_type": "stream",
     "text": [
      "917.0\n"
     ]
    }
   ],
   "source": [
    "model = SimpleGlacier(np.arange(10))\n",
    "print(model.ice_density)"
   ]
  },
  {
   "cell_type": "markdown",
   "id": "f0766574-7ee8-4957-aeb1-6196692d2828",
   "metadata": {},
   "source": [
    "At this point, you have all the tools you need to extend this class. First, let's add some more parameters: we'll want the thermal conductivity (often 2.1 W m$^{-1}$ K$^{-1}$), the ice density (often 917 kg m$^{-3}$), and the specific heat capacity of ice (2,093 J K$^{-1}$ kg$^{-1}$). Let's also make a decision here: since we don't think anyone will really want to change these values, **don't include them as arguments to \\_\\_init\\_\\_.** Instead, add them as attributes automatically when the class is instantiated.\n",
    "\n",
    "### Question: if you wanted to, could you still change these parameter values for a particular instance of the class?\n",
    "(Try it!)\n",
    "\n",
    "### Next, write a method to calculate the thermal diffusivity. \n",
    "(It's up to you if you want to store that value as an attribute or return it directly.)"
   ]
  },
  {
   "cell_type": "code",
   "execution_count": null,
   "id": "20dc1ec1-3e83-45d3-89ee-2c4a9ace143a",
   "metadata": {},
   "outputs": [],
   "source": []
  },
  {
   "cell_type": "markdown",
   "id": "2ef7596d-bb6f-4484-9c85-d435282d6d32",
   "metadata": {},
   "source": [
    "Now, let's write the rest of the model. This will be mostly self-directed."
   ]
  },
  {
   "cell_type": "markdown",
   "id": "f95f8fcd-f0da-4cce-a2c2-8e5dcb968d9f",
   "metadata": {},
   "source": [
    "![rest-of-the-owl](./media/draw-the-owl.jpg)"
   ]
  },
  {
   "cell_type": "markdown",
   "id": "4d4b08d0-7027-4fae-909e-4fe8d43c2113",
   "metadata": {},
   "source": [
    "Just kidding - here's a template, but feel free to draw your own owl :)"
   ]
  },
  {
   "cell_type": "code",
   "execution_count": 52,
   "id": "0fe24f77-be64-4235-88b6-b7f766d72be7",
   "metadata": {},
   "outputs": [],
   "source": [
    "class SimpleGlacier:\n",
    "    \"\"\"Models the temperature profile with a glacier.\n",
    "    \n",
    "    This model is based off of: \n",
    "    The Physics of Glaciers (Cuffey and Paterson, 2010).\n",
    "    Lecture notes from Andy Aschwanden (McCarthy school, summer 2012).\n",
    "\n",
    "    Attributes:\n",
    "        z: an array of z-coordinates\n",
    "        temperature: an array representing the temperature profile with depth\n",
    "    \"\"\"\n",
    "\n",
    "    def __init__(self, z: np.ndarray, initial_temperature: np.ndarray):\n",
    "        \"\"\"Initialize the model with arrays of z-coordinates and initial temperature profile.\"\"\"\n",
    "        self.z = z\n",
    "        self.temperature = initial_temperature\n",
    "\n",
    "        # We probably want to calculate dz --> try using np.gradient\n",
    "        self.dz = np.gradient(self.z)\n",
    "        # Note: I didn't realize this when I originally wrote the class, but we won't need dz\n",
    "        # Want to know why? Check out the documentation for np.gradient -> https://numpy.org/doc/stable/reference/generated/numpy.gradient.html\n",
    "        \n",
    "        # We'll need attributes for rho, c, and k\n",
    "        # You could also store info about boundary conditions at this point, if you want\n",
    "        self.rho = 917\n",
    "        self.c = 2093\n",
    "        self.k = 2.1\n",
    "\n",
    "        # Let's store boundary conditions too\n",
    "        self.surface_temperature = -10.0\n",
    "        self.basal_heat_flux = 0.0\n",
    "    \n",
    "        # Maybe we should go ahead and calculate diffusivity right away?\n",
    "        self.kappa = self.calc_diffusivity()\n",
    "    \n",
    "        # Let's keep track of the elapsed time\n",
    "        self.time_elapsed = 0.0\n",
    "\n",
    "    def calc_diffusivity(self) -> float:\n",
    "        \"\"\"From above, kappa = k / (rho * c).\"\"\"\n",
    "        return self.k / (self.rho * self.c)\n",
    "\n",
    "    def calc_heat_flux(self) -> np.ndarray:\n",
    "        \"\"\"The heat flux is -kappa * dT / dz.\"\"\"\n",
    "        \n",
    "        # How should we calculate the difference in temperature with depth? (hint: see dz, above)\n",
    "        temperature_gradient = np.gradient(self.temperature, self.z)\n",
    "\n",
    "        # Are dT and dz the same size? Are they the same size as z?\n",
    "        assert temperature_gradient.shape == self.dz.shape == self.z.shape\n",
    "\n",
    "        # Don't forget to apply boundary conditions! The heat flux at the bed should be zero, for now.\n",
    "        temperature_gradient[-1] = self.basal_heat_flux\n",
    "\n",
    "        return -self.kappa * temperature_gradient\n",
    "        \n",
    "    def calc_divergence(self) -> np.ndarray:\n",
    "        \"\"\"In 1D, divergence is just the derivative. yay!\"\"\"\n",
    "        heat_flux = self.calc_heat_flux()\n",
    "        \n",
    "        flux_divergence = np.gradient(heat_flux, self.z)\n",
    "        \n",
    "        return flux_divergence\n",
    "    \n",
    "    def run_one_step(self, dt: float):\n",
    "        \"\"\"Advance the model by one step of size dt.\"\"\"\n",
    "        flux_divergence = self.calc_divergence()\n",
    "\n",
    "        # updated temperature = current temperature - the divergence * dt\n",
    "        updated_temperature = self.temperature - flux_divergence * dt\n",
    "\n",
    "        # Don't forget to apply boundary conditions! The temperature at the surface is equal to a fixed value.\n",
    "        updated_temperature[0] = self.surface_temperature\n",
    "\n",
    "        self.temperature = updated_temperature\n",
    "\n",
    "        self.time_elapsed += dt"
   ]
  },
  {
   "cell_type": "markdown",
   "id": "3c4c3074-58b2-4997-8991-42f3e95b8eaa",
   "metadata": {},
   "source": [
    "### Test case: "
   ]
  },
  {
   "cell_type": "code",
   "execution_count": 44,
   "id": "d74164bf-7cbe-47cf-a825-9bc249684fff",
   "metadata": {},
   "outputs": [
    {
     "data": {
      "image/png": "[encoded data removed]",
      "text/plain": [
       "<Figure size 640x480 with 1 Axes>"
      ]
     },
     "metadata": {},
     "output_type": "display_data"
    }
   ],
   "source": [
    "# The Greenland ice sheet is 3,053 m thick at the summit!\n",
    "z = np.arange(3053)\n",
    "\n",
    "# Let's set the temperature to 0.0 C everywhere, except the surface\n",
    "T0 = np.full_like(z, -5.0)\n",
    "T0[0] = -10.0\n",
    "\n",
    "# Tip: maybe you wnat to include this plotting function into your class?\n",
    "plt.plot(T0, z)\n",
    "plt.xlabel('Temperature ($^\\circ$ C)')\n",
    "plt.ylabel('Depth (m)')\n",
    "plt.gca().invert_yaxis() # This forces matplotlib to invert the y-axis\n",
    "plt.show()"
   ]
  },
  {
   "cell_type": "markdown",
   "id": "4f86e05f-a0d6-4fcf-8db8-c650d7960a1b",
   "metadata": {},
   "source": [
    "Now, let's test out your model. I want to run it using the exact code below. As you do, think about the following questions:\n",
    "1) Does it pass? Try to move things around until the code runs without any errors.\n",
    "2) Plot the output. Does it match what you might expect?\n",
    "3) What should the steady-state profile look like? What parameters can we change to converge faster/slower?"
   ]
  },
  {
   "cell_type": "code",
   "execution_count": 49,
   "id": "d216e3d2-986e-4d3f-82c1-e6ed2fbfbc43",
   "metadata": {},
   "outputs": [
    {
     "name": "stdout",
     "output_type": "stream",
     "text": [
      "0.05475818525543331 years.\n",
      "54.81294344068874 years.\n",
      "109.57112869612205 years.\n",
      "164.32931395155535 years.\n",
      "219.08749920698867 years.\n",
      "273.84568446242196 years.\n",
      "328.6038697178553 years.\n",
      "383.3620549732886 years.\n",
      "438.1202402287219 years.\n",
      "492.87842548415523 years.\n",
      "547.6366107395885 years.\n",
      "602.3947959950218 years.\n",
      "657.1529812504551 years.\n",
      "711.9111665058884 years.\n",
      "766.6693517613218 years.\n",
      "821.4275370167551 years.\n",
      "876.1857222721884 years.\n",
      "930.9439075276217 years.\n",
      "985.7020927830549 years.\n",
      "1040.4602780384882 years.\n",
      "1095.2184632939216 years.\n",
      "1149.9766485493549 years.\n",
      "1204.7348338047882 years.\n",
      "1259.4930190602215 years.\n",
      "1314.2512043156548 years.\n",
      "1369.0093895710881 years.\n",
      "1423.7675748265215 years.\n",
      "1478.5257600819548 years.\n",
      "1533.283945337388 years.\n",
      "1588.0421305928214 years.\n"
     ]
    },
    {
     "data": {
      "image/png": "[encoded data removed]",
      "text/plain": [
       "<Figure size 640x480 with 1 Axes>"
      ]
     },
     "metadata": {},
     "output_type": "display_data"
    }
   ],
   "source": [
    "model = SimpleGlacier(z, T0)\n",
    "\n",
    "dt = 60 * 60 * 24 * 20\n",
    "\n",
    "for i in range(30000): \n",
    "    model.run_one_step(dt)\n",
    "\n",
    "    if i % 1000 == 0:\n",
    "        print(f'{model.time_elapsed / 31556926} years.')\n",
    "\n",
    "plt.plot(model.temperature, model.z)\n",
    "plt.xlabel('Temperature ($^\\circ$ C)')\n",
    "plt.ylabel('Depth (m)')\n",
    "plt.gca().invert_yaxis() # This forces matplotlib to invert the y-axis\n",
    "plt.show()"
   ]
  },
  {
   "cell_type": "markdown",
   "id": "7ae3c5ca-a9eb-4481-961f-1cc0d07911a5",
   "metadata": {},
   "source": [
    "Once you've done that, we could think about how to add a better boundary condition at the bed. Let's add a geothermal heat flux of $0.01$ W m$^{-2}$. Maybe we should also let the user pass their own geothermal heat flux to our model. At this point, I bet you can figure out how to do that."
   ]
  },
  {
   "cell_type": "code",
   "execution_count": 54,
   "id": "42bbf2f2-3791-4e8d-b4dc-066d3d50a5d1",
   "metadata": {},
   "outputs": [
    {
     "name": "stdout",
     "output_type": "stream",
     "text": [
      "0.05475818525543331 years.\n",
      "54.81294344068874 years.\n",
      "109.57112869612205 years.\n",
      "164.32931395155535 years.\n",
      "219.08749920698867 years.\n",
      "273.84568446242196 years.\n",
      "328.6038697178553 years.\n",
      "383.3620549732886 years.\n",
      "438.1202402287219 years.\n",
      "492.87842548415523 years.\n",
      "547.6366107395885 years.\n",
      "602.3947959950218 years.\n",
      "657.1529812504551 years.\n",
      "711.9111665058884 years.\n",
      "766.6693517613218 years.\n",
      "821.4275370167551 years.\n",
      "876.1857222721884 years.\n",
      "930.9439075276217 years.\n",
      "985.7020927830549 years.\n",
      "1040.4602780384882 years.\n",
      "1095.2184632939216 years.\n",
      "1149.9766485493549 years.\n",
      "1204.7348338047882 years.\n",
      "1259.4930190602215 years.\n",
      "1314.2512043156548 years.\n",
      "1369.0093895710881 years.\n",
      "1423.7675748265215 years.\n",
      "1478.5257600819548 years.\n",
      "1533.283945337388 years.\n",
      "1588.0421305928214 years.\n"
     ]
    },
    {
     "data": {
      "image/png": "[encoded data removed]",
      "text/plain": [
       "<Figure size 640x480 with 1 Axes>"
      ]
     },
     "metadata": {},
     "output_type": "display_data"
    }
   ],
   "source": [
    "model = SimpleGlacier(z, T0)\n",
    "model.basal_heat_flux = 0.01\n",
    "\n",
    "dt = 60 * 60 * 24 * 20\n",
    "\n",
    "for i in range(30000): \n",
    "    model.run_one_step(dt)\n",
    "\n",
    "    if i % 1000 == 0:\n",
    "        print(f'{model.time_elapsed / 31556926} years.')\n",
    "\n",
    "plt.plot(model.temperature, model.z)\n",
    "plt.xlabel('Temperature ($^\\circ$ C)')\n",
    "plt.ylabel('Depth (m)')\n",
    "plt.gca().invert_yaxis() # This forces matplotlib to invert the y-axis\n",
    "plt.show()"
   ]
  },
  {
   "cell_type": "markdown",
   "id": "2d0e9161-1824-4be5-8f17-a3ea322e01f6",
   "metadata": {},
   "source": [
    "## Bonus exercises"
   ]
  },
  {
   "cell_type": "markdown",
   "id": "6823da3c-aa7c-415f-aa76-0dbb925b135c",
   "metadata": {},
   "source": [
    "### 1) Time-dependent boundary conditions\n",
    "Classes are powerful frameworks when you need to change or extend your code. Take a look at the time series of air temperature provided at the start of this notebook. How would you build this into the SimpleGlacier class?"
   ]
  },
  {
   "cell_type": "markdown",
   "id": "1630e180-b1e1-4851-aa21-d6ac3367ef2a",
   "metadata": {},
   "source": [
    "### 2) Plotting in 2D\n",
    "We could also visualize this problem using a heat map, with time as the x-axis, depth as the y-axis, and temperature as the color map. For this, we'll need to modify our class to save a 2D array. We probably don't want to save every single time step, so let's also add an **if** statement to the <tt>run_one_step</tt> method to only save on certain intervals. Then, we can use the matplotlib function <tt>plt.imshow</tt> to visualize our 2D array, like so:"
   ]
  },
  {
   "cell_type": "code",
   "execution_count": 542,
   "id": "7de68364-01b1-4c34-8c43-4392411f5a4a",
   "metadata": {},
   "outputs": [
    {
     "data": {
      "image/png": "[encoded data removed]",
      "text/plain": [
       "<Figure size 640x480 with 2 Axes>"
      ]
     },
     "metadata": {},
     "output_type": "display_data"
    }
   ],
   "source": [
    "# Replace test_array with your results\n",
    "test_array = np.random.random((10, 10))\n",
    "\n",
    "plt.imshow(test_array, cmap = 'coolwarm')\n",
    "plt.colorbar()\n",
    "plt.show()"
   ]
  },
  {
   "cell_type": "markdown",
   "id": "de364600-bada-48bc-88b1-f6db9d6f0c2c",
   "metadata": {},
   "source": [
    "### 3) Vertical advection\n",
    "This gets a little more spicy than you might expect. Remember from above, we still have that pesky little $w\\frac{dT}{dz}$ hanging out in our PDE. By now, we do know how to calculate $\\frac{dT}{dz}$. In fact, maybe we should make that little calculation it's own method? It's a good time to check if you have any repeated code :) \n",
    "\n",
    "If we're truly in the middle of an ice sheet, we might assume the vertical velocity ($w$ in our equations here) scales with depth and the mass balance at the ice surface:\n",
    "\n",
    "# $w(z) = -\\frac{b(H - z)}{H}$,\n",
    "\n",
    "where $b$ is the mass balance (accumulation - ablation) and $H$ is the ice thickness. Let's use a baseline value for $b$ of around a centimeter per year, but you should play with this number and see how it impacts your temperature profiles.\n",
    "\n",
    "The trick here is that the size of our time steps might be too large when we add advection. One way to check is to use a CFL condition: a metric of stability. For diffusive equations, like this one, we should be okay if we're in the range:\n",
    "\n",
    "# $\\frac{\\kappa\\Delta t}{\\Delta z}\\leq 0.5$,\n",
    "\n",
    "but there might be some complications as the advective component of the system grows. You know what would be sweet? What if we wrote a method that calculates the stable time step - we could even let the user know if they accidentally try to run the model with a time step that's too large!"
   ]
  },
  {
   "cell_type": "markdown",
   "id": "42c8b497-97be-4690-b8c6-15d11e842819",
   "metadata": {},
   "source": [
    "### 4) Inheritance\n",
    "Imagine you want to make this class more general - after all, it's just a 1D diffusion model! We could take the universal pieces out of this class and make a new class:"
   ]
  },
  {
   "cell_type": "code",
   "execution_count": 373,
   "id": "d54d9620-8be3-44d5-846f-cf58b616030b",
   "metadata": {},
   "outputs": [],
   "source": [
    "class DiffusionModel1D:\n",
    "\n",
    "    def __init__(self):\n",
    "        pass\n",
    "\n",
    "    def run_one_step(self):\n",
    "        pass"
   ]
  },
  {
   "cell_type": "markdown",
   "id": "cbc47af2-e9e8-4e9f-b4e7-5018d279eb25",
   "metadata": {},
   "source": [
    "Then, the SimpleGlacier class could **inherit** from this *parent* class, becoming a *child* class of DiffusionModel1D.\n",
    "##### Child classes inherit all the methods and attributes of their parents, except where specified."
   ]
  },
  {
   "cell_type": "code",
   "execution_count": 548,
   "id": "9bdc456b-4425-48ef-8b5f-aa9a42a33abe",
   "metadata": {},
   "outputs": [],
   "source": [
    "# Example of a child class\n",
    "class DiffusionChild(DiffusionModel1D):\n",
    "\n",
    "    def __init__(self):\n",
    "        pass\n",
    "\n",
    "    def no_parents_allowed(self):\n",
    "        pass"
   ]
  },
  {
   "cell_type": "code",
   "execution_count": 547,
   "id": "df9ab5b5-a885-4219-b49f-32cbf7dfee25",
   "metadata": {},
   "outputs": [
    {
     "name": "stdout",
     "output_type": "stream",
     "text": [
      "Help on function run_one_step in module __main__:\n",
      "\n",
      "run_one_step(self)\n",
      "\n"
     ]
    }
   ],
   "source": [
    "help(DiffusionChild.run_one_step)"
   ]
  },
  {
   "cell_type": "markdown",
   "id": "0129517b-feca-4918-a979-de727bef9f56",
   "metadata": {},
   "source": [
    "But, parent classes do not get any of the information defined by their children:"
   ]
  },
  {
   "cell_type": "code",
   "execution_count": 549,
   "id": "1474651c-a28b-4c5a-92ed-271be7b98b9a",
   "metadata": {},
   "outputs": [
    {
     "ename": "AttributeError",
     "evalue": "type object 'DiffusionModel1D' has no attribute 'no_parents_allowed'",
     "output_type": "error",
     "traceback": [
      "\u001b[0;31m---------------------------------------------------------------------------\u001b[0m",
      "\u001b[0;31mAttributeError\u001b[0m                            Traceback (most recent call last)",
      "Cell \u001b[0;32mIn[549], line 1\u001b[0m\n\u001b[0;32m----> 1\u001b[0m help(\u001b[43mDiffusionModel1D\u001b[49m\u001b[38;5;241;43m.\u001b[39;49m\u001b[43mno_parents_allowed\u001b[49m)\n",
      "\u001b[0;31mAttributeError\u001b[0m: type object 'DiffusionModel1D' has no attribute 'no_parents_allowed'"
     ]
    }
   ],
   "source": [
    "help(DiffusionModel1D.no_parents_allowed)"
   ]
  },
  {
   "cell_type": "markdown",
   "id": "c2530246-6011-4d2b-926f-a9f11a237940",
   "metadata": {},
   "source": [
    "Let's play around with this idea. First, split SimpleGlacier into a parent class and a child class. Then, try to make a new diffusion model that inherits from the same parent class, but adds a new method for plotting data."
   ]
  }
 ],
 "metadata": {
  "kernelspec": {
   "display_name": "Python 3 (ipykernel)",
   "language": "python",
   "name": "python3"
  },
  "language_info": {
   "codemirror_mode": {
    "name": "ipython",
    "version": 3
   },
   "file_extension": ".py",
   "mimetype": "text/x-python",
   "name": "python",
   "nbconvert_exporter": "python",
   "pygments_lexer": "ipython3",
   "version": "3.11.9"
  }
 },
 "nbformat": 4,
 "nbformat_minor": 5
}
