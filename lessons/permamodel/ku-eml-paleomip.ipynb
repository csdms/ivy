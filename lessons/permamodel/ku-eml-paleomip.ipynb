{
 "cells": [
  {
   "cell_type": "code",
   "execution_count": null,
   "metadata": {},
   "outputs": [],
   "source": [
    "import os\n",
    "\n",
    "import matplotlib.pyplot as plt\n",
    "import numpy as np\n",
    "from netCDF4 import Dataset"
   ]
  },
  {
   "cell_type": "code",
   "execution_count": null,
   "metadata": {},
   "outputs": [],
   "source": [
    "# If running locally:\n",
    "import sys\n",
    "\n",
    "sys.path.append(\"permamodel/\")"
   ]
  },
  {
   "cell_type": "code",
   "execution_count": null,
   "metadata": {},
   "outputs": [],
   "source": [
    "from permamodel.components import bmi_Ku_component"
   ]
  },
  {
   "cell_type": "markdown",
   "metadata": {},
   "source": [
    "## Running Ku"
   ]
  },
  {
   "cell_type": "markdown",
   "metadata": {},
   "source": [
    "For this example, we will run Ku for 1,000 years, using time series as inputs. This assumes a spatially-uniform distribution of input variables over the entire site, as opposed to grid inputs.\n",
    "First, make sure that the 'eightmile.cfg' file is in your inputs directory. Feel free to name it something different, or store it elsewhere, but modify the following code cell accordingly."
   ]
  },
  {
   "cell_type": "code",
   "execution_count": null,
   "metadata": {},
   "outputs": [],
   "source": [
    "# Tell Ku where to find the input file\n",
    "cfg_file = os.path.join(\"./inputs/\", \"eightmile.cfg\")"
   ]
  },
  {
   "cell_type": "markdown",
   "metadata": {},
   "source": [
    "To modify the input file, open it in a text editor (JupyterHub has one built-in). Make sure that the permafrost directory, input directory, and output directory are recorded correctly. If you have renamed any input files, change those names in the configuration file as well. And, make sure to enable model output!"
   ]
  },
  {
   "cell_type": "code",
   "execution_count": null,
   "metadata": {},
   "outputs": [],
   "source": [
    "# Set up a new instance of Ku\n",
    "ku = bmi_Ku_component.BmiKuMethod()"
   ]
  },
  {
   "cell_type": "code",
   "execution_count": null,
   "metadata": {},
   "outputs": [],
   "source": [
    "# Initialize the model using the configuration file\n",
    "ku.initialize(cfg_file)"
   ]
  },
  {
   "cell_type": "code",
   "execution_count": null,
   "metadata": {},
   "outputs": [],
   "source": [
    "# Decide on the number of time steps\n",
    "# NOTE: If using time series inputs, nt / dt should equal the number of values in each time series\n",
    "nt = ku.get_end_time() - ku.get_start_time()\n",
    "dt = ku.get_time_step()"
   ]
  },
  {
   "cell_type": "code",
   "execution_count": null,
   "metadata": {},
   "outputs": [],
   "source": [
    "# Run the model! To interact with Ku between updates, modify this time loop\n",
    "for i in range(int(nt)):\n",
    "    ku.update()\n",
    "\n",
    "# And then finalize the model run\n",
    "ku.finalize()"
   ]
  },
  {
   "cell_type": "markdown",
   "metadata": {},
   "source": [
    "A common error here looks like: \n",
    "\n",
    "`PermissionError: [Errno 13] Permission denied: b'./outputs/eightmile-ALT.nc'`\n",
    "\n",
    "If you get this, delete the files in your outputs/ directory, then re-run the code cell above."
   ]
  },
  {
   "cell_type": "code",
   "execution_count": null,
   "metadata": {},
   "outputs": [],
   "source": [
    "# Load the output files into arrays\n",
    "alt_nc = Dataset(\"./outputs/eightmile-ALT.nc\")\n",
    "alt = alt_nc[\"data\"][:, 0, 0]\n",
    "\n",
    "tps_nc = Dataset(\"./outputs/eightmile-TPS.nc\")\n",
    "tps = tps_nc[\"data\"][:, 0, 0]\n",
    "\n",
    "# And, let's set non-physical values to NaN\n",
    "alt[np.where(alt < 0)] = np.nan\n",
    "tps[np.where(tps < -999)] = np.nan"
   ]
  },
  {
   "cell_type": "code",
   "execution_count": null,
   "metadata": {},
   "outputs": [],
   "source": [
    "# Take a look at the outputs!\n",
    "plt.plot(alt)\n",
    "plt.xlabel(\"Simulation Year\")\n",
    "plt.ylabel(\"Active layer thickness in m\")\n",
    "plt.title(\"Ku model output: Active layer thickness\")\n",
    "plt.show()"
   ]
  },
  {
   "cell_type": "code",
   "execution_count": null,
   "metadata": {},
   "outputs": [],
   "source": [
    "# Take a look at the outputs!\n",
    "plt.plot(tps)\n",
    "plt.xlabel(\"Simulation Year\")\n",
    "plt.ylabel(r\"Soil temperature ($^\\circ$C)\")\n",
    "plt.title(\"Ku model output: Soil temperature\")\n",
    "plt.show()"
   ]
  }
 ],
 "metadata": {
  "kernelspec": {
   "display_name": "Ivy",
   "language": "python",
   "name": "ivy"
  },
  "language_info": {
   "codemirror_mode": {
    "name": "ipython",
    "version": 3
   },
   "file_extension": ".py",
   "mimetype": "text/x-python",
   "name": "python",
   "nbconvert_exporter": "python",
   "pygments_lexer": "ipython3",
   "version": "3.7.3"
  }
 },
 "nbformat": 4,
 "nbformat_minor": 4
}
