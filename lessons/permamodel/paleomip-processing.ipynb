{
 "cells": [
  {
   "cell_type": "code",
   "execution_count": null,
   "metadata": {},
   "outputs": [],
   "source": [
    "import matplotlib.pyplot as plt\n",
    "import numpy as np\n",
    "from netCDF4 import Dataset\n",
    "\n",
    "plt.style.use(\"dark_background\")"
   ]
  },
  {
   "cell_type": "markdown",
   "metadata": {},
   "source": [
    "## Paleoclimate models"
   ]
  },
  {
   "cell_type": "markdown",
   "metadata": {},
   "source": [
    "This notebook processes model output from the paleoclimate portion of CMIP-6. For the purposes of this exercise, we will use results from the MRI-ESM2.0 model run. The recommended input files are:\n",
    "\n",
    "1. **Surface temperature:** ts_Amon_MRI-ESM2-0_past1000_r1i1p1f1_gn_085001-184912\n",
    "1. **Soil moisture content:** mrso_Lmon_MRI-ESM2-0_past1000_r1i1p1f1_gn_085001-184912\n",
    "2. **Snow depth:** snd_LImon_MRI-ESM2-0_past1000_r1i1p1f1_gn_085001-184912\n",
    "\n",
    "From these datasets, we will also be able to estimate volumetric soil water content and temperature variability."
   ]
  },
  {
   "cell_type": "markdown",
   "metadata": {},
   "source": [
    "More information on the paleoclimate modeling intercomparison project can be found here: https://pmip.lsce.ipsl.fr/.\n",
    "\n",
    "More information on MRI-ESM2.0 can be found here: https://www.jstage.jst.go.jp/article/jmsj/advpub/0/advpub_2019-051/_article/-char/en."
   ]
  },
  {
   "cell_type": "markdown",
   "metadata": {},
   "source": [
    "### Initial processing"
   ]
  },
  {
   "cell_type": "code",
   "execution_count": null,
   "metadata": {},
   "outputs": [],
   "source": [
    "# Load the datasets from input files\n",
    "ts_nc = Dataset(\"/data/ts_Amon_MRI-ESM2-0_past1000_r1i1p1f1_gn_085001-184912.nc\")\n",
    "mrso_nc = Dataset(\"/data/mrso_Lmon_MRI-ESM2-0_past1000_r1i1p1f1_gn_085001-184912.nc\")\n",
    "snd_nc = Dataset(\"/data/snd_LImon_MRI-ESM2-0_past1000_r1i1p1f1_gn_085001-184912.nc\")"
   ]
  },
  {
   "cell_type": "markdown",
   "metadata": {},
   "source": [
    "If you are interested in taking this model to a different site than Eight Mile Lake, change the lat-lon values in the following code cell."
   ]
  },
  {
   "cell_type": "code",
   "execution_count": null,
   "metadata": {},
   "outputs": [],
   "source": [
    "# Find the array indices for latitude and longitude\n",
    "\n",
    "# If you have a different site in mind, change these values\n",
    "eml_lat = 63.8\n",
    "eml_lon = -149.25\n",
    "\n",
    "# Identify array indices from the netCDF metadata\n",
    "ts_lat = np.argmin(np.abs(ts_nc.variables[\"lat\"][:] - eml_lat))\n",
    "ts_lon = np.argmin(np.abs(ts_nc.variables[\"lon\"][:] - (360 + eml_lon)))\n",
    "\n",
    "mrso_lat = np.argmin(np.abs(mrso_nc.variables[\"lat\"][:] - eml_lat))\n",
    "mrso_lon = np.argmin(np.abs(mrso_nc.variables[\"lon\"][:] - (360 + eml_lon)))\n",
    "\n",
    "snd_lat = np.argmin(np.abs(snd_nc.variables[\"lat\"][:] - eml_lat))\n",
    "snd_lon = np.argmin(np.abs(snd_nc.variables[\"lon\"][:] - (360 + eml_lon)))"
   ]
  },
  {
   "cell_type": "code",
   "execution_count": null,
   "metadata": {},
   "outputs": [],
   "source": [
    "# Using the lat and lon indices, get the monthly time series for each variable\n",
    "ts = ts_nc.variables[\"ts\"][:, ts_lat, ts_lon]\n",
    "mrso = mrso_nc.variables[\"mrso\"][:, mrso_lat, mrso_lon]\n",
    "snd = snd_nc.variables[\"snd\"][:, snd_lat, snd_lon]"
   ]
  },
  {
   "cell_type": "code",
   "execution_count": null,
   "metadata": {},
   "outputs": [],
   "source": [
    "# Ku likes surface temperature in degrees Celsius\n",
    "ts += -273.15"
   ]
  },
  {
   "cell_type": "code",
   "execution_count": null,
   "metadata": {},
   "outputs": [],
   "source": [
    "# Use numpy tricks to get the annual mean of each time series\n",
    "ts_mean = np.mean(ts.reshape(-1, 12), axis=1)\n",
    "mrso_mean = np.mean(mrso.reshape(-1, 12), axis=1)\n",
    "snd_mean = np.mean(snd.reshape(-1, 12), axis=1)"
   ]
  },
  {
   "cell_type": "code",
   "execution_count": null,
   "metadata": {},
   "outputs": [],
   "source": [
    "# Estimate the amplitude of monthly surface temperature\n",
    "ts_amp = 0.5 * (np.max(ts.reshape(-1, 12), axis=1) - np.min(ts.reshape(-1, 12), axis=1))"
   ]
  },
  {
   "cell_type": "code",
   "execution_count": null,
   "metadata": {},
   "outputs": [],
   "source": [
    "# Estimate soil volumetric water content\n",
    "vwc_mean = np.divide(mrso_mean, 1200)"
   ]
  },
  {
   "cell_type": "markdown",
   "metadata": {},
   "source": [
    "All of these time series can be altered with standard array operations. For example, to run the model for a warmer climate, change the surface temperatures:"
   ]
  },
  {
   "cell_type": "code",
   "execution_count": null,
   "metadata": {},
   "outputs": [],
   "source": [
    "# Add 2 degrees of warming to the entire time series\n",
    "ts_warm = ts_mean + 2"
   ]
  },
  {
   "cell_type": "code",
   "execution_count": null,
   "metadata": {},
   "outputs": [],
   "source": [
    "# Plot the results!\n",
    "fig, ax = plt.subplots(1, 2, figsize=(12, 4), sharey=True)\n",
    "\n",
    "ax[0].plot(ts_mean)\n",
    "ax[1].plot(ts_warm)\n",
    "\n",
    "ax[0].set_ylabel(r\"Surface temperature ($^\\circ$C)\")\n",
    "ax[0].set_xlabel(\"Simulation year\")\n",
    "ax[1].set_xlabel(\"Simulation year\")\n",
    "\n",
    "ax[0].set_title(\"Mean annual surface temperature\")\n",
    "ax[1].set_title(r\"Mean annual surface temperature + 2$^\\circ$\")\n",
    "\n",
    "plt.tight_layout()\n",
    "plt.show()"
   ]
  },
  {
   "cell_type": "code",
   "execution_count": null,
   "metadata": {},
   "outputs": [],
   "source": [
    "# Plot temperature variability\n",
    "plt.plot(ts_amp)\n",
    "plt.xlabel(\"Simulation year\")\n",
    "plt.ylabel(r\"Amplitude of Surface Temperature ($^\\circ$C)\")\n",
    "plt.title(\"Surface temperature estimated amplitude\")\n",
    "plt.show()"
   ]
  },
  {
   "cell_type": "code",
   "execution_count": null,
   "metadata": {},
   "outputs": [],
   "source": [
    "# Plot soil moisture\n",
    "plt.plot(mrso_mean)\n",
    "plt.xlabel(\"Simulation year\")\n",
    "plt.ylabel(\"Soil moisture content (kg m$^{-3}$)\")\n",
    "plt.title(\"Mean annual soil moisture content\")\n",
    "plt.show()"
   ]
  },
  {
   "cell_type": "code",
   "execution_count": null,
   "metadata": {},
   "outputs": [],
   "source": [
    "# Plot volumetric water content\n",
    "plt.plot(vwc_mean)\n",
    "plt.xlabel(\"Simulation year\")\n",
    "plt.ylabel(\"Volumetric water content (kg m$^{-3}$)\")\n",
    "plt.title(\"Mean annual soil volumetric water content\")\n",
    "plt.show()"
   ]
  },
  {
   "cell_type": "code",
   "execution_count": null,
   "metadata": {},
   "outputs": [],
   "source": [
    "# Plot snow depth\n",
    "plt.plot(snd_mean)\n",
    "plt.xlabel(\"Simulation year\")\n",
    "plt.ylabel(\"Snow Depth (m)\")\n",
    "plt.title(\"Mean annual snow depth\")\n",
    "plt.show()"
   ]
  },
  {
   "cell_type": "markdown",
   "metadata": {},
   "source": [
    "### Final step: save the results"
   ]
  },
  {
   "cell_type": "markdown",
   "metadata": {},
   "source": [
    "We'll use text files as inputs for Ku. The trick here is to give the files the same name as whatever you use in the configuration (.cfg) file for your Ku model run. If you want to do two different Ku runs and compare the results (e.g., for different surface temperature inputs), use two different configuration files."
   ]
  },
  {
   "cell_type": "markdown",
   "metadata": {},
   "source": [
    "Before running the following code cell, make a folder called 'inputs/' or something similar to store the files."
   ]
  },
  {
   "cell_type": "code",
   "execution_count": null,
   "metadata": {},
   "outputs": [],
   "source": [
    "np.savetxt(\"./inputs/T_air.txt\", ts_mean)\n",
    "np.savetxt(\"./inputs/h_snow.txt\", snd_mean)\n",
    "np.savetxt(\"./inputs/mrso.txt\", mrso_mean)\n",
    "np.savetxt(\"./inputs/vwc.txt\", vwc_mean)\n",
    "np.savetxt(\"./inputs/A_air.txt\", ts_amp)\n",
    "\n",
    "# These are additional input files for Ku\n",
    "# As with the above examples, these can be modified for each model run\n",
    "# NOTE: Each input file needs to be the same length\n",
    "\n",
    "dfvg = np.full_like(\n",
    "    ts_mean, 1e-6\n",
    ")  # Thermal diffusivity of frozen vegetation (m^2 s^-1)\n",
    "dtvg = np.full_like(\n",
    "    ts_mean, 1e-6\n",
    ")  # Thermal diffusivity of thawed vegetation (m^2 s^-1)\n",
    "\n",
    "# Note that this example run has no vegetation, so the thermal diffusivities above are irrelevant\n",
    "hfvg = np.full_like(ts_mean, 0)  # Height of frozen vegetation (m)\n",
    "htvg = np.full_like(ts_mean, 0)  # Height of thawed vegetation (m)\n",
    "\n",
    "rho_snow = np.full_like(ts_mean, 240)  # Snow density (kg m^-3)\n",
    "\n",
    "np.savetxt(\"./inputs/dfvg.txt\", dfvg)\n",
    "np.savetxt(\"./inputs/dtvg.txt\", dtvg)\n",
    "np.savetxt(\"./inputs/hfvg.txt\", hfvg)\n",
    "np.savetxt(\"./inputs/htvg.txt\", htvg)\n",
    "np.savetxt(\"./inputs/rho_snow.txt\", rho_snow)"
   ]
  }
 ],
 "metadata": {
  "execution": {
   "allow_errors": true
  },
  "kernelspec": {
   "display_name": "Ivy",
   "language": "python",
   "name": "ivy"
  },
  "language_info": {
   "codemirror_mode": {
    "name": "ipython",
    "version": 3
   },
   "file_extension": ".py",
   "mimetype": "text/x-python",
   "name": "python",
   "nbconvert_exporter": "python",
   "pygments_lexer": "ipython3",
   "version": "3.11.0"
  }
 },
 "nbformat": 4,
 "nbformat_minor": 4
}
