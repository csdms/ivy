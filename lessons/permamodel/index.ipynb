{
 "cells": [
  {
   "cell_type": "markdown",
   "metadata": {},
   "source": [
    "<a href=\"https://csdms.colorado.edu\"><img style=\"float: center; width: 75%\" src=\"https://raw.githubusercontent.com/csdms/ivy/main/media/logo.png\"></a>"
   ]
  },
  {
   "cell_type": "markdown",
   "metadata": {},
   "source": [
    "# Permamodel Toolkit\n",
    "\n",
    "The [Permamodel Toolkit](https://github.com/permamodel) is a collection of open source models and tools for studying the physics of permafrost-related processes.\n",
    "Permamodel makes it easier for researchers to explore predictions of how melting permafrost might affect carbon release, wetlands, and river deltas as they evolve, and other interacting effects.\n",
    "\n",
    "Permamodel models run within the [Python Modeling Toolkit](https://pymt.readthedocs.io) (pymt)."
   ]
  },
  {
   "cell_type": "markdown",
   "metadata": {},
   "source": [
    "## Using Permamodel\n",
    "\n",
    "* [The Ku Model](ku-eml-paleomip.ipynb)\n",
    "  * Initializing Ku with data\n",
    "  * Running Ku\n",
    "  * Plotting output\n",
    "\n",
    "* [Coupling with Landlab](PFdepth-dependent-diffusion.ipynb)\n",
    "  * Loading a DEM\n",
    "  * Using Landlab with Ku outputs\n",
    "  * Visualizing results"
   ]
  },
  {
   "cell_type": "markdown",
   "metadata": {},
   "source": [
    "## Reference\n",
    "\n",
    "* Overeem, I., Jafarov, E., Wang, K., Schaefer, K., Stewart, S., Clow, G., Piper, M., and Elshorbany, Y. (2018), A modeling toolbox for permafrost landscapes, *Eos*, **99**, https://doi.org/10.1029/2018EO105155. Published on 28 September 2018.\n",
    "* Wang, K., Jafarov, E., and Overeem, I. (2020), Sensitivity evaluation of the Kudryavtsev permafrost model, *Science of The Total Environment*, **720**, p. 137538, https://doi.org/10.1016/j.scitotenv.2020.137538.\n",
    "* [Permamodel @ GitHub](https://github.com/permamodel)\n"
   ]
  }
 ],
 "metadata": {
  "kernelspec": {
   "display_name": "Ivy",
   "language": "python",
   "name": "ivy"
  },
  "language_info": {
   "codemirror_mode": {
    "name": "ipython",
    "version": 3
   },
   "file_extension": ".py",
   "mimetype": "text/x-python",
   "name": "python",
   "nbconvert_exporter": "python",
   "pygments_lexer": "ipython3",
   "version": "3.9.4"
  }
 },
 "nbformat": 4,
 "nbformat_minor": 4
}
