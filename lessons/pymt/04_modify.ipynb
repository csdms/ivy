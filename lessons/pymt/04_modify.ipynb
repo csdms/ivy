{
 "cells": [
  {
   "cell_type": "markdown",
   "metadata": {},
   "source": [
    "<a href=\"https://pymt.readthedocs.io\"><img src=\"https://raw.githubusercontent.com/csdms/ivy/main/media/pymt-logo-header-text.png\"></a>\n",
    "\n",
    "# Dynamically changing a running model\n",
    "\n",
    "In this tutorial we will learn how to:\n",
    "* Use the `update_until` method\n",
    "* The model grid\n",
    "* Change the input values of a model while it's running"
   ]
  },
  {
   "cell_type": "code",
   "execution_count": null,
   "metadata": {},
   "outputs": [],
   "source": [
    "import matplotlib.pyplot as plt\n",
    "import numpy as np\n",
    "from tqdm import tqdm"
   ]
  },
  {
   "cell_type": "markdown",
   "metadata": {},
   "source": [
    "# Create and initialize a model\n",
    "\n",
    "For this simulation, we'll be using the *Child* model with some non-default parameters."
   ]
  },
  {
   "cell_type": "code",
   "execution_count": null,
   "metadata": {},
   "outputs": [],
   "source": [
    "from pymt import MODELS\n",
    "\n",
    "child = MODELS.Child()"
   ]
  },
  {
   "cell_type": "markdown",
   "metadata": {},
   "source": [
    "Have a look under the *Parameters* help section (you may have to scroll down - it's the section after the citations). The *Parameters* section describes optional keywords that you can pass the the `setup` method. In the previous example we just used defaults. Below we'll see how to set input file parameters programmatically through keywords."
   ]
  },
  {
   "cell_type": "code",
   "execution_count": null,
   "metadata": {},
   "outputs": [],
   "source": [
    "config_file, config_dir = child.setup(\n",
    "    grid_node_spacing=750.,\n",
    "    grid_x_size=20000.,\n",
    "    grid_y_size=40000.,\n",
    "    run_duration=1e6,\n",
    ")\n",
    "child.initialize(config_file, dir=config_dir)"
   ]
  },
  {
   "cell_type": "markdown",
   "metadata": {},
   "source": [
    "To begin with, we'll advance the model through 10 time steps."
   ]
  },
  {
   "cell_type": "code",
   "execution_count": null,
   "metadata": {},
   "outputs": [],
   "source": [
    "for t in tqdm(range(10)):\n",
    "    child.update()"
   ]
  },
  {
   "cell_type": "markdown",
   "metadata": {},
   "source": [
    "Update until some time in the future. Notice that, in this case, we update to a partial time step. Child is fine with this however some other models may not be. For models that can not update to times that are not full time steps, PyMT will advance to the next time step and interpolate values to the requested time."
   ]
  },
  {
   "cell_type": "code",
   "execution_count": null,
   "metadata": {},
   "outputs": [],
   "source": [
    "child.update_until(201.5)\n",
    "child.time"
   ]
  },
  {
   "cell_type": "markdown",
   "metadata": {},
   "source": [
    "Child offers different output variables but we get them in the same way as before."
   ]
  },
  {
   "cell_type": "code",
   "execution_count": null,
   "metadata": {},
   "outputs": [],
   "source": [
    "child.output_var_names"
   ]
  },
  {
   "cell_type": "markdown",
   "metadata": {},
   "source": [
    "As before, we can get values of a variable with *get_value* (in whatever units we like)."
   ]
  },
  {
   "cell_type": "code",
   "execution_count": null,
   "metadata": {},
   "outputs": [],
   "source": [
    "child.get_value(\"land_surface__elevation\", units=\"cm\")"
   ]
  },
  {
   "cell_type": "markdown",
   "metadata": {},
   "source": [
    "We can query each input and output variable. PyMT attaches a dictionary to each component called `var` that provides information about each variable. For instance we can see that `\"land_surface__elevation\"` has units of meters, is an input and output variable, and is defined on the nodes of grid with id 0."
   ]
  },
  {
   "cell_type": "code",
   "execution_count": null,
   "metadata": {},
   "outputs": [],
   "source": [
    "child.var[\"land_surface__elevation\"]"
   ]
  },
  {
   "cell_type": "markdown",
   "metadata": {},
   "source": [
    "Notice that this variable is defined on grid with ID 0. We can get information about this grid through the `grid` attribute."
   ]
  },
  {
   "cell_type": "code",
   "execution_count": null,
   "metadata": {},
   "outputs": [],
   "source": [
    "child.grid[0]"
   ]
  },
  {
   "cell_type": "markdown",
   "metadata": {},
   "source": [
    "We can also get grid information through method functions of the model. For example, the number of **nodes** that define each **face** of the grid."
   ]
  },
  {
   "cell_type": "code",
   "execution_count": null,
   "metadata": {},
   "outputs": [],
   "source": [
    "child.grid_nodes_per_face(0)"
   ]
  },
  {
   "cell_type": "markdown",
   "metadata": {},
   "source": [
    "If we plot this variable, we can see the unsructured triangular grid that Child has decomposed its grid into."
   ]
  },
  {
   "cell_type": "code",
   "execution_count": null,
   "metadata": {},
   "outputs": [],
   "source": [
    "child.quick_plot('land_surface__elevation', edgecolors='k', vmin=-200, vmax=200, cmap='BrBG_r')"
   ]
  },
  {
   "cell_type": "markdown",
   "metadata": {},
   "source": [
    "Child initializes it's elevations with random noise centered around 0. We would like instead to give it elevations that have some land and some sea. First we'll get the x and y coordinates for each node along with their elevations."
   ]
  },
  {
   "cell_type": "code",
   "execution_count": null,
   "metadata": {},
   "outputs": [],
   "source": [
    "x, y = child.grid_x(0), child.grid_y(0)\n",
    "z = child.get_value('land_surface__elevation')"
   ]
  },
  {
   "cell_type": "markdown",
   "metadata": {},
   "source": [
    "All nodes above `y=y_shore` will be land, and all nodes below `y=y_shore` will be sea."
   ]
  },
  {
   "cell_type": "code",
   "execution_count": null,
   "metadata": {},
   "outputs": [],
   "source": [
    "y_shore = 15000.\n",
    "z[y < y_shore] -= 100\n",
    "z[y >= y_shore] += 100"
   ]
  },
  {
   "cell_type": "markdown",
   "metadata": {},
   "source": [
    "We now use the model's **set_value** method to change its current elevation values."
   ]
  },
  {
   "cell_type": "code",
   "execution_count": null,
   "metadata": {},
   "outputs": [],
   "source": [
    "child.set_value('land_surface__elevation', z)"
   ]
  },
  {
   "cell_type": "markdown",
   "metadata": {},
   "source": [
    "Just to verify we set things up correctly, we'll create a plot."
   ]
  },
  {
   "cell_type": "code",
   "execution_count": null,
   "metadata": {},
   "outputs": [],
   "source": [
    "child.quick_plot('land_surface__elevation', edgecolors='k', vmin=-200, vmax=200, cmap='BrBG_r')"
   ]
  },
  {
   "cell_type": "markdown",
   "metadata": {},
   "source": [
    "To get things going, we'll run the model for 5000 years and see what things look like."
   ]
  },
  {
   "cell_type": "code",
   "execution_count": null,
   "metadata": {},
   "outputs": [],
   "source": [
    "child.update_until(5000.)\n",
    "child.quick_plot(\"land_surface__elevation\", edgecolors=\"k\", vmin=-200, vmax=200, cmap=\"BrBG_r\")"
   ]
  },
  {
   "cell_type": "markdown",
   "metadata": {
    "solution2": "shown",
    "solution2_first": true
   },
   "source": [
    "## Exercise 1\n",
    "\n",
    "We'll have some fun now by adding a simple uplift component. We'll run the component for another 5000 years but this time uplifting a corner of the grid by `dz_dt`. First, use the **get_value** method to create a new array of uplift values.\n",
    "\n",
    "For this example, make the uplift zero everywhere except for *y>15km* and *x>10km* where it will be *0.02*."
   ]
  },
  {
   "cell_type": "code",
   "execution_count": null,
   "metadata": {},
   "outputs": [],
   "source": [
    "# Your code here"
   ]
  },
  {
   "cell_type": "markdown",
   "metadata": {},
   "source": [
    "<details>\n",
    "    <summary><b>Click here to see a solution</b></summary>\n",
    "\n",
    "```python\n",
    "x, y = child.grid_x(0), child.grid_y(0)\n",
    "\n",
    "dz_dt = np.zeros_like(child.get_value(\"land_surface__elevation\"))\n",
    "dz_dt[(y > 15000.) & (x > 10000.)] = 0.02\n",
    "```\n",
    "\n",
    "</details>"
   ]
  },
  {
   "cell_type": "markdown",
   "metadata": {
    "solution2": "shown",
    "solution2_first": true
   },
   "source": [
    "## Exercise 2\n",
    "\n",
    "Now with the uplift, we'll run the component for another 5000 years but this time uplifting a corner of the grid by `dz_dt` every time step."
   ]
  },
  {
   "cell_type": "code",
   "execution_count": null,
   "metadata": {},
   "outputs": [],
   "source": [
    "# Your code here"
   ]
  },
  {
   "cell_type": "markdown",
   "metadata": {},
   "source": [
    "<details>\n",
    "    <summary><b>Click here to see a solution</b></summary>\n",
    "\n",
    "```python\n",
    "# dz_dt = .02\n",
    "now = child.time\n",
    "times, dt = np.linspace(now, now + 5000., 50, retstep=True)\n",
    "\n",
    "for time in tqdm(times):\n",
    "    child.update_until(time)\n",
    "    z = child.get_value('land_surface__elevation')\n",
    "    \n",
    "    z += dz_dt * dt\n",
    "    # z[(y > 15000.) & (x > 10000.)] += dz_dt * dt\n",
    "    child.set_value('land_surface__elevation', z)\n",
    "    \n",
    "child.quick_plot(\"land_surface__elevation\", edgecolors=\"k\", vmin=-200, vmax=200, cmap=\"BrBG_r\")\n",
    "```\n",
    "\n",
    "</details>"
   ]
  },
  {
   "cell_type": "markdown",
   "metadata": {
    "solution2": "shown"
   },
   "source": [
    "We now stop the uplift and run it for an additional 5000 years."
   ]
  },
  {
   "cell_type": "code",
   "execution_count": null,
   "metadata": {
    "scrolled": true,
    "solution2": "shown"
   },
   "outputs": [],
   "source": [
    "for time in tqdm(np.linspace(child.time, child.time + 5000.)):\n",
    "    child.update_until(time)\n",
    "\n",
    "child.quick_plot(\"land_surface__elevation\", edgecolors=\"k\", vmin=-200, vmax=200, cmap=\"BrBG_r\")"
   ]
  }
 ],
 "metadata": {
  "kernelspec": {
   "display_name": "Python 3 (ipykernel)",
   "language": "python",
   "name": "python3"
  },
  "language_info": {
   "codemirror_mode": {
    "name": "ipython",
    "version": 3
   },
   "file_extension": ".py",
   "mimetype": "text/x-python",
   "name": "python",
   "nbconvert_exporter": "python",
   "pygments_lexer": "ipython3",
   "version": "3.9.7"
  }
 },
 "nbformat": 4,
 "nbformat_minor": 4
}
