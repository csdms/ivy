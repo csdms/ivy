{
 "cells": [
  {
   "cell_type": "markdown",
   "metadata": {},
   "source": [
    "<a href=\"https://csdms.colorado.edu\"><img style=\"float: center; width: 75%\" src=\"https://raw.githubusercontent.com/csdms/espin/main/media/logo.png\"></a>"
   ]
  },
  {
   "cell_type": "markdown",
   "metadata": {},
   "source": [
    "# The Python Modeling Toolkit (pymt)\n",
    "\n",
    "The Python Modeling Toolkit (pymt) is an open source Python package developed by the [Community Surface Dynamics Modeling System](https://csdms.colorado.edu) (CSDMS) that provides the tools needed for coupling models that expose the [Basic Model Interface](https://bmi.readthedocs.io) (BMI).\n",
    "\n",
    "pymt in three points:\n",
    "* A collection of Earth-surface models\n",
    "* Tools for coupling models of disparate time and space scales\n",
    "* Extensible plug-in framework for adding new models\n"
   ]
  },
  {
   "cell_type": "markdown",
   "metadata": {},
   "source": [
    "## Using pymt\n",
    "\n",
    "* [Loading models in pymt](01_model_setup.ipynb)\n",
    "  * The pymt model library\n",
    "  * Model documentation\n",
    "  * Set up a simulation\n",
    "\n",
    "* [Running models in pymt](02_run_a_model.ipynb)\n",
    "  * Model initialization\n",
    "  * Input and output variables\n",
    "  * Advancing a model through time\n",
    "  \n",
    "* [Unit conversion in pymt](03_unit_conversion.ipynb)\n",
    "  * The pymt UnitSystem\n",
    "  * Convert model units\n",
    "\n",
    "* [Dynamically changing a running model](04_modify.ipynb)\n",
    "  * Create and initialize a model\n",
    "\n",
    "* [Coupling models](05_coupling.ipynb)\n",
    "  * Set up and initialize two models\n",
    "  * Map values between grids\n",
    "  * Run a coupled simulation"
   ]
  },
  {
   "cell_type": "markdown",
   "metadata": {},
   "source": [
    "## Links\n",
    "\n",
    "* Reference\n",
    "  * [Documentation](https://pymt.readthedocs.io)\n",
    "  * [Source code](https://github.com/csdms/pymt)\n",
    "* Ask for help\n",
    "  * [Issues on GitHub](https://github.com/csdms/pymt/issues)\n",
    "  * [CSDMS Help Desk](https://github.com/csdms/help-desk)"
   ]
  }
 ],
 "metadata": {
  "kernelspec": {
   "display_name": "Python 3",
   "language": "python",
   "name": "python3"
  },
  "language_info": {
   "codemirror_mode": {
    "name": "ipython",
    "version": 3
   },
   "file_extension": ".py",
   "mimetype": "text/x-python",
   "name": "python",
   "nbconvert_exporter": "python",
   "pygments_lexer": "ipython3",
   "version": "3.9.4"
  }
 },
 "nbformat": 4,
 "nbformat_minor": 4
}
