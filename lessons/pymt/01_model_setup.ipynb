{
 "cells": [
  {
   "cell_type": "markdown",
   "metadata": {},
   "source": [
    "<a href=\"https://pymt.readthedocs.io\"><img src=\"./media/pymt-logo-header-text.png\"></a>\n",
    "\n",
    "# Loading models in pymt\n",
    "\n",
    "In this tutorial we will learn how to use pymt to:\n",
    "* Find and load models into a pymt environment\n",
    "* Look at a model's metadata\n",
    "* Set up a model simulation\n",
    "\n",
    "We will also learn about the common interface for pymt models.\n",
    "\n",
    "For more information you can look at the [pymt documentation](https://pymt.readthedocs.io)"
   ]
  },
  {
   "cell_type": "markdown",
   "metadata": {},
   "source": [
    "## The pymt model library\n",
    "\n",
    "All of the models that are available through pymt are held in a variable called, `MODELS`.\n",
    "\n",
    "To have a look at what models are currently available, we'll import the model collection\n",
    "and print the names of all of the models."
   ]
  },
  {
   "cell_type": "code",
   "execution_count": null,
   "metadata": {},
   "outputs": [],
   "source": [
    "from pymt import MODELS"
   ]
  },
  {
   "cell_type": "markdown",
   "metadata": {},
   "source": [
    "You can think of `MODELS` as a Python dictionary where the keys are the names of the models and the values the model classes. For example, to see the names of all of the available models, you can use the `keys` method, just as you would with a `dict`."
   ]
  },
  {
   "cell_type": "code",
   "execution_count": null,
   "metadata": {},
   "outputs": [],
   "source": [
    "MODELS.keys()"
   ]
  },
  {
   "cell_type": "markdown",
   "metadata": {},
   "source": [
    "The class associated with each model can be accessed either as an attribute of `MODELS` or, in the usual way, using square brackets. That is, the following two methods are equivalent."
   ]
  },
  {
   "cell_type": "code",
   "execution_count": null,
   "metadata": {},
   "outputs": [],
   "source": [
    "MODELS.Child is MODELS[\"Child\"]"
   ]
  },
  {
   "cell_type": "markdown",
   "metadata": {},
   "source": [
    "As with other Python objects, you can access a model's docstring with the `help` command."
   ]
  },
  {
   "cell_type": "code",
   "execution_count": null,
   "metadata": {},
   "outputs": [],
   "source": [
    "help(MODELS.Child)"
   ]
  },
  {
   "cell_type": "markdown",
   "metadata": {
    "solution2": "shown",
    "solution2_first": true
   },
   "source": [
    "## Exercise: Load a model and have a look at its documention\n",
    "\n",
    "Load a couple other models and have a look at their documentation. You should notice some similarities in how the models are presented."
   ]
  },
  {
   "cell_type": "code",
   "execution_count": null,
   "metadata": {},
   "outputs": [],
   "source": [
    "# Your code here"
   ]
  },
  {
   "cell_type": "code",
   "execution_count": null,
   "metadata": {
    "solution2": "shown"
   },
   "outputs": [],
   "source": [
    "help(MODELS.Cem)"
   ]
  },
  {
   "cell_type": "code",
   "execution_count": null,
   "metadata": {
    "solution2": "shown"
   },
   "outputs": [],
   "source": [
    "help(MODELS.FrostNumber)"
   ]
  },
  {
   "cell_type": "markdown",
   "metadata": {},
   "source": [
    "## Model documentation\n",
    "\n",
    "As you will hopefull have seen, each model comes with:\n",
    "* A brief description of what it does\n",
    "* A list of the model authors\n",
    "* Other model metadata such as,\n",
    "  * version number\n",
    "  * Open Source License\n",
    "  * DOI\n",
    "  * Link to additional model documentation\n",
    "* A list of, *bibtex* formatted, references to cite\n",
    "* The usual docstring sections with method descriptions, parameters, etc."
   ]
  },
  {
   "cell_type": "markdown",
   "metadata": {},
   "source": [
    "Much of the above metadata is also available programmatically through attributes of a model instance. First we create an instance of the model.\n",
    "\n",
    "(for those who might not be familiar with Python conventions, *camelcase* indicates a *class*, lowercase an *instance*, and a *constant*)"
   ]
  },
  {
   "cell_type": "code",
   "execution_count": null,
   "metadata": {},
   "outputs": [],
   "source": [
    "child = MODELS.Child()"
   ]
  },
  {
   "cell_type": "markdown",
   "metadata": {},
   "source": [
    "Now try to access metadata as attributes. Hopefully, you'll be able to guess the attribute names."
   ]
  },
  {
   "cell_type": "code",
   "execution_count": null,
   "metadata": {},
   "outputs": [],
   "source": [
    "print(child.version)"
   ]
  },
  {
   "cell_type": "code",
   "execution_count": null,
   "metadata": {},
   "outputs": [],
   "source": [
    "for ref in child.cite_as:\n",
    "    print(ref)"
   ]
  },
  {
   "cell_type": "markdown",
   "metadata": {},
   "source": [
    "# Set up a simulation\n",
    "\n",
    "Model simulations can be either setup by hand or using the `setup` method of a *PyMT* model. If using `setup`, pymt will take one of more model template input files and fill in values provided as keyword arguments to `setup`.\n",
    "\n",
    "You can see what the valid keywords for model's `setup` method is under the *Parameters* section in a models docstring. Each parameter has a description, data type, default value and units."
   ]
  },
  {
   "cell_type": "code",
   "execution_count": null,
   "metadata": {},
   "outputs": [],
   "source": [
    "help(child)"
   ]
  },
  {
   "cell_type": "markdown",
   "metadata": {},
   "source": [
    "You can obtain a description of the default parameters programmatically through the *defaults* attribute."
   ]
  },
  {
   "cell_type": "code",
   "execution_count": null,
   "metadata": {},
   "outputs": [],
   "source": [
    "for param in child.defaults:\n",
    "    print(param)"
   ]
  },
  {
   "cell_type": "markdown",
   "metadata": {},
   "source": [
    "By default, `setup` will create a set of input files in a temporary folder but you can change this behavior by providing the name of a another folder to put them into. To demonstrate what's going on, let's create a new folder in the current directory and see what happens."
   ]
  },
  {
   "cell_type": "code",
   "execution_count": null,
   "metadata": {},
   "outputs": [],
   "source": [
    "child.setup(\"child-sim-0\")"
   ]
  },
  {
   "cell_type": "markdown",
   "metadata": {},
   "source": [
    "`setup` returns a tuple of the main configuration file and the simulation folder. Within that folder will be one or more input files specific to the model you're using."
   ]
  },
  {
   "cell_type": "code",
   "execution_count": null,
   "metadata": {},
   "outputs": [],
   "source": [
    "ls child-sim-0"
   ]
  },
  {
   "cell_type": "code",
   "execution_count": null,
   "metadata": {},
   "outputs": [],
   "source": [
    "cat child-sim-0/child.in"
   ]
  },
  {
   "cell_type": "markdown",
   "metadata": {
    "solution2": "shown",
    "solution2_first": true
   },
   "source": [
    "## Exercise 1: Setup a simulation using non-default values\n",
    "\n",
    "Use a model's `setup` method to create a set of input files using non-default values and verify the input files were created correctly."
   ]
  },
  {
   "cell_type": "code",
   "execution_count": null,
   "metadata": {},
   "outputs": [],
   "source": [
    "# Your code here"
   ]
  },
  {
   "cell_type": "markdown",
   "metadata": {},
   "source": [
    "<details>\n",
    "    <summary><b>Click here to see a solution</b></summary>\n",
    "    \n",
    "```python\n",
    "from pymt import MODELS\n",
    "\n",
    "hydrotrend = MODELS.Hydrotrend()\n",
    "dict(hydrotrend.parameters)\n",
    "\n",
    "hydrotrend.setup(\"hydrotrend-sim-0\", hydraulic_conductivity=200.0)\n",
    "\n",
    "dict(hydrotrend.parameters)[\"hydraulic_conductivity\"]\n",
    "\n",
    "ls hydrotrend-sim-0\n",
    "\n",
    "cat hydrotrend-sim-0/HYDRO.IN\n",
    "```\n",
    "    \n",
    "</details>"
   ]
  },
  {
   "cell_type": "markdown",
   "metadata": {
    "solution2": "shown",
    "solution2_first": true
   },
   "source": [
    "## Exercise 2: As a bonus, set up a series of simulations\n",
    "\n",
    "Pull parameters from a uniform distribution, which could be part of a sensitivity study."
   ]
  },
  {
   "cell_type": "code",
   "execution_count": null,
   "metadata": {},
   "outputs": [],
   "source": [
    "# Your code here"
   ]
  },
  {
   "cell_type": "markdown",
   "metadata": {},
   "source": [
    "<details>\n",
    "    <summary><b>Click here to see a solution</b></summary>\n",
    "\n",
    "```python\n",
    "import numpy as np\n",
    "\n",
    "hydrotrend = MODELS.Hydrotrend()\n",
    "\n",
    "values = np.linspace(50., 200.)\n",
    "for sim_no, value in enumerate(values):\n",
    "    hydrotrend.setup(f\"hydrotrend-sim-{sim_no}\", hydraulic_conductivity=value)\n",
    "    \n",
    "cat hydrotrend-sim-12/HYDRO.IN | grep \"hydraulic conductivity\"\n",
    "\n",
    "print(values[12])\n",
    "\n",
    "cat hydrotrend-sim-24/HYDRO.IN | grep \"hydraulic conductivity\"\n",
    "\n",
    "print(values[24])\n",
    "```\n",
    "    \n",
    "</details>"
   ]
  }
 ],
 "metadata": {
  "kernelspec": {
   "display_name": "Python 3 (ipykernel)",
   "language": "python",
   "name": "python3"
  },
  "language_info": {
   "codemirror_mode": {
    "name": "ipython",
    "version": 3
   },
   "file_extension": ".py",
   "mimetype": "text/x-python",
   "name": "python",
   "nbconvert_exporter": "python",
   "pygments_lexer": "ipython3",
   "version": "3.9.7"
  }
 },
 "nbformat": 4,
 "nbformat_minor": 4
}
