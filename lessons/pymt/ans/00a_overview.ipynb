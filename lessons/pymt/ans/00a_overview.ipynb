{
 "cells": [
  {
   "cell_type": "markdown",
   "metadata": {},
   "source": [
    "<a href=\"https://pymt.readthedocs.io\"><img style=\"float: left\" src=\"../media/powered-by-logo-header.png\"></a>"
   ]
  },
  {
   "cell_type": "markdown",
   "metadata": {},
   "source": [
    "# Introduction\n",
    "\n",
    "Welcome to the *PyMT* Tutorial.\n",
    "\n",
    "pymt is the Python Modeling Toolkit. It is an Open Source Python package, developed by the [Community Surface Dynamics Modeling System](https://csdms.colorado.edu) (CSDMS), that provides the tools needed for coupling models that expose the [Basic Model Interface](https://bmi.readthedocs.io) (BMI).\n",
    "\n",
    "pymt in three points:\n",
    "* A collection of Earth-surface models\n",
    "* Tools for coupling models of disparate time and space scales\n",
    "* Extensible plug-in framework for adding new models\n"
   ]
  },
  {
   "cell_type": "markdown",
   "metadata": {},
   "source": [
    "# Links\n",
    "\n",
    "* Reference\n",
    "  * [Documentation](https://pymt.readthedocs.io)\n",
    "  * [Source code](https://github.com/csdms/pymt)\n",
    "* Ask for help\n",
    "  * [Issues on GitHub](https://github.com/csdms/pymt/issues)\n",
    "  * Attend a live tutorial"
   ]
  },
  {
   "cell_type": "markdown",
   "metadata": {},
   "source": [
    "# Tutorial Structure\n",
    "\n",
    "Each section is a separate Jupyter notebook. Within each notebook there is a mixture of text, code, and exercises.\n",
    "\n",
    "If you've not used Jupyter notebooks before, the main things you will want to know,\n",
    "* There are two modes: *command* and *edit*\n",
    "* From *command* mode, press `Enter` to change to *edit* mode (and edit the current cell)\n",
    "* From *edit* mode, press `Esc` to change to *command* mode\n",
    "* Press `Shift` + `Enter` to execute the code in the current cell\n",
    "\n",
    "Or, if you would prefer, you can do all of this through the toolbar."
   ]
  },
  {
   "cell_type": "markdown",
   "metadata": {
    "solution": "hidden",
    "solution2": "hidden",
    "solution2_first": true,
    "solution_first": true
   },
   "source": [
    "## Exercise: Print the string, \"Hello, World!\""
   ]
  },
  {
   "cell_type": "code",
   "execution_count": null,
   "metadata": {
    "solution": "hidden",
    "solution2": "hidden"
   },
   "outputs": [],
   "source": [
    "print(\"Hello, World!\")"
   ]
  },
  {
   "cell_type": "code",
   "execution_count": null,
   "metadata": {},
   "outputs": [],
   "source": [
    "# Your code here"
   ]
  }
 ],
 "metadata": {
  "kernelspec": {
   "display_name": "Python 3",
   "language": "python",
   "name": "python3"
  },
  "language_info": {
   "codemirror_mode": {
    "name": "ipython",
    "version": 3
   },
   "file_extension": ".py",
   "mimetype": "text/x-python",
   "name": "python",
   "nbconvert_exporter": "python",
   "pygments_lexer": "ipython3",
   "version": "3.8.6"
  }
 },
 "nbformat": 4,
 "nbformat_minor": 4
}
