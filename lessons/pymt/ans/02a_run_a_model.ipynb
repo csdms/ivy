{
 "cells": [
  {
   "cell_type": "markdown",
   "metadata": {},
   "source": [
    "<a href=\"https://pymt.readthedocs.io\"><img style=\"float: right\" src=\"../media/pymt-logo-header-text.png\"></a>\n",
    "\n",
    "# Running PyMT models\n",
    "\n",
    "In this tutorial we will learn how to use *PyMT* to:\n",
    "* Initialize models\n",
    "* Advance models through time\n",
    "* Get values from a model\n",
    "* Unit conversion\n",
    "\n",
    "We will also learn about the common interface for *PyMT* models.\n",
    "\n",
    "We will run a single model in *pymt*. We will use the water balance\n",
    "model, *Hydrotrend* (written in C). We'll setup a model simulation, run it, and then\n",
    "analyze the output. You will also be given a chance to do your own simulations\n",
    "and explore the HydroTrend model. \n",
    "\n",
    "* [Explore the base-case river simulation](#Exercise-1)\n",
    "* [How does a river system respond to climate change?](#Exercise-2)\n",
    "\n",
    "## HydroTrend\n",
    "\n",
    "HydroTrend is a 2D hydrological water balance and transport model that simulates water\n",
    "discharge and sediment load at a river outlet. You can read more about the model, find\n",
    "references or download the source code at: https://csdms.colorado.edu/wiki/Model:HydroTrend.\n",
    "\n",
    "### River Sediment Supply Modeling\n",
    "\n",
    "This notebook is meant to give you a better understanding of what the model is capable of. In this\n",
    "example we are using a theoretical river basin of ~1990 km<sup>2</sup>, with 1200m of relief and\n",
    "a river length of ~100 km. All parameters that are shown by default once the HydroTrend Model\n",
    "is loaded are based on a present-day, temperate climate. Whereas these runs are not meant to\n",
    "be specific, we are using parameters that are realistic for the [Waiapaoa River][map_of_waiapaoa]\n",
    "in New Zealand. The Waiapaoa River is located on North Island and receives high rain and has\n",
    "erodible soils, so the river sediment loads are exceptionally high. It has been called the\n",
    "*\"dirtiest small river in the world\"*.\n",
    "\n",
    "To learn more about HydroTrend and its approach to sediment supply modeling, you can download\n",
    "this [presentation][hydrotrend_presentation].\n",
    "\n",
    "A more detailed description of applying HydroTrend to the Waipaoa basin, New Zealand has been published in WRR: [hydrotrend_waipaoa_paper]. \n",
    "\n",
    "[map_of_waiapaoa]: https://www.google.com/maps/place/Waipaoa+River/@-38.5099042,177.7668002,71814m/data=!3m1!1e3!4m5!3m4!1s0x6d65def908624859:0x2a00ef6165e1dfa0!8m2!3d-38.5392405!4d177.8843782\n",
    "[hydrotrend_presentation]: https://csdms.colorado.edu/wiki/File:SedimentSupplyModeling02_2013.ppt\n",
    "[hydrotrend_waipaoa_paper]: http://dx.doi.org/10.1029/2006WR005570"
   ]
  },
  {
   "cell_type": "code",
   "execution_count": null,
   "metadata": {},
   "outputs": [],
   "source": [
    "import matplotlib.pyplot as plt\n",
    "import numpy as np\n",
    "from tqdm import tqdm"
   ]
  },
  {
   "cell_type": "markdown",
   "metadata": {},
   "source": [
    "# Model initialization\n",
    "\n",
    "With a set of input files, a model can be initialized, and then advanced through time. Upon model initialization, the input files are read, memory allocated and initialized so that time stepping can begin."
   ]
  },
  {
   "cell_type": "code",
   "execution_count": null,
   "metadata": {},
   "outputs": [],
   "source": [
    "from pymt import MODELS\n",
    "\n",
    "hydrotrend = MODELS.Hydrotrend()\n",
    "config_file, config_dir = hydrotrend.setup(\"hydrotrend-default\")\n",
    "\n",
    "hydrotrend.initialize(config_file, dir=config_dir)"
   ]
  },
  {
   "cell_type": "markdown",
   "metadata": {},
   "source": [
    "## Input and output variables\n",
    "\n",
    "Once initialized, we are able to obtain more information about the model, for instance names of input and output variables. The input variables, are names of variables that can be set dynamically as the model advances through time. Output variables are internal state variables that a model changes as it advances.\n",
    "\n",
    "Input and output variables are accessed with the `input_var_names` and `output_var_names` attributes, respectively.\n",
    "\n",
    "### Notice anything unusual?"
   ]
  },
  {
   "cell_type": "code",
   "execution_count": null,
   "metadata": {},
   "outputs": [],
   "source": [
    "hydrotrend.input_var_names"
   ]
  },
  {
   "cell_type": "code",
   "execution_count": null,
   "metadata": {},
   "outputs": [],
   "source": [
    "hydrotrend.output_var_names"
   ]
  },
  {
   "cell_type": "markdown",
   "metadata": {},
   "source": [
    "Of this list of output variables, we're going to track water and sediment discharge, sediment\n",
    "concentration and bedload flux. The mapping of these variables to the Standard Names\n",
    "reported by *output_var_names* is given in the following table.\n",
    "\n",
    "| Conventional Name      | Standard Name                                             |\n",
    "| :--------------------- | :-------------------------------------------------------- |\n",
    "| Water discharge        | channel_exit_water__volume_flow_rate                      |\n",
    "| Sediment discharge     | channel_exit_water_sediment~suspended__mass_flow_rate     |\n",
    "| Sediment concentration | channel_exit_water_sediment~suspended__mass_concentration |\n",
    "| Bedload flux           | channel_exit_water_sediment~bedload__mass_flow_rate       |\n",
    "\n",
    "### What do you think? Are you able to figure out what the other output variables are?"
   ]
  },
  {
   "cell_type": "markdown",
   "metadata": {},
   "source": [
    "## Advancing a model through time\n",
    "\n",
    "The attributes: `time_step`, `current_time`, `start_time`, `end_time`, and `time_units` provide information about how the model advances through time.\n",
    "\n",
    "Using the above attributes, determine how many time steps have we set this model up to run for."
   ]
  },
  {
   "cell_type": "code",
   "execution_count": null,
   "metadata": {},
   "outputs": [],
   "source": [
    "start_time = hydrotrend.start_time\n",
    "now = hydrotrend.time\n",
    "end_time = hydrotrend.end_time\n",
    "time_step = hydrotrend.time_step\n",
    "time_units = hydrotrend.time_units\n",
    "\n",
    "print(f\"start time: {start_time} {time_units}\")\n",
    "print(f\"current time: {now} {time_units}\")\n",
    "print(f\"end time: {end_time} {time_units}\")\n",
    "print(f\"time step: {time_step} {time_units}\")\n",
    "\n",
    "n_steps = (end_time - start_time) // time_step\n",
    "\n",
    "print(f\"number of time steps: {n_steps}\")"
   ]
  },
  {
   "cell_type": "markdown",
   "metadata": {},
   "source": [
    "We use the ***update*** method to advance *hydrotrend* one time step at a time and the ***get_value***\n",
    "method to retreive values from the model. Feel free to add other variables if you like. Along the way, we'll save some variables to create a time series."
   ]
  },
  {
   "cell_type": "code",
   "execution_count": null,
   "metadata": {},
   "outputs": [],
   "source": [
    "n_steps = int(hydrotrend.end_time / hydrotrend.time_step)\n",
    "\n",
    "q = np.empty(n_steps)\n",
    "qs = np.empty(n_steps)\n",
    "cs = np.empty(n_steps)\n",
    "qb = np.empty(n_steps)\n",
    "\n",
    "for i in tqdm(range(n_steps)):\n",
    "    hydrotrend.update()\n",
    "    \n",
    "    q[i] = hydrotrend.get_value(\"channel_exit_water__volume_flow_rate\")\n",
    "    qs[i] = hydrotrend.get_value(\"channel_exit_water_sediment~suspended__mass_flow_rate\")\n",
    "    cs[i] = hydrotrend.get_value(\"channel_exit_water_sediment~suspended__mass_concentration\")\n",
    "    qb[i] = hydrotrend.get_value(\"channel_exit_water_sediment~bedload__mass_flow_rate\")"
   ]
  },
  {
   "cell_type": "markdown",
   "metadata": {},
   "source": [
    "Now plot the complete hydrograph."
   ]
  },
  {
   "cell_type": "code",
   "execution_count": null,
   "metadata": {},
   "outputs": [],
   "source": [
    "time = np.arange(len(qs))\n",
    "\n",
    "plt.plot(time, qs)\n",
    "plt.xlabel(f\"Time ({time_units})\")\n",
    "plt.ylabel(\"Sediment discharge\")"
   ]
  },
  {
   "cell_type": "markdown",
   "metadata": {
    "solution2": "hidden",
    "solution2_first": true
   },
   "source": [
    "## Exercise 1\n",
    "\n",
    "### Run for 100 years, calculate 100 year means\n",
    "\n",
    "For this case study, we will run a simulation for 100 years at daily time-step.\n",
    "This means you run Hydrotrend for 36,500 days total. Later on we will change\n",
    "other input parameters but, for now, we'll just stick with the defaults.\n",
    "\n",
    "Calculate mean water discharge Q, mean suspended load Qs, mean sediment concentration Cs, and mean bedload Qb.\n",
    "\n",
    "*Note that all values are reported as daily averages. What are the units?*"
   ]
  },
  {
   "cell_type": "code",
   "execution_count": null,
   "metadata": {},
   "outputs": [],
   "source": [
    "# Your code here"
   ]
  },
  {
   "cell_type": "code",
   "execution_count": null,
   "metadata": {
    "solution2": "hidden"
   },
   "outputs": [],
   "source": [
    "from pymt import MODELS\n",
    "\n",
    "hydrotrend = MODELS.Hydrotrend()\n",
    "config_file, config_dir = hydrotrend.setup(\"hydrotrend-default\", run_duration=100)\n",
    "\n",
    "hydrotrend.initialize(config_file, dir=config_dir)\n",
    "\n",
    "n_steps = int(hydrotrend.end_time / hydrotrend.time_step)\n",
    "\n",
    "q = np.empty(n_steps)\n",
    "qs = np.empty(n_steps)\n",
    "cs = np.empty(n_steps)\n",
    "qb = np.empty(n_steps)\n",
    "\n",
    "for i in tqdm(range(n_steps)):\n",
    "    hydrotrend.update()\n",
    "    \n",
    "    q[i] = hydrotrend.get_value(\"channel_exit_water__volume_flow_rate\")\n",
    "    qs[i] = hydrotrend.get_value(\"channel_exit_water_sediment~suspended__mass_flow_rate\")\n",
    "    cs[i] = hydrotrend.get_value(\"channel_exit_water_sediment~suspended__mass_concentration\")\n",
    "    qb[i] = hydrotrend.get_value(\"channel_exit_water_sediment~bedload__mass_flow_rate\")"
   ]
  },
  {
   "cell_type": "code",
   "execution_count": null,
   "metadata": {
    "solution2": "hidden"
   },
   "outputs": [],
   "source": [
    "(\n",
    "    (q.mean(), hydrotrend.var_units(\"channel_exit_water__volume_flow_rate\")),\n",
    "    (cs.mean(), hydrotrend.var_units(\"channel_exit_water_sediment~suspended__mass_flow_rate\")),\n",
    "    (qs.mean(), hydrotrend.var_units(\"channel_exit_water_sediment~suspended__mass_concentration\")),\n",
    "    (qb.mean(), hydrotrend.var_units(\"channel_exit_water_sediment~bedload__mass_flow_rate\"))\n",
    ")"
   ]
  },
  {
   "cell_type": "code",
   "execution_count": null,
   "metadata": {
    "solution2": "hidden"
   },
   "outputs": [],
   "source": [
    "hydrotrend.var_units(\"channel_exit_water__volume_flow_rate\")"
   ]
  },
  {
   "cell_type": "code",
   "execution_count": null,
   "metadata": {
    "scrolled": true,
    "solution2": "hidden"
   },
   "outputs": [],
   "source": [
    "print(f\"River discharge: {q.mean()} m3 / s\")\n",
    "print(f\"Suspended load: {qs.mean()} kg / s\")\n",
    "print(f\"bedload: {qb.mean()} kg / s\")"
   ]
  },
  {
   "cell_type": "markdown",
   "metadata": {
    "solution2": "hidden",
    "solution2_first": true
   },
   "source": [
    "**Identify the highest flood event for this simulation. Is this the 50-year flood? Plot the year of Q-data which includes the flood.**\n"
   ]
  },
  {
   "cell_type": "code",
   "execution_count": null,
   "metadata": {},
   "outputs": [],
   "source": [
    "# Your code here"
   ]
  },
  {
   "cell_type": "code",
   "execution_count": null,
   "metadata": {
    "solution2": "hidden"
   },
   "outputs": [],
   "source": [
    "flood_day = q.argmax()\n",
    "flood_year = flood_day // 365\n",
    "plt.plot(q[flood_year * 365: (flood_year + 1) * 365])"
   ]
  },
  {
   "cell_type": "code",
   "execution_count": null,
   "metadata": {
    "solution2": "hidden"
   },
   "outputs": [],
   "source": [
    "print(f\"Year of max flood: {flood_year}\")\n",
    "print(f\"Day of year of max flood: {flood_day % 365}\")"
   ]
  },
  {
   "cell_type": "markdown",
   "metadata": {
    "solution2": "hidden",
    "solution2_first": true
   },
   "source": [
    "## Exercise 2\n",
    "\n",
    "### How does a river system respond to climate change? A few simple scenarios for the coming century.\n",
    "\n",
    "#### What happens to river discharge, suspended load and bedload if the mean annual temperature in this specific river basin increases by 4 °C over the next 50 years?"
   ]
  },
  {
   "cell_type": "code",
   "execution_count": null,
   "metadata": {
    "solution2": "hidden"
   },
   "outputs": [],
   "source": [
    "help(hydrotrend)"
   ]
  },
  {
   "cell_type": "code",
   "execution_count": null,
   "metadata": {
    "solution2": "hidden"
   },
   "outputs": [],
   "source": [
    "from pymt import MODELS\n",
    "\n",
    "hydrotrend = MODELS.Hydrotrend()\n",
    "\n",
    "config_file, config_folder = hydrotrend.setup(run_duration=50, change_in_mean_annual_temperature=4.0 / 50.0)\n",
    "hydrotrend.initialize(config_file, config_folder)\n",
    "\n",
    "n_steps = int(hydrotrend.end_time / hydrotrend.time_step)\n",
    "\n",
    "q = np.empty(n_steps)\n",
    "qs = np.empty(n_steps)\n",
    "cs = np.empty(n_steps)\n",
    "qb = np.empty(n_steps)\n",
    "\n",
    "for i in tqdm(range(n_steps)):\n",
    "    hydrotrend.update()\n",
    "    \n",
    "    q[i] = hydrotrend.get_value(\"channel_exit_water__volume_flow_rate\")\n",
    "    qs[i] = hydrotrend.get_value(\"channel_exit_water_sediment~suspended__mass_flow_rate\")\n",
    "    cs[i] = hydrotrend.get_value(\"channel_exit_water_sediment~suspended__mass_concentration\")\n",
    "    qb[i] = hydrotrend.get_value(\"channel_exit_water_sediment~bedload__mass_flow_rate\")"
   ]
  },
  {
   "cell_type": "code",
   "execution_count": null,
   "metadata": {
    "solution2": "hidden"
   },
   "outputs": [],
   "source": [
    "(\n",
    "    (q.mean(), hydrotrend.var_units(\"channel_exit_water__volume_flow_rate\")),\n",
    "    (qs.mean(), hydrotrend.var_units(\"channel_exit_water_sediment~suspended__mass_flow_rate\")),\n",
    "    (cs.mean(), hydrotrend.var_units(\"channel_exit_water_sediment~suspended__mass_concentration\")),\n",
    "    (qb.mean(), hydrotrend.var_units(\"channel_exit_water_sediment~bedload__mass_flow_rate\"))\n",
    ")"
   ]
  },
  {
   "cell_type": "code",
   "execution_count": null,
   "metadata": {
    "solution2": "hidden"
   },
   "outputs": [],
   "source": [
    "print(f\"River discharge: {q.mean()} m3 / s\")\n",
    "print(f\"Suspended load: {qs.mean()} kg / s\")\n",
    "print(f\"bedload: {qb.mean()} kg / s\")"
   ]
  },
  {
   "cell_type": "code",
   "execution_count": null,
   "metadata": {},
   "outputs": [],
   "source": [
    "# Your code here"
   ]
  }
 ],
 "metadata": {
  "kernelspec": {
   "display_name": "Python 3",
   "language": "python",
   "name": "python3"
  },
  "language_info": {
   "codemirror_mode": {
    "name": "ipython",
    "version": 3
   },
   "file_extension": ".py",
   "mimetype": "text/x-python",
   "name": "python",
   "nbconvert_exporter": "python",
   "pygments_lexer": "ipython3",
   "version": "3.8.6"
  }
 },
 "nbformat": 4,
 "nbformat_minor": 4
}
