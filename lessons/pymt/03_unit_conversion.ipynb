{
 "cells": [
  {
   "cell_type": "markdown",
   "metadata": {},
   "source": [
    "<a href=\"https://pymt.readthedocs.io\"><img src=\"https://raw.githubusercontent.com/csdms/espin/main/media/pymt-logo-header-text.png\"></a>\n",
    "\n",
    "# Unit conversion in pymt\n",
    "\n",
    "In this tutorial we will learn how to:\n",
    "* Use the pymt unit converter\n",
    "* Automatically convert model units\n",
    "\n",
    "For this tutorial, we'll continue with the same model from the last tutorial, *Hydotrend*."
   ]
  },
  {
   "cell_type": "code",
   "execution_count": null,
   "metadata": {},
   "outputs": [],
   "source": [
    "import matplotlib.pyplot as plt\n",
    "import numpy as np\n",
    "from tqdm import tqdm"
   ]
  },
  {
   "cell_type": "markdown",
   "metadata": {},
   "source": [
    "## The pymt UnitSystem\n",
    "\n",
    "*PyMT* comes with an \"offline\" version of its unit converter. This can be accessed through the `UnitSystem` class."
   ]
  },
  {
   "cell_type": "code",
   "execution_count": null,
   "metadata": {},
   "outputs": [],
   "source": [
    "from pymt import UnitSystem\n",
    "\n",
    "unit_system = UnitSystem()"
   ]
  },
  {
   "cell_type": "markdown",
   "metadata": {},
   "source": [
    "We can now draw units from the system using the `Unit` attribute. Units can be expressed in a variety of ways. For example, the following are all ways to represent *cubic meters per second*."
   ]
  },
  {
   "cell_type": "code",
   "execution_count": null,
   "metadata": {},
   "outputs": [],
   "source": [
    "unit_system.Unit(\"m3 / s\")\n",
    "unit_system.Unit(\"m^3 / s\")\n",
    "unit_system.Unit(\"m3 s-1\")"
   ]
  },
  {
   "cell_type": "markdown",
   "metadata": {},
   "source": [
    "We can double check that they are equivalent with the `compare` method. With `compare`, 0 means the units are equivalent, -1 if source is less that destination, and 1 otherwise."
   ]
  },
  {
   "cell_type": "code",
   "execution_count": null,
   "metadata": {},
   "outputs": [],
   "source": [
    "unit_system.Unit(\"m3 / s\").compare(unit_system.Unit(\"m^3 / s\"))"
   ]
  },
  {
   "cell_type": "markdown",
   "metadata": {},
   "source": [
    "Alternatively, you can use the usual Python comparison operators."
   ]
  },
  {
   "cell_type": "code",
   "execution_count": null,
   "metadata": {},
   "outputs": [],
   "source": [
    "unit_system.Unit(\"m3 / s\") == unit_system.Unit(\"m^3 / s\")"
   ]
  },
  {
   "cell_type": "code",
   "execution_count": null,
   "metadata": {},
   "outputs": [],
   "source": [
    "unit_system.Unit(\"km\") > unit_system.Unit(\"m\")"
   ]
  },
  {
   "cell_type": "code",
   "execution_count": null,
   "metadata": {},
   "outputs": [],
   "source": [
    "unit_system.Unit(\"N.m\") == unit_system.Unit(\"joule\")"
   ]
  },
  {
   "cell_type": "markdown",
   "metadata": {},
   "source": [
    "To convert from one unit to another, use `to`. For example, the following creates a converter that converts vales in meters to feet."
   ]
  },
  {
   "cell_type": "code",
   "execution_count": null,
   "metadata": {},
   "outputs": [],
   "source": [
    "meters = unit_system.Unit(\"m\")\n",
    "feet = unit_system.Unit(\"feet\")\n",
    "\n",
    "meters_to_feet = meters.to(feet)\n",
    "meters_to_feet(1.0)"
   ]
  },
  {
   "cell_type": "markdown",
   "metadata": {
    "solution2": "shown",
    "solution2_first": true
   },
   "source": [
    "## Exercise\n",
    "\n",
    "Create a converter that converts feet to meters."
   ]
  },
  {
   "cell_type": "code",
   "execution_count": null,
   "metadata": {},
   "outputs": [],
   "source": [
    "# Your code here"
   ]
  },
  {
   "cell_type": "markdown",
   "metadata": {},
   "source": [
    "## Convert model units\n",
    "\n",
    "The \"online\" version of the *PyMT* unit converter operates as a keyword to a model's *get_value* method. Let's look at our example from the previous tutorial."
   ]
  },
  {
   "cell_type": "code",
   "execution_count": null,
   "metadata": {},
   "outputs": [],
   "source": [
    "from pymt import MODELS\n",
    "\n",
    "hydrotrend = MODELS.Hydrotrend()\n",
    "config_file, config_dir = hydrotrend.setup(\"hydrotrend-default\", run_duration=100)\n",
    "\n",
    "hydrotrend.initialize(config_file, dir=config_dir)\n",
    "hydrotrend.update()"
   ]
  },
  {
   "cell_type": "markdown",
   "metadata": {},
   "source": [
    "Recall that the unit of discharge are *m3 / s*, which is what is returned by *get_value*."
   ]
  },
  {
   "cell_type": "code",
   "execution_count": null,
   "metadata": {},
   "outputs": [],
   "source": [
    "hydrotrend.get_value(\"channel_exit_water__volume_flow_rate\")"
   ]
  },
  {
   "cell_type": "markdown",
   "metadata": {
    "solution2": "shown",
    "solution2_first": true
   },
   "source": [
    "### Exercise\n",
    "\n",
    "Use the `units` keyword of *get_value* to return discharge in units of your choice."
   ]
  },
  {
   "cell_type": "code",
   "execution_count": null,
   "metadata": {},
   "outputs": [],
   "source": [
    "# Your code here"
   ]
  }
 ],
 "metadata": {
  "kernelspec": {
   "display_name": "Python 3",
   "language": "python",
   "name": "python3"
  },
  "language_info": {
   "codemirror_mode": {
    "name": "ipython",
    "version": 3
   },
   "file_extension": ".py",
   "mimetype": "text/x-python",
   "name": "python",
   "nbconvert_exporter": "python",
   "pygments_lexer": "ipython3",
   "version": "3.9.4"
  }
 },
 "nbformat": 4,
 "nbformat_minor": 4
}
