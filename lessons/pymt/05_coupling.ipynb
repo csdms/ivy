{
 "cells": [
  {
   "cell_type": "markdown",
   "metadata": {},
   "source": [
    "<a href=\"https://pymt.readthedocs.io\"><img src=\"./media/pymt-logo-header-text.png\"></a>\n",
    "\n",
    "# Coupling models\n",
    "\n",
    "In this tutorial we will learn how to:\n",
    "* Couple two models\n",
    "* Use the PyMT grid mapper"
   ]
  },
  {
   "cell_type": "code",
   "execution_count": null,
   "metadata": {},
   "outputs": [],
   "source": [
    "import matplotlib.pyplot as plt\n",
    "import numpy as np\n",
    "from tqdm import tqdm"
   ]
  },
  {
   "cell_type": "markdown",
   "metadata": {},
   "source": [
    "## Set up and initialize two models\n",
    "\n",
    "For this example we will couple and landscape evolution model, *Child*, with a seascape evolution model, *Sedflux*. Although these are two very different models, notice that within *PyMT* they look and operate in a familiar way."
   ]
  },
  {
   "cell_type": "code",
   "execution_count": null,
   "metadata": {},
   "outputs": [],
   "source": [
    "from pymt import MODELS"
   ]
  },
  {
   "cell_type": "markdown",
   "metadata": {},
   "source": [
    "First, set up and initialize *Child*..."
   ]
  },
  {
   "cell_type": "code",
   "execution_count": null,
   "metadata": {},
   "outputs": [],
   "source": [
    "child = MODELS.Child()\n",
    "\n",
    "child_in, child_dir = child.setup(\n",
    "    \"_child\",\n",
    "    grid_node_spacing=500.0,\n",
    "    grid_x_size=40000.0,\n",
    "    grid_y_size=20000.0,\n",
    "    run_duration=1e6,\n",
    ")\n",
    "\n",
    "child.initialize(child_in, dir=child_dir)"
   ]
  },
  {
   "cell_type": "markdown",
   "metadata": {},
   "source": [
    "...then set up and initialize *Sedflux*"
   ]
  },
  {
   "cell_type": "code",
   "execution_count": null,
   "metadata": {},
   "outputs": [],
   "source": [
    "sedflux = MODELS.Sedflux3D()\n",
    "\n",
    "sedflux_in, sedflux_dir = sedflux.setup(\n",
    "    \"_sedflux\",\n",
    "    river_bed_load_flux=0.0,\n",
    "    river_suspended_load_concentration_0=0.1,\n",
    "    river_suspended_load_concentration_1=0.1,\n",
    "    run_duration=1e6 * 365.0,\n",
    ")\n",
    "\n",
    "sedflux.initialize(sedflux_in, dir=sedflux_dir)"
   ]
  },
  {
   "cell_type": "markdown",
   "metadata": {},
   "source": [
    "Before continuing, we need to sync up values of surface elevation for each of the models. For *Child*, the variable name for this is *land_surface__elevation*.\n",
    "\n",
    "In a similar way as we did in the previous tutorial, we'll set a shoreline in *Child*. In this case, though, we'll put the shoreline at *x=20km*."
   ]
  },
  {
   "cell_type": "code",
   "execution_count": null,
   "metadata": {},
   "outputs": [],
   "source": [
    "gid = child.var[\"land_surface__elevation\"].grid\n",
    "\n",
    "x, y = child.grid_x(gid), child.grid_y(gid)\n",
    "z = child.get_value(\"land_surface__elevation\")"
   ]
  },
  {
   "cell_type": "code",
   "execution_count": null,
   "metadata": {},
   "outputs": [],
   "source": [
    "x_shore = 20000.0\n",
    "z[np.where(x > x_shore)] += 100.0\n",
    "z[np.where(x <= x_shore)] -= 100.0\n",
    "\n",
    "child.set_value(\"land_surface__elevation\", z)"
   ]
  },
  {
   "cell_type": "markdown",
   "metadata": {},
   "source": [
    "## Map values between grids\n",
    "\n",
    "As we've seen, the *Child* grid is unstructured. The *Sedflux* grid, however, is uniform rectilinear. We can see this with *quick_plot*. For *Sedflux*, the relevent parameter is *bedrock_surface__elevation*."
   ]
  },
  {
   "cell_type": "code",
   "execution_count": null,
   "metadata": {},
   "outputs": [],
   "source": [
    "sedflux.quick_plot(\n",
    "    \"bedrock_surface__elevation\", edgecolors=\"k\", vmin=-200, vmax=200, cmap=\"BrBG_r\"\n",
    ")"
   ]
  },
  {
   "cell_type": "markdown",
   "metadata": {},
   "source": [
    "We've set the values for the initial elevation for *Child*, we need to map these to the values of *Sedflux*. We set these values in *Sedflux* using the usual **set_value** method, only this time we use the `mapfrom` keyword.\n",
    "\n",
    "The below code, *bedrock_surface__elevation* values of *Sedflux* by mapping values of *land_surface__elevation* of child."
   ]
  },
  {
   "cell_type": "code",
   "execution_count": null,
   "metadata": {},
   "outputs": [],
   "source": [
    "sedflux.set_value(\n",
    "    \"bedrock_surface__elevation\", mapfrom=(\"land_surface__elevation\", child)\n",
    ")"
   ]
  },
  {
   "cell_type": "markdown",
   "metadata": {},
   "source": [
    "To double-check how the mapping turned out, plot the elevations for each model."
   ]
  },
  {
   "cell_type": "code",
   "execution_count": null,
   "metadata": {},
   "outputs": [],
   "source": [
    "child.quick_plot(\n",
    "    \"land_surface__elevation\", edgecolors=\"k\", vmin=-200, vmax=200, cmap=\"BrBG_r\"\n",
    ")"
   ]
  },
  {
   "cell_type": "code",
   "execution_count": null,
   "metadata": {},
   "outputs": [],
   "source": [
    "sedflux.quick_plot(\"bedrock_surface__elevation\", vmin=-200, vmax=200, cmap=\"BrBG_r\")"
   ]
  },
  {
   "cell_type": "markdown",
   "metadata": {},
   "source": [
    "Although *Child* will provide sediment to *Sedflux*, *Sedflux* still requires values for the river characteristics as it enters the ocean."
   ]
  },
  {
   "cell_type": "code",
   "execution_count": null,
   "metadata": {},
   "outputs": [],
   "source": [
    "sedflux.set_value(\"channel_exit_water_flow__speed\", 1.2)\n",
    "sedflux.set_value(\"channel_exit_x-section__mean_of_width\", 400.0)\n",
    "sedflux.set_value(\"channel_exit_x-section__mean_of_depth\", 4.0)"
   ]
  },
  {
   "cell_type": "markdown",
   "metadata": {},
   "source": [
    "## Run a coupled simulation!\n",
    "\n",
    "We now run the time loop. For each time step, we:\n",
    "* update *Child*\n",
    "* set *Child*'s sediment flux into *Sedflux*\n",
    "* update *Sedflux*\n",
    "* set *Sedflux*'s seafloor elevations into *Child*"
   ]
  },
  {
   "cell_type": "code",
   "execution_count": null,
   "metadata": {},
   "outputs": [],
   "source": [
    "now = child.time\n",
    "times = np.arange(now, now + 1000, 1.0)\n",
    "\n",
    "sedflux.update()\n",
    "child.update()\n",
    "\n",
    "for t in tqdm(times):\n",
    "    child.update_until(t, units=\"years\")\n",
    "\n",
    "    sedflux.set_value(\"channel_water_sediment~bedload__mass_flow_rate\", mapfrom=child)\n",
    "    sedflux.update_until(t, units=\"years\")\n",
    "\n",
    "    z = child.get_value(\"land_surface__elevation\")\n",
    "    child.set_value(\n",
    "        \"land_surface__elevation\",\n",
    "        mapfrom=(\"land-or-seabed_sediment_surface__elevation\", sedflux),\n",
    "        nomap=np.where(z > 0.0),\n",
    "    )"
   ]
  },
  {
   "cell_type": "code",
   "execution_count": null,
   "metadata": {},
   "outputs": [],
   "source": [
    "child.quick_plot(\n",
    "    \"land_surface__elevation\", edgecolors=\"k\", vmin=-200, vmax=200, cmap=\"BrBG_r\"\n",
    ")"
   ]
  }
 ],
 "metadata": {
  "kernelspec": {
   "display_name": "Python 3",
   "language": "python",
   "name": "python3"
  },
  "language_info": {
   "codemirror_mode": {
    "name": "ipython",
    "version": 3
   },
   "file_extension": ".py",
   "mimetype": "text/x-python",
   "name": "python",
   "nbconvert_exporter": "python",
   "pygments_lexer": "ipython3",
   "version": "3.9.4"
  }
 },
 "nbformat": 4,
 "nbformat_minor": 4
}
