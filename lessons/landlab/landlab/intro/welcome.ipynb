{
 "cells": [
  {
   "cell_type": "markdown",
   "metadata": {},
   "source": [
    "<a href=\"http://landlab.github.io\"><img style=\"float: left\" src=\"https://raw.githubusercontent.com/landlab/tutorials/release/landlab_header.png\"></a>"
   ]
  },
  {
   "cell_type": "markdown",
   "metadata": {},
   "source": [
    "# Landlab\n",
    "\n",
    "Landlab is an open-source Python-language package for numerical modeling of Earth surface dynamics.\n",
    "It contains:\n",
    "\n",
    "*  A gridding engine which represents the model domain. Regular and irregular grids are supported.\n",
    "*  A library of process components, each of which represents a physical process (e.g., generation\n",
    "   of rain, erosion by flowing water). These components have a common interface and can be combined\n",
    "   based on a user's needs.\n",
    "*  Utilities that support general numerical methods, file input/output, and visualization.\n"
   ]
  },
  {
   "cell_type": "markdown",
   "metadata": {},
   "source": [
    "## Introduction to landlab\n",
    "\n",
    "* [Introduction to *Landlab* grids](01-intro.ipynb)\n",
    "  * The different types of grids\n",
    "  * Grid elements: *nodes*\n",
    "\n",
    "* [Data fields](02-data.ipynb)\n",
    "  * Attaching data to a *Landlab* grid\n",
    "  * Reading data into a *Landlab* grid\n",
    "\n",
    "* [More grid elements](03-links-cells.ipynb)\n",
    "  * Grid elements: *links*\n",
    "  * Grid elements: *cells*\n",
    "  \n",
    "* [Numerics](04-numerics.ipynb)\n",
    "  * Calculations on a grid elements\n",
    "  * Example: Fault scarp\n",
    "\n",
    "## Modeling with High Resolution Topography\n",
    "\n",
    "*  [High-resolution topography](02-hrt-example/landlab_tutorial2.ipynb)\n",
    "   *  Example: The [OverlandFlow](https://landlab.readthedocs.io/en/master/reference/components/overland_flow.html)\n",
    "      component"
   ]
  },
  {
   "cell_type": "markdown",
   "metadata": {},
   "source": [
    "## Links\n",
    "\n",
    "* Reference\n",
    "  * [Documentation](https://landlab.readthedocs.io)\n",
    "  * [Source code](https://github.com/landlab/landlab)\n",
    "* Ask for help\n",
    "  * [Issues on GitHub](https://github.com/csdms/landlab/issues)\n",
    "  * [CSDMS Help Desk](https://csdms.github.io/help-desk)"
   ]
  }
 ],
 "metadata": {
  "kernelspec": {
   "display_name": "Python 3 (ipykernel)",
   "language": "python",
   "name": "python3"
  },
  "language_info": {
   "codemirror_mode": {
    "name": "ipython",
    "version": 3
   },
   "file_extension": ".py",
   "mimetype": "text/x-python",
   "name": "python",
   "nbconvert_exporter": "python",
   "pygments_lexer": "ipython3",
   "version": "3.11.3"
  }
 },
 "nbformat": 4,
 "nbformat_minor": 4
}
