{
 "cells": [
  {
   "cell_type": "markdown",
   "metadata": {},
   "source": [
    "<a href=\"http://landlab.github.io\"><img style=\"float: left\" src=\"https://raw.githubusercontent.com/landlab/tutorials/release/landlab_header.png\"></a>"
   ]
  },
  {
   "cell_type": "markdown",
   "metadata": {
    "tags": [
     "toc"
    ]
   },
   "source": []
  },
  {
   "cell_type": "markdown",
   "metadata": {},
   "source": [
    "## Introduction to Landlab Components\n",
    "\n",
    "A \"potluck supper\" is a common American tradition in which each guest brights a dish to share. These contributed dishes usually come in one of a few categories: salads, drinks,  main dishes, desserts. The meal comes together as a collection of components, each of which contributes to fulfilling one of these basic roles. The resulting meal provides guests with a great variety of choices. A guest can compose their own complete and unique meal by combining their own choices for components. And each guest, while contributing their own particular dish, get to share in the creations of their compatriots. There's a bit of standardization---the dishes are sized to fit on the tables, and their contents are accessible to the usual range of serving utensils---but with that standardization lies a great range of creativity.\n",
    "\n",
    "Component modeling is a bit like the potluck tradition: one can construct a complete simulation by assembling components to represent the different parts of the system to be modeled. In Landlab, a **component** is a semi-standardized Python *class* that represents a particular process or calculation. Components are not stand-alone programs, but rather are designed to be used within another Python program that creates an integrated model or workflow.\n",
    "\n",
    "<img src=\"./media/potluck.jpeg\"\n",
    "     width = \"600\"\n",
    "     height = auto />\n",
    "*Figure 1: A potluck meal (wikimedia commons).*\n"
   ]
  },
  {
   "cell_type": "markdown",
   "metadata": {},
   "source": [
    "### Examples of Landlab Components\n",
    "\n",
    "#### Infiltration and overland flow\n",
    "\n",
    "Here's an example from the Landlab tutorial *Green-Ampt infiltration and kinematic wave overland flow*. The example code in the tutorial uses two components, `SoilInfiltrationGreenAmpt` and `KinwaveImplicitOverlandFlow`, to calculate overland flow and infiltration across a terrain that is represented by a digital elevation model.\n",
    "\n",
    "![bijou_gully_topography.png](attachment:bijou_gully_topography.png)\n",
    "*Figure 2: topography of a gullied area on the Colorado high plains (from Landlab tutorial \"Green-Ampt infiltration and kinematic wave overland flow\").*\n",
    "\n"
   ]
  },
  {
   "cell_type": "markdown",
   "metadata": {},
   "source": [
    "![bijou_gully_infiltration.png](attachment:bijou_gully_infiltration.png)\n",
    "\n",
    "*Figure 3: cumulative infiltration water depth during a simulated five-minute heavy rainfall (from Landlab tutorial \"Green-Ampt infiltration and kinematic wave overland flow\")*\n",
    "\n",
    "The following code snippets illustrate how the components are imported...\n",
    "\n",
    "```python\n",
    "from landlab.components import (\n",
    "    SoilInfiltrationGreenAmpt,\n",
    "    KinwaveImplicitOverlandFlow\n",
    ")\n",
    "```\n",
    "\n",
    "...instantiated...\n",
    "\n",
    "```python\n",
    "ga = SoilInfiltrationGreenAmpt(grid)\n",
    "\n",
    "kw = KinwaveImplicitOverlandFlow(\n",
    "    grid, runoff_rate=90.0, roughness=0.1, depth_exp=5.0 / 3.0\n",
    ")\n",
    "```\n",
    "\n",
    "...and run in a time loop:\n",
    "\n",
    "```python\n",
    "for i in range(nsteps):\n",
    "    kw.run_one_step(dt)\n",
    "    ga.run_one_step(dt)\n",
    "```"
   ]
  },
  {
   "cell_type": "markdown",
   "metadata": {},
   "source": [
    "### The Landlab component collection\n",
    "\n",
    "The current (spring 2022) collection of components spans a variety of types of process and analysis. You can find a list [in the documentation](https://landlab.readthedocs.io/en/latest/reference/components/index.html).\n",
    "\n",
    "To see a list, you can use the following python commands:"
   ]
  },
  {
   "cell_type": "code",
   "execution_count": 1,
   "metadata": {},
   "outputs": [
    {
     "data": {
      "text/plain": [
       "['AreaSlopeTransporter',\n",
       " 'BedrockLandslider',\n",
       " 'CarbonateProducer',\n",
       " 'ChannelProfiler',\n",
       " 'ChiFinder',\n",
       " 'DepressionFinderAndRouter',\n",
       " 'DepthDependentDiffuser',\n",
       " 'DepthDependentTaylorDiffuser',\n",
       " 'DepthSlopeProductErosion',\n",
       " 'DetachmentLtdErosion',\n",
       " 'DischargeDiffuser',\n",
       " 'DimensionlessDischarge',\n",
       " 'DrainageDensity',\n",
       " 'ErosionDeposition',\n",
       " 'ExponentialWeatherer',\n",
       " 'ExponentialWeathererIntegrated',\n",
       " 'FastscapeEroder',\n",
       " 'FireGenerator',\n",
       " 'Flexure',\n",
       " 'Flexure1D',\n",
       " 'FlowAccumulator',\n",
       " 'PriorityFloodFlowRouter',\n",
       " 'FlowDirectorD8',\n",
       " 'FlowDirectorDINF',\n",
       " 'FlowDirectorMFD',\n",
       " 'FlowDirectorSteepest',\n",
       " 'FractureGridGenerator',\n",
       " 'gFlex',\n",
       " 'GravelRiverTransporter',\n",
       " 'GroundwaterDupuitPercolator',\n",
       " 'HackCalculator',\n",
       " 'HeightAboveDrainageCalculator',\n",
       " 'KinematicWaveRengers',\n",
       " 'KinwaveImplicitOverlandFlow',\n",
       " 'KinwaveOverlandFlowModel',\n",
       " 'LakeMapperBarnes',\n",
       " 'LandslideProbability',\n",
       " 'LateralEroder',\n",
       " 'LinearDiffuser',\n",
       " 'LinearDiffusionOverlandFlowRouter',\n",
       " 'ListricKinematicExtender',\n",
       " 'LithoLayers',\n",
       " 'Lithology',\n",
       " 'LossyFlowAccumulator',\n",
       " 'NetworkSedimentTransporter',\n",
       " 'NormalFault',\n",
       " 'OverlandFlow',\n",
       " 'OverlandFlowBates',\n",
       " 'PerronNLDiffuse',\n",
       " 'PotentialEvapotranspiration',\n",
       " 'PotentialityFlowRouter',\n",
       " 'PrecipitationDistribution',\n",
       " 'Profiler',\n",
       " 'Radiation',\n",
       " 'SedDepEroder',\n",
       " 'SedimentPulserAtLinks',\n",
       " 'SedimentPulserEachParcel',\n",
       " 'SimpleSubmarineDiffuser',\n",
       " 'SinkFiller',\n",
       " 'SinkFillerBarnes',\n",
       " 'SoilMoisture',\n",
       " 'SoilInfiltrationGreenAmpt',\n",
       " 'Space',\n",
       " 'SpaceLargeScaleEroder',\n",
       " 'SpatialPrecipitationDistribution',\n",
       " 'SpeciesEvolver',\n",
       " 'SteepnessFinder',\n",
       " 'StreamPowerEroder',\n",
       " 'StreamPowerSmoothThresholdEroder',\n",
       " 'BedParcelInitializerDischarge',\n",
       " 'BedParcelInitializerDepth',\n",
       " 'BedParcelInitializerArea',\n",
       " 'BedParcelInitializerUserD50',\n",
       " 'TaylorNonLinearDiffuser',\n",
       " 'TidalFlowCalculator',\n",
       " 'TransportLengthHillslopeDiffuser',\n",
       " 'TrickleDownProfiler',\n",
       " 'ThresholdEroder',\n",
       " 'VegCA',\n",
       " 'Vegetation']"
      ]
     },
     "execution_count": 1,
     "metadata": {},
     "output_type": "execute_result"
    }
   ],
   "source": [
    "from landlab.components import COMPONENTS\n",
    "\n",
    "[component.__name__ for component in COMPONENTS]"
   ]
  },
  {
   "cell_type": "markdown",
   "metadata": {},
   "source": [
    "### Sediment diffusion with a Landlab component\n",
    "\n",
    "Finally, we'll take a look at how Landlab components can simplify model creation even further.\n",
    "\n",
    "Recall that in the `for` loop above, you managed to create a working sediment diffusion model with just five lines of code. However, before running the `for` loop you had to independently create the fields and parameters involved in the diffusion problem. <b>This is where Landlab's component library comes in handy!</b>\n",
    "\n",
    "The Landlab component library is composed of individual, interoperable code packages (\"components\") that each represent a single Earth surface process. Examples of components include flow routing algorithms, a variety of fluvial processes, and yes, soil processes! \n",
    "\n",
    "In this final part of our clinic, we'll make use of Landlab's `LinearDiffuser` component to replicate our diffused fault scarp landscape. This time, we'll let the component do more of the work of field and parameter creation for us."
   ]
  },
  {
   "cell_type": "markdown",
   "metadata": {},
   "source": [
    "Start by importing the component `LinearDiffuser` from `landlab.components`."
   ]
  },
  {
   "cell_type": "code",
   "execution_count": 1,
   "metadata": {},
   "outputs": [],
   "source": [
    "from landlab import RasterModelGrid\n",
    "from landlab.components import LinearDiffuser"
   ]
  },
  {
   "cell_type": "markdown",
   "metadata": {},
   "source": [
    "Great, we've imported a component which is going to help us build a diffusion model. Before we really start to use this component, though, we want to get some basic information on how it works. This information is stored in component \"properties.\" One such property is `input_var_names`. Call any property using the syntax `ComponentName.property_name`."
   ]
  },
  {
   "cell_type": "code",
   "execution_count": 2,
   "metadata": {},
   "outputs": [
    {
     "data": {
      "text/plain": [
       "('topographic__elevation',)"
      ]
     },
     "execution_count": 2,
     "metadata": {},
     "output_type": "execute_result"
    }
   ],
   "source": [
    "# check out input variable names\n",
    "LinearDiffuser.input_var_names"
   ]
  },
  {
   "cell_type": "markdown",
   "metadata": {},
   "source": [
    "This tells us that the only input variable required by this component is an elevation field, so we'll need to create that ourselves. \n",
    "\n",
    "Other standard properties are `output_var_names` and `optional_var_names`; pass an input or output name to `var_loc`, `var_type`, `var_units`, and `var_definition` to get the centering ('node', 'link', etc), array dtype (float, int), units (meters, etc) and a descriptive string, respectively. `var_help` will give you a lot of this information at once:"
   ]
  },
  {
   "cell_type": "code",
   "execution_count": 3,
   "metadata": {},
   "outputs": [
    {
     "name": "stdout",
     "output_type": "stream",
     "text": [
      "name: topographic__elevation\n",
      "description:\n",
      "  Land surface topographic elevation\n",
      "units: m\n",
      "unit agnostic: True\n",
      "at: node\n",
      "intent: inout\n"
     ]
    }
   ],
   "source": [
    "# ask for info related to the input variable 'topographic__elevation'\n",
    "LinearDiffuser.var_help(\"topographic__elevation\")"
   ]
  },
  {
   "cell_type": "markdown",
   "metadata": {},
   "source": [
    "If we want to see the complete documentation, we can also access this information using `?`, similar to how we accessed information from `RasterModelGrid` in part [Explore the Landlab grids](#Explore-the-Landlab-grids)."
   ]
  },
  {
   "cell_type": "code",
   "execution_count": null,
   "metadata": {
    "tags": []
   },
   "outputs": [],
   "source": [
    "# recall the question mark notation used to access documentation in Landlab\n",
    "?LinearDiffuser"
   ]
  },
  {
   "cell_type": "markdown",
   "metadata": {},
   "source": [
    "Note we haven't needed to <i>instantiate</i> the component in order to access any of this information. Instantiation occurs when we create a unique instance of the component with specific variables and parameter values (just like how we created <i>instances</i> of `RasterModelGrid` above with unique names, dimensions, and grid spacing.) Don't worry if this is confusing right now - it will make sense momentarily. \n",
    "\n",
    "Since we know `LinearDiffuser` requires a topographic elevation field in order to be instantiated, we need to create that field. Recall that `topographic__elevation` is tied to grid nodes, so we actually need to create a grid instance, and add the `topographic__elevation` field onto the grid. This is just like the steps we took in part [Sediment diffusion](#Sediment-diffusion) of this tutorial."
   ]
  },
  {
   "cell_type": "markdown",
   "metadata": {},
   "source": [
    "Create a new grid instance for the `LinearDiffuser` component to run on. Give your new grid a new name (perhaps `new_grid`?), but give it the same dimensions as `mg` (25 x 25, with 10m spacing)."
   ]
  },
  {
   "cell_type": "code",
   "execution_count": null,
   "metadata": {},
   "outputs": [],
   "source": [
    "# create a new grid here"
   ]
  },
  {
   "cell_type": "code",
   "execution_count": 4,
   "metadata": {
    "tags": [
     "solution"
    ]
   },
   "outputs": [],
   "source": [
    "grid = RasterModelGrid((25, 25), 10)"
   ]
  },
  {
   "cell_type": "markdown",
   "metadata": {},
   "source": [
    "Great, we now have a grid on which we can implement our diffusion component. Recall, however, our diffusion equation from above:\n",
    "\n",
    "$$\\frac{\\partial z}{\\partial t} = D \\nabla^2 z$$\n",
    "\n",
    "As before, we need some topographic variation in order to drive diffusion. We'll still need to add our `topographic__elevation` field manually, and we'll need to create a \"fault\" on the grid by elevating half of the nodes. Let's do this now, following the format we used in [Sediment diffusion](#Sediment-diffusion)."
   ]
  },
  {
   "cell_type": "code",
   "execution_count": null,
   "metadata": {},
   "outputs": [],
   "source": [
    "# add a field of zeros called \"topographic__elevation\" and attach it to the grid nodes\n",
    "# save the field to an array with a new name"
   ]
  },
  {
   "cell_type": "code",
   "execution_count": 5,
   "metadata": {
    "tags": [
     "solution"
    ]
   },
   "outputs": [],
   "source": [
    "z = grid.add_zeros(\"topographic__elevation\", at=\"node\")"
   ]
  },
  {
   "cell_type": "code",
   "execution_count": 6,
   "metadata": {},
   "outputs": [],
   "source": [
    "# now elevate the upper half of the landscape, following the `node_of_y` method used in part (d)"
   ]
  },
  {
   "cell_type": "code",
   "execution_count": 7,
   "metadata": {
    "tags": [
     "solution"
    ]
   },
   "outputs": [],
   "source": [
    "z[grid.y_of_node > 120] += 10"
   ]
  },
  {
   "cell_type": "code",
   "execution_count": 8,
   "metadata": {},
   "outputs": [
    {
     "data": {
      "image/png": "[encoded data removed]",
      "text/plain": [
       "<Figure size 640x480 with 2 Axes>"
      ]
     },
     "metadata": {},
     "output_type": "display_data"
    }
   ],
   "source": [
    "# now display the landscape\n",
    "grid.imshow(\"topographic__elevation\")"
   ]
  },
  {
   "cell_type": "markdown",
   "metadata": {},
   "source": [
    "As in part [Sediment diffusion](#Sediment-diffusion), let's close the left and right grid boundaries."
   ]
  },
  {
   "cell_type": "code",
   "execution_count": 10,
   "metadata": {},
   "outputs": [],
   "source": [
    "# close left and right boundaries\n",
    "grid.status_at_node[grid.nodes_at_left_edge] = grid.BC_NODE_IS_CLOSED\n",
    "grid.status_at_node[grid.nodes_at_right_edge] = grid.BC_NODE_IS_CLOSED"
   ]
  },
  {
   "cell_type": "markdown",
   "metadata": {},
   "source": [
    "Great, we're back where we started with a recently faulted, un-diffused landscape. But now, rather than building our own diffusion model from scratch, we'll let Landlab's `LinearDiffuser` component do the work for us. Create an instance of this component named `diffusion_model` and pass your grid to the component."
   ]
  },
  {
   "cell_type": "code",
   "execution_count": 11,
   "metadata": {},
   "outputs": [],
   "source": [
    "# instantiate the linear diffuser component here\n",
    "diffusion_model = LinearDiffuser(grid)"
   ]
  },
  {
   "cell_type": "markdown",
   "metadata": {},
   "source": [
    "Great, we now have an instance of our model. Next, use the `run_one_step` method with a timestep `dt` on `diffusion_model` in a `for` loop in order to evolve our faulted landscape. As in part [Sediment diffusion](#Sediment-diffusion), run the loop for 25 steps. Use the same timestep, `dt`, as defined above. "
   ]
  },
  {
   "cell_type": "code",
   "execution_count": null,
   "metadata": {},
   "outputs": [],
   "source": [
    "# create your for loop here\n",
    "# hint: you only need two lines of code in this cell to run the model"
   ]
  },
  {
   "cell_type": "code",
   "execution_count": 18,
   "metadata": {
    "tags": [
     "solution"
    ]
   },
   "outputs": [],
   "source": [
    "for _ in range(25):\n",
    "    diffusion_model.run_one_step(1000.0)"
   ]
  },
  {
   "cell_type": "markdown",
   "metadata": {},
   "source": [
    "Great, now visualize your landscape to see if it looks similar to the 5-line model you created in part [Sediment diffusion](#Sediment-diffusion)."
   ]
  },
  {
   "cell_type": "code",
   "execution_count": 19,
   "metadata": {},
   "outputs": [
    {
     "data": {
      "image/png": "[encoded data removed]",
      "text/plain": [
       "<Figure size 640x480 with 2 Axes>"
      ]
     },
     "metadata": {},
     "output_type": "display_data"
    }
   ],
   "source": [
    "# visualize landscape\n",
    "grid.imshow(\"topographic__elevation\")"
   ]
  },
  {
   "cell_type": "markdown",
   "metadata": {},
   "source": [
    "Fantastic! Your final output should look very simialr to the diffusion model you created in part [Sediment diffusion](#Sediment-diffusion), but here you can see that using a Landlab component to simulate the diffusion process has simplified your `for` loop even further. You can appreciate how valuable this simplicity is, especially if you wanted to couple several components together (for example, flow routing, fluvial erosion, and hillslope diffusion) in order to evolve a more complex landscape.\n",
    "\n",
    "As a final, fun exercise, check out the `LinearDiffuser` documentation using `?` once again. See if you can find the list of input parameters. These are listed in the order of the arguments taken by the component; the first one will always be `grid`. "
   ]
  },
  {
   "cell_type": "code",
   "execution_count": null,
   "metadata": {
    "tags": []
   },
   "outputs": [],
   "source": [
    "# check out the optional variables\n",
    "?LinearDiffuser"
   ]
  },
  {
   "cell_type": "markdown",
   "metadata": {},
   "source": [
    "- What is the name of this first optional argument? It is listed right after `grid`. Optional arguments have default values, which means the user does not need to specify its value. The user can, however, change the value if desired.\n",
    "- What is its default value?\n",
    "- Modify your existing instance of `LinearDiffuser` to include a different value for the first optional argument. \n",
    "> Hint: go back to the cell with the comment \"instantiate the linear diffuser component here,\" and work from there\n",
    "- Re-run the `for` loop to evolve the landscape, visualize the output, and note how changing the value of this optional argument impacts the form of the evolved landscape."
   ]
  },
  {
   "cell_type": "markdown",
   "metadata": {},
   "source": [
    "Congratulations on making it to the end of this tutorial!\n",
    "\n",
    "**Click here for more** <a href=\"https://landlab.readthedocs.io/en/latest/user_guide/tutorials.html\">Landlab tutorials</a>"
   ]
  }
 ],
 "metadata": {
  "anaconda-cloud": {},
  "celltoolbar": "Tags",
  "kernelspec": {
   "display_name": "Python 3 (ipykernel)",
   "language": "python",
   "name": "python3"
  },
  "language_info": {
   "codemirror_mode": {
    "name": "ipython",
    "version": 3
   },
   "file_extension": ".py",
   "mimetype": "text/x-python",
   "name": "python",
   "nbconvert_exporter": "python",
   "pygments_lexer": "ipython3",
   "version": "3.11.3"
  }
 },
 "nbformat": 4,
 "nbformat_minor": 4
}
