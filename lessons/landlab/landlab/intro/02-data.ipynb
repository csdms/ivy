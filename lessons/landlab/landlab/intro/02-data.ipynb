{
 "cells": [
  {
   "cell_type": "markdown",
   "metadata": {},
   "source": [
    "<a href=\"http://landlab.github.io\"><img style=\"float: left\" src=\"https://raw.githubusercontent.com/landlab/tutorials/release/landlab_header.png\"></a>"
   ]
  },
  {
   "cell_type": "markdown",
   "metadata": {
    "tags": [
     "toc"
    ]
   },
   "source": [
    "# Table of Contents\n",
    "* [Attaching data to a grid](#Attaching-data-to-a-grid)\n",
    "  * [Load data from an ESRI ASCII file](#Load-data-from-an-ESRI-ASCII-file)\n",
    "  * [Load data from OpenTopography](#Load-data-from-OpenTopography)"
   ]
  },
  {
   "cell_type": "markdown",
   "metadata": {},
   "source": [
    "### Attaching data to a grid\n",
    "\n",
    "You can attach data to any *Landlab* model grid and at any grid element through *Landlab* data\n",
    "**fields**. Data are set and accessed in the same way for any grid type.\n",
    "\n",
    "We'll start by attaching some data to a grid's nodes. Below we see two different methods for\n",
    "adding data to a grid."
   ]
  },
  {
   "cell_type": "code",
   "execution_count": null,
   "metadata": {},
   "outputs": [],
   "source": [
    "from landlab import RasterModelGrid\n",
    "\n",
    "grid = RasterModelGrid((4, 5))\n",
    "grid.add_zeros(\"foo\", at=\"node\")\n",
    "grid.at_node[\"bar\"] = [1.0] * grid.number_of_nodes"
   ]
  },
  {
   "cell_type": "markdown",
   "metadata": {},
   "source": [
    "To access the data, we use the `at_node` data structure, which is dictionary whose keys are\n",
    "field names, and values are *numpy* arrays."
   ]
  },
  {
   "cell_type": "code",
   "execution_count": null,
   "metadata": {},
   "outputs": [],
   "source": [
    "print(f\"All at-node fields: {list(grid.at_node)!r}\")"
   ]
  },
  {
   "cell_type": "markdown",
   "metadata": {},
   "source": [
    "The values of the field nammed, \"foo\","
   ]
  },
  {
   "cell_type": "code",
   "execution_count": null,
   "metadata": {},
   "outputs": [],
   "source": [
    "grid.at_node[\"foo\"]"
   ]
  },
  {
   "cell_type": "markdown",
   "metadata": {
    "tags": [
     "solution"
    ]
   },
   "source": [
    "<details>\n",
    "    <summary>👉 <b>click to see solution</b></summary>\n",
    "\n",
    "```python\n",
    "# Get the values for the field names, \"bar\"\n",
    "grid.at_node[\"bar\"]\n",
    "```\n",
    "</details>"
   ]
  },
  {
   "cell_type": "markdown",
   "metadata": {},
   "source": [
    "#### Load data from an ESRI ASCII file\n",
    "\n",
    "There are other ways to add fields to grids. Below we show how to read a field from a data file\n",
    "(in ESRI ASCII format), and then download data from *OpenTopography* and add it to a grid.\n",
    "\n",
    "The [read_esri_ascii] function creates a new `RasterModelGrid` with some data attached\n",
    "to its *nodes*.\n",
    "\n",
    "[read_esri_ascii]: https://landlab.readthedocs.io/en/master/reference/io/esri_ascii.html#landlab.io.esri_ascii.read_esri_ascii"
   ]
  },
  {
   "cell_type": "code",
   "execution_count": null,
   "metadata": {},
   "outputs": [],
   "source": [
    "from landlab.io import read_esri_ascii\n",
    "\n",
    "(grid, z) = read_esri_ascii(\"data/square-test-basin.asc\", name=\"topographic__elevation\")"
   ]
  },
  {
   "cell_type": "code",
   "execution_count": null,
   "metadata": {},
   "outputs": [],
   "source": [
    "grid.imshow(\"topographic__elevation\")"
   ]
  },
  {
   "cell_type": "markdown",
   "metadata": {},
   "source": [
    "Use some of the functions we learned about in the previous lesson to get some information about\n",
    "this DEM. For example,\n",
    "* How large is this DEM?\n",
    "* How many rows and columns are there?\n",
    "* What is the resolution of this DEM?\n",
    "* What are the maximum and minimum elevation values?"
   ]
  },
  {
   "cell_type": "markdown",
   "metadata": {
    "tags": [
     "solution"
    ]
   },
   "source": [
    "<details>\n",
    "    <summary>👉 <b>click to see solution</b></summary>\n",
    "\n",
    "```python\n",
    "# Write your code here\n",
    "print(f\"Number of points = {grid.number_of_nodes}\")\n",
    "print(f\"Number of rows and columns = {grid.shape}\")\n",
    "print(f\"Resolution = {grid.spacing}\")\n",
    "print(f\"Maximum elevation = {grid.at_node['topographic__elevation'].max()}\")\n",
    "print(f\"Minimum elevation = {grid.at_node['topographic__elevation'].min()}\")\n",
    "```\n",
    "</details>"
   ]
  },
  {
   "cell_type": "markdown",
   "metadata": {},
   "source": [
    "#### Load data from OpenTopography\n",
    "\n",
    "We'll now download some data from *OpenTopography* and add it to a `RasterModelGrid`. To do this,\n",
    "we use the [bmi_topography] package.\n",
    "\n",
    "[bmi_topography]: https://bmi-topography.readthedocs.io/en/latest/"
   ]
  },
  {
   "cell_type": "code",
   "execution_count": null,
   "metadata": {},
   "outputs": [],
   "source": [
    "from bmi_topography import Topography"
   ]
  },
  {
   "cell_type": "code",
   "execution_count": null,
   "metadata": {},
   "outputs": [],
   "source": [
    "?Topography"
   ]
  },
  {
   "cell_type": "markdown",
   "metadata": {},
   "source": [
    "To download *OpenTopography* data, we need to know the bounding box of the data we want.\n",
    "This is provided through the `north`, `south`, `east`, and `west` keywords (in degrees).\n",
    "\n",
    "For this example, I've used a bounding box that contains Longs Peak in Colorado."
   ]
  },
  {
   "cell_type": "code",
   "execution_count": null,
   "metadata": {},
   "outputs": [],
   "source": [
    "lat, lon = (40.2530073213, -105.609067564)  # Longs Peak\n",
    "height, width = 7.5 / 60.0, 7.5 / 60.0\n",
    "\n",
    "longs_peak_dem = Topography(\n",
    "    north=lat + height,\n",
    "    south=lat - height,\n",
    "    east=lon + width,\n",
    "    west=lon - width,\n",
    "    output_format=\"GTiff\",\n",
    "    dem_type=\"SRTMGL3\",\n",
    ")\n",
    "longs_peak = longs_peak_dem.load()"
   ]
  },
  {
   "cell_type": "markdown",
   "metadata": {},
   "source": [
    "The elevation data are stored in an *xarray* [*DataArray*](https://docs.xarray.dev/en/stable/generated/xarray.DataArray.html). You can access the values as a *numpy* array\n",
    "through the ``values`` attribute. Notice the shape of the array.\n",
    "\n",
    "What about the elevation values? Do they seem correct? What are the max and min values? What do you think\n",
    "the units are?\n",
    "\n",
    "[DataArray]: https://docs.xarray.dev/en/stable/generated/xarray.DataArray.html"
   ]
  },
  {
   "cell_type": "code",
   "execution_count": null,
   "metadata": {},
   "outputs": [],
   "source": [
    "longs_peak.values.shape"
   ]
  },
  {
   "cell_type": "code",
   "execution_count": null,
   "metadata": {},
   "outputs": [],
   "source": [
    "longs_peak.values.min(), longs_peak.values.max()"
   ]
  },
  {
   "cell_type": "markdown",
   "metadata": {},
   "source": [
    "How do the above two answers change if you select a different DEM type (`\"SRTMGL1\"`, say)?"
   ]
  },
  {
   "cell_type": "markdown",
   "metadata": {
    "tags": [
     "solution"
    ]
   },
   "source": [
    "<details>\n",
    "    <summary>👉 <b>click to see solution</b></summary>\n",
    "\n",
    "```python\n",
    "lat, lon = (40.2530073213, -105.609067564)  # Longs Peak\n",
    "height, width = 7.5 / 60.0, 7.5 / 60.0\n",
    "\n",
    "longs_peak_dem = Topography(\n",
    "    north=lat + height,\n",
    "    south=lat - height,\n",
    "    east=lon + width,\n",
    "    west=lon - width,\n",
    "    output_format=\"GTiff\",\n",
    "    dem_type=\"SRTMGL1\",\n",
    ")\n",
    "longs_peak = longs_peak_dem.load()\n",
    "\n",
    "print(f\"Shape of the data = {longs_peak.values.shape}\")\n",
    "print(f\"Minimum elevation = {longs_peak.values.min()}\")\n",
    "print(f\"Maximum elevation = {longs_peak.values.max()}\")\n",
    "```\n",
    "</details>"
   ]
  },
  {
   "cell_type": "markdown",
   "metadata": {},
   "source": [
    "Now create a new ``RasterModelGrid`` and attach your data to it."
   ]
  },
  {
   "cell_type": "code",
   "execution_count": null,
   "metadata": {},
   "outputs": [],
   "source": [
    "import numpy as np\n",
    "from landlab import RasterModelGrid\n",
    "\n",
    "z = np.flipud(longs_peak.values.squeeze())\n",
    "grid = RasterModelGrid(z.shape, xy_spacing=(70.0, 90.0))\n",
    "grid.at_node[\"topographic__elevation\"] = z"
   ]
  },
  {
   "cell_type": "markdown",
   "metadata": {},
   "source": [
    "Notice I've used an ``xy_spacing`` of ``(70.0, 90.0)``. Why's that?"
   ]
  },
  {
   "cell_type": "markdown",
   "metadata": {},
   "source": [
    "We can create a quick plot of the data field using the ``imshow`` method function of the grid.\n",
    "Does this look right?"
   ]
  },
  {
   "cell_type": "code",
   "execution_count": null,
   "metadata": {},
   "outputs": [],
   "source": [
    "grid.imshow(\"topographic__elevation\", cmap=\"terrain\", vmin=0)"
   ]
  },
  {
   "cell_type": "markdown",
   "metadata": {},
   "source": [
    "Some additional things to try:\n",
    "* Fetch OpenTopography data from another location and another width and height\n",
    "* Fetch OpenTopography using different ``dem_type`` (the\n",
    "  [*bmi-topography* documentation](https://bmi-topography.readthedocs.io) has a list of supported types).\n",
    "* What's the resolution of the dem you downloaded?"
   ]
  }
 ],
 "metadata": {
  "anaconda-cloud": {},
  "celltoolbar": "Tags",
  "kernelspec": {
   "display_name": "Python 3 (ipykernel)",
   "language": "python",
   "name": "python3"
  },
  "language_info": {
   "codemirror_mode": {
    "name": "ipython",
    "version": 3
   },
   "file_extension": ".py",
   "mimetype": "text/x-python",
   "name": "python",
   "nbconvert_exporter": "python",
   "pygments_lexer": "ipython3",
   "version": "3.11.3"
  }
 },
 "nbformat": 4,
 "nbformat_minor": 4
}
