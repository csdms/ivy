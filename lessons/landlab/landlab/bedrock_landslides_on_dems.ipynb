{
 "cells": [
  {
   "cell_type": "markdown",
   "id": "075b4b29",
   "metadata": {},
   "source": [
    "<a href=\"https://doi.org/10.5194/gmd-13-3863-2020\"><img style=\"float: center; width: 100%\" src=\"./media/HyLands_Logo_Header.png\"></a>"
   ]
  },
  {
   "cell_type": "markdown",
   "id": "44918f53",
   "metadata": {},
   "source": [
    "# Bedrock landslides on existing topography (SRTM DEM)\n",
    "This notebook provides a brief introduction and user's guide for the BedrockLandslider component for landscape evolution modeling. It combines two documents, a User's Manual and a notebook-based example, written Benjamin Campforts to accompany the following publication:\n",
    "\n",
    "* Campforts et al. 2022, in review\n",
    "* Campforts B., Shobe C.M., Steer P., Vanmaercke M., Lague D., Braun J. (2020) HyLands 1.0: a hybrid landscape evolution model to simulate the impact of landslides and landslide-derived sediment on landscape evolution. Geosci Model Dev: 13(9):3863–86. "
   ]
  },
  {
   "cell_type": "markdown",
   "id": "00f5b36f",
   "metadata": {},
   "source": [
    "First we will import all the modules we need. "
   ]
  },
  {
   "cell_type": "code",
   "execution_count": null,
   "id": "0bc7ac8b",
   "metadata": {},
   "outputs": [],
   "source": [
    "import matplotlib.pyplot as plt\n",
    "import numpy as np\n",
    "from bmi_topography import Topography\n",
    "from landlab import RasterModelGrid, imshow_grid, imshowhs_grid\n",
    "from landlab.components import BedrockLandslider, PriorityFloodFlowRouter\n",
    "from landlab.io import read_esri_ascii"
   ]
  },
  {
   "cell_type": "markdown",
   "id": "75209b85",
   "metadata": {},
   "source": [
    "## 1. Download SRTM image using the bmi-topography package\n",
    "### bmi-topography\n",
    "The bmi-topography package is a data component, recently developed by coding wizard Mark Piper. For more information on how to install an use it on your own machine, check out the [bmi-topography repo](https://github.com/csdms/bmi-topography) and this [notebook on bmi-topography](https://github.com/csdms/bmi-topography/blob/main/examples/topography.ipynb).\n",
    "\n",
    "Bmi-topography is a Python library for fetching and caching NASA Shuttle Radar Topography Mission (SRTM) land elevation data using the [OpenTopography](https://opentopography.org/) [REST ](https://portal.opentopography.org/apidocs/) [API](https://www.mulesoft.com/resources/api/what-is-an-api).\n",
    "\n",
    "The bmi-topography library provides access to the following global raster datasets:\n",
    "\n",
    "\n",
    "    SRTMGL3 (SRTM GL3 90m)\n",
    "    SRTMGL1 (SRTM GL1 30m)\n",
    "    SRTMGL1_E (SRTM GL1 Ellipsoidal 30m)\n",
    "    AW3D30 (ALOS World 3D 30m)\n",
    "    AW3D30_E (ALOS World 3D Ellipsoidal, 30m)\n",
    "    SRTM15Plus (Global Bathymetry SRTM15+ V2.1)\n",
    "    NASADEM (NASADEM Global DEM)\n",
    "    COP30 (Copernicus Global DSM 30m)\n",
    "    COP90 (Copernicus Global DSM 90m)\n",
    "\n",
    "\n",
    "The library includes an API and a CLI that accept the dataset type, a latitude-longitude bounding box, and the output file format. Data are downloaded from OpenTopography and cached locally. The cache is checked before downloading new data. \n",
    "\n",
    "The bmi-topography API is wrapped with a [Basic Model Interface (BMI)](https://bmi.readthedocs.io/), which provides a standard set of functions for coupling with data or models that also expose a BMI. More information on the BMI can found in its [documentation](https://bmi.readthedocs.io/).\n",
    "\n",
    "\n",
    "### download some data\n",
    "\n",
    "Create an instance of `Topography` using parameters to describe\n",
    "\n",
    "* the type of data requested,\n",
    "* the geographic bounding box of the data,\n",
    "* the file format (we want to save it as an ascii file), and \n",
    "* where to store the file\n",
    "\n",
    "with the following step:\n"
   ]
  },
  {
   "cell_type": "code",
   "execution_count": null,
   "id": "a4fb424d",
   "metadata": {},
   "outputs": [],
   "source": [
    "topo = Topography(\n",
    "    dem_type=\"SRTMGL1\",\n",
    "    south=39.93,\n",
    "    north=40.0,\n",
    "    west=-105.33,\n",
    "    east=-105.26,\n",
    "    output_format=\"AAIGrid\",\n",
    "    cache_dir=\"DEMData//\",\n",
    ")"
   ]
  },
  {
   "cell_type": "markdown",
   "id": "e1840613",
   "metadata": {},
   "source": [
    "While this step sets up a call to the OpenTopography API, it doesn't download the data. Download the data by calling the `fetch` method :"
   ]
  },
  {
   "cell_type": "code",
   "execution_count": null,
   "id": "1be538f5",
   "metadata": {},
   "outputs": [],
   "source": [
    "fname = topo.fetch()\n",
    "print(fname)"
   ]
  },
  {
   "cell_type": "markdown",
   "id": "e25a1948",
   "metadata": {},
   "source": [
    "This step may take a few moments to run while the data are fetched from OpenTopography and downloaded."
   ]
  },
  {
   "cell_type": "markdown",
   "id": "d8cd42d7",
   "metadata": {},
   "source": [
    "The `fetch` method only downloads data; it doesn't load it into memory. Call the `load` method to open the downloaded  file and load it into an `xarray` DataArray:"
   ]
  },
  {
   "cell_type": "code",
   "execution_count": null,
   "id": "a4d0a85a",
   "metadata": {},
   "outputs": [],
   "source": [
    "dem = topo.load()\n",
    "print(dem)"
   ]
  },
  {
   "cell_type": "markdown",
   "id": "b2990dae",
   "metadata": {},
   "source": [
    "Note that `load` calls `fetch`, so the latter can be omitted if the goal is the get the data into memory."
   ]
  },
  {
   "cell_type": "markdown",
   "id": "e627af43",
   "metadata": {},
   "source": [
    "## Visualize"
   ]
  },
  {
   "cell_type": "markdown",
   "id": "bd503765",
   "metadata": {},
   "source": [
    "Finally, let's visualize the downloaded elevation data."
   ]
  },
  {
   "cell_type": "code",
   "execution_count": null,
   "id": "2cf01e33",
   "metadata": {},
   "outputs": [],
   "source": [
    "# Read DEM as Landlab grid\n",
    "grid_geog, elev = read_esri_ascii(fname, name=\"topographic__elevation\")\n",
    "\n",
    "grid_geog.imshow(\n",
    "    \"topographic__elevation\",\n",
    "    cmap=\"terrain\",\n",
    "    grid_units=(\"deg\", \"deg\"),\n",
    "    colorbar_label=\"Elevation (m)\",\n",
    ")"
   ]
  },
  {
   "cell_type": "markdown",
   "id": "9063fc04",
   "metadata": {},
   "source": [
    "Yup, this is \n",
    "<br/><br/><br/><br/><br/><br/><br/><br/><br/><br/><br/><br/>\n",
    "\n",
    "\n",
    "![Boulder](./media/Boulder.jpg)"
   ]
  },
  {
   "cell_type": "markdown",
   "id": "78749544",
   "metadata": {},
   "source": [
    "## 2. Reproject from geographic coordinate system into projected coordinate system"
   ]
  },
  {
   "cell_type": "markdown",
   "id": "d2a6f717",
   "metadata": {},
   "source": [
    "The DEM file is in ESRI Ascii format, but is in a geographic projection, with horizontal units of decimal degrees. To calculate slope gradients properly, we'll first read the DEM into a Landlab grid object that has this geographic projection. Then we'll create a second grid with 30 m cell spacing (approximately equal to the SRTM's resolution), and copy the elevation field from the geographic DEM. This isn't a proper projection of course, but it will do for purposes of this example."
   ]
  },
  {
   "cell_type": "code",
   "execution_count": null,
   "id": "13f68e7f",
   "metadata": {},
   "outputs": [],
   "source": [
    "# make a new grid with RasterModelGrid, use the dimensions of grid_geog\n",
    "grid = RasterModelGrid(grid_geog.shape, xy_spacing=30.0)\n",
    "grid.at_node[\"topographic__elevation\"] = grid_geog.at_node[\"topographic__elevation\"]"
   ]
  },
  {
   "cell_type": "code",
   "execution_count": null,
   "id": "854c9378",
   "metadata": {},
   "outputs": [],
   "source": [
    "# Plot this one with imshowhs_grid\n",
    "imshowhs_grid(grid, \"topographic__elevation\")"
   ]
  },
  {
   "cell_type": "code",
   "execution_count": null,
   "id": "7baabe3c",
   "metadata": {},
   "outputs": [],
   "source": [
    "# These are plotting functions\n",
    "def plotting(\n",
    "    grid, topo=True, DA=True, hill_DA=False, flow_metric=\"D8\", hill_flow_metric=\"Quinn\"\n",
    "):\n",
    "    if topo:\n",
    "        azdeg = 200\n",
    "        altdeg = 20\n",
    "        ve = 1\n",
    "        plt.figure()\n",
    "        plot_type = \"DEM\"\n",
    "        ax = imshowhs_grid(\n",
    "            grid,\n",
    "            \"topographic__elevation\",\n",
    "            grid_units=(\"deg\", \"deg\"),\n",
    "            var_name=\"Topo, m\",\n",
    "            cmap=\"terrain\",\n",
    "            plot_type=plot_type,\n",
    "            vertical_exa=ve,\n",
    "            azdeg=azdeg,\n",
    "            altdeg=altdeg,\n",
    "            default_fontsize=12,\n",
    "            cbar_tick_size=10,\n",
    "            cbar_width=\"100%\",\n",
    "            cbar_or=\"vertical\",\n",
    "            bbox_to_anchor=[1.03, 0.3, 0.075, 14],\n",
    "            colorbar_label_y=-15,\n",
    "            colorbar_label_x=0.5,\n",
    "            ticks_km=False,\n",
    "        )\n",
    "    if DA:\n",
    "        # %% Plot first instance of drainage_area\n",
    "        grid.at_node[\"drainage_area\"][grid.at_node[\"drainage_area\"] == 0] = (\n",
    "            grid.dx * grid.dx\n",
    "        )\n",
    "        plot_DA = np.log10(grid.at_node[\"drainage_area\"] * 111e3 * 111e3)\n",
    "\n",
    "        plt.figure()\n",
    "        plot_type = \"Drape1\"\n",
    "        drape1 = plot_DA\n",
    "        thres_drape1 = None\n",
    "        alpha = 0.5\n",
    "        ax = imshowhs_grid(\n",
    "            grid,\n",
    "            \"topographic__elevation\",\n",
    "            grid_units=(\"deg\", \"deg\"),\n",
    "            cmap=\"terrain\",\n",
    "            plot_type=plot_type,\n",
    "            drape1=drape1,\n",
    "            vertical_exa=ve,\n",
    "            azdeg=azdeg,\n",
    "            altdeg=altdeg,\n",
    "            thres_drape1=thres_drape1,\n",
    "            alpha=alpha,\n",
    "            default_fontsize=12,\n",
    "            cbar_tick_size=10,\n",
    "            var_name=\"$log^{10}DA, m^2$\",\n",
    "            cbar_width=\"100%\",\n",
    "            cbar_or=\"vertical\",\n",
    "            bbox_to_anchor=[1.03, 0.3, 0.075, 14],\n",
    "            colorbar_label_y=+5,\n",
    "            colorbar_label_x=0.5,\n",
    "            ticks_km=False,\n",
    "        )\n",
    "\n",
    "        props = dict(boxstyle=\"round\", facecolor=\"white\", alpha=0.6)\n",
    "        textstr = flow_metric\n",
    "        ax.text(\n",
    "            0.05,\n",
    "            0.95,\n",
    "            textstr,\n",
    "            transform=ax.transAxes,\n",
    "            fontsize=10,\n",
    "            verticalalignment=\"top\",\n",
    "            bbox=props,\n",
    "        )\n",
    "\n",
    "    if hill_DA:\n",
    "        # Plot second instance of drainage_area (hill_drainage_area)\n",
    "        grid.at_node[\"hill_drainage_area\"][grid.at_node[\"hill_drainage_area\"] == 0] = (\n",
    "            grid.dx * grid.dx\n",
    "        )\n",
    "        # plotDA = np.log10(grid.at_node[\"hill_drainage_area\"] * 111e3 * 111e3)\n",
    "        # plt.figure()\n",
    "        # imshow_grid(grid, plotDA,grid_units=(\"m\", \"m\"), var_name=\"Elevation (m)\", cmap='terrain')\n",
    "\n",
    "        plt.figure()\n",
    "        plot_type = \"Drape1\"\n",
    "        # plot_type='Drape2'\n",
    "        drape1 = np.log10(grid.at_node[\"hill_drainage_area\"])\n",
    "        thres_drape1 = None\n",
    "        alpha = 0.5\n",
    "        ax = imshowhs_grid(\n",
    "            grid,\n",
    "            \"topographic__elevation\",\n",
    "            grid_units=(\"deg\", \"deg\"),\n",
    "            cmap=\"terrain\",\n",
    "            plot_type=plot_type,\n",
    "            drape1=drape1,\n",
    "            vertical_exa=ve,\n",
    "            azdeg=azdeg,\n",
    "            altdeg=altdeg,\n",
    "            thres_drape1=thres_drape1,\n",
    "            alpha=alpha,\n",
    "            default_fontsize=10,\n",
    "            cbar_tick_size=10,\n",
    "            var_name=\"$log^{10} DA, m^2$\",\n",
    "            cbar_width=\"100%\",\n",
    "            cbar_or=\"vertical\",\n",
    "            bbox_to_anchor=[1.03, 0.3, 0.075, 14],\n",
    "            colorbar_label_y=-15,\n",
    "            colorbar_label_x=0.5,\n",
    "            ticks_km=False,\n",
    "        )\n",
    "\n",
    "        props = dict(boxstyle=\"round\", facecolor=\"white\", alpha=0.6)\n",
    "        textstr = hill_flow_metric\n",
    "        ax.text(\n",
    "            0.05,\n",
    "            0.95,\n",
    "            textstr,\n",
    "            transform=ax.transAxes,\n",
    "            fontsize=10,\n",
    "            verticalalignment=\"top\",\n",
    "            bbox=props,\n",
    "        )"
   ]
  },
  {
   "cell_type": "code",
   "execution_count": null,
   "id": "079af557",
   "metadata": {},
   "outputs": [],
   "source": [
    "# Plot output products\n",
    "plotting(grid, DA=False)"
   ]
  },
  {
   "cell_type": "markdown",
   "id": "3c671a98",
   "metadata": {},
   "source": [
    "### Priority flood flow director/accumulator \n",
    "Calculate flow directions/flow accumulation using the first instance of the flow accumulator "
   ]
  },
  {
   "cell_type": "code",
   "execution_count": null,
   "id": "6e08a722",
   "metadata": {},
   "outputs": [],
   "source": [
    "# Here, we only calculate flow directions using the first instance of the flow accumulator\n",
    "flow_metric = \"D8\"\n",
    "fa_PF = PriorityFloodFlowRouter(\n",
    "    grid,\n",
    "    surface=\"topographic__elevation\",\n",
    "    flow_metric=flow_metric,\n",
    "    suppress_out=True,\n",
    "    depression_handler=\"fill\",\n",
    "    accumulate_flow=True,\n",
    "    separate_hill_flow=True,\n",
    "    accumulate_flow_hill=True,\n",
    ")\n",
    "\n",
    "fa_PF.run_one_step()\n",
    "\n",
    "# Plot output products\n",
    "plotting(grid, hill_DA=True)"
   ]
  },
  {
   "cell_type": "markdown",
   "id": "576864c5",
   "metadata": {},
   "source": [
    "### Instantiate landslider"
   ]
  },
  {
   "cell_type": "code",
   "execution_count": null,
   "id": "fe0df4bf",
   "metadata": {},
   "outputs": [],
   "source": [
    "grid.add_zeros(\"soil__depth\", at=\"node\")"
   ]
  },
  {
   "cell_type": "code",
   "execution_count": null,
   "id": "1581c1a5",
   "metadata": {},
   "outputs": [],
   "source": [
    "ls = BedrockLandslider(\n",
    "    grid,\n",
    "    angle_int_frict=0.5,\n",
    "    landslides_return_time=1e3,\n",
    "    cohesion_eff=1e3,\n",
    ")\n",
    "ls.run_one_step(dt=50)"
   ]
  },
  {
   "cell_type": "markdown",
   "id": "133a38bc",
   "metadata": {},
   "source": [
    "## Visualization of results\n",
    "### Magnitude frequency of landslides simulated over 200 years"
   ]
  },
  {
   "cell_type": "code",
   "execution_count": null,
   "id": "3687c10b",
   "metadata": {},
   "outputs": [],
   "source": [
    "LS_size = np.array(ls.landslides_size) * grid.dx**2\n",
    "counts, bins = np.histogram(np.log10(LS_size), 8)\n",
    "plt.hist(np.log10(LS_size), log=True, bins=bins, density=True)\n",
    "# counts, bins = np.histogram(LS_size, 10)\n",
    "# plt.hist(LS_size, bins=bins)\n",
    "plt.xlabel(\"log10 LS Area, m2\")\n",
    "plt.ylabel(\"Landslide frequency\")"
   ]
  },
  {
   "cell_type": "markdown",
   "id": "7a887822",
   "metadata": {},
   "source": [
    "### Location of landslides during last model iteration"
   ]
  },
  {
   "cell_type": "markdown",
   "id": "9aadf99e",
   "metadata": {},
   "source": [
    "Let's plot the resulting landslides "
   ]
  },
  {
   "cell_type": "code",
   "execution_count": null,
   "id": "9d7a51ac",
   "metadata": {},
   "outputs": [],
   "source": [
    "# Landslide Erosion\n",
    "imshow_grid(\n",
    "    grid,\n",
    "    np.sqrt(grid.at_node[\"landslide__erosion\"]),\n",
    "    colorbar_label=\"SQRT( Landslide erosion, m) \",\n",
    "    cmap=\"hot_r\",\n",
    ")"
   ]
  },
  {
   "cell_type": "code",
   "execution_count": null,
   "id": "e6d6b71c",
   "metadata": {},
   "outputs": [],
   "source": [
    "# Landslide Deposition\n",
    "imshow_grid(\n",
    "    grid,\n",
    "    np.sqrt(grid.at_node[\"landslide__deposition\"]),\n",
    "    colorbar_label=\"SQRT( Landslide deposition, m) \",\n",
    "    cmap=\"winter_r\",\n",
    ")"
   ]
  },
  {
   "cell_type": "code",
   "execution_count": null,
   "id": "26fe66b1",
   "metadata": {},
   "outputs": [],
   "source": [
    "# Show Landslide Erosion draped over the shaded topographic relief\n",
    "imshowhs_grid(\n",
    "    grid,\n",
    "    \"topographic__elevation\",\n",
    "    drape1=np.sqrt(grid.at_node[\"landslide__erosion\"]),\n",
    "    plot_type=\"Drape1\",\n",
    "    var_name=\"LS \\n erosion\",\n",
    "    var_units=r\"m\",\n",
    "    grid_units=(\"m\", \"m\"),\n",
    "    cmap=\"hot_r\",\n",
    "    ticks_km=False,\n",
    "    colorbar_label_y=-55,\n",
    "    add_label_bbox=True,\n",
    "    thres_drape1=0.01,\n",
    ")\n",
    "plt.show()\n",
    "# Show Landslide deposition draped over the shaded topographic relief\n",
    "imshowhs_grid(\n",
    "    grid,\n",
    "    \"topographic__elevation\",\n",
    "    drape1=np.sqrt(grid.at_node[\"landslide__deposition\"]),\n",
    "    plot_type=\"Drape1\",\n",
    "    var_name=\"LS \\n deposition\",\n",
    "    var_units=r\"m\",\n",
    "    grid_units=(\"m\", \"m\"),\n",
    "    cmap=\"winter_r\",\n",
    "    ticks_km=False,\n",
    "    colorbar_label_y=-55,\n",
    "    add_label_bbox=True,\n",
    "    thres_drape1=0.01,\n",
    ")\n",
    "plt.show()"
   ]
  },
  {
   "cell_type": "code",
   "execution_count": null,
   "id": "67590a17",
   "metadata": {},
   "outputs": [],
   "source": [
    "# Show Landslide erosion and deposition draped over the shaded topographic relief\n",
    "thres_drape1 = 0.01\n",
    "thres_drape2 = 0.01\n",
    "alpha = 0.8\n",
    "alpha2 = 0.8\n",
    "drape1 = np.sqrt(grid.at_node[\"landslide__erosion\"])\n",
    "drape2 = np.sqrt(grid.at_node[\"landslide__deposition\"])\n",
    "plt.figure(figsize=(15, 15))\n",
    "\n",
    "imshowhs_grid(\n",
    "    grid,\n",
    "    \"topographic__elevation\",\n",
    "    plot_type=\"Drape2\",\n",
    "    drape1=drape1,\n",
    "    cmap=\"hot_r\",\n",
    "    thres_drape1=thres_drape1,\n",
    "    alpha=alpha,\n",
    "    drape2=drape2,\n",
    "    cmap2=\"winter_r\",\n",
    "    thres_drape2=thres_drape2,\n",
    "    alpha2=alpha2,\n",
    "    add_double_colorbar=True,\n",
    "    cbar_tick_size=8,\n",
    "    cbar_label_color=\"red\",\n",
    "    cbar_label_fontweight=\"normal\",\n",
    "    add_label_bbox=True,\n",
    ")"
   ]
  },
  {
   "cell_type": "markdown",
   "id": "d71dc34e",
   "metadata": {},
   "source": [
    "## Challenge 1: Can you run HyLands over your favorite mountain? \n",
    "Assume an angle of internal friction of 0.8 and a landslides_return_time of 50 years. \n",
    "Plot the location of the landslides. Make separate maps for erosion and deposition. "
   ]
  },
  {
   "cell_type": "markdown",
   "id": "33d8a64f",
   "metadata": {},
   "source": [
    "## Back to HyLands tutorial page\n",
    "[Click here to go back to the tutorial overview page](../index.ipynb)"
   ]
  }
 ],
 "metadata": {
  "kernelspec": {
   "display_name": "Ivy",
   "language": "python",
   "name": "ivy"
  },
  "language_info": {
   "codemirror_mode": {
    "name": "ipython",
    "version": 3
   },
   "file_extension": ".py",
   "mimetype": "text/x-python",
   "name": "python",
   "nbconvert_exporter": "python",
   "pygments_lexer": "ipython3",
   "version": "3.11.0"
  }
 },
 "nbformat": 4,
 "nbformat_minor": 5
}
