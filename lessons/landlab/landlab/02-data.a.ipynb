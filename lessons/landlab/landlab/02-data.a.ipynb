{
 "cells": [
  {
   "cell_type": "markdown",
   "metadata": {},
   "source": [
    "<a href=\"http://landlab.github.io\"><img style=\"float: left\" src=\"https://raw.githubusercontent.com/landlab/tutorials/release/landlab_header.png\"></a>"
   ]
  },
  {
   "cell_type": "markdown",
   "metadata": {
    "tags": [
     "toc"
    ]
   },
   "source": [
    "# Table of Contents\n",
    "* [Attaching data to a grid](#Attaching-data-to-a-grid)\n",
    "  * [Load data from an ESRI ASCII file](#Load-data-from-an-ESRI-ASCII-file)\n",
    "  * [Map data from one grid to another](#Map-data-from-one-grid-to-another)\n",
    "  * [Load data from OpenTopography](#Load-data-from-OpenTopography)"
   ]
  },
  {
   "cell_type": "markdown",
   "metadata": {},
   "source": [
    "## Attaching data to a grid\n",
    "\n",
    "You can attach data to any *Landlab* model grid and at any grid element through *Landlab* data\n",
    "**fields**. Data are set and accessed in the same way for any grid type.\n",
    "\n",
    "We'll start by attaching some data to a grid's nodes. Below we see two different methods for\n",
    "adding data to a grid."
   ]
  },
  {
   "cell_type": "code",
   "execution_count": null,
   "metadata": {},
   "outputs": [],
   "source": [
    "from landlab import RasterModelGrid\n",
    "\n",
    "grid = RasterModelGrid((4, 5))\n",
    "grid.add_zeros(\"foo\", at=\"node\")\n",
    "grid.at_node[\"bar\"] = [1.0] * grid.number_of_nodes"
   ]
  },
  {
   "cell_type": "markdown",
   "metadata": {},
   "source": [
    "To access the data, we use the `at_node` data structure, which is dictionary whose keys are\n",
    "field names, and values are *numpy* arrays."
   ]
  },
  {
   "cell_type": "code",
   "execution_count": null,
   "metadata": {},
   "outputs": [],
   "source": [
    "print(f\"All at-node fields: {list(grid.at_node)!r}\")"
   ]
  },
  {
   "cell_type": "markdown",
   "metadata": {},
   "source": [
    "The values of the field nammed, \"foo\","
   ]
  },
  {
   "cell_type": "code",
   "execution_count": null,
   "metadata": {},
   "outputs": [],
   "source": [
    "grid.at_node[\"foo\"]"
   ]
  },
  {
   "cell_type": "code",
   "execution_count": null,
   "metadata": {
    "tags": [
     "solution"
    ]
   },
   "outputs": [],
   "source": [
    "# Get the values for the field names, \"bar\"\n",
    "grid.at_node[\"bar\"]"
   ]
  },
  {
   "cell_type": "markdown",
   "metadata": {},
   "source": [
    "### Load data from an ESRI ASCII file\n",
    "\n",
    "There are other ways to add fields to grids. Below we show how to read a field from a data file\n",
    "(in ESRI ASCII format), and then download data from *OpenTopography* and add it to a grid.\n",
    "\n",
    "The [read_esri_ascii] function creates a new `RasterModelGrid` with some data attached\n",
    "to its *nodes*.\n",
    "\n",
    "[read_esri_ascii]: https://landlab.readthedocs.io/en/master/reference/io/esri_ascii.html#landlab.io.esri_ascii.read_esri_ascii"
   ]
  },
  {
   "cell_type": "code",
   "execution_count": null,
   "metadata": {},
   "outputs": [],
   "source": [
    "from landlab.io import read_esri_ascii\n",
    "\n",
    "(grid, z) = read_esri_ascii(\"data/square-test-basin.asc\", name=\"topographic__elevation\")"
   ]
  },
  {
   "cell_type": "code",
   "execution_count": null,
   "metadata": {},
   "outputs": [],
   "source": [
    "grid.imshow(\"topographic__elevation\")"
   ]
  },
  {
   "cell_type": "markdown",
   "metadata": {},
   "source": [
    "Use some of the functions we learned about in the previous lesson to get some information about\n",
    "this DEM. For example,\n",
    "* How large is this DEM?\n",
    "* How many rows and columns are there?\n",
    "* What is the resolution of this DEM?\n",
    "* What are the maximum and minimum elevation values?"
   ]
  },
  {
   "cell_type": "code",
   "execution_count": null,
   "metadata": {
    "tags": [
     "solution"
    ]
   },
   "outputs": [],
   "source": [
    "# Write your code here\n",
    "print(f\"Number of points = {grid.number_of_nodes}\")\n",
    "print(f\"Number of rows and columns = {grid.shape}\")\n",
    "print(f\"Resolution = {grid.spacing}\")\n",
    "print(f\"Maximum elevation = {grid.at_node['topographic__elevation'].max()}\")\n",
    "print(f\"Minimum elevation = {grid.at_node['topographic__elevation'].min()}\")"
   ]
  },
  {
   "cell_type": "markdown",
   "metadata": {},
   "source": [
    "### Map data from one grid to another\n",
    "\n",
    "In our example we loaded data from an ESRI ASCII file into a ``RasterModelGrid`` but what if we wanted the data to be placed on, for example, a ``HexModelGrid``? *Landlab* doesn' have utilities to do this but we can use [interpolation utilities](https://docs.scipy.org/doc/scipy/reference/interpolate.html) from *scipy* to help us do this."
   ]
  },
  {
   "cell_type": "markdown",
   "metadata": {},
   "source": [
    "First create a `HexModelGrid` with the same number of rows and columns, and grid spacing."
   ]
  },
  {
   "cell_type": "code",
   "execution_count": null,
   "metadata": {},
   "outputs": [],
   "source": [
    "from landlab import HexModelGrid\n",
    "\n",
    "hex_grid = HexModelGrid((200, 200), spacing=30.0, node_layout=\"rect\")"
   ]
  },
  {
   "cell_type": "markdown",
   "metadata": {},
   "source": [
    "To do the mapping, we can use *scipy*'s [LinearNDInterpolator](https://docs.scipy.org/doc/scipy/reference/generated/scipy.interpolate.LinearNDInterpolator.html#scipy.interpolate.LinearNDInterpolator).\n",
    "\n",
    "The ``LinearNDInterpolator`` takes two arguments: the first is an array of the *x* and *y* coordinates of the source grid's nodes, and the second the values at those nodes that we want to map. The return value is a ***function*** that maps the values."
   ]
  },
  {
   "cell_type": "code",
   "execution_count": null,
   "metadata": {},
   "outputs": [],
   "source": [
    "from scipy.interpolate import LinearNDInterpolator\n",
    "\n",
    "interp = LinearNDInterpolator(grid.xy_of_node, grid.at_node[\"topographic__elevation\"])"
   ]
  },
  {
   "cell_type": "markdown",
   "metadata": {},
   "source": [
    "To interpolate to the destination grid (our `HexModelGrid`) we call our interpolation function with the new grid's node values."
   ]
  },
  {
   "cell_type": "code",
   "execution_count": null,
   "metadata": {},
   "outputs": [],
   "source": [
    "z = interp(hex_grid.x_of_node, hex_grid.y_of_node)"
   ]
  },
  {
   "cell_type": "markdown",
   "metadata": {},
   "source": [
    "If we like, we can then add the values to the hex grid as a data field."
   ]
  },
  {
   "cell_type": "code",
   "execution_count": null,
   "metadata": {},
   "outputs": [],
   "source": [
    "hex_grid.at_node[\"topographic__elevation\"] = z"
   ]
  },
  {
   "cell_type": "code",
   "execution_count": null,
   "metadata": {},
   "outputs": [],
   "source": [
    "import numpy as np\n",
    "\n",
    "hex_grid.imshow(\n",
    "    \"topographic__elevation\", allow_colorbar=True, vmin=np.nanmin(z), vmax=np.nanmax(z)\n",
    ")"
   ]
  },
  {
   "cell_type": "markdown",
   "metadata": {},
   "source": [
    "### Load data from OpenTopography\n",
    "\n",
    "We'll now download some data from *OpenTopography* and add it to a `RasterModelGrid`. To do this,\n",
    "we use the [bmi_topography] package.\n",
    "\n",
    "[bmi_topography]: https://bmi-topography.readthedocs.io/en/latest/"
   ]
  },
  {
   "cell_type": "code",
   "execution_count": null,
   "metadata": {},
   "outputs": [],
   "source": [
    "from bmi_topography import Topography"
   ]
  },
  {
   "cell_type": "code",
   "execution_count": null,
   "metadata": {},
   "outputs": [],
   "source": [
    "?Topography"
   ]
  },
  {
   "cell_type": "markdown",
   "metadata": {},
   "source": [
    "To download *OpenTopography* data, we need to know the bounding box of the data we want.\n",
    "This is provided through the `north`, `south`, `east`, and `west` keywords (in degrees).\n",
    "\n",
    "For this example, I've used a bounding box that contains Longs Peak in Colorado."
   ]
  },
  {
   "cell_type": "code",
   "execution_count": null,
   "metadata": {},
   "outputs": [],
   "source": [
    "lat, lon = (40.2530073213, -105.609067564)  # Longs Peak\n",
    "height, width = 7.5 / 60.0, 7.5 / 60.0\n",
    "\n",
    "longs_peak_dem = Topography(\n",
    "    north=lat + height,\n",
    "    south=lat - height,\n",
    "    east=lon + width,\n",
    "    west=lon - width,\n",
    "    output_format=\"GTiff\",\n",
    "    dem_type=\"SRTMGL3\",\n",
    ")\n",
    "longs_peak = longs_peak_dem.load()"
   ]
  },
  {
   "cell_type": "markdown",
   "metadata": {},
   "source": [
    "The elevation data are stored in an *xarray* [*DataArray*](https://docs.xarray.dev/en/stable/generated/xarray.DataArray.html). You can access the values as a *numpy* array\n",
    "through the ``values`` attribute. Notice the shape of the array.\n",
    "\n",
    "What about the elevation values? Do they seem correct? What are the max and min values? What do you think\n",
    "the units are?\n",
    "\n",
    "[DataArray]: https://docs.xarray.dev/en/stable/generated/xarray.DataArray.html"
   ]
  },
  {
   "cell_type": "code",
   "execution_count": null,
   "metadata": {},
   "outputs": [],
   "source": [
    "longs_peak.values.shape"
   ]
  },
  {
   "cell_type": "code",
   "execution_count": null,
   "metadata": {},
   "outputs": [],
   "source": [
    "longs_peak.values.min(), longs_peak.values.max()"
   ]
  },
  {
   "cell_type": "markdown",
   "metadata": {},
   "source": [
    "How do the above two answers change if you select a different DEM type (`\"SRTMGL1\"`, say)?"
   ]
  },
  {
   "cell_type": "code",
   "execution_count": null,
   "metadata": {
    "tags": [
     "solution"
    ]
   },
   "outputs": [],
   "source": [
    "lat, lon = (40.2530073213, -105.609067564)  # Longs Peak\n",
    "height, width = 7.5 / 60.0, 7.5 / 60.0\n",
    "\n",
    "longs_peak_dem = Topography(\n",
    "    north=lat + height,\n",
    "    south=lat - height,\n",
    "    east=lon + width,\n",
    "    west=lon - width,\n",
    "    output_format=\"GTiff\",\n",
    "    dem_type=\"SRTMGL1\",\n",
    ")\n",
    "longs_peak = longs_peak_dem.load()\n",
    "\n",
    "print(f\"Shape of the data = {longs_peak.values.shape}\")\n",
    "print(f\"Minimum elevation = {longs_peak.values.min()}\")\n",
    "print(f\"Maximum elevation = {longs_peak.values.max()}\")"
   ]
  },
  {
   "cell_type": "markdown",
   "metadata": {},
   "source": [
    "Now create a new ``RasterModelGrid`` and attach your data to it."
   ]
  },
  {
   "cell_type": "code",
   "execution_count": null,
   "metadata": {},
   "outputs": [],
   "source": [
    "import numpy as np\n",
    "from landlab import RasterModelGrid\n",
    "\n",
    "z = np.flipud(longs_peak.values.squeeze())\n",
    "grid = RasterModelGrid(z.shape, xy_spacing=(70.0, 90.0))\n",
    "grid.at_node[\"topographic__elevation\"] = z"
   ]
  },
  {
   "cell_type": "markdown",
   "metadata": {},
   "source": [
    "Notice I've used an ``xy_spacing`` of ``(70.0, 90.0)``. Why's that?"
   ]
  },
  {
   "cell_type": "markdown",
   "metadata": {},
   "source": [
    "We can create a quick plot of the data field using the ``imshow`` method function of the grid.\n",
    "Does this look right?"
   ]
  },
  {
   "cell_type": "code",
   "execution_count": null,
   "metadata": {},
   "outputs": [],
   "source": [
    "grid.imshow(\"topographic__elevation\", cmap=\"terrain\", vmin=0)"
   ]
  },
  {
   "cell_type": "markdown",
   "metadata": {},
   "source": [
    "Some additional things to try:\n",
    "* Fetch OpenTopography data from another location and another width and height\n",
    "* Fetch OpenTopography using different ``dem_type`` (the\n",
    "  [*bmi-topography* documentation](https://bmi-topography.readthedocs.io) has a list of supported types).\n",
    "* What's the resolution of the dem you downloaded?"
   ]
  },
  {
   "cell_type": "markdown",
   "metadata": {},
   "source": [
    "In this tutorial we looked at how we can add data to *Landlab* grid *nodes*. In the next tutorial we'll have a look at some of the other grid elements (*links* and *cells*).\n",
    "\n",
    "👉 [More grid elements](03-links-cells.ipynb)"
   ]
  }
 ],
 "metadata": {
  "anaconda-cloud": {},
  "celltoolbar": "Tags",
  "kernelspec": {
   "display_name": "Ivy",
   "language": "python",
   "name": "ivy"
  },
  "language_info": {
   "codemirror_mode": {
    "name": "ipython",
    "version": 3
   },
   "file_extension": ".py",
   "mimetype": "text/x-python",
   "name": "python",
   "nbconvert_exporter": "python",
   "pygments_lexer": "ipython3",
   "version": "3.11.3"
  }
 },
 "nbformat": 4,
 "nbformat_minor": 4
}
