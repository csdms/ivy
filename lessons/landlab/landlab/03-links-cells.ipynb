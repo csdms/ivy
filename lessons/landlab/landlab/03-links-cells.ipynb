{
 "cells": [
  {
   "cell_type": "markdown",
   "metadata": {},
   "source": [
    "<a href=\"http://landlab.github.io\"><img style=\"float: left\" src=\"https://raw.githubusercontent.com/landlab/tutorials/release/landlab_header.png\"></a>"
   ]
  },
  {
   "cell_type": "markdown",
   "metadata": {
    "tags": [
     "toc"
    ]
   },
   "source": [
    "# Table of Contents\n",
    "* [Links](#Links)\n",
    "* [Cells](#Cells)"
   ]
  },
  {
   "cell_type": "markdown",
   "metadata": {},
   "source": [
    "## Links\n",
    "\n",
    "*links* are lines that connect two adjacent *nodes*. We'll now do something simlar as we did\n",
    "in the first lesson and visually look at how the different grid types create nodes\n",
    "and links. Notice that *links* also have a direction as shown by the arrows."
   ]
  },
  {
   "cell_type": "code",
   "execution_count": null,
   "metadata": {},
   "outputs": [],
   "source": [
    "from landlab import RasterModelGrid\n",
    "from landlab.plot import plot_graph\n",
    "\n",
    "grid = RasterModelGrid((4, 5), xy_spacing=(1, 0.5))\n",
    "plot_graph(grid, at=\"node,link\")"
   ]
  },
  {
   "cell_type": "markdown",
   "metadata": {},
   "source": [
    "*links* connect *nodes*, but which nodes? There is a data structure for that: `nodes_at_link`.\n",
    "Each row consists of a links \"tail\", followed by its \"head\" node. If you want to access\n",
    "just tail nodes or just head nodes, you can use `node_at_link_tail` and `node_at_link_head`."
   ]
  },
  {
   "cell_type": "code",
   "execution_count": null,
   "metadata": {},
   "outputs": [],
   "source": [
    "grid.nodes_at_link"
   ]
  },
  {
   "cell_type": "code",
   "execution_count": null,
   "metadata": {},
   "outputs": [],
   "source": [
    "grid.node_at_link_tail, grid.node_at_link_head"
   ]
  },
  {
   "cell_type": "markdown",
   "metadata": {},
   "source": [
    "Grids also provide a data structure for the reverse: that is, the links that are connected to each node.\n",
    "You can access this data structure through the `links_at_node` attribute."
   ]
  },
  {
   "cell_type": "code",
   "execution_count": null,
   "metadata": {},
   "outputs": [],
   "source": [
    "grid.links_at_node"
   ]
  },
  {
   "cell_type": "markdown",
   "metadata": {},
   "source": [
    "This data structure demonstrates a couple conventions used by *Landlab* data structures of grid elements.\n",
    "\n",
    "1. Notice now the *links* are ordered in this data structure. This convention used by *Landlab* whenever\n",
    "one element is ordered around another.\n",
    "2. Where a *link* is \"missing\" from a node, -1 is used as a placeholder."
   ]
  },
  {
   "cell_type": "markdown",
   "metadata": {},
   "source": [
    "## Cells\n",
    "\n",
    "Cells are polygons that surround nodes. Notice, however, that nodes on the perimeter of the grid\n",
    "do not have associated cells."
   ]
  },
  {
   "cell_type": "markdown",
   "metadata": {},
   "source": [
    "Consider a `RasterModelGrid` with four rows and five columns. How many cells will it have?"
   ]
  },
  {
   "cell_type": "code",
   "execution_count": null,
   "metadata": {},
   "outputs": [],
   "source": [
    "grid = RasterModelGrid((4, 5), xy_spacing=(1, 0.5))\n",
    "plot_graph(grid, at=\"node,link\")"
   ]
  },
  {
   "cell_type": "code",
   "execution_count": null,
   "metadata": {},
   "outputs": [],
   "source": [
    "grid = RasterModelGrid((4, 5), xy_spacing=(1, 0.5))\n",
    "plot_graph(grid, at=\"cell\")"
   ]
  },
  {
   "cell_type": "markdown",
   "metadata": {},
   "source": [
    "👉 [Numerics](04-numerics.ipynb)"
   ]
  }
 ],
 "metadata": {
  "anaconda-cloud": {},
  "celltoolbar": "Tags",
  "kernelspec": {
   "display_name": "Ivy",
   "language": "python",
   "name": "ivy"
  },
  "language_info": {
   "codemirror_mode": {
    "name": "ipython",
    "version": 3
   },
   "file_extension": ".py",
   "mimetype": "text/x-python",
   "name": "python",
   "nbconvert_exporter": "python",
   "pygments_lexer": "ipython3",
   "version": "3.11.3"
  }
 },
 "nbformat": 4,
 "nbformat_minor": 4
}
