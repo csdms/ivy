{
 "cells": [
  {
   "cell_type": "markdown",
   "metadata": {},
   "source": [
    "<a href=\"https://csdms.colorado.edu\"><img style=\"float: center; width: 75%\" src=\"https://raw.githubusercontent.com/csdms/ivy/main/media/logo.png\"></a>"
   ]
  },
  {
   "cell_type": "markdown",
   "metadata": {
    "tags": [
     "toc"
    ]
   },
   "source": [
    "# Table of Contents\n",
    "* [Introduction to Landlab: Grids, Landlab as a solver for advection-diffusion problems, some demos](#Introduction-to-Landlab:-Grids,-Landlab-as-a-solver-for-advection-diffusion-problems,-some-demos)\n",
    "  * [Use Landlab to solve the problem Eyjafjallajökull problem](#Use-Landlab-to-solve-the-problem-Eyjafjallajökull-problem)\n",
    "    * [Preparation](#Preparation)\n",
    "  * [Advection diffusion](#Advection-diffusion)"
   ]
  },
  {
   "cell_type": "markdown",
   "metadata": {},
   "source": [
    "# Introduction to Landlab: Grids, Landlab as a solver for advection-diffusion problems, some demos\n",
    "\n",
    "This tutorial illustrates how you can use Landlab to construct a simple two-dimensional numerical model on a regular (raster) grid, using a simple forward-time, centered-space / upwind numerical scheme. "
   ]
  },
  {
   "cell_type": "markdown",
   "metadata": {},
   "source": [
    "## Use Landlab to solve the problem Eyjafjallajökull problem\n",
    "\n",
    "### Preparation\n",
    "\n",
    "Load the map of Europe, plot the location of the Eyjafjallajökull and Brussels\n"
   ]
  },
  {
   "cell_type": "code",
   "execution_count": null,
   "metadata": {},
   "outputs": [],
   "source": [
    "import numpy as np\n",
    "from matplotlib import pyplot as plt\n",
    "\n",
    "europe_coast = np.loadtxt(\"data/EuropePoints_xp25_ym30.csv\", delimiter=\",\")\n",
    "volcano_x, volcano_y = (7, 35)\n",
    "brussels_x, brussels_y = (30, 21)\n",
    "\n",
    "plt.figure()\n",
    "plt.scatter(europe_coast[:, 0], europe_coast[:, 1], s=0.5, c=\"r\")\n",
    "\n",
    "plt.plot(volcano_x, volcano_y, marker=\"^\", markersize=10)\n",
    "plt.plot(brussels_x, brussels_y, marker=\"*\", markersize=10)"
   ]
  },
  {
   "cell_type": "markdown",
   "metadata": {},
   "source": [
    "(2b .1) Create an instance of a `RasterModelGrid` called `EU`, with 100 rows and 140 columns, with a spacing between nodes of 0.5 degrees (1 degree = ca. 111 km). Calculate the index of the eyjafjallajökull and Brussels within the grid"
   ]
  },
  {
   "cell_type": "code",
   "execution_count": null,
   "metadata": {},
   "outputs": [],
   "source": [
    "# (enter your solution to 2b.1 here)"
   ]
  },
  {
   "cell_type": "code",
   "execution_count": null,
   "metadata": {
    "tags": [
     "solution"
    ]
   },
   "outputs": [],
   "source": [
    "from landlab import RasterModelGrid\n",
    "\n",
    "rows, cols = 100, 140\n",
    "dx = 0.5  # in degrees\n",
    "\n",
    "europe = RasterModelGrid((rows, cols), xy_spacing=dx)\n",
    "\n",
    "volcano_node = int(volcano_y / dx * cols + volcano_x / dx)\n",
    "brussels_node = int(brussels_y / dx * cols + brussels_x / dx)\n",
    "\n",
    "volcano_node = europe.find_nearest_node((volcano_x, volcano_y))\n",
    "brussels_node = europe.find_nearest_node((brussels_x, brussels_y))"
   ]
  },
  {
   "cell_type": "markdown",
   "metadata": {},
   "source": [
    "(2b.2) Query the grid variables `number_of_nodes` and `number_of_core_nodes` to find out how many nodes are in your grid, and how many of them are core nodes."
   ]
  },
  {
   "cell_type": "code",
   "execution_count": null,
   "metadata": {},
   "outputs": [],
   "source": [
    "# (enter your solution to 2b.2 here)"
   ]
  },
  {
   "cell_type": "code",
   "execution_count": null,
   "metadata": {
    "tags": [
     "solution"
    ]
   },
   "outputs": [],
   "source": [
    "print(f\"number of nodes = {europe.number_of_nodes}\")\n",
    "print(f\"number of core nodes = {europe.number_of_core_nodes}\")"
   ]
  },
  {
   "cell_type": "markdown",
   "metadata": {},
   "source": [
    "(2b.3) Add a new field to your grid, called `Aerosol` and attached to nodes. Have the initial values be all zero."
   ]
  },
  {
   "cell_type": "code",
   "execution_count": null,
   "metadata": {},
   "outputs": [],
   "source": [
    "# (enter your solution to 2b.3 here)"
   ]
  },
  {
   "cell_type": "code",
   "execution_count": null,
   "metadata": {
    "tags": [
     "solution"
    ]
   },
   "outputs": [],
   "source": [
    "europe.add_zeros(\"Aerosol\", at=\"node\", clobber=True)"
   ]
  },
  {
   "cell_type": "markdown",
   "metadata": {},
   "source": [
    "(2b.4) Change the Aerosol concentration at the eyjafjallajökull to an initial concentration of 10 ppm (store this value in `C_ini`) . Use the `imshow_grid` function to display a shaded image of the Aerosol field."
   ]
  },
  {
   "cell_type": "code",
   "execution_count": null,
   "metadata": {},
   "outputs": [],
   "source": [
    "# (enter your solution to 2b.4 here)"
   ]
  },
  {
   "cell_type": "code",
   "execution_count": null,
   "metadata": {
    "tags": [
     "solution"
    ]
   },
   "outputs": [],
   "source": [
    "C_ini = 10.0\n",
    "europe.at_node[\"Aerosol\"][volcano_node] = C_ini\n",
    "europe.imshow(\"Aerosol\", at=\"node\")"
   ]
  },
  {
   "cell_type": "markdown",
   "metadata": {},
   "source": [
    "(2b.5) Now lets do some more advanced plotting. Use the `imshow_grid` function to plot the Aerosol concentration, but this time plot all cells with Aerosol concentrations smaller than 1 ppm as white transparent pixels. To do this, make a copy of the Aerosol field and mask it [see ](https://numpy.org/doc/stable/reference/maskedarray.generic.html). Hint: try using `np.ma.masked_where(..., ...)`. Use the inferno_r colormap (see cmap argument of `imshow_grid`). On top of the concentration field, plot the map of Europe using the statements from the preparation cell above and the EU_coast variable. \n",
    "\n",
    "Finally, make a function out of this plotting code snippet so that you can easily reuse it later "
   ]
  },
  {
   "cell_type": "code",
   "execution_count": null,
   "metadata": {},
   "outputs": [],
   "source": [
    "def plot_aerosol(grid, a):\n",
    "    plt.plot(volcano_x, volcano_y, marker=\"^\", markersize=10)\n",
    "    plt.plot(brussels_x, brussels_y, marker=\"*\", markersize=10)\n",
    "    plt.scatter(europe_coast[:, 0], europe_coast[:, 1], s=0.5, c=\"r\")\n",
    "\n",
    "    # a_plt = np.zeros_like(a)\n",
    "    # a_plt[:] = a\n",
    "    a_plt = np.ma.masked_where(a < 1, a)\n",
    "    grid.imshow(\n",
    "        a_plt, cmap=\"inferno_r\", color_for_background=None, color_for_closed=None\n",
    "    )\n",
    "\n",
    "    # plt.plot(volcano_x, volcano_y, s=5, c=\"k\")\n",
    "    # plt.plot(brussels_x, brussels_y, s=5, c=\"g\")\n",
    "\n",
    "    plt.show()\n",
    "\n",
    "\n",
    "plot_aerosol(europe, europe.at_node[\"Aerosol\"])"
   ]
  },
  {
   "cell_type": "markdown",
   "metadata": {},
   "source": [
    "Define some constants: \n",
    "- $C_n$ (source term): amount of dust particles produced per day (20 ppm/day)\n",
    "- $D$ (diffusion constant) : 1.5  deg$^2$  day$^-1$\n",
    "- $dt$ (in days, see stability rule before)\n",
    "- get $dx$ and $dy$ from landlab grid\n",
    "- totT: the total amount of iterations, see to 1000 for now\n",
    "- create an empty np array to store the aerosol concentration above Brussels during the model run (with size totT)"
   ]
  },
  {
   "cell_type": "code",
   "execution_count": null,
   "metadata": {},
   "outputs": [],
   "source": [
    "C_n = 200\n",
    "D = 1.5\n",
    "dx, dy = europe.dx, europe.dy\n",
    "dt = 0.245 * europe.dx * europe.dx / D\n",
    "n_steps = 1000\n",
    "aerosol_at_brussels = np.zeros(n_steps)"
   ]
  },
  {
   "cell_type": "markdown",
   "metadata": {},
   "source": [
    "\n",
    "- Create a new field of zeros called aerosol_flux and attached to links. Using the 'number_of_links' grid property, verify that your new field array has the correct number of items. "
   ]
  },
  {
   "cell_type": "code",
   "execution_count": null,
   "metadata": {
    "tags": [
     "solution"
    ]
   },
   "outputs": [],
   "source": [
    "qa = europe.add_zeros(\"aerosol_flux\", at=\"link\")\n",
    "print(europe.number_of_links)\n",
    "print(len(qa))"
   ]
  },
  {
   "cell_type": "markdown",
   "metadata": {},
   "source": [
    "Boundary conditions: for this example, we'll assume that all sides are  are open. (The order of the function arguments is east, north, west, south). This is the default configuration. Later on we will check what happens if boundary conditions are open. "
   ]
  },
  {
   "cell_type": "code",
   "execution_count": null,
   "metadata": {
    "tags": [
     "solution"
    ]
   },
   "outputs": [],
   "source": [
    "# europe.set_closed_boundaries_at_grid_edges(True, True, True, True)\n",
    "\n",
    "europe.status_at_node[europe.nodes_at_right_edge] = europe.BC_NODE_IS_CLOSED\n",
    "europe.status_at_node[europe.nodes_at_top_edge] = europe.BC_NODE_IS_CLOSED\n",
    "europe.status_at_node[europe.nodes_at_left_edge] = europe.BC_NODE_IS_CLOSED\n",
    "europe.status_at_node[europe.nodes_at_bottom_edge] = europe.BC_NODE_IS_CLOSED"
   ]
  },
  {
   "cell_type": "markdown",
   "metadata": {},
   "source": [
    "*A note on boundaries:* with a Landlab raster grid, all the perimeter nodes are boundary nodes. In this example, there are 98 + 140 + 98 + 140 = 476 boundary nodes. All the remaining nodes are known as **core** nodes. In this example, there are 100*140-476 = 13524 core nodes:"
   ]
  },
  {
   "cell_type": "code",
   "execution_count": null,
   "metadata": {},
   "outputs": [],
   "source": [
    "print(f\"Number of boundary nodes: {len(europe.boundary_nodes)}\")\n",
    "print(f\"Number of core nodes: {len(europe.core_nodes)}\")\n",
    "print(f\"Number of nodes: {europe.number_of_nodes}\")"
   ]
  },
  {
   "cell_type": "markdown",
   "metadata": {},
   "source": [
    "(2b.7) Now solve the 2D diffusion equation. Loop through totT iterations, representing $totT*dt$ days. On each pass through the loop, we do the following:\n",
    "\n",
    "1. Calculate, and store in the array `g`, the **aerosol gradient** between each neighboring pair of nodes. The gradient value is a positive number when the gradient is \"uphill\" in the direction of the link, and negative when the gradient is \"downhill\" in the direction of the link. On a raster grid, link directions are always in the direction of increasing 𝑥 (\"horizontal\" links) or increasing 𝑦 (\"vertical\" links).\n",
    "\n",
    "2. Calculate, and store in the array `qa`, the **aerosol flux** between each adjacent pair of nodes by multiplying their gradient by the transport coefficient. We will only do this for the active links (those not connected to a closed boundary, and not connecting two boundary nodes of any type); others will remain as zero.\n",
    "\n",
    "3. Calculate the resulting net flux at each node, (positive=net outflux, negative=net influx). The negative of this array is the rate of change of elevation at each (core) node, so store it in a node array called `dadt'.\n",
    "\n",
    "4. Update the aerosol concentrations for the new time step.\n",
    "\n",
    "5. Take care of the source term: calculate the amount of ash being produced during one timestep and add this to the aerosol field at the volcano location\n",
    "\n",
    "5. Store the concentration above Brussels in the `Br_out` array\n",
    "\n",
    "6. Plot the resulting concentration every 100 iterations \n",
    "\n",
    "~~~ python\n",
    " for i in range(totT):  \n",
    "     g = \n",
    "     qa[EU.active_links] = \n",
    "     dadt = \n",
    "     a[EU.core_nodes] += dadt[EU.core_nodes] * dt   \n",
    "     a[vol_loc] += C_n*dt\n",
    "     Br_out[i] = a[Br_loc]       \n",
    "     if i%100==0:     \n",
    "         print('Time is : ' + str(i*dt) + 'days')\n",
    "         plot_aerosol(a)      \n",
    "~~~\n"
   ]
  },
  {
   "cell_type": "markdown",
   "metadata": {},
   "source": [
    "Plot the concentration through time at Brussels"
   ]
  },
  {
   "cell_type": "code",
   "execution_count": null,
   "metadata": {
    "tags": [
     "solution"
    ]
   },
   "outputs": [],
   "source": [
    "for step in range(n_steps):\n",
    "    g = europe.calc_grad_at_link(\"Aerosol\")\n",
    "    qa[europe.active_links] = -D * g[europe.active_links]\n",
    "    dadt = -europe.calc_flux_div_at_node(qa)\n",
    "    europe.at_node[\"Aerosol\"][europe.core_nodes] += dadt[europe.core_nodes] * dt\n",
    "    europe.at_node[\"Aerosol\"][volcano_node] += C_n * dt\n",
    "    aerosol_at_brussels[step] = europe.at_node[\"Aerosol\"][brussels_node]\n",
    "    if step % 100 == 0:\n",
    "        print(f\"Time is: {step * dt} days\")\n",
    "        plot_aerosol(europe, europe.at_node[\"Aerosol\"])"
   ]
  },
  {
   "cell_type": "code",
   "execution_count": null,
   "metadata": {},
   "outputs": [],
   "source": [
    "plt.figure()\n",
    "plt.plot(range(n_steps) * dt, aerosol_at_brussels)"
   ]
  },
  {
   "cell_type": "markdown",
   "metadata": {},
   "source": [
    "* What happens if you set all of the boundaries as closed boundaries? "
   ]
  },
  {
   "cell_type": "markdown",
   "metadata": {},
   "source": [
    "## Advection diffusion\n",
    "\n",
    "We have solved the diffusion part of the volcanic ash problem imposed by the eyjafjallajökull volcano. However, most of the ash transport was induced by wind fields advection the ash towards Europe (yup, west winds). Can you come up with a landlab implementation of the advection equation? Copy paste your solution from exercise () and add some lines to solve the 2D advection equation:\n",
    "\n",
    "$$\\frac{\\partial C}{\\partial t} +v \\frac{\\partial C}{\\partial x} +u \\frac{\\partial C}{\\partial y}=0\n",
    "\\label{eq:1}\\tag{1}$$\n",
    "where $C$ is the aerosol concentration and $v$ is a constant windspeed at which aerosol concentrations are advectected in the x direction and $u$ is a constant windspeed at which aerosol concentrations are advectected in the y direction.\n",
    "\n",
    "You will need some additional variables: \n",
    "- $v$ (horizontal wind speed, positive in x direction): 1.5 deg/day\n",
    "- $u$ (vertical wind speed, positive in y direction): -0.75 deg/day\n",
    "\n",
    "- Hint 1: reset the Aerosol field (a)\n",
    "- Hint 2: update the time criterion and combine the diffusion and the advection criteria \n",
    "- Hint 3: currently, the landlab grid library has no predefined functions to calculate advection (no equivalent for calc_flux_div_at_node which is used to solve the heat eq.). Hence, you will have to discretise the advection equation yourself using an upwind first order FDM, but using the matlab node/link structure. To calculate the links at every node, use `links_at_node`\n",
    "- Hint 4: given that there is no predefined method to calculate advection, you will also have to take care of the boundary conditions. Assume open boundary nodes by setting the aerosol concentration at all boundary nodes to 0 ppm at the end of every iteration. Use `grid.boundary_nodes`.\n",
    "\n",
    "~~~ python \n",
    "v = 1.5\n",
    "u = -.5\n",
    "C_n = 200\n",
    "D  = 1.5\n",
    "dx = EU.dx\n",
    "dy = EU.dy\n",
    "totT = 1000\n",
    "Br_out = np.zeros(totT)\n",
    "time = np.arange(start=0,stop = totT, step = 1)*dt\n",
    "\n",
    "a[:] = np.zeros_like(a)\n",
    "g = np.zeros(EU.number_of_links)\n",
    "dadt = np.zeros(EU.number_of_nodes)\n",
    "\n",
    "\n",
    "dt_a = 0.95*np.minimum(dx/abs(v),dy/abs(u))\n",
    "dt_d = 0.245 * dx * dx / D\n",
    "dt = min(dt_a,dt_d)\n",
    "\n",
    "rt = EU.links_at_node[0:len(a)][:,0]\n",
    "up = EU.links_at_node[0:len(a)][:,1]\n",
    "lt = EU.links_at_node[0:len(a)][:,2]\n",
    "dw = EU.links_at_node[0:len(a)][:,3] \n",
    "\n",
    "for i in range(totT):  \n",
    "    EU.calc_grad_at_link(a,out=g)\n",
    "    qa[EU.active_links] = ...\n",
    "    EU.calc_flux_div_at_node(qa,out=dadt)\n",
    "    a[EU.core_nodes] -= ...\n",
    "    \n",
    "    # Advection \n",
    "    # horizontal (x) direction\n",
    "    EU.calc_grad_at_link(a,out=g)    \n",
    "    if v<0:\n",
    "        a -= v*g[rt]*dt\n",
    "    else:             \n",
    "        a -= ...\n",
    "    \n",
    "    # vertical (y) direction\n",
    "    EU.calc_grad_at_link(a,out=g)\n",
    "    if u<0:\n",
    "        a -= ...\n",
    "    else:\n",
    "        a -= u*g[dw]*dt\n",
    "    \n",
    "    # Or shorter: \n",
    "#     EU.calc_grad_at_link(a,out=g)   \n",
    "#     a -= (v*g[rt]*(v<0) + v*g[lt]*(v>0))*dt\n",
    "#     EU.calc_grad_at_link(a,out=g)\n",
    "#     a -= (u*g[up]*(u<0) + u*g[dw]*(u>0))*dt\n",
    "    \n",
    "    # Source term   \n",
    "    a[vol_loc] += C_n*dt\n",
    "    \n",
    "    # Keep track of concentration in Brussels\n",
    "    Br_out[i] = a[Br_loc]\n",
    "    \n",
    "    #BC    \n",
    "    a[EU.boundary_nodes] = 0 \n",
    "    if i%100==0:     \n",
    "        print('Time is : ' + str(i*dt) + 'days')\n",
    "        plot_aerosol(a) \n",
    "        \n",
    "plt.figure()\n",
    "plt.plot(time,Br_out) \n",
    "\n",
    "~~~"
   ]
  },
  {
   "cell_type": "code",
   "execution_count": null,
   "metadata": {
    "tags": [
     "solution"
    ]
   },
   "outputs": [],
   "source": [
    "v = 1.5\n",
    "u = -0.5\n",
    "C_n = 200\n",
    "D = 1.5\n",
    "\n",
    "dx = europe.dx\n",
    "dy = europe.dy\n",
    "n_step = 1000\n",
    "aerosol_at_brussels = np.zeros(n_steps)\n",
    "\n",
    "a = europe.add_zeros(\"Aerosol\", at=\"node\", clobber=True)\n",
    "g = np.zeros(europe.number_of_links)\n",
    "dadt = np.zeros(europe.number_of_nodes)\n",
    "\n",
    "dt_a = 0.95 * np.minimum(dx / abs(v), dy / abs(u))\n",
    "dt_d = 0.245 * dx * dx / D\n",
    "dt = min(dt_a, dt_d)\n",
    "\n",
    "east = europe.links_at_node[:, 0]\n",
    "north = europe.links_at_node[:, 1]\n",
    "west = europe.links_at_node[:, 2]\n",
    "south = europe.links_at_node[:, 3]\n",
    "\n",
    "for step in range(n_steps):\n",
    "    europe.calc_grad_at_link(\"Aerosol\", out=g)\n",
    "    qa[europe.active_links] = -D * g[europe.active_links]\n",
    "    europe.calc_flux_div_at_node(qa, out=dadt)\n",
    "    europe.at_node[\"Aerosol\"][europe.core_nodes] -= dadt[europe.core_nodes] * dt\n",
    "\n",
    "    # Advection\n",
    "    # horizontal (x) direction\n",
    "    europe.calc_grad_at_link(\"Aerosol\", out=g)\n",
    "    if v < 0:\n",
    "        a -= v * g[east] * dt\n",
    "    else:\n",
    "        a -= v * g[west] * dt\n",
    "\n",
    "    # vertical (y) direction\n",
    "    europe.calc_grad_at_link(\"Aerosol\", out=g)\n",
    "    if u < 0:\n",
    "        a -= u * g[north] * dt\n",
    "    else:\n",
    "        a -= u * g[south] * dt\n",
    "\n",
    "    # Or shorter:\n",
    "    #     EU.calc_grad_at_link(a,out=g)\n",
    "    #     a -= (v*g[rt]*(v<0) + v*g[lt]*(v>0))*dt\n",
    "    #     EU.calc_grad_at_link(a,out=g)\n",
    "    #     a -= (u*g[up]*(u<0) + u*g[dw]*(u>0))*dt\n",
    "\n",
    "    # Source term\n",
    "    a[volcano_node] += C_n * dt\n",
    "\n",
    "    # Keep track of concentration in Brussels\n",
    "    aerosol_at_brussels[step] = a[brussels_node]\n",
    "\n",
    "    # BC\n",
    "    a[europe.boundary_nodes] = 0\n",
    "    if step % 100 == 0:\n",
    "        print(f\"Time is: {step * dt} days\")\n",
    "        plot_aerosol(europe, a)\n",
    "\n",
    "plt.figure()\n",
    "plt.plot(range(n_steps) * dt, aerosol_at_brussels)"
   ]
  },
  {
   "cell_type": "markdown",
   "metadata": {},
   "source": [
    "* what happens if you change the vertical (u) velocity to  +0.25? \n",
    "\n",
    "Congratulations on making it to the end of this tutorial!\n",
    "\n",
    "**Click here for more** <a href=\"https://landlab.readthedocs.io/en/latest/user_guide/tutorials.html\">Landlab tutorials</a>"
   ]
  }
 ],
 "metadata": {
  "anaconda-cloud": {},
  "celltoolbar": "Tags",
  "kernelspec": {
   "display_name": "Ivy",
   "language": "python",
   "name": "ivy"
  },
  "language_info": {
   "codemirror_mode": {
    "name": "ipython",
    "version": 3
   },
   "file_extension": ".py",
   "mimetype": "text/x-python",
   "name": "python",
   "nbconvert_exporter": "python",
   "pygments_lexer": "ipython3",
   "version": "3.11.0"
  }
 },
 "nbformat": 4,
 "nbformat_minor": 1
}
