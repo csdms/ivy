{
 "cells": [
  {
   "cell_type": "markdown",
   "metadata": {},
   "source": [
    "<a href=\"https://csdms.colorado.edu\"><img style=\"float: center; width: 75%\" src=\"https://raw.githubusercontent.com/csdms/ivy/main/media/logo.png\"></a>"
   ]
  },
  {
   "cell_type": "markdown",
   "metadata": {},
   "source": [
    "# Welcome to terrainbento\n",
    "\n",
    "If you are interested in reading about the details of terrainbento, this package is described in [Barnhart et al. (2019)](https://www.geosci-model-dev.net/12/1267/2019/).\n",
    "\n",
    "The documentation for the package is provided [here](http://terrainbento.readthedocs.io/en/latest/).\n",
    "\n",
    "If you are interested in the source code, you can find it [on GitHub](https://github.com/TerrainBento/terrainbento). If there is a feature that terrainbento does not have that you are interested in, if you have a clarification question, or if you find an error, please make an [Issue on GitHub](https://github.com/TerrainBento/terrainbento/issues) so we can improve the package. \n",
    "\n",
    "This notebook exists to provide a hyperlinked guide to the supporting examples, tests, and tutorials we have created in support of this package. \n",
    "\n",
    "## Introduction\n",
    "\n",
    "terrainbento was designed to make it easy to create alternative models to be compared in Earth surface dynamics. The package has 28 model programs and a model base class that makes it possible to make additional models within the same framework. \n",
    "\n",
    "The simplest model, called Basic, evolves topography using stream power and linear diffusion. It has the following governing equation:\n",
    "\n",
    "$\\frac{\\partial \\eta}{\\partial t} = - KQ^{m}S^{n} + D\\nabla^2 \\eta$\n",
    "\n",
    "\n",
    "where $K$ and $D$ are constants, $Q$ is discharge, $S$ is local slope, and $\\eta$ is the topography. Other models modify Basic by adding or changing a process component and changing the governing equation. See the [model Basic documentation](https://terrainbento.readthedocs.io/en/latest/source/terrainbento.derived_models.model_basic.html) for additional information. "
   ]
  },
  {
   "cell_type": "markdown",
   "metadata": {},
   "source": [
    "## Let's evolve a landscape \n",
    "Let's start by simulating Landscape evolution on a simple grid using the Basic model"
   ]
  },
  {
   "cell_type": "code",
   "execution_count": null,
   "metadata": {},
   "outputs": [],
   "source": [
    "import warnings\n",
    "\n",
    "# Figure properties\n",
    "from matplotlib import pyplot as plt\n",
    "from terrainbento import Basic\n",
    "\n",
    "warnings.filterwarnings(\"ignore\")\n",
    "%matplotlib inline"
   ]
  },
  {
   "cell_type": "markdown",
   "metadata": {},
   "source": [
    "What do we need to run the Basic model? \n",
    "\n",
    "*Note that Basic is a class inheriting from the ErosionModel base class. If you want to learn more on classes, objects and instances, check out [this](https://csdms.colorado.edu/wiki/Presenters-0479) webinar.*"
   ]
  },
  {
   "cell_type": "code",
   "execution_count": null,
   "metadata": {},
   "outputs": [],
   "source": [
    "# Show the documentation for the Basic model"
   ]
  },
  {
   "cell_type": "markdown",
   "metadata": {},
   "source": [
    "We need a [Clock](https://terrainbento.readthedocs.io/en/latest/source/terrainbento.clock.html) instance. The terrainbento Clock controls the timing of model runs.\n"
   ]
  },
  {
   "cell_type": "markdown",
   "metadata": {},
   "source": [
    "* Figure out what input arguments are needed to create a Clock instance. \n",
    "* Create a clock instance with: \n",
    "        * a model start time of 0\n",
    "        * a total model time of 10000 years \n",
    "        * a timestep of 100 years"
   ]
  },
  {
   "cell_type": "markdown",
   "metadata": {},
   "source": [
    "* Make a Landlab raster grid of 15 rows, 20 columns, and 100-unit grid spacing. \n",
    "* Add a field that holds values of topographic elevation at the grid nodes. Make it zero everywhere\n",
    "* Plot the grid"
   ]
  },
  {
   "cell_type": "code",
   "execution_count": null,
   "metadata": {},
   "outputs": [],
   "source": [
    "# Create a Landlab raster grid\n",
    "\n",
    "# Make a figure of the grid"
   ]
  },
  {
   "cell_type": "markdown",
   "metadata": {},
   "source": [
    "Create a randomized initial topography"
   ]
  },
  {
   "cell_type": "code",
   "execution_count": null,
   "metadata": {},
   "outputs": [],
   "source": [
    "from landlab.values import random"
   ]
  },
  {
   "cell_type": "code",
   "execution_count": null,
   "metadata": {},
   "outputs": [],
   "source": [
    "random(grid, \"topographic__elevation\")\n",
    "imshow_grid(grid, \"topographic__elevation\")"
   ]
  },
  {
   "cell_type": "markdown",
   "metadata": {},
   "source": [
    "Check all the fields associated to the grid"
   ]
  },
  {
   "cell_type": "markdown",
   "metadata": {},
   "source": [
    "Now that we have a clock and a grid, let's initialize \n",
    "the model using the default Basic model constructor (the `__init__` method). "
   ]
  },
  {
   "cell_type": "markdown",
   "metadata": {},
   "source": [
    "Check all the fields associated to the grid"
   ]
  },
  {
   "cell_type": "markdown",
   "metadata": {},
   "source": [
    "Terainbento is adhering to the principles of the basic model interface ([BMI](https://csdms.colorado.edu/wiki/BMI))\n",
    "\n",
    "Run the model as specified:"
   ]
  },
  {
   "cell_type": "markdown",
   "metadata": {},
   "source": [
    "### What did actually happen? \n",
    "Make a plot of the initial and final topography"
   ]
  },
  {
   "cell_type": "markdown",
   "metadata": {},
   "source": [
    "#### Challenge\n",
    "Make a new Basic model instance, run an plot the initial and calculated topography assuming: \n",
    "* a grid of 80 by 50 cells, and 100-unit grid spacing. \n",
    "* an initial random topography\n",
    "* a water_erodibility coefficient of 2e-4\n",
    "* a regolith_transport_parameter of 0.2\n",
    "* a total model run time of 1e5 years and a step of 2000 years\n",
    "* Plot initial and final DEM"
   ]
  },
  {
   "cell_type": "markdown",
   "metadata": {},
   "source": [
    "Looks a little strange... why? How can we change this? "
   ]
  },
  {
   "cell_type": "markdown",
   "metadata": {},
   "source": [
    "## Boundary Handlers"
   ]
  },
  {
   "cell_type": "code",
   "execution_count": null,
   "metadata": {},
   "outputs": [],
   "source": [
    "# How do we set a boundary handler? Boundary condition handlers are similar to landlab components.\n",
    "# They have an init method, and a run_one_step method\n",
    "from terrainbento import NotCoreNodeBaselevelHandler\n",
    "\n",
    "# Lowering rate of the outlet node.\n",
    "grid_demo = RasterModelGrid((5, 5), 10)\n",
    "z = grid_demo.add_zeros(\"topographic__elevation\", at=\"node\")\n",
    "bd_handler = NotCoreNodeBaselevelHandler(\n",
    "    grid_demo, modify_core_nodes=False, lowering_rate=-0.1\n",
    ")\n",
    "print(5 * \"=\" + \" before\")\n",
    "print(z.reshape(grid_demo.shape))\n",
    "bd_handler.run_one_step(step=10)\n",
    "print(5 * \"=\" + \" after\")\n",
    "print(z.reshape(grid_demo.shape))"
   ]
  },
  {
   "cell_type": "markdown",
   "metadata": {},
   "source": [
    "How to provide this info to a terrainbento model run? \n",
    "\n",
    "From [documentation](https://terrainbento.readthedocs.io/en/latest/source/terrainbento.base_class.erosion_model.html): \n",
    "boundary_handlers (dictionary, optional) – Dictionary with `name: instance` key-value pairs. Each entry must be a valid instance of a terrainbento boundary handler."
   ]
  },
  {
   "cell_type": "code",
   "execution_count": null,
   "metadata": {},
   "outputs": [],
   "source": [
    "# Provide the information of the boundary handler as a dictionary\n",
    "model_bd_handler = {\"NotCoreNodeBaselevelHandler\": bd_handler}"
   ]
  },
  {
   "cell_type": "markdown",
   "metadata": {},
   "source": [
    "### Challenge 1.2 \n",
    "Make a new Basic model instance, run an plot the initial and calculated topography assuming: \n",
    "* a grid of 80 by 50 cells, and 100-unit grid spacing. \n",
    "* an initial random topography\n",
    "* a water_erodibility coefficient of 2e-4\n",
    "* a regolith_transport_parameter of 0.2\n",
    "* a total model run time of 1e5 years and a step of 2000 years\n",
    "* an uplift rate of 0.002 m/year (sea level stays fixed at ca. 0m) "
   ]
  },
  {
   "cell_type": "markdown",
   "metadata": {},
   "source": [
    "## Example usage\n",
    "\n",
    "There are three additional introductory tutorials.\n",
    "\n",
    "1) [Introduction terrainbento](example_usage/Introduction_to_terrainbento.ipynb)\n",
    "    \n",
    "2) [Introduction to boundary conditions in terrainbento](example_usage/introduction_to_boundary_conditions.ipynb)\n",
    "    \n",
    "3) [Introduction to output writers in terrainbento](example_usage/introduction_to_output_writers.ipynb). \n",
    "    \n",
    "\n",
    "## Example Coupled Models\n",
    "\n",
    "This section provides links to five notebooks that show the usage of five example models provided in terrainbento. In each of these notebooks we provide the governing equation(s) for the model, initialize and run the model, make a slope-area plot, save a NetCDF of the final topography, and plot a image of the final topography. \n",
    "\n",
    "1) [Basic](coupled_process_elements/model_basic_steady_solution.ipynb) the simplest landscape evolution model in the terrainbento package.\n",
    "\n",
    "2) [BasicVm](coupled_process_elements/model_basic_var_m_steady_solution.ipynb) which permits the drainage area exponent to change\n",
    "\n",
    "3) [BasicCh](coupled_process_elements/model_basicCh_steady_solution.ipynb) which uses a non-linear hillslope erosion and transport law\n",
    "\n",
    "4) [BasicVs](coupled_process_elements/model_basicVs_steady_solution.ipynb) which uses variable source area hydrology\n",
    "\n",
    "5) [BasisRt](coupled_process_elements/model_basicRt_steady_solution.ipynb) which allows for two lithologies with different K values\n",
    "\n",
    "6) [RealDEM](coupled_process_elements/model_basic_realDEM.ipynb) Run the basic terrainbento model with a real DEM as initial condition. \n",
    "\n",
    "## Terrainnbento challenge\n",
    "- [Make your own gif](coupled_process_elements/Challenge.ipynb)"
   ]
  }
 ],
 "metadata": {
  "kernelspec": {
   "display_name": "Ivy",
   "language": "python",
   "name": "ivy"
  },
  "language_info": {
   "codemirror_mode": {
    "name": "ipython",
    "version": 3
   },
   "file_extension": ".py",
   "mimetype": "text/x-python",
   "name": "python",
   "nbconvert_exporter": "python",
   "pygments_lexer": "ipython3",
   "version": "3.11.3"
  }
 },
 "nbformat": 4,
 "nbformat_minor": 2
}
