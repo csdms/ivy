{
 "cells": [
  {
   "cell_type": "markdown",
   "metadata": {},
   "source": [
    "![terrainbento logo](../media/terrainbento_logo.png)\n",
    "\n",
    "# Introduction to the terrainbento output writers.\n",
    "\n",
    "\n",
    "## Overview\n",
    "This tutorial shows example usage of the terrainbento output writers. For comprehensive information about all options and defaults, refer to the [documentation](http://terrainbento.readthedocs.io/en/latest/). \n",
    "\n",
    "## Prerequisites\n",
    "This tutorial assumes you have at least skimmed the [terrainbento manuscript](https://www.geosci-model-dev.net/12/1267/2019/) and worked through the [Introduction to terrainbento](http://localhost:8888/notebooks/example_usage/Introduction_to_terrainbento.ipynb) tutorial.\n",
    "\n",
    "\n",
    "### terrainbento output writers\n",
    "\n",
    "By default terrainbento will save a [NetCDF](https://www.unidata.ucar.edu/software/netcdf/) file at equal intervals specified by the ``output_interval`` parameter. For many applications it may be sufficient to run a model, save output, and then open the stack of NetCDFs for postprocessing (we recommend [xarray](http://xarray.pydata.org/en/stable/) and [holoviews](http://holoviews.org) for opening, analyzing, and plotting stacks of NetCDFs in python). \n",
    "\n",
    "If in your application, you want to have additional output written at the ``output_interval`` intervals, you can pass any number of functions or classes that write this ouput to terrainbento. These functions and classes are called **output writers**. There is no limit to what you can do with the output writers. You could use them to make plots to turn into an animation, write diagnostic information about model run time, or calculate an objective function value over time. \n",
    "\n",
    "To make the output writers support as many possible use cases, terrainbento was designed to take any number of functions or classes as output writers. \n",
    "\n",
    "### Reference material\n",
    "If you are not familiar with user defined python functions, consider reviewing [this tutorial](https://www.datacamp.com/community/tutorials/functions-python-tutorial#udf). If you are not familiar with user defined python classes, consider referring to [this tutorial](https://www.digitalocean.com/community/tutorials/how-to-construct-classes-and-define-objects-in-python-3).\n",
    "\n",
    "\n",
    "### Example Usage\n",
    "\n",
    "To begin, we will import the required python modules. "
   ]
  },
  {
   "cell_type": "code",
   "execution_count": null,
   "metadata": {},
   "outputs": [],
   "source": [
    "import os\n",
    "\n",
    "import numpy as np\n",
    "import pandas as pd\n",
    "from terrainbento import Basic\n",
    "\n",
    "np.random.seed(42)\n",
    "\n",
    "import holoviews as hv\n",
    "import matplotlib\n",
    "import matplotlib.pyplot as plt\n",
    "from landlab.plot.imshow import imshow_grid\n",
    "\n",
    "hv.notebook_extension(\"matplotlib\")\n",
    "# Ignore warnings\n",
    "import warnings\n",
    "\n",
    "import imageio\n",
    "\n",
    "warnings.filterwarnings(\"ignore\")\n",
    "\n",
    "# Figure properties\n",
    "%matplotlib inline\n",
    "import panel as pn\n",
    "\n",
    "pn.pane.Matplotlib.tight = True"
   ]
  },
  {
   "cell_type": "markdown",
   "metadata": {},
   "source": [
    "We begin by creating an example user defined output writer function. When a terrainbento model runs the `OutputWriter` function, it will pass the model instance to the output writer. Thus the output writer function must be able to make all required calculations and plots based on the model instance. It is almost always the case that a user will want to write some sort of output -- typically a text file or plot -- each time the output writer is run. \n",
    "\n",
    "A user has the option of appending the output writer output to a file or using the model attributes `model.model_time` or `model.iteration` in the output file name to distinguish it from other files.  \n",
    "\n"
   ]
  },
  {
   "cell_type": "code",
   "execution_count": null,
   "metadata": {},
   "outputs": [],
   "source": [
    "def write_avg_el(model):\n",
    "    # mean elevation\n",
    "    avg = model.z.mean()\n",
    "    fname = \"output/time_avg.txt\"\n",
    "    if os.path.exists(fname) is False:\n",
    "        with open(fname, \"w\") as f:\n",
    "            f.write(\"model_time,avg_el\\n\")\n",
    "\n",
    "    with open(fname, \"a\") as f:\n",
    "        f.write(str(model.model_time) + \", \" + str(avg) + \"\\n\")"
   ]
  },
  {
   "cell_type": "markdown",
   "metadata": {},
   "source": [
    "Next we construct the parameter dictionary we will use to run the model. "
   ]
  },
  {
   "cell_type": "code",
   "execution_count": null,
   "metadata": {},
   "outputs": [],
   "source": [
    "basic_params = {\n",
    "    # create the Clock.\n",
    "    \"clock\": {\"start\": 0, \"step\": 1000, \"stop\": 2e5},\n",
    "    # Create the Grid\n",
    "    \"grid\": {\n",
    "        \"RasterModelGrid\": [\n",
    "            (25, 40),\n",
    "            {\"xy_spacing\": 40},\n",
    "            {\n",
    "                \"fields\": {\n",
    "                    \"node\": {\n",
    "                        \"topographic__elevation\": {\"random\": [{\"where\": \"CORE_NODE\"}]}\n",
    "                    }\n",
    "                }\n",
    "            },\n",
    "        ]\n",
    "    },\n",
    "    # Set up Boundary Handlers\n",
    "    \"boundary_handlers\": {\n",
    "        \"NotCoreNodeBaselevelHandler\": {\n",
    "            \"modify_core_nodes\": True,\n",
    "            \"lowering_rate\": -0.0005,\n",
    "        }\n",
    "    },\n",
    "    # Parameters that control output.\n",
    "    \"output_interval\": 1e4,\n",
    "    \"save_first_timestep\": True,\n",
    "    \"output_prefix\": \"output/model_basic_output_intro_ow1\",\n",
    "    \"fields\": [\"topographic__elevation\"],\n",
    "    # Parameters that control process and rates.\n",
    "    \"water_erodibility\": 0.0001,\n",
    "    \"m_sp\": 0.5,\n",
    "    \"n_sp\": 1.0,\n",
    "    \"regolith_transport_parameter\": 0.01,\n",
    "}"
   ]
  },
  {
   "cell_type": "markdown",
   "metadata": {},
   "source": [
    "Unline the boundary handlers described in [this tutorial](http://localhost:8888/notebooks/example_usage/introduction_to_boundary_conditions.ipynb), we pass the output writer to terrainbento as a keyword argument. \n",
    "\n",
    "After instantiating the model, we run it. "
   ]
  },
  {
   "cell_type": "code",
   "execution_count": null,
   "metadata": {},
   "outputs": [],
   "source": [
    "basic = Basic.from_dict(basic_params, output_writers={\"function\": [write_avg_el]})\n",
    "basic.run()"
   ]
  },
  {
   "cell_type": "markdown",
   "metadata": {},
   "source": [
    "First we will make a plot of the topography. We have evolved some nice valleys and ridges. "
   ]
  },
  {
   "cell_type": "code",
   "execution_count": null,
   "metadata": {},
   "outputs": [],
   "source": [
    "imshow_grid(basic.grid, basic.z)"
   ]
  },
  {
   "cell_type": "markdown",
   "metadata": {},
   "source": [
    "Now that we've run the model we will compile all of the output into a dataframe and plot it. "
   ]
  },
  {
   "cell_type": "markdown",
   "metadata": {},
   "source": [
    "Next we will read in the output we wrote to the file `output/time_avg.txt` using [pandas](https://pandas.pydata.org) and remove the files created by running the model. In your usage you probably won't want to remove these files, but we are doing it so that running the model won't create lots of files in your directory. "
   ]
  },
  {
   "cell_type": "code",
   "execution_count": null,
   "metadata": {},
   "outputs": [],
   "source": [
    "df = pd.read_csv(\"output/time_avg.txt\")\n",
    "ds = basic.to_xarray_dataset(time_unit=\"years\", space_unit=\"meters\")"
   ]
  },
  {
   "cell_type": "markdown",
   "metadata": {},
   "source": [
    "We can look at what is inside of the dataframe. "
   ]
  },
  {
   "cell_type": "code",
   "execution_count": null,
   "metadata": {},
   "outputs": [],
   "source": [
    "df"
   ]
  },
  {
   "cell_type": "code",
   "execution_count": null,
   "metadata": {},
   "outputs": [],
   "source": [
    "df.columns"
   ]
  },
  {
   "cell_type": "markdown",
   "metadata": {},
   "source": [
    "This dataframe shows us the history of drainage density through time. Next we will plot it. "
   ]
  },
  {
   "cell_type": "code",
   "execution_count": null,
   "metadata": {},
   "outputs": [],
   "source": [
    "plt.figure()\n",
    "plt.plot(df.model_time, df.avg_el)\n",
    "plt.xlabel(\"Model Time [years]\")\n",
    "plt.ylabel(\"Mean elevation, m\")\n",
    "plt.show()"
   ]
  },
  {
   "cell_type": "markdown",
   "metadata": {},
   "source": [
    "## Let's make a movie\n",
    "First, we make an image for each output interval."
   ]
  },
  {
   "cell_type": "code",
   "execution_count": null,
   "metadata": {},
   "outputs": [],
   "source": [
    "from landlab import imshow_grid\n",
    "\n",
    "filenames = []\n",
    "curT = 0\n",
    "for i in range(ds.topographic__elevation.shape[0]):\n",
    "    curT += basic.output_interval\n",
    "    filename = \"figures/temp_output.\" + str(i) + \".png\"\n",
    "    imshow_grid(\n",
    "        basic.grid,\n",
    "        ds.topographic__elevation.values[i, :, :],\n",
    "        cmap=\"viridis\",\n",
    "        limits=(0, 25),\n",
    "        output=filename,\n",
    "        plot_name=str(curT) + \" model years\",\n",
    "    )\n",
    "    filenames.append(filename)"
   ]
  },
  {
   "cell_type": "markdown",
   "metadata": {},
   "source": [
    "Finally we compile the images into a gif."
   ]
  },
  {
   "cell_type": "code",
   "execution_count": null,
   "metadata": {},
   "outputs": [],
   "source": [
    "with imageio.get_writer(\"figures/terrainbento_example.gif\", mode=\"I\") as writer:\n",
    "    for filename in filenames:\n",
    "        image = imageio.imread(filename)\n",
    "        writer.append_data(image)\n",
    "        os.remove(filename)"
   ]
  },
  {
   "cell_type": "markdown",
   "metadata": {},
   "source": [
    "Delete data"
   ]
  },
  {
   "cell_type": "code",
   "execution_count": null,
   "metadata": {},
   "outputs": [],
   "source": [
    "basic.remove_output_netcdfs()\n",
    "os.remove(\"output/time_avg.txt\")"
   ]
  },
  {
   "cell_type": "markdown",
   "metadata": {},
   "source": [
    "## Next Steps\n",
    "\n",
    "- [Welcome page](../Welcome_to_TerrainBento.ipynb)\n",
    "\n",
    "\n",
    "- There are three additional introductory tutorials: \n",
    "\n",
    "    1) [Introduction terrainbento](Introduction_to_terrainbento.ipynb) \n",
    "    \n",
    "    2) [Introduction to boundary conditions in terrainbento](introduction_to_boundary_conditions.ipynb)\n",
    "    \n",
    "    3) **This Notebook**: [Introduction to output writers in terrainbento](introduction_to_output_writers.ipynb). \n",
    "    \n",
    "    \n",
    "- Five examples of steady state behavior in coupled process models can be found in the following notebooks:\n",
    "\n",
    "    1) [Basic](../coupled_process_elements/model_basic_steady_solution.ipynb) the simplest landscape evolution model in the terrainbento package.\n",
    "\n",
    "    2) [BasicVm](../coupled_process_elements/model_basic_var_m_steady_solution.ipynb) which permits the drainage area exponent to change\n",
    "\n",
    "    3) [BasicCh](../coupled_process_elements/model_basicCh_steady_solution.ipynb) which uses a non-linear hillslope erosion and transport law\n",
    "\n",
    "    4) [BasicVs](../coupled_process_elements/model_basicVs_steady_solution.ipynb) which uses variable source area hydrology\n",
    "\n",
    "    5) [BasisRt](../coupled_process_elements/model_basicRt_steady_solution.ipynb) which allows for two lithologies with different K values\n",
    "    \n",
    "    6) [RealDEM](../coupled_process_elements/model_basic_realDEM.ipynb) Run the basic terrainbento model with a real DEM as initial condition. "
   ]
  }
 ],
 "metadata": {
  "kernelspec": {
   "display_name": "Ivy",
   "language": "python",
   "name": "ivy"
  },
  "language_info": {
   "codemirror_mode": {
    "name": "ipython",
    "version": 3
   },
   "file_extension": ".py",
   "mimetype": "text/x-python",
   "name": "python",
   "nbconvert_exporter": "python",
   "pygments_lexer": "ipython3",
   "version": "3.11.3"
  }
 },
 "nbformat": 4,
 "nbformat_minor": 2
}
