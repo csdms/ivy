{
 "cells": [
  {
   "cell_type": "markdown",
   "metadata": {},
   "source": [
    "![terrainbento logo](../media/terrainbento_logo.png)\n",
    "\n",
    "\n",
    "# Introduction to terrainbento\n",
    "\n",
    "\n",
    "## Overview\n",
    "This tutorial shows example usage of terrainbento and highlights some of its features. For comprehensive information about all options and defaults, refer to the [documentation](http://terrainbento.readthedocs.io/en/latest/). \n",
    "\n",
    "## Prerequisites\n",
    "This tutorial assumes you have at least skimmed the [terrainbento manuscript](https://www.geosci-model-dev.net/12/1267/2019/).\n",
    "\n",
    "### terrainbento base classes\n",
    "\n",
    "All aspects setting up the Landlab model grid and boundary conditions are handled by the three model base classes. [**ErosionModel**](http://terrainbento.readthedocs.io/en/latest/source/terrainbento.base_class.erosion_model.html) handles functionality common to all models, [**StochasticErosionModel**](http://terrainbento.readthedocs.io/en/latest/source/terrainbento.base_class.stochastic_erosion_model.html) handles additional routines requierd by **St** models which include stochastic discharge, and [**TwoLithologyErosionModel**](http://terrainbento.readthedocs.io/en/latest/source/terrainbento.base_class.two_lithology_erosion_model.html) handles setting up the lithology contact boundary used by all **Rt** models.\n",
    "\n",
    "### Creating a terrainbento model\n",
    "There are three ways to create a terrainbento model. \n",
    "\n",
    "1. All necessary inputs can be passed to the `__init__` method of the terrainbento model. \n",
    "2. The model can be constructed from a [dictionary](https://docs.python.org/3/tutorial/datastructures.html#dictionaries)\n",
    "3. A dictionary can be read from a [YAML](http://yaml.org/start.html) style input file. \n",
    "\n",
    "In this tutorial we will use option 2. \n",
    "\n",
    "The parameter dictionary may include information to control a **BoundaryHandler**, a model class used to modify the boundary conditions of a model during run time. A more comprehensive introduction to using **BoundaryHandlers** is located in [this tutorial](http://localhost:8888/notebooks/example_usage/introduction_to_boundary_conditions.ipynb). It will also specify the **Precipitator** and the **RunoffGenerator**. If the default values are used for these two inputs, the model will use drainage area in place of discharge. \n",
    "\n",
    "### Model output options\n",
    "By default terrainbento will save a [NetCDF](https://www.unidata.ucar.edu/software/netcdf/) file at equal intervals specified by the ``output_interval`` parameter. For many applications it may be sufficient to run a model, save output, and then open the stack of NetCDFs for postprocessing (we recommend [xarray](http://xarray.pydata.org/en/stable/) and [holoviews](http://holoviews.org) for opening, analyzing, and plotting stacks of NetCDFs in python). \n",
    "\n",
    "If in your application, you want to have additional output written at the ``output_interval`` intervals, you can pass any number of functions or classes that write this ouput to terrainbento. These functions and classes are called **OutputWriters** and a detailed desription of their use can be found in [this tutorial](http://localhost:8888/notebooks/example_usage/introduction_to_output_writers.ipynb).\n",
    "\n",
    "### terrainbento and units\n",
    "terrainbento assumes that you are consistent with your length and time units. The length unit is implied by the units of the model dx spacing and the time unit is implied by the units of the run duration and dt. \n",
    "\n",
    "## Examples\n",
    "In the following examples we will use the [**Basic** model](https://terrainbento.readthedocs.io/en/latest/source/terrainbento.derived_models.model_basic.html) and the [**BasicVs** model](https://terrainbento.readthedocs.io/en/latest/source/terrainbento.derived_models.model_basicVs.html).\n",
    "\n",
    "Model **Basic** uses stream power and linear diffusion and has the following governing equation:\n",
    "\n",
    "$\\frac{\\partial \\eta}{\\partial t} = - KQ^{m}S^{n} + D\\nabla^2 \\eta$\n",
    "\n",
    "where $K$ and $D$ are constants, $Q$ is discharge, $S$ is local slope, and $\\eta$ is the topography. Other models modify Basic by adding or changing a process component and changing the governing equation. \n",
    "\n",
    "Model **BasicVs** has a slightly different governing equation. \n",
    "\n",
    "$\\frac{\\partial \\eta}{\\partial t} = - K R_m A_{eff}^{m}S^{n} + D\\nabla^2 \\eta$\n",
    "\n",
    "where\n",
    "\n",
    "$A_{eff} = A e^{-\\alpha S / A}$\n",
    "\n",
    "and  \n",
    "\n",
    "$\\alpha = \\frac{K_{sat}  H  dx}{R_m}$.\n",
    "\n",
    "Here $A$ is the local upstream drainage area, $R_m$ is the average recharge (or precipitation) rate, $A_{eff}$ is the effective drainage area, $K_{sat}$ is the hydraulic conductivity, $H$ is the soil thickness, and $dx$ is the grid cell width. $\\alpha$ is a courtesy parameter called the \"saturation area scale\" that lumps together many constants.\n",
    "\n",
    "Refer to [Barnhart et al. (2019)](https://www.geosci-model-dev.net/12/1267/2019/) for the definition of all symbols.\n",
    "\n",
    "To create an instance of a terrainbento model we must first create an input parameter dictionary. In this tutorial, we will not cover all possible options for instatiating a  model. Refer to the [**ErosionModel** documentation](http://terrainbento.readthedocs.io/en/latest/source/terrainbento.base_class.erosion_model.html) for a comprehensive list of options. \n",
    "\n",
    "First we will import all the modules we need. "
   ]
  },
  {
   "cell_type": "code",
   "execution_count": null,
   "metadata": {},
   "outputs": [],
   "source": [
    "import numpy as np\n",
    "\n",
    "np.random.seed(42)\n",
    "\n",
    "import matplotlib\n",
    "import matplotlib.pyplot as plt\n",
    "\n",
    "%matplotlib inline\n",
    "\n",
    "import warnings\n",
    "\n",
    "warnings.filterwarnings(\"ignore\")\n",
    "\n",
    "import holoviews as hv\n",
    "\n",
    "hv.notebook_extension(\"matplotlib\")\n",
    "\n",
    "from terrainbento import Basic, BasicVs"
   ]
  },
  {
   "cell_type": "markdown",
   "metadata": {},
   "source": [
    "Next we will create the parameter dictionary needed to instantiate the **Basic** model. All parameters used are specified in this notebook block. Refer to the base class and individual model documentation for required parameters. "
   ]
  },
  {
   "cell_type": "code",
   "execution_count": null,
   "metadata": {},
   "outputs": [],
   "source": [
    "basic_params = {\n",
    "    # create the Clock.\n",
    "    \"clock\": {\"start\": 0, \"step\": 1000, \"stop\": 2e5},\n",
    "    # Create the Grid\n",
    "    \"grid\": {\n",
    "        \"RasterModelGrid\": [\n",
    "            (25, 40),\n",
    "            {\"xy_spacing\": 40},\n",
    "            {\n",
    "                \"fields\": {\n",
    "                    \"node\": {\n",
    "                        \"topographic__elevation\": {\"random\": [{\"where\": \"CORE_NODE\"}]}\n",
    "                    }\n",
    "                }\n",
    "            },\n",
    "        ]\n",
    "    },\n",
    "    # Set up Boundary Handlers\n",
    "    \"boundary_handlers\": {\n",
    "        \"NotCoreNodeBaselevelHandler\": {\n",
    "            \"modify_core_nodes\": True,\n",
    "            \"lowering_rate\": -0.001,\n",
    "        }\n",
    "    },\n",
    "    # Parameters that control output.\n",
    "    \"output_interval\": 5e3,\n",
    "    \"save_first_timestep\": True,\n",
    "    \"output_prefix\": \"model_basic_output\",\n",
    "    \"fields\": [\"topographic__elevation\"],\n",
    "    # Parameters that control process and rates.\n",
    "    \"water_erodibility\": 0.00005,\n",
    "    \"m_sp\": 0.5,\n",
    "    \"n_sp\": 1.0,\n",
    "    \"regolith_transport_parameter\": 0.01,\n",
    "}"
   ]
  },
  {
   "cell_type": "markdown",
   "metadata": {},
   "source": [
    "Performing list(d) on a dictionary returns a list of all the keys used in the dictionary"
   ]
  },
  {
   "cell_type": "code",
   "execution_count": null,
   "metadata": {},
   "outputs": [],
   "source": [
    "list(basic_params)"
   ]
  },
  {
   "cell_type": "markdown",
   "metadata": {},
   "source": [
    "You see that clock is listed as a sub-directory. Can you find a way to print out the key:value pairs of clock? \n",
    "[**Some additional info**](https://docs.python.org/3/tutorial/datastructures.html#dictionaries)"
   ]
  },
  {
   "cell_type": "markdown",
   "metadata": {},
   "source": [
    "Here we've used the ``NotCoreNodeBaselevelHander``. This is a class in terrainbento that modifies the model boundary conditions. The documentation for this baselevel handler is located [here](https://terrainbento.readthedocs.io/en/latest/source/terrainbento.boundary_handlers.not_core_node_baselevel_handler.html), a tutorial about this and other terrainbento baselevel handlers is located [here](http://localhost:8888/notebooks/example_usage/introduction_to_boundary_conditions.ipynb). "
   ]
  },
  {
   "cell_type": "code",
   "execution_count": null,
   "metadata": {},
   "outputs": [],
   "source": [
    "basic = Basic.from_dict(basic_params)\n",
    "basic.run()"
   ]
  },
  {
   "cell_type": "markdown",
   "metadata": {},
   "source": [
    "Really! That is all you need to do to run the model. NetCDF output of the model was saved at timesteps specified by `output_interval`. If you want to have other output saved, see the [terrainbento OutputWriter tutorial](http://localhost:8888/notebooks/example_usage/introduction_to_output_writers.ipynb).  \n",
    "\n",
    "In the remainder of the tutorial we will first make a plot, and the highlight the multi-model functionality of terrainbento. \n",
    "\n",
    "\n",
    "### Making a plot\n",
    "\n",
    "terrainbento has a function called `to_xarray_dataset` that will take all the model output and combine it into one xarray datset. \n",
    "[More info on xarray datasets](http://xarray.pydata.org/en/stable/data-structures.html)"
   ]
  },
  {
   "cell_type": "code",
   "execution_count": null,
   "metadata": {},
   "outputs": [],
   "source": [
    "ds = basic.to_xarray_dataset(time_unit=\"years\", space_unit=\"meters\")"
   ]
  },
  {
   "cell_type": "markdown",
   "metadata": {},
   "source": [
    "We can look at what is in this xarray dataset. Because we only asked to save the field `topographic__elevation`, it is the only data variable. It has x, y, and time coordinates cooresponding to the x and y model grid space, and the timestep saved by the parameter `output_interval`."
   ]
  },
  {
   "cell_type": "code",
   "execution_count": null,
   "metadata": {},
   "outputs": [],
   "source": [
    "ds"
   ]
  },
  {
   "cell_type": "markdown",
   "metadata": {},
   "source": [
    "To use Holoviews to make a plot we first create a holoviews dataset. "
   ]
  },
  {
   "cell_type": "code",
   "execution_count": null,
   "metadata": {},
   "outputs": [],
   "source": [
    "hvds_topo = hv.Dataset(ds.topographic__elevation)"
   ]
  },
  {
   "cell_type": "markdown",
   "metadata": {},
   "source": [
    "Then we make a plot. Here we are will make an image plot with a time slider. Holoviews will render each image before showing the result so executing this cell may take a few moments. "
   ]
  },
  {
   "cell_type": "code",
   "execution_count": null,
   "metadata": {},
   "outputs": [],
   "source": [
    "topo = hvds_topo.to(hv.Image, [\"x\", \"y\"], label=\"Basic\").options(\n",
    "    interpolation=\"bilinear\", cmap=\"viridis\", colorbar=True\n",
    ")\n",
    "topo.opts(\n",
    "    fontsize={\n",
    "        \"title\": 10,\n",
    "        \"labels\": 10,\n",
    "        \"xticks\": 10,\n",
    "        \"yticks\": 10,\n",
    "        \"cticks\": 10,\n",
    "    }\n",
    ")\n",
    "topo"
   ]
  },
  {
   "cell_type": "markdown",
   "metadata": {},
   "source": [
    "As you can see we have evolved some topography. \n",
    "\n",
    "### Comparing multiple models\n",
    "\n",
    "terrainbento was designed to make it easy to compare alternative model structures in lanscape evolution modeling. So next we will compare the **Basic** model with a **BasicVs** model. \n",
    "\n",
    "We need to add the new parameters required by **BasicVs** and we will change the name of the output file. "
   ]
  },
  {
   "cell_type": "code",
   "execution_count": null,
   "metadata": {},
   "outputs": [],
   "source": [
    "basicvs_params = {\n",
    "    # create the Clock.\n",
    "    \"clock\": {\"start\": 0, \"step\": 1000, \"stop\": 2e5},\n",
    "    # Create the Grid.\n",
    "    \"grid\": {\n",
    "        \"RasterModelGrid\": [\n",
    "            (25, 40),\n",
    "            {\"xy_spacing\": 40},\n",
    "            {\n",
    "                \"fields\": {\n",
    "                    \"node\": {\n",
    "                        \"topographic__elevation\": {\"random\": [{\"where\": \"CORE_NODE\"}]},\n",
    "                        \"soil__depth\": {\"constant\": [{\"value\": 1.0}]},\n",
    "                    }\n",
    "                }\n",
    "            },\n",
    "        ]\n",
    "    },\n",
    "    # Set up Boundary Handlers\n",
    "    \"boundary_handlers\": {\n",
    "        \"NotCoreNodeBaselevelHandler\": {\n",
    "            \"modify_core_nodes\": True,\n",
    "            \"lowering_rate\": -0.001,\n",
    "        }\n",
    "    },\n",
    "    # Set up Precipitator\n",
    "    \"precipitator\": {\"UniformPrecipitator\": {\"rainfall_flux\": 0.01}},\n",
    "    # Parameters that control output.\n",
    "    \"output_interval\": 5e3,\n",
    "    \"save_first_timestep\": True,\n",
    "    \"output_prefix\": \"model_basicvs_output\",\n",
    "    \"fields\": [\"topographic__elevation\"],\n",
    "    # Parameters that control process and rates.\n",
    "    \"water_erodibility\": 0.00005,\n",
    "    \"m_sp\": 0.5,\n",
    "    \"n_sp\": 1.0,\n",
    "    \"regolith_transport_parameter\": 0.01,\n",
    "    \"hydraulic_conductivity\": 15,\n",
    "}\n",
    "\n",
    "basicvs = BasicVs.from_dict(basicvs_params)\n",
    "basicvs.run()\n",
    "ds2 = basicvs.to_xarray_dataset(time_unit=\"years\", space_unit=\"meters\")\n",
    "hvds_topo2 = hv.Dataset(ds2.topographic__elevation, label=\"Basic\")"
   ]
  },
  {
   "cell_type": "markdown",
   "metadata": {},
   "source": [
    "Now that the model has run, we will make a plot with both the **Basic** and **BasicVs** results. Note that the color axis limits are different in the two plot panels. "
   ]
  },
  {
   "cell_type": "code",
   "execution_count": null,
   "metadata": {},
   "outputs": [],
   "source": [
    "topo2 = hvds_topo2.to(hv.Image, [\"x\", \"y\"], label=\"BasicVs\").options(\n",
    "    interpolation=\"bilinear\", cmap=\"viridis\", colorbar=True\n",
    ")"
   ]
  },
  {
   "cell_type": "code",
   "execution_count": null,
   "metadata": {},
   "outputs": [],
   "source": [
    "topo = topo.redim.range(topographic__elevation=(0, 200))\n",
    "topo2 = topo2.redim.range(topographic__elevation=(0, 200))\n",
    "topo2.opts(\n",
    "    fontsize={\n",
    "        \"title\": 10,\n",
    "        \"labels\": 10,\n",
    "        \"xticks\": 10,\n",
    "        \"yticks\": 10,\n",
    "        \"cticks\": 10,\n",
    "    }\n",
    ")\n",
    "topo + topo2"
   ]
  },
  {
   "cell_type": "markdown",
   "metadata": {},
   "source": [
    "As you can see, the landscape created by the **Basic** model is quite different from the **BasicVs** model. This makes sense as the effective drainage area of **BasicVs** is different from the **Basic** model. One thing to think about is how you could quantitatively compare these two output landscapes. \n",
    "\n",
    "Finally we can use the model function `remove_output_netcdfs` to remove the files created by running the model. "
   ]
  },
  {
   "cell_type": "code",
   "execution_count": null,
   "metadata": {},
   "outputs": [],
   "source": [
    "del topo, hvds_topo, topo2, hvds_topo2\n",
    "ds.close()\n",
    "ds2.close()\n",
    "basic.remove_output_netcdfs()\n",
    "basicvs.remove_output_netcdfs()"
   ]
  },
  {
   "cell_type": "markdown",
   "metadata": {},
   "source": [
    "## Challenge \n",
    "\n",
    "Create and compare two Basic models. \n",
    "Model 1 has the following parameter values\n",
    "- \"water_erodibility\": 0.00005,\n",
    "- \"m_sp\": 0.5,\n",
    "- \"n_sp\": 1.0,\n",
    "- \"regolith_transport_parameter\": 0.1,\n",
    "\n",
    "Model 2 has the following parameter values\n",
    "- \"water_erodibility\": 0.00005,\n",
    "- \"m_sp\": 0.5,\n",
    "- \"n_sp\": 1.0,\n",
    "- \"regolith_transport_parameter\": 0.001,\n"
   ]
  },
  {
   "cell_type": "markdown",
   "metadata": {},
   "source": [
    "## Next Steps\n",
    "\n",
    "- We recommend you review the [terrainbento manuscript](https://www.geosci-model-dev.net/12/1267/2019/).\n",
    "\n",
    "- There are three additional introductory tutorials: \n",
    "\n",
    "    1) **This Notebook**: [Introduction terrainbento](Introduction_to_terrainbento.ipynb) \n",
    "    \n",
    "    2) [Introduction to boundary conditions in terrainbento](introduction_to_boundary_conditions.ipynb)\n",
    "    \n",
    "    3) [Introduction to output writers in terrainbento](introduction_to_output_writers.ipynb). \n",
    "    \n",
    "    \n",
    "- Five examples of steady state behavior in coupled process models can be found in the following notebooks:\n",
    "\n",
    "    1) [Basic](../coupled_process_elements/model_basic_steady_solution.ipynb) the simplest landscape evolution model in the terrainbento package.\n",
    "\n",
    "    2) [BasicVm](../coupled_process_elements/model_basic_var_m_steady_solution.ipynb) which permits the drainage area exponent to change\n",
    "\n",
    "    3) [BasicCh](../coupled_process_elements/model_basicCh_steady_solution.ipynb) which uses a non-linear hillslope erosion and transport law\n",
    "\n",
    "    4) [BasicVs](../coupled_process_elements/model_basicVs_steady_solution.ipynb) which uses variable source area hydrology\n",
    "\n",
    "    5) [BasisRt](../coupled_process_elements/model_basicRt_steady_solution.ipynb) which allows for two lithologies with different K values"
   ]
  }
 ],
 "metadata": {
  "kernelspec": {
   "display_name": "Ivy",
   "language": "python",
   "name": "ivy"
  },
  "language_info": {
   "codemirror_mode": {
    "name": "ipython",
    "version": 3
   },
   "file_extension": ".py",
   "mimetype": "text/x-python",
   "name": "python",
   "nbconvert_exporter": "python",
   "pygments_lexer": "ipython3",
   "version": "3.8.4"
  }
 },
 "nbformat": 4,
 "nbformat_minor": 2
}
