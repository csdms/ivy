{
 "cells": [
  {
   "cell_type": "markdown",
   "metadata": {},
   "source": [
    "![terrainbento logo](../media/terrainbento_logo.png)\n",
    "\n",
    "\n",
    "# Introduction to boundary conditions in terrainbento.\n",
    "\n",
    "\n",
    "## Overview\n",
    "This tutorial shows example usage of the terrainbento boundary handlers. For comprehensive information about all options and defaults, refer to the [documentation](http://terrainbento.readthedocs.io/en/latest/). \n",
    "\n",
    "## Prerequisites\n",
    "This tutorial assumes you have at least skimmed the [terrainbento manuscript](https://www.geosci-model-dev.net/12/1267/2019/) and worked through the [Introduction to terrainbento](http://localhost:8888/notebooks/example_usage/Introduction_to_terrainbento.ipynb) tutorial.\n",
    "\n",
    "### terrainbento boundary handlers\n",
    "terrainbento includes five boundary handlers designed to make it easier to treat different model run boundary conditions. Four boundary handlers modify the model grid in order to change the base level the model sees. The final one calculates how changes in precipitation distribution statistics change the value of erodibility by water. Hyperlinks in the list below go to the documentation for each of the boundary condition handlers. \n",
    "\n",
    "1. [`CaptureNodeBaselevelHandler`](https://terrainbento.readthedocs.io/en/latest/source/terrainbento.boundary_handlers.capture_node_baselevel_handler.html?highlight=capture%20node) implements external drainage capture. \n",
    "2. [`SingleNodeBaselevelHandler`](https://terrainbento.readthedocs.io/en/latest/source/terrainbento.boundary_handlers.single_node_baselevel_handler.html?highlight=SingleNodeBaselevelHandler) modifies the elevation of one model grid node, intended to be the outlet of a modeled watershed. \n",
    "3. [`NotCoreNodeBaselevelHandler`](https://terrainbento.readthedocs.io/en/latest/source/terrainbento.boundary_handlers.not_core_node_baselevel_handler.html?highlight=NotCoreNodeBaselevelHandler) either increments all the core nodes, or all the not-core nodes up or down. \n",
    "4. [`GenericFuncBaselevelHandler`](https://terrainbento.readthedocs.io/en/latest/source/terrainbento.boundary_handlers.generic_function_baselevel_handler.html?highlight=GenericFuncBaselevelHandler) is a generic boundary condition handler that modifies the model grid based on a user specified function of the model grid and model time. \n",
    "5. [`PrecipChanger`](https://terrainbento.readthedocs.io/en/latest/source/terrainbento.boundary_handlers.precip_changer.html?highlight=PrecipChanger) modifies precipitation distribution parameters (in **St** models) or erodibility by water (all other models). \n",
    "\n",
    "If you have additional questions related to using the boundary handlers or your research requires additonal tools to handle boundary conditions, please let us know by making an [Issue on GitHub](https://github.com/TerrainBento/terrainbento/issues). \n",
    "\n",
    "In the `SingleNodeBaselevelHandler` and the `NotCoreNodeBaselevelHandler`, rate of baselevel fall at a single node or at all not-core model grid nodes can be specified as a constant rate or a time-elevation history. These and other options are described in the documentation. Note that a model instance can have more than one boundary handler at a time.\n",
    "\n",
    "The swiss-army knife of boundary condition handling is the `GenericFuncBaselevelHandler` so we will focus on it today. \n",
    "\n",
    "### Example Usage\n",
    "\n",
    "To begin, we will import the required python modules. "
   ]
  },
  {
   "cell_type": "code",
   "execution_count": null,
   "metadata": {},
   "outputs": [],
   "source": [
    "import numpy as np\n",
    "\n",
    "np.random.seed(42)\n",
    "\n",
    "import matplotlib\n",
    "import matplotlib.pyplot as plt\n",
    "\n",
    "%matplotlib inline\n",
    "\n",
    "import warnings\n",
    "\n",
    "warnings.filterwarnings(\"ignore\")\n",
    "\n",
    "import holoviews as hv\n",
    "\n",
    "hv.notebook_extension(\"matplotlib\")\n",
    "\n",
    "from terrainbento import Basic"
   ]
  },
  {
   "cell_type": "markdown",
   "metadata": {},
   "source": [
    "Next we will create the parameter dictionary needed to instantiate the Basic model. All parameters used are specified in this notebook block. Refer to the base class and individual model documentation for required parameters. Let's start with an initial topo of 1000m and drop all the baselevel nodes. "
   ]
  },
  {
   "cell_type": "code",
   "execution_count": null,
   "metadata": {},
   "outputs": [],
   "source": [
    "basic_params = {\n",
    "    # create the Clock.\n",
    "    \"clock\": {\"start\": 0, \"step\": 1000, \"stop\": 2e5},\n",
    "    # Create the Grid\n",
    "    \"grid\": {\n",
    "        \"RasterModelGrid\": [\n",
    "            (25, 40),\n",
    "            {\"xy_spacing\": 40},\n",
    "            {\n",
    "                \"fields\": {\n",
    "                    \"node\": {\n",
    "                        \"topographic__elevation\": {\n",
    "                            \"random\": [{\"where\": \"CORE_NODE\"}],\n",
    "                            \"constant\": [{\"value\": 1000.0}],\n",
    "                        }\n",
    "                    }\n",
    "                }\n",
    "            },\n",
    "        ]\n",
    "    },\n",
    "    # Set up Boundary Handlers\n",
    "    \"boundary_handlers\": {\"NotCoreNodeBaselevelHandler\": {\"lowering_rate\": -0.001}},\n",
    "    # Parameters that control output.\n",
    "    \"output_interval\": 1e4,\n",
    "    \"save_first_timestep\": True,\n",
    "    \"output_prefix\": \"model_basic_output_basicBC1\",\n",
    "    \"fields\": [\"topographic__elevation\"],\n",
    "    # Parameters that control process and rates.\n",
    "    \"water_erodibility\": 0.00005,\n",
    "    \"m_sp\": 0.5,\n",
    "    \"n_sp\": 1.0,\n",
    "    \"regolith_transport_parameter\": 0.00001,\n",
    "}"
   ]
  },
  {
   "cell_type": "code",
   "execution_count": null,
   "metadata": {},
   "outputs": [],
   "source": [
    "basic = Basic.from_dict(basic_params)\n",
    "basic.run()"
   ]
  },
  {
   "cell_type": "code",
   "execution_count": null,
   "metadata": {},
   "outputs": [],
   "source": [
    "ds = basic.to_xarray_dataset(time_unit=\"years\", space_unit=\"meters\")"
   ]
  },
  {
   "cell_type": "code",
   "execution_count": null,
   "metadata": {},
   "outputs": [],
   "source": [
    "hvds_topo = hv.Dataset(ds.topographic__elevation)"
   ]
  },
  {
   "cell_type": "code",
   "execution_count": null,
   "metadata": {},
   "outputs": [],
   "source": [
    "topo = hvds_topo.to(hv.Image, [\"x\", \"y\"], label=\"Basic\").options(\n",
    "    interpolation=\"bilinear\", cmap=\"viridis\", colorbar=True\n",
    ")\n",
    "topo.opts(\n",
    "    fontsize={\n",
    "        \"title\": 10,\n",
    "        \"labels\": 10,\n",
    "        \"xticks\": 10,\n",
    "        \"yticks\": 10,\n",
    "        \"cticks\": 10,\n",
    "    }\n",
    ")\n",
    "topo"
   ]
  },
  {
   "cell_type": "markdown",
   "metadata": {},
   "source": [
    "Finally we remove the xarray datasets from and use the model function remove_output_netcdfs to remove the files created by running the model. "
   ]
  },
  {
   "cell_type": "code",
   "execution_count": null,
   "metadata": {},
   "outputs": [],
   "source": [
    "ds.close()\n",
    "basic.remove_output_netcdfs()"
   ]
  },
  {
   "cell_type": "markdown",
   "metadata": {},
   "source": [
    "Now, let's implement a situation where start from zero topography and lift things up. "
   ]
  },
  {
   "cell_type": "code",
   "execution_count": null,
   "metadata": {},
   "outputs": [],
   "source": [
    "basic_params2 = {\n",
    "    # create the Clock.\n",
    "    \"clock\": {\"start\": 0, \"step\": 1000, \"stop\": 2e5},\n",
    "    # Create the Grid\n",
    "    \"grid\": {\n",
    "        \"RasterModelGrid\": [\n",
    "            (25, 40),\n",
    "            {\"xy_spacing\": 40},\n",
    "            {\n",
    "                \"fields\": {\n",
    "                    \"node\": {\n",
    "                        \"topographic__elevation\": {\n",
    "                            \"random\": [{\"where\": \"CORE_NODE\"}],\n",
    "                            \"constant\": [{\"value\": 0.0}],\n",
    "                        }\n",
    "                    }\n",
    "                }\n",
    "            },\n",
    "        ]\n",
    "    },\n",
    "    # Set up Boundary Handlers\n",
    "    \"boundary_handlers\": {\n",
    "        \"NotCoreNodeBaselevelHandler\": {\n",
    "            \"modify_core_nodes\": True,\n",
    "            \"lowering_rate\": -0.001,\n",
    "        }\n",
    "    },\n",
    "    # Parameters that control output.\n",
    "    \"output_interval\": 1e4,\n",
    "    \"save_first_timestep\": True,\n",
    "    \"output_prefix\": \"model_basic_output_basicBC2\",\n",
    "    \"fields\": [\"topographic__elevation\"],\n",
    "    # Parameters that control process and rates.\n",
    "    \"water_erodibility\": 0.00005,\n",
    "    \"m_sp\": 0.5,\n",
    "    \"n_sp\": 1.0,\n",
    "    \"regolith_transport_parameter\": 0.00001,\n",
    "}"
   ]
  },
  {
   "cell_type": "code",
   "execution_count": null,
   "metadata": {},
   "outputs": [],
   "source": [
    "basic2 = Basic.from_dict(basic_params2)\n",
    "basic2.run()\n",
    "\n",
    "ds2 = basic2.to_xarray_dataset(time_unit=\"years\", space_unit=\"meters\")\n",
    "\n",
    "hvds_topo2 = hv.Dataset(ds2.topographic__elevation)\n",
    "\n",
    "topo2 = hvds_topo2.to(hv.Image, [\"x\", \"y\"], label=\"Basic\").options(\n",
    "    interpolation=\"bilinear\", cmap=\"viridis\", colorbar=True\n",
    ")\n",
    "topo2.opts(\n",
    "    fontsize={\n",
    "        \"title\": 10,\n",
    "        \"labels\": 10,\n",
    "        \"xticks\": 10,\n",
    "        \"yticks\": 10,\n",
    "        \"cticks\": 10,\n",
    "    }\n",
    ")\n",
    "topo2"
   ]
  },
  {
   "cell_type": "code",
   "execution_count": null,
   "metadata": {},
   "outputs": [],
   "source": [
    "ds2.close()\n",
    "basic2.remove_output_netcdfs()"
   ]
  },
  {
   "cell_type": "markdown",
   "metadata": {},
   "source": [
    "Rather than taking a constant baselevel fall rate, the `GenericFuncBoundaryHandler` takes a function. This function is expected to accept two arguments --- the model grid and the elapsed model integration time --- and return an array of size number-of-model-grid-nodes that represents the spatially variable rate of boundary lowering or core-node uplift. \n",
    "\n",
    "For our example we will create a model grid initially at ~1000 m elevation at all grid nodes, then we will progressively drop the model boundary elevations. We will vary the spatial and temporal pattern of boundary elevations such that the boundaries will drop more rapidly at the beginning of the model run than at the end and the boundaries will drop more on the bottom of the model grid domain than on the top.  \n",
    "\n",
    "If you are not familiar with user defined python functions, consider reviewing [this tutorial](https://www.datacamp.com/community/tutorials/functions-python-tutorial#udf). \n",
    "\n",
    "Thus our function will look as follows:"
   ]
  },
  {
   "cell_type": "code",
   "execution_count": null,
   "metadata": {},
   "outputs": [],
   "source": [
    "def dropping_boundary_condition_1(grid, t):\n",
    "    f = 0.007\n",
    "    dzdt = (\n",
    "        -1.0\n",
    "        * (2e5 - t)\n",
    "        / 2e5\n",
    "        * f\n",
    "        * ((grid.y_of_node.max() - grid.y_of_node) / grid.y_of_node.max())\n",
    "    )\n",
    "    return dzdt"
   ]
  },
  {
   "cell_type": "markdown",
   "metadata": {},
   "source": [
    "Importantly, note that this function returns the *rate* at which the boundary will drop, *not* the elevation of the boundary through time. \n",
    "\n",
    "Next we construct the parameter dictionary we need to initialize the terrainbento model. For this example we will just use the **Basic** model. \n",
    "\n",
    "In order to specify that we want to use the `GenericFuncBaselevelHandler` we provide it as a value to the parameter `BoundaryHandlers`. We can provide the parameters the baselevel handler needs directly in the parameter dictionary, or we can create a new sub-dictionary, as is done below. "
   ]
  },
  {
   "cell_type": "code",
   "execution_count": null,
   "metadata": {},
   "outputs": [],
   "source": [
    "import numpy as np\n",
    "\n",
    "np.random.seed(42)\n",
    "basic_params3 = {\n",
    "    # create the Clock.\n",
    "    \"clock\": {\"start\": 0, \"step\": 1000, \"stop\": 2e5},\n",
    "    # Create the Grid.\n",
    "    \"grid\": {\n",
    "        \"RasterModelGrid\": [\n",
    "            (25, 40),\n",
    "            {\"xy_spacing\": 40},\n",
    "            {\n",
    "                \"fields\": {\n",
    "                    \"node\": {\n",
    "                        \"topographic__elevation\": {\n",
    "                            \"random\": [{\"where\": \"CORE_NODE\"}],\n",
    "                            \"constant\": [{\"value\": 1000.0}],\n",
    "                        }\n",
    "                    }\n",
    "                }\n",
    "            },\n",
    "        ]\n",
    "    },\n",
    "    # Set up Boundary Handlers\n",
    "    \"boundary_handlers\": {\n",
    "        \"GenericFuncBaselevelHandler\": {\n",
    "            \"modify_core_nodes\": False,\n",
    "            \"function\": dropping_boundary_condition_1,\n",
    "        }\n",
    "    },\n",
    "    # Parameters that control output.\n",
    "    \"output_interval\": 5e3,\n",
    "    \"save_first_timestep\": True,\n",
    "    \"output_prefix\": \"model_basic_output_intro_bc3\",\n",
    "    \"fields\": [\"topographic__elevation\"],\n",
    "    # Parameters that control process and rates.\n",
    "    \"water_erodibility\": 0.0001,\n",
    "    \"m_sp\": 0.5,\n",
    "    \"n_sp\": 1.0,\n",
    "    \"regolith_transport_parameter\": 0,\n",
    "}"
   ]
  },
  {
   "cell_type": "markdown",
   "metadata": {},
   "source": [
    "Next we create a model instance, run it, create an xarray dataset of the model output, and convert it to the holoviews format. "
   ]
  },
  {
   "cell_type": "code",
   "execution_count": null,
   "metadata": {},
   "outputs": [],
   "source": [
    "basic3 = Basic.from_dict(basic_params3)\n",
    "basic3.run()\n",
    "ds3 = basic3.to_xarray_dataset(time_unit=\"years\", space_unit=\"meters\")\n",
    "hvds_topo3 = hv.Dataset(ds3.topographic__elevation)"
   ]
  },
  {
   "cell_type": "markdown",
   "metadata": {},
   "source": [
    "Finally we create an image of the topography with a slider bar. "
   ]
  },
  {
   "cell_type": "code",
   "execution_count": null,
   "metadata": {},
   "outputs": [],
   "source": [
    "%opts Image style(interpolation='bilinear', cmap='viridis') plot[colorbar=True]\n",
    "topo3 = hvds_topo3.to(hv.Image, [\"x\", \"y\"], label=\"Rate Decreases\")\n",
    "topo3.opts(\n",
    "    fontsize={\n",
    "        \"title\": 10,\n",
    "        \"labels\": 10,\n",
    "        \"xticks\": 10,\n",
    "        \"yticks\": 10,\n",
    "        \"cticks\": 10,\n",
    "    }\n",
    ")\n",
    "topo3"
   ]
  },
  {
   "cell_type": "markdown",
   "metadata": {},
   "source": [
    "### GSA Boundary condition\n",
    "\n",
    "Now let's create an uplift field where some of the core nodes are being uplifted.\n",
    "\n",
    "For our example we will create a model grid initially at 0 m elevation at all grid nodes, then we will progressively uplift the model core nodes. We will assume a constant spatial and temporal pattern of uplift rates for teh core nodes.  \n",
    "\n",
    "If you are not familiar with user defined python functions, consider reviewing [this tutorial](https://www.datacamp.com/community/tutorials/functions-python-tutorial#udf). \n",
    "\n",
    "Our function will look as follows:"
   ]
  },
  {
   "cell_type": "code",
   "execution_count": null,
   "metadata": {},
   "outputs": [],
   "source": [
    "def dropping_boundary_condition_GSA(grid, t):\n",
    "    M = np.zeros((25, 40))\n",
    "    M[6:18, 1:5] = 1\n",
    "    M[12:18, 9:13] = 1\n",
    "    M[3:7, 1:13] = 1\n",
    "    M[18:22, 1:13] = 1\n",
    "    M[11:14, 7:13] = 1\n",
    "    M[6:12, 15:18] = 1\n",
    "    M[12:18, 23:26] = 1\n",
    "    M[3:7, 15:26] = 1\n",
    "    M[10:14, 15:26] = 1\n",
    "    M[18:22, 15:26] = 1\n",
    "    M[3:7, 28:39] = 1\n",
    "    M[10:14, 28:39] = 1\n",
    "    M[3:22, 28:32] = 1\n",
    "    M[3:22, 35:39] = 1\n",
    "    M = np.flipud(M)\n",
    "    dzdt = -0.001 * M.flatten()\n",
    "    return dzdt"
   ]
  },
  {
   "cell_type": "markdown",
   "metadata": {},
   "source": [
    "Next we will make a new model that is exactly the same as the other model but uses the new function and a different output file name and a lower  water_erodibility constant (change to 1e-5)"
   ]
  },
  {
   "cell_type": "code",
   "execution_count": null,
   "metadata": {},
   "outputs": [],
   "source": [
    "basic_gsa_params = {\n",
    "    # create the Clock.\n",
    "    \"clock\": {\"start\": 0, \"step\": 1000, \"stop\": 2e5},\n",
    "    # Create the Grid.\n",
    "    \"grid\": {\n",
    "        \"RasterModelGrid\": [\n",
    "            (25, 40),\n",
    "            {\"xy_spacing\": 40},\n",
    "            {\n",
    "                \"fields\": {\n",
    "                    \"node\": {\n",
    "                        \"topographic__elevation\": {\n",
    "                            \"random\": [{\"where\": \"CORE_NODE\"}],\n",
    "                            \"constant\": [{\"value\": 1000.0}],\n",
    "                        }\n",
    "                    }\n",
    "                }\n",
    "            },\n",
    "        ]\n",
    "    },\n",
    "    # Set up Boundary Handlers\n",
    "    \"boundary_handlers\": {\n",
    "        \"GenericFuncBaselevelHandler\": {\n",
    "            \"modify_core_nodes\": True,\n",
    "            \"function\": dropping_boundary_condition_GSA,\n",
    "        }\n",
    "    },\n",
    "    # Parameters that control output.\n",
    "    \"output_interval\": 5e3,\n",
    "    \"save_first_timestep\": True,\n",
    "    \"output_prefix\": \"model_basic_output_intro_bc_gsa1\",\n",
    "    \"fields\": [\"topographic__elevation\"],\n",
    "    # Parameters that control process and rates.\n",
    "    \"water_erodibility\": 0.0001,\n",
    "    \"m_sp\": 0.5,\n",
    "    \"n_sp\": 1.0,\n",
    "    \"regolith_transport_parameter\": 0,\n",
    "}"
   ]
  },
  {
   "cell_type": "markdown",
   "metadata": {},
   "source": [
    "Next we create a model instance"
   ]
  },
  {
   "cell_type": "code",
   "execution_count": null,
   "metadata": {},
   "outputs": [],
   "source": [
    "basic_gsa = Basic.from_dict(basic_gsa_params)"
   ]
  },
  {
   "cell_type": "markdown",
   "metadata": {},
   "source": [
    "Run it, create an xarray dataset of the model output, and convert it to the holoviews format. "
   ]
  },
  {
   "cell_type": "code",
   "execution_count": null,
   "metadata": {},
   "outputs": [],
   "source": [
    "basic_gsa.run()\n",
    "ds_gsa = basic_gsa.to_xarray_dataset(time_unit=\"years\", space_unit=\"meters\")\n",
    "hvds_topo_gsa = hv.Dataset(ds_gsa.topographic__elevation)"
   ]
  },
  {
   "cell_type": "markdown",
   "metadata": {},
   "source": [
    "Finally we create an image of the topography with a slider bar. "
   ]
  },
  {
   "cell_type": "code",
   "execution_count": null,
   "metadata": {},
   "outputs": [],
   "source": [
    "%opts Image style(interpolation='bilinear', cmap='viridis') plot[colorbar=True]\n",
    "topo_gsa = hvds_topo_gsa.to(hv.Image, [\"x\", \"y\"], label=\"topo_GSA\")\n",
    "topo_gsa.opts(\n",
    "    fontsize={\n",
    "        \"title\": 10,\n",
    "        \"labels\": 10,\n",
    "        \"xticks\": 10,\n",
    "        \"yticks\": 10,\n",
    "        \"cticks\": 10,\n",
    "    }\n",
    ")\n",
    "topo3 + topo_gsa"
   ]
  },
  {
   "cell_type": "markdown",
   "metadata": {},
   "source": [
    "## Challenge -- Contrasting with a slightly different boundary condition\n",
    "\n",
    "If we wanted a different pattern, we would just need to change the function. Try to make run a model run in which the rate of boundary lowering increases through time instead of decreasing through time: "
   ]
  },
  {
   "cell_type": "code",
   "execution_count": null,
   "metadata": {},
   "outputs": [],
   "source": [
    "def dropping_boundary_condition_4(grid, t):\n",
    "    f = 0.007\n",
    "    dzdt = (\n",
    "        -1.0\n",
    "        * (t)\n",
    "        / 2e5\n",
    "        * f\n",
    "        * ((grid.y_of_node.max() - grid.y_of_node) / grid.y_of_node.max())\n",
    "    )\n",
    "    return dzdt"
   ]
  },
  {
   "cell_type": "code",
   "execution_count": null,
   "metadata": {},
   "outputs": [],
   "source": [
    "fourth_model_params = {\n",
    "    # create the Clock.\n",
    "    \"clock\": {\"start\": 0, \"step\": 1000, \"stop\": 2e5},\n",
    "    # Create the Grid.\n",
    "    \"grid\": {\n",
    "        \"RasterModelGrid\": [\n",
    "            (25, 40),\n",
    "            {\"xy_spacing\": 40},\n",
    "            {\n",
    "                \"fields\": {\n",
    "                    \"node\": {\n",
    "                        \"topographic__elevation\": {\n",
    "                            \"random\": [{\"where\": \"CORE_NODE\"}],\n",
    "                            \"constant\": [{\"value\": 1000.0}],\n",
    "                        }\n",
    "                    }\n",
    "                }\n",
    "            },\n",
    "        ]\n",
    "    },\n",
    "    # Set up Boundary Handlers\n",
    "    \"boundary_handlers\": {\n",
    "        \"GenericFuncBaselevelHandler\": {\"function\": dropping_boundary_condition_4}\n",
    "    },\n",
    "    # Parameters that control output.\n",
    "    \"output_interval\": 5e3,\n",
    "    \"save_first_timestep\": True,\n",
    "    \"output_prefix\": \"model_basic_new_4\",\n",
    "    \"fields\": [\"topographic__elevation\"],\n",
    "    # Parameters that control process and rates.\n",
    "    \"water_erodibility\": 0.0001,\n",
    "    \"m_sp\": 0.5,\n",
    "    \"n_sp\": 1.0,\n",
    "    \"regolith_transport_parameter\": 0.01,\n",
    "}\n",
    "\n",
    "basic4 = Basic.from_dict(fourth_model_params)\n",
    "basic4.run()\n",
    "ds4 = basic4.to_xarray_dataset(time_unit=\"years\", space_unit=\"meters\")\n",
    "hvds_topo4 = hv.Dataset(ds4.topographic__elevation)"
   ]
  },
  {
   "cell_type": "code",
   "execution_count": null,
   "metadata": {},
   "outputs": [],
   "source": [
    "%opts Image style(interpolation='bilinear', cmap='viridis') plot[colorbar=True]\n",
    "topo4 = hvds_topo4.to(hv.Image, [\"x\", \"y\"], label=\"Rate Increases\")"
   ]
  },
  {
   "cell_type": "code",
   "execution_count": null,
   "metadata": {},
   "outputs": [],
   "source": [
    "topo4.opts(\n",
    "    fontsize={\n",
    "        \"title\": 10,\n",
    "        \"labels\": 10,\n",
    "        \"xticks\": 10,\n",
    "        \"yticks\": 10,\n",
    "        \"cticks\": 10,\n",
    "    }\n",
    ")\n",
    "topo_gsa + topo3 + topo4"
   ]
  },
  {
   "cell_type": "markdown",
   "metadata": {},
   "source": [
    "As you can see, the landscapes created by the **Basic** model with the two slightly different boundary conditions are different. One thing to think about is what sort of geologic settings might create each of these two alternative boundary conditions and how you could quantitatively compare these two output landscapes. \n",
    "\n",
    "Finally we remove the xarray datasets from and use the model function `remove_output_netcdfs` to remove the files created by running the model. "
   ]
  },
  {
   "cell_type": "code",
   "execution_count": null,
   "metadata": {},
   "outputs": [],
   "source": [
    "del topo, hvds_topo, topo2, hvds_topo2, topo3, hvds_topo3\n",
    "ds_gsa.close()\n",
    "ds3.close()\n",
    "ds4.close()\n",
    "basic_gsa.remove_output_netcdfs()\n",
    "basic3.remove_output_netcdfs()\n",
    "basic4.remove_output_netcdfs()"
   ]
  },
  {
   "cell_type": "markdown",
   "metadata": {},
   "source": [
    "## Next Steps\n",
    "\n",
    "- We recommend you review the [terrainbento manuscript](https://www.geosci-model-dev.net/12/1267/2019/).\n",
    "\n",
    "- There are three additional introductory tutorials: \n",
    "\n",
    "    1) [Introduction terrainbento](Introduction_to_terrainbento.ipynb) \n",
    "    \n",
    "    2) **This Notebook**: [Introduction to boundary conditions in terrainbento](introduction_to_boundary_conditions.ipynb)\n",
    "    \n",
    "    3) [Introduction to output writers in terrainbento](introduction_to_output_writers.ipynb). \n",
    "    \n",
    "    \n",
    "- Five examples of steady state behavior in coupled process models can be found in the following notebooks:\n",
    "\n",
    "    1) [Basic](../coupled_process_elements/model_basic_steady_solution.ipynb) the simplest landscape evolution model in the terrainbento package.\n",
    "\n",
    "    2) [BasicVm](../coupled_process_elements/model_basic_var_m_steady_solution.ipynb) which permits the drainage area exponent to change\n",
    "\n",
    "    3) [BasicCh](../coupled_process_elements/model_basicCh_steady_solution.ipynb) which uses a non-linear hillslope erosion and transport law\n",
    "\n",
    "    4) [BasicVs](../coupled_process_elements/model_basicVs_steady_solution.ipynb) which uses variable source area hydrology\n",
    "\n",
    "    5) [BasisRt](../coupled_process_elements/model_basicRt_steady_solution.ipynb) which allows for two lithologies with different K values"
   ]
  }
 ],
 "metadata": {
  "kernelspec": {
   "display_name": "Ivy",
   "language": "python",
   "name": "ivy"
  },
  "language_info": {
   "codemirror_mode": {
    "name": "ipython",
    "version": 3
   },
   "file_extension": ".py",
   "mimetype": "text/x-python",
   "name": "python",
   "nbconvert_exporter": "python",
   "pygments_lexer": "ipython3",
   "version": "3.8.4"
  }
 },
 "nbformat": 4,
 "nbformat_minor": 2
}
