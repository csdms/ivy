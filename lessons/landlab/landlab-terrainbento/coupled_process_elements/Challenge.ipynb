{
 "cells": [
  {
   "cell_type": "markdown",
   "metadata": {},
   "source": [
    "- create two landscape evolution models: one using the Basic model and one using the Basic model with spatially varying erodibility based on two bedrock units\n",
    "- use boundary conditions as you like\n",
    "- make a holoviews plots and compare the models\n",
    "- make a GIF of both LEMs and post your achievement on Twitter (if you like to, @CSDMS) \n",
    "- Make a plot of the average elevation through time"
   ]
  }
 ],
 "metadata": {
  "kernelspec": {
   "display_name": "Ivy",
   "language": "python",
   "name": "ivy"
  },
  "language_info": {
   "codemirror_mode": {
    "name": "ipython",
    "version": 3
   },
   "file_extension": ".py",
   "mimetype": "text/x-python",
   "name": "python",
   "nbconvert_exporter": "python",
   "pygments_lexer": "ipython3",
   "version": "3.8.4"
  }
 },
 "nbformat": 4,
 "nbformat_minor": 4
}
