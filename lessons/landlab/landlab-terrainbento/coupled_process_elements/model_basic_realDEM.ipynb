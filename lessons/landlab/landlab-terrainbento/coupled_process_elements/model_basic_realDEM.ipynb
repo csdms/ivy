{
 "cells": [
  {
   "cell_type": "markdown",
   "metadata": {},
   "source": [
    "![terrainbento logo](../media/terrainbento_logo.png)\n",
    "\n",
    "\n",
    "# terrainbento model Basic model with real DEM"
   ]
  },
  {
   "cell_type": "markdown",
   "metadata": {},
   "source": [
    "This model shows example usage of the  [Basic](../coupled_process_elements/model_basic_steady_solution.ipynb)  model from the TerrainBento package. However, this time we will download and use an SRTM DEM as the initial condition. "
   ]
  },
  {
   "cell_type": "code",
   "execution_count": null,
   "metadata": {},
   "outputs": [],
   "source": [
    "# import required modules\n",
    "import os\n",
    "\n",
    "import holoviews as hv\n",
    "import matplotlib\n",
    "import matplotlib.pyplot as plt\n",
    "import numpy as np\n",
    "from bmi_topography import Topography\n",
    "from landlab.io import read_esri_ascii\n",
    "from landlab.io.netcdf import write_netcdf\n",
    "from landlab.plot.imshow import imshow_grid\n",
    "from terrainbento import Basic\n",
    "\n",
    "hv.notebook_extension(\"matplotlib\")\n",
    "# Ignore warnings\n",
    "import warnings\n",
    "\n",
    "import imageio\n",
    "\n",
    "warnings.filterwarnings(\"ignore\")\n",
    "\n",
    "# Figure properties\n",
    "%matplotlib inline\n",
    "import panel as pn\n",
    "\n",
    "pn.pane.Matplotlib.tight = True"
   ]
  },
  {
   "cell_type": "markdown",
   "metadata": {},
   "source": [
    "## 1. Download SRTM image using the bmi-topography package\n",
    "### bmi-topography\n",
    "The bmi-topography package is a data component, recently developed by coding wizard Mark Piper. For more information on how to install an use it on your own machine, check out the [bmi-topography repo](https://github.com/csdms/bmi-topography) and this [notebook on bmi-topography](https://github.com/csdms/bmi-topography/blob/main/examples/topography.ipynb).\n",
    "\n",
    "Bmi-topography is a Python library for fetching and caching NASA Shuttle Radar Topography Mission (SRTM) land elevation data using the [OpenTopography](https://opentopography.org/) [REST ](https://portal.opentopography.org/apidocs/) [API](https://www.mulesoft.com/resources/api/what-is-an-api).\n",
    "\n",
    "The bmi-topography library provides access to the following global raster datasets:\n",
    "\n",
    "    SRTM GL3 (90m)\n",
    "    SRTM GL1 (30m)\n",
    "    SRTM GL1 (Ellipsoidal)\n",
    "\n",
    "The library includes an API and a CLI that accept the dataset type, a latitude-longitude bounding box, and the output file format. Data are downloaded from OpenTopography and cached locally. The cache is checked before downloading new data. \n",
    "\n",
    "The bmi-topography API is wrapped with a [Basic Model Interface (BMI)](https://bmi.readthedocs.io/), which provides a standard set of functions for coupling with data or models that also expose a BMI. More information on the BMI can found in its [documentation](https://bmi.readthedocs.io/).\n",
    "\n",
    "\n",
    "### download some data\n",
    "\n",
    "Create an instance of `Topography` using parameters to describe\n",
    "\n",
    "* the type of data requested,\n",
    "* the geographic bounding box of the data,\n",
    "* the file format (we want to save it as an ascii file), and \n",
    "* where to store the file\n",
    "\n",
    "with the following step:\n"
   ]
  },
  {
   "cell_type": "code",
   "execution_count": null,
   "metadata": {},
   "outputs": [],
   "source": [
    "topo = Topography(\n",
    "    dem_type=\"SRTMGL3\",\n",
    "    south=39.97,\n",
    "    north=40.02,\n",
    "    west=-105.32,\n",
    "    east=-105.27,\n",
    "    output_format=\"AAIGrid\",\n",
    "    cache_dir=\"DEMData//\",\n",
    ")"
   ]
  },
  {
   "cell_type": "markdown",
   "metadata": {},
   "source": [
    "While this step sets up a call to the OpenTopography API, it doesn't download the data. Download the data by calling the `fetch` method :"
   ]
  },
  {
   "cell_type": "code",
   "execution_count": null,
   "metadata": {},
   "outputs": [],
   "source": [
    "fname = topo.fetch()\n",
    "print(fname)"
   ]
  },
  {
   "cell_type": "markdown",
   "metadata": {},
   "source": [
    "This step may take a few moments to run while the data are fetched from OpenTopography and downloaded."
   ]
  },
  {
   "cell_type": "markdown",
   "metadata": {},
   "source": [
    "The `fetch` method only downloads data; it doesn't load it into memory. Call the `load` method to open the downloaded  file and load it into an `xarray` DataArray:"
   ]
  },
  {
   "cell_type": "code",
   "execution_count": null,
   "metadata": {},
   "outputs": [],
   "source": [
    "dem = topo.load()\n",
    "print(dem)"
   ]
  },
  {
   "cell_type": "markdown",
   "metadata": {},
   "source": [
    "Note that `load` calls `fetch`, so the latter can be omitted if the goal is the get the data into memory."
   ]
  },
  {
   "cell_type": "markdown",
   "metadata": {},
   "source": [
    "## Visualize"
   ]
  },
  {
   "cell_type": "markdown",
   "metadata": {},
   "source": [
    "Finally, let's visualize the downloaded elevation data."
   ]
  },
  {
   "cell_type": "code",
   "execution_count": null,
   "metadata": {},
   "outputs": [],
   "source": [
    "# Read DEM as Lanlab grid\n",
    "grid, z = read_esri_ascii(fname, name=\"topographic__elevation\")\n",
    "# Show dem\n",
    "plt.figure()\n",
    "imshow_grid(\n",
    "    grid,\n",
    "    \"topographic__elevation\",\n",
    "    cmap=\"terrain\",\n",
    "    grid_units=(\"deg\", \"deg\"),\n",
    "    var_name=\"Elevation (m)\",\n",
    ")\n",
    "plt.show()"
   ]
  },
  {
   "cell_type": "markdown",
   "metadata": {},
   "source": [
    "Yup, this is ![Boulder](../media/Boulder.jpg)"
   ]
  },
  {
   "cell_type": "markdown",
   "metadata": {},
   "source": [
    "## 2. Use downloaded DEM to run a terrainbento model"
   ]
  },
  {
   "cell_type": "code",
   "execution_count": null,
   "metadata": {},
   "outputs": [],
   "source": [
    "# Get properties of DEM\n",
    "# Get properties of DEM\n",
    "nr = grid.number_of_node_rows\n",
    "nc = grid.number_of_node_columns\n",
    "dx = grid.dx\n",
    "xy_of_lower_left = grid.xy_of_lower_left\n",
    "\n",
    "print(nr)\n",
    "print(nc)\n",
    "print(dx)\n",
    "print(xy_of_lower_left)"
   ]
  },
  {
   "cell_type": "code",
   "execution_count": null,
   "metadata": {},
   "outputs": [],
   "source": [
    "# create the parameter dictionary needed to instantiate the model\n",
    "\n",
    "U = 0.001\n",
    "K = 0.0005\n",
    "m = 0.5\n",
    "n = 1.0\n",
    "\n",
    "params = {\n",
    "    # create the Clock.\n",
    "    \"clock\": {\n",
    "        \"start\": 0,\n",
    "        \"step\": 500,\n",
    "        \"stop\": 1e4,\n",
    "    },\n",
    "    # Create the Grid\n",
    "    \"grid\": {\n",
    "        \"RasterModelGrid\": [\n",
    "            (nr, nc),\n",
    "            {\n",
    "                \"xy_spacing\": dx,\n",
    "                \"xy_of_lower_left\": xy_of_lower_left,\n",
    "            },\n",
    "            {\n",
    "                \"fields\": {\n",
    "                    \"node\": {\"topographic__elevation\": {\"read_esri_ascii\": [fname]}}\n",
    "                }\n",
    "            },\n",
    "        ]\n",
    "    },\n",
    "    # Set up Boundary Handlers\n",
    "    \"boundary_handlers\": {\n",
    "        \"NotCoreNodeBaselevelHandler\": {\"modify_core_nodes\": True, \"lowering_rate\": -U}\n",
    "    },\n",
    "    # Parameters that control output.\n",
    "    \"output_interval\": 1e3,\n",
    "    \"save_first_timestep\": True,\n",
    "    \"output_prefix\": \"output/RealDEM\",\n",
    "    \"fields\": [\"topographic__elevation\"],\n",
    "    # Parameters that control process and rates.\n",
    "    \"water_erodibility\": K,\n",
    "    \"m_sp\": m,\n",
    "    \"n_sp\": n,\n",
    "    \"regolith_transport_parameter\": 1e-10,  # notice, this is degrees^2/year\n",
    "}"
   ]
  },
  {
   "cell_type": "code",
   "execution_count": null,
   "metadata": {},
   "outputs": [],
   "source": [
    "# initialize the model using the Model.from_dict() constructor.\n",
    "# We also pass the output writer here.\n",
    "flatIron_Festival = Basic.from_dict(params)\n",
    "\n",
    "# to run the model as specified, we execute the following line:\n",
    "flatIron_Festival.run()"
   ]
  },
  {
   "cell_type": "code",
   "execution_count": null,
   "metadata": {},
   "outputs": [],
   "source": [
    "# make a plot of the final topography\n",
    "plt.show()\n",
    "plt.figure()\n",
    "imshow_grid(\n",
    "    flatIron_Festival.grid,\n",
    "    \"initial_topographic__elevation\",\n",
    "    cmap=\"terrain\",\n",
    "    grid_units=(\"deg\", \"deg\"),\n",
    "    var_name=\"Initial elevation (m)\",\n",
    ")\n",
    "plt.show()\n",
    "\n",
    "plt.figure()\n",
    "imshow_grid(\n",
    "    flatIron_Festival.grid,\n",
    "    \"topographic__elevation\",\n",
    "    cmap=\"terrain\",\n",
    "    grid_units=(\"deg\", \"deg\"),\n",
    "    var_name=\"flatIron_Festival (m)\",\n",
    ")"
   ]
  },
  {
   "cell_type": "markdown",
   "metadata": {},
   "source": [
    "### Making a plot\n",
    "\n",
    "terrainbento has a function called `to_xarray_dataset` that will take all the model output and combine it into one xarray datset. \n",
    "[More info on xarray datasets](http://xarray.pydata.org/en/stable/data-structures.html)"
   ]
  },
  {
   "cell_type": "code",
   "execution_count": null,
   "metadata": {},
   "outputs": [],
   "source": [
    "ds = flatIron_Festival.to_xarray_dataset(time_unit=\"years\", space_unit=\"deg\")"
   ]
  },
  {
   "cell_type": "markdown",
   "metadata": {},
   "source": [
    "To use Holoviews to make a plot we first create a holoviews dataset. "
   ]
  },
  {
   "cell_type": "code",
   "execution_count": null,
   "metadata": {},
   "outputs": [],
   "source": [
    "hvds_topo = hv.Dataset(ds.topographic__elevation)"
   ]
  },
  {
   "cell_type": "markdown",
   "metadata": {},
   "source": [
    "Then we make a plot. Here we are will make an image plot with a time slider. Holoviews will render each image before showing the result so executing this cell may take a few moments. "
   ]
  },
  {
   "cell_type": "code",
   "execution_count": null,
   "metadata": {},
   "outputs": [],
   "source": [
    "topo = hvds_topo.to(hv.Image, [\"x\", \"y\"], label=\"flatIron_Festival\").options(\n",
    "    interpolation=\"bilinear\", cmap=\"terrain\", colorbar=True\n",
    ")\n",
    "topo.opts(\n",
    "    fontsize={\n",
    "        \"title\": 10,\n",
    "        \"labels\": 10,\n",
    "        \"xticks\": 10,\n",
    "        \"yticks\": 10,\n",
    "        \"cticks\": 10,\n",
    "    }\n",
    ")\n",
    "topo"
   ]
  },
  {
   "cell_type": "markdown",
   "metadata": {},
   "source": [
    "### Remove data"
   ]
  },
  {
   "cell_type": "code",
   "execution_count": null,
   "metadata": {},
   "outputs": [],
   "source": [
    "flatIron_Festival.remove_output_netcdfs()"
   ]
  },
  {
   "cell_type": "markdown",
   "metadata": {},
   "source": [
    "## Challenge: Run a Basic terrainbento model for the area where you are currently based"
   ]
  },
  {
   "cell_type": "markdown",
   "metadata": {},
   "source": [
    "## Next Steps\n",
    "\n",
    "\n",
    "- [Welcome page](../Welcome_to_TerrainBento.ipynb)\n",
    "\n",
    "\n",
    "- There are three additional introductory tutorials: \n",
    "\n",
    "    1) [Introduction terrainbento](../example_usage/Introduction_to_terrainbento.ipynb) \n",
    "    \n",
    "    2) [Introduction to boundary conditions in terrainbento](../example_usage/introduction_to_boundary_conditions.ipynb)\n",
    "    \n",
    "    3) [Introduction to output writers in terrainbento](../example_usage/introduction_to_output_writers.ipynb). \n",
    "    \n",
    "    \n",
    "- Five examples of steady state behavior in coupled process models can be found in the following notebooks:\n",
    "\n",
    "    1) [Basic](model_basic_steady_solution.ipynb) the simplest landscape evolution model in the terrainbento package.\n",
    "\n",
    "    2) [BasicVm](model_basic_var_m_steady_solution.ipynb) which permits the drainage area exponent to change\n",
    "\n",
    "    3) [BasicCh](model_basicCh_steady_solution.ipynb) which uses a non-linear hillslope erosion and transport law\n",
    "\n",
    "    4) [BasicVs](model_basicVs_steady_solution.ipynb) which uses variable source area hydrology\n",
    "\n",
    "    5) [BasisRt](model_basicRt_steady_solution.ipynb) which allows for two lithologies with different K values\n",
    "    \n",
    "    6) **This Notebook**: [RealDEM](model_basic_realDEM.ipynb) Run the basic terrainbento model with a real DEM as initial condition. "
   ]
  }
 ],
 "metadata": {
  "kernelspec": {
   "display_name": "Ivy",
   "language": "python",
   "name": "ivy"
  },
  "language_info": {
   "codemirror_mode": {
    "name": "ipython",
    "version": 3
   },
   "file_extension": ".py",
   "mimetype": "text/x-python",
   "name": "python",
   "nbconvert_exporter": "python",
   "pygments_lexer": "ipython3",
   "version": "3.9.4"
  }
 },
 "nbformat": 4,
 "nbformat_minor": 2
}
