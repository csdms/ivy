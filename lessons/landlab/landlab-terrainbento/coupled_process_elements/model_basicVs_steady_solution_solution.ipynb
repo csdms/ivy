{
 "cells": [
  {
   "cell_type": "markdown",
   "metadata": {},
   "source": [
    "![terrainbento logo](../media/terrainbento_logo.png)\n",
    "\n",
    "\n",
    "# terrainbento model BasicVs steady-state solution"
   ]
  },
  {
   "cell_type": "markdown",
   "metadata": {},
   "source": [
    "This model shows example usage of the BasicVs model from the TerrainBento package.\n",
    "\n",
    "The BasicVs model implements modifies Basic to use variable source area runoff using the \"\"effective area\"\" approach:\n",
    "\n",
    "$\\frac{\\partial \\eta}{\\partial t} = - KA_{eff}^{1/2}S + D\\nabla^2 \\eta$\n",
    "\n",
    "where\n",
    "\n",
    "$A_{eff} = R_m A e^{-\\alpha S / A}$\n",
    "\n",
    "and  \n",
    "\n",
    "$\\alpha = \\frac{K_{sat}  H_{init}  dx}{R_m}$\n",
    "\n",
    "where $K$ and $D$ are constants, $S$ is local slope, and $\\eta$ is the topography. $A$ is the local upstream drainage area, $R_m$ is the average recharge (or precipitation) rate, $A_{eff}$ is the effective drainage area, $K_{sat}$ is the hydraulic conductivity, $H$ is the soil thickness, and $dx$ is the grid cell width. $\\alpha$ is a courtesy parameter called the \"saturation area scale\" that lumps together many constants.\n",
    "\n",
    "Refer to [Barnhart et al. (2019)](https://www.geosci-model-dev.net/12/1267/2019/) for further explaination. For detailed information about creating a BasicVs model, see [the detailed documentation](https://terrainbento.readthedocs.io/en/latest/source/terrainbento.derived_models.model_basicVs.html).\n",
    "\n",
    "This notebook (a) shows the initialization and running of this model, (b) saves a NetCDF file of the topography, which we will use to make an oblique Paraview image of the landscape, and (c) creates a slope-area plot at steady state."
   ]
  },
  {
   "cell_type": "code",
   "execution_count": null,
   "metadata": {},
   "outputs": [],
   "source": [
    "# import required modules\n",
    "import os\n",
    "\n",
    "import matplotlib\n",
    "import matplotlib.pyplot as plt\n",
    "import numpy as np\n",
    "\n",
    "matplotlib.rcParams[\"font.size\"] = 20\n",
    "matplotlib.rcParams[\"pdf.fonttype\"] = 42\n",
    "%matplotlib inline\n",
    "\n",
    "from landlab import imshow_grid\n",
    "from landlab.io.netcdf import write_netcdf\n",
    "from terrainbento import BasicVs\n",
    "\n",
    "np.random.seed(4897)"
   ]
  },
  {
   "cell_type": "code",
   "execution_count": null,
   "metadata": {},
   "outputs": [],
   "source": [
    "# create the parameter dictionary needed to instantiate the model\n",
    "\n",
    "params = {\n",
    "    # create the Clock.\n",
    "    \"clock\": {\"start\": 0, \"step\": 10, \"stop\": 1e7},\n",
    "    # Create the Grid.\n",
    "    \"grid\": {\n",
    "        \"RasterModelGrid\": [\n",
    "            (25, 40),\n",
    "            {\"xy_spacing\": 40},\n",
    "            {\n",
    "                \"fields\": {\n",
    "                    \"node\": {\n",
    "                        \"topographic__elevation\": {\"random\": [{\"where\": \"CORE_NODE\"}]},\n",
    "                        \"soil__depth\": {\"constant\": [{\"value\": 1.0}]},\n",
    "                    }\n",
    "                }\n",
    "            },\n",
    "        ]\n",
    "    },\n",
    "    # Set up Boundary Handlers\n",
    "    \"boundary_handlers\": {\n",
    "        \"NotCoreNodeBaselevelHandler\": {\n",
    "            \"modify_core_nodes\": True,\n",
    "            \"lowering_rate\": -0.001,\n",
    "        }\n",
    "    },\n",
    "    # Set up Precipitator\n",
    "    \"precipitator\": {\"UniformPrecipitator\": {\"rainfall_flux\": 0.01}},\n",
    "    # Parameters that control output.\n",
    "    \"output_interval\": 1e4,\n",
    "    \"save_first_timestep\": True,\n",
    "    \"output_prefix\": \"basicVs.\",\n",
    "    \"fields\": [\"topographic__elevation\"],\n",
    "    # Parameters that control process and rates.\n",
    "    \"water_erodibility\": 0.001,\n",
    "    \"m_sp\": 0.5,\n",
    "    \"n_sp\": 1.0,\n",
    "    \"regolith_transport_parameter\": 0.1,\n",
    "    \"hydraulic_conductivity\": 10.0,\n",
    "}"
   ]
  },
  {
   "cell_type": "code",
   "execution_count": null,
   "metadata": {},
   "outputs": [],
   "source": [
    "# the tolerance here is high, so that this can run on binder and for tests. (recommended value = 0.001 or lower).\n",
    "tolerance = 20.0"
   ]
  },
  {
   "cell_type": "code",
   "execution_count": null,
   "metadata": {},
   "outputs": [],
   "source": [
    "# we can use an output writer to run until the model reaches steady state.\n",
    "class run_to_steady:\n",
    "    def __init__(self, model):\n",
    "        self.model = model\n",
    "        self.last_z = self.model.z.copy()\n",
    "        self.tolerance = tolerance\n",
    "\n",
    "    def run_one_step(self):\n",
    "        if model.model_time > 0:\n",
    "            diff = (\n",
    "                self.model.z[model.grid.core_nodes] - self.last_z[model.grid.core_nodes]\n",
    "            )\n",
    "            if max(abs(diff)) <= self.tolerance:\n",
    "                self.model.clock.stop = model._model_time\n",
    "                print(\n",
    "                    \"Model reached steady state in \"\n",
    "                    + str(model._model_time)\n",
    "                    + \" time units\\n\"\n",
    "                )\n",
    "            else:\n",
    "                self.last_z = self.model.z.copy()\n",
    "                if (\n",
    "                    model._model_time\n",
    "                    <= self.model.clock.stop - self.model.output_interval\n",
    "                ):\n",
    "                    self.model.clock.stop += self.model.output_interval"
   ]
  },
  {
   "cell_type": "code",
   "execution_count": null,
   "metadata": {},
   "outputs": [],
   "source": [
    "# initialize the model using the Model.from_dict() constructor.\n",
    "# We also pass the output writer here.\n",
    "model = BasicVs.from_dict(params, output_writers={\"class\": [run_to_steady]})\n",
    "\n",
    "# to run the model as specified, we execute the following line:\n",
    "model.run()"
   ]
  },
  {
   "cell_type": "code",
   "execution_count": null,
   "metadata": {},
   "outputs": [],
   "source": [
    "# MAKE SLOPE-AREA PLOT\n",
    "\n",
    "# plot nodes that are not on the boundary or adjacent to it\n",
    "core_not_boundary = (\n",
    "    np.array(model.grid.node_has_boundary_neighbor(model.grid.core_nodes)) == False\n",
    ")\n",
    "plotting_nodes = model.grid.core_nodes[core_not_boundary]\n",
    "\n",
    "# assign area_array and slope_array\n",
    "area_array = model.grid.at_node[\"drainage_area\"][plotting_nodes]\n",
    "slope_array = model.grid.at_node[\"topographic__steepest_slope\"][plotting_nodes]\n",
    "\n",
    "# instantiate figure and plot\n",
    "fig = plt.figure(figsize=(6, 3.75))\n",
    "slope_area = plt.subplot()\n",
    "\n",
    "# plot the data\n",
    "slope_area.scatter(area_array, slope_array, marker=\"o\", c=\"k\", label=\"Model BasicVs\")\n",
    "\n",
    "# make axes log and set limits\n",
    "slope_area.set_xscale(\"log\")\n",
    "slope_area.set_yscale(\"log\")\n",
    "\n",
    "slope_area.set_xlim(9 * 10**1, 1 * 10**6)\n",
    "slope_area.set_ylim(1e-4, 1e4)\n",
    "\n",
    "# set x and y labels\n",
    "slope_area.set_xlabel(r\"Drainage area [m$^2$]\")\n",
    "slope_area.set_ylabel(\"Channel slope [-]\")\n",
    "\n",
    "slope_area.legend(scatterpoints=1, prop={\"size\": 12})\n",
    "slope_area.tick_params(axis=\"x\", which=\"major\", pad=7)\n",
    "\n",
    "plt.show()"
   ]
  },
  {
   "cell_type": "code",
   "execution_count": null,
   "metadata": {},
   "outputs": [],
   "source": [
    "# Save stack of all netcdfs for Paraview to use.\n",
    "# model.save_to_xarray_dataset(filename=\"basicVs.nc\",\n",
    "#                              time_unit=\"years\",\n",
    "#                              reference_time=\"model start\",\n",
    "#                              space_unit=\"meters\")\n",
    "\n",
    "# remove temporary netcdfs\n",
    "model.remove_output_netcdfs()"
   ]
  },
  {
   "cell_type": "code",
   "execution_count": null,
   "metadata": {},
   "outputs": [],
   "source": [
    "# make a plot of the final steady state topography\n",
    "imshow_grid(model.grid, \"topographic__elevation\")"
   ]
  },
  {
   "cell_type": "markdown",
   "metadata": {},
   "source": [
    "## Next Steps\n",
    "\n",
    "- We recommend you review the [terrainbento manuscript](https://www.geosci-model-dev.net/12/1267/2019/).\n",
    "\n",
    "- There are three additional introductory tutorials: \n",
    "\n",
    "    1) [Introduction terrainbento](../example_usage/Introduction_to_terrainbento.ipynb) \n",
    "    \n",
    "    2) [Introduction to boundary conditions in terrainbento](../example_usage/introduction_to_boundary_conditions.ipynb)\n",
    "    \n",
    "    3) [Introduction to output writers in terrainbento](../example_usage/introduction_to_output_writers.ipynb). \n",
    "    \n",
    "    \n",
    "- Five examples of steady state behavior in coupled process models can be found in the following notebooks:\n",
    "\n",
    "    1) [Basic](model_basic_steady_solution.ipynb) the simplest landscape evolution model in the terrainbento package.\n",
    "\n",
    "    2) [BasicVm](model_basic_var_m_steady_solution.ipynb) which permits the drainage area exponent to change\n",
    "\n",
    "    3) [BasicCh](model_basicCh_steady_solution.ipynb) which uses a non-linear hillslope erosion and transport law\n",
    "\n",
    "    4) **This Notebook**: [BasicVs](model_basicVs_steady_solution.ipynb) which uses variable source area hydrology\n",
    "\n",
    "    5) [BasisRt](model_basicRt_steady_solution.ipynb) which allows for two lithologies with different K values"
   ]
  }
 ],
 "metadata": {
  "kernelspec": {
   "display_name": "Ivy",
   "language": "python",
   "name": "ivy"
  },
  "language_info": {
   "codemirror_mode": {
    "name": "ipython",
    "version": 3
   },
   "file_extension": ".py",
   "mimetype": "text/x-python",
   "name": "python",
   "nbconvert_exporter": "python",
   "pygments_lexer": "ipython3",
   "version": "3.8.4"
  }
 },
 "nbformat": 4,
 "nbformat_minor": 2
}
