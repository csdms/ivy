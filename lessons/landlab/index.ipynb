{
 "cells": [
  {
   "cell_type": "markdown",
   "metadata": {},
   "source": [
    "<a href=\"https://csdms.colorado.edu\"><img style=\"float: center; width: 75%\" src=\"https://raw.githubusercontent.com/csdms/ivy/main/media/logo.png\"></a>"
   ]
  },
  {
   "cell_type": "markdown",
   "metadata": {},
   "source": [
    "# Landlab\n",
    "\n",
    "Landlab is an open-source Python-language package for numerical modeling of Earth surface dynamics.\n",
    "It contains:\n",
    "\n",
    "* A gridding engine which represents the model domain. Regular and irregular grids are supported.\n",
    "* A library of process components, each of which represents a physical process (e.g., generation of rain, erosion by flowing water). These components have a common interface and can be combined based on a user’s needs.\n",
    "* Utilities that support general numerical methods, file input/output, and visualization.\n",
    "\n",
    "Landlab was designed for disciplines that quantify Earth surface dynamics such as geomorphology, hydrology, glaciology, and stratigraphy. It can also be used in related fields. Scientists who use this type of model often build their own unique model from the ground up, re-coding the basic building blocks of their landscape model rather than taking advantage of codes that have already been written. Landlab saves practitioners from the need for this kind of re-invention by providing standardized components that they can re-use.\n",
    "\n",
    "*Learning objectives:*\n",
    "\n",
    "* See how to set up and use Landlab grids\n",
    "* Understand how to build simple models with Landlab\n",
    "* Learn how complex models can be assembled from existing Landlab components\n",
    "\n",
    "## How does Landlab work?\n",
    "\n",
    "*  [Introduction to Landlab Grids](landlab/intro-to-grids.ipynb)\n",
    "*  [Landlab fault scarp](landlab/landlab-fault-scarp-for-espin.ipynb)\n",
    "   * The erosional degradation of an earthquake fault scarp, and which evolves\n",
    "     over time in response to the gradual downhill motion of soil. \n",
    "   * We use a simple \"geomorphic diffusion\" model for landform evolution, in which\n",
    "     the downhill flow of soil is assumed to be proportional to the (downhill) gradient\n",
    "     of the land surface multiplied by a transport coefficient.\n",
    "\n",
    "## More examples\n",
    "   \n",
    "*  [Landlab as a solver for advection-diffusion problems](landlab/practice-your-skills.ipynb)\n",
    "*  [HyLands demo](landlab/bedrock_landslides_on_dems.ipynb)\n",
    "*  [Overland flow](landlab/overland_flow.ipynb)\n",
    "   * This notebook illustrates running the deAlmeida overland flow component in an extremely\n",
    "     simple-minded way on a real topography, then shows it creating a flood sequence along\n",
    "     an inclined surface with an oscillating water surface at one end.\n",
    "\n",
    "**For more Landlab tutorials, click here:** <a href=\"https://landlab.readthedocs.io/en/latest/user_guide/tutorials.html\">https://landlab.readthedocs.io/en/latest/user_guide/tutorials.html</a></small>\n",
    "\n"
   ]
  }
 ],
 "metadata": {
  "kernelspec": {
   "display_name": "Ivy",
   "language": "python",
   "name": "ivy"
  },
  "language_info": {
   "codemirror_mode": {
    "name": "ipython",
    "version": 3
   },
   "file_extension": ".py",
   "mimetype": "text/x-python",
   "name": "python",
   "nbconvert_exporter": "python",
   "pygments_lexer": "ipython3",
   "version": "3.9.7"
  }
 },
 "nbformat": 4,
 "nbformat_minor": 4
}
