{
 "cells": [
  {
   "cell_type": "markdown",
   "metadata": {},
   "source": [
    "<a href=\"https://csdms.colorado.edu\"><img style=\"float: center; width: 75%\" src=\"../../media/logo.png\"></a>"
   ]
  },
  {
   "cell_type": "markdown",
   "metadata": {},
   "source": [
    "# Landlab\n",
    "\n",
    "\n",
    "*  [Introduction to Landlab](landlab/Landlab_grids.ipynb)\n",
    "   - Grids\n",
    "*  [Landlab as a solver for advection-diffusion problems](landlab/PracticeYourSkills-landlab.ipynb)\n",
    "\n",
    "# Terrainbento \n",
    "*  [Welcome to terrainbento](landlab-terrainbento/Welcome_to_TerrainBento.ipynb)\n",
    "\n",
    "### Some demos\n",
    "   \n",
    "\n",
    "*  [Demo 1 (*optional*): Landlab fault scarp](landlab/landlab-fault-scarp-for-espin.ipynb)\n",
    "   * The example is the erosional degradation of an earthquake fault scarp, and which evolves over time in response to the gradual downhill motion of soil. \n",
    "   * Here we use a simple \"geomorphic diffusion\" model for landform evolution, in which the downhill flow of soil is assumed to be proportional to the (downhill) gradient of the land surface multiplied by a transport coefficient.\n",
    "   \n",
    "   \n",
    "*  [Demo 2 (*optional*): Overland_flow_driver](landlab/overland_flow_driver_for_espin.ipynb)\n",
    "    * This notebook illustrates running the deAlmeida overland flow component in an extremely simple-minded way on a real topography, then shows it creating a flood sequence along an inclined surface with an oscillating water surface at one end.\n",
    "\n",
    "For more Landlab tutorials, click here: <a href=\"https://landlab.readthedocs.io/en/latest/user_guide/tutorials.html\">https://landlab.readthedocs.io/en/latest/user_guide/tutorials.html</a></small>\n",
    "\n"
   ]
  },
  {
   "cell_type": "code",
   "execution_count": null,
   "metadata": {},
   "outputs": [],
   "source": []
  }
 ],
 "metadata": {
  "kernelspec": {
   "display_name": "Python 3",
   "language": "python",
   "name": "python3"
  },
  "language_info": {
   "codemirror_mode": {
    "name": "ipython",
    "version": 3
   },
   "file_extension": ".py",
   "mimetype": "text/x-python",
   "name": "python",
   "nbconvert_exporter": "python",
   "pygments_lexer": "ipython3",
   "version": "3.8.8"
  }
 },
 "nbformat": 4,
 "nbformat_minor": 2
}
